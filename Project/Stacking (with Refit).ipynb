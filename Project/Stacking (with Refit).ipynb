{
 "cells": [
  {
   "cell_type": "markdown",
   "metadata": {},
   "source": [
    "# Stacking (with Refit)\n",
    "\n",
    "* Training D1_D2 dataset using the `Stacking` ensemble method.\n",
    "* Grid Search for best parameters\n",
    "* Use `sfm` model to refit data from Features Importance experiment\n",
    "\n",
    "### Author\n",
    "Ajinkya Indulkar"
   ]
  },
  {
   "cell_type": "code",
   "execution_count": 1,
   "metadata": {},
   "outputs": [],
   "source": [
    "# import libraries\n",
    "import warnings\n",
    "import pandas as pd\n",
    "import numpy as np\n",
    "\n",
    "warnings.filterwarnings(action='ignore')\n",
    "\n",
    "# import custom class\n",
    "from tadpole import Tadpole\n",
    "\n",
    "# base learners\n",
    "from sklearn.tree import DecisionTreeClassifier\n",
    "from sklearn.svm import SVC\n",
    "from sklearn.neural_network import MLPClassifier\n",
    "from sklearn.linear_model import LogisticRegression\n",
    "\n",
    "# ensemble learning - stacking\n",
    "from sklearn.ensemble import StackingClassifier\n",
    "from mlxtend.classifier import StackingCVClassifier\n",
    "\n",
    "# metrics\n",
    "from sklearn.metrics import balanced_accuracy_score, roc_auc_score\n",
    "from sklearn.metrics import make_scorer, confusion_matrix\n",
    "\n",
    "# import visualization library\n",
    "from matplotlib import pyplot as plt\n",
    "import seaborn as sns\n",
    "\n",
    "\n",
    "# set seed (for reproducibility)\n",
    "np.random.seed(43)\n",
    "\n",
    "%matplotlib inline\n",
    "sns.set(style='whitegrid', palette=\"deep\", font_scale=0.7, rc={\"figure.figsize\": [8, 5]})"
   ]
  },
  {
   "cell_type": "markdown",
   "metadata": {},
   "source": [
    "### Data Loading + Pre-processing"
   ]
  },
  {
   "cell_type": "code",
   "execution_count": 2,
   "metadata": {},
   "outputs": [
    {
     "name": "stdout",
     "output_type": "stream",
     "text": [
      "loading tadpole dataset\n",
      "pre-processing dataset\n"
     ]
    }
   ],
   "source": [
    "# initialize class\n",
    "tp = Tadpole(debug=True)"
   ]
  },
  {
   "cell_type": "code",
   "execution_count": 3,
   "metadata": {},
   "outputs": [
    {
     "name": "stdout",
     "output_type": "stream",
     "text": [
      "splitting dataset to train and test datasets\n",
      "refitting data\n"
     ]
    }
   ],
   "source": [
    "# train-test split\n",
    "X_train, X_test, y_train, y_test = tp.split(refit=True)"
   ]
  },
  {
   "cell_type": "code",
   "execution_count": 4,
   "metadata": {},
   "outputs": [],
   "source": [
    "# import variables from class instance (notebook compatibility)\n",
    "X, y, label_dict = tp.X, tp.y, tp.label_dict"
   ]
  },
  {
   "cell_type": "code",
   "execution_count": 5,
   "metadata": {},
   "outputs": [],
   "source": [
    "# define scoring parameter\n",
    "scoring = {'BA': make_scorer(balanced_accuracy_score)}"
   ]
  },
  {
   "cell_type": "markdown",
   "metadata": {},
   "source": [
    "Helper Functions"
   ]
  },
  {
   "cell_type": "code",
   "execution_count": 6,
   "metadata": {},
   "outputs": [],
   "source": [
    "def showConfusionMatrix(clf, X, y):\n",
    "    cm = confusion_matrix(y, clf.predict(X))\n",
    "    fig, ax = plt.subplots(figsize=(8, 8))\n",
    "    ax.imshow(cm, cmap='GnBu')\n",
    "    ax.grid(False)\n",
    "\n",
    "    # For 3 categories\n",
    "    ax.xaxis.set(ticks=(0, 1, 2), ticklabels=('Predicted ' + label_dict[0], 'Predicted ' + label_dict[1], \n",
    "                                              'Predicted ' + label_dict[2]))\n",
    "    ax.yaxis.set(ticks=(0, 1, 2), ticklabels=('Actual ' + label_dict[0], 'Actual ' + label_dict[1], \n",
    "                                              'Actual ' + label_dict[2]))\n",
    "\n",
    "    for i in range(3):\n",
    "        for j in range(3):\n",
    "            ax.text(j, i, cm[i, j], ha='center', va='center', color='black')\n",
    "    plt.title('Test Data Confusion Matrix')\n",
    "    plt.show()\n",
    "    \n",
    "def computeMetrics(model, X, y):\n",
    "    \"\"\"\n",
    "    @description:\n",
    "        function to compute performance metrics\n",
    "    @arguments:\n",
    "        model (sklearn) - trained model\n",
    "        X (np.array) - features\n",
    "        y (np.array) - target\n",
    "    \"\"\"\n",
    "    y_pred = model.predict(X)\n",
    "    y_prob = model.predict_proba(X)\n",
    "    BCA = balanced_accuracy_score(y, y_pred)\n",
    "    mAUC = roc_auc_score(y, y_prob, multi_class=\"ovr\", average=\"macro\")\n",
    "    return BCA, mAUC\n",
    "\n",
    "def report(model):\n",
    "    \"\"\"\n",
    "    @description:\n",
    "        function to report trained model performance\n",
    "    @arguments:\n",
    "        model (sklearn) - trained model\n",
    "    \"\"\"\n",
    "    score_train = model.score(X_train, y_train)\n",
    "    score_test = model.score(X_test, y_test)\n",
    "    BCA_train, mAUC_train = computeMetrics(model, X_train, y_train)\n",
    "    BCA_test, mAUC_test = computeMetrics(model, X_test, y_test)\n",
    "    print(\"========Model Evaluation Report========\")\n",
    "    print(\"Train Score: \", score_train)\n",
    "    print(\"Test Score: \", score_test)\n",
    "    print(\"=======================================\")\n",
    "    print(\"Train BCA: {:.3f} | Train AUC: {:.3f}\".format(BCA_train, mAUC_train))\n",
    "    print(\"Test BCA: {:.3f} | Test AUC: {:.3f}\".format(BCA_test, mAUC_test))\n",
    "    print(\"=======================================\")\n",
    "    showConfusionMatrix(model, X_test, y_test)\n",
    "    return [score_train, score_test, BCA_train, BCA_test, mAUC_train, mAUC_test]\n",
    "\n",
    "def evaluate(baselearners):\n",
    "    \"\"\"\n",
    "    @description:\n",
    "        function to evaluate base learners\n",
    "    @arguments:\n",
    "        baselearners (sklearn) - list of trained models\n",
    "    \"\"\"\n",
    "    metrics = []\n",
    "    for name, model in baselearners.items():\n",
    "        print(name)\n",
    "        results = report(model)\n",
    "        metrics.append([name] + results)\n",
    "    return metrics"
   ]
  },
  {
   "cell_type": "markdown",
   "metadata": {},
   "source": [
    "### Base Learners: Model Training\n",
    "\n",
    "#### Logistic Regression (LRA)"
   ]
  },
  {
   "cell_type": "markdown",
   "metadata": {},
   "source": [
    "The following parameter grids were found to work best for the base learners: \n",
    "    \n",
    "1. **LRA**: {'C': 0.08858667904100823, 'class_weight': 'balanced', 'dual': False, 'penalty': 'l1', 'solver': 'liblinear', 'tol': 0.0001}\n",
    "\n",
    "2. **DT**: {'class_weight': 'balanced', 'criterion': 'gini', 'max_depth': 8, 'max_features': 'sqrt', 'min_samples_leaf': 0.2, 'min_samples_split': 0.5, 'splitter': 'best'}\n",
    "\n",
    "3. **MLP**: {'activation': 'relu', 'alpha': 0.05, 'hidden_layer_sizes': (50, 50, 50), 'learning_rate': 'adaptive', 'solver': \n",
    "'adam'}\n",
    "\n",
    "4. **SVM**: {'C': 1000, 'class_weight': 'balanced', 'gamma': 0.001, 'kernel': 'linear', 'tol': 1}"
   ]
  },
  {
   "cell_type": "code",
   "execution_count": 7,
   "metadata": {},
   "outputs": [
    {
     "name": "stdout",
     "output_type": "stream",
     "text": [
      "convergence after 14 epochs took 0 seconds\n"
     ]
    },
    {
     "name": "stderr",
     "output_type": "stream",
     "text": [
      "[Parallel(n_jobs=1)]: Using backend SequentialBackend with 1 concurrent workers.\n",
      "[Parallel(n_jobs=1)]: Done   1 out of   1 | elapsed:    0.0s remaining:    0.0s\n",
      "[Parallel(n_jobs=1)]: Done   1 out of   1 | elapsed:    0.0s finished\n"
     ]
    },
    {
     "data": {
      "text/plain": [
       "LogisticRegression(C=3792.690190732246, class_weight='balanced', dual=False,\n",
       "                   fit_intercept=True, intercept_scaling=1, l1_ratio=None,\n",
       "                   max_iter=100, multi_class='auto', n_jobs=None, penalty='l2',\n",
       "                   random_state=None, solver='sag', tol=0.01, verbose=2,\n",
       "                   warm_start=False)"
      ]
     },
     "execution_count": 7,
     "metadata": {},
     "output_type": "execute_result"
    }
   ],
   "source": [
    "# define and train\n",
    "lra = LogisticRegression(verbose=2)\n",
    "lra.set_params(**{'C': 3792.690190732246, \n",
    "                  'class_weight': 'balanced', \n",
    "                  'dual': False, \n",
    "                  'penalty': 'l2', \n",
    "                  'solver': 'sag', \n",
    "                  'tol': 0.01})\n",
    "lra.fit(X_train, y_train)"
   ]
  },
  {
   "cell_type": "markdown",
   "metadata": {},
   "source": [
    "#### Decision Trees (DT)"
   ]
  },
  {
   "cell_type": "code",
   "execution_count": 8,
   "metadata": {},
   "outputs": [
    {
     "data": {
      "text/plain": [
       "DecisionTreeClassifier(ccp_alpha=0.0, class_weight='balanced',\n",
       "                       criterion='entropy', max_depth=None, max_features='auto',\n",
       "                       max_leaf_nodes=None, min_impurity_decrease=0.0,\n",
       "                       min_impurity_split=None, min_samples_leaf=0.1,\n",
       "                       min_samples_split=0.2, min_weight_fraction_leaf=0.0,\n",
       "                       presort='deprecated', random_state=None,\n",
       "                       splitter='best')"
      ]
     },
     "execution_count": 8,
     "metadata": {},
     "output_type": "execute_result"
    }
   ],
   "source": [
    "# define and train\n",
    "dtc = DecisionTreeClassifier()\n",
    "dtc.set_params(**{'class_weight': 'balanced', \n",
    "                  'criterion': 'entropy', \n",
    "                  'max_depth': None, \n",
    "                  'max_features': 'auto', \n",
    "                  'min_samples_leaf': 0.1, \n",
    "                  'min_samples_split': 0.2, \n",
    "                  'splitter': 'best'})\n",
    "dtc.fit(X_train, y_train)"
   ]
  },
  {
   "cell_type": "markdown",
   "metadata": {},
   "source": [
    "#### Multi-layer Perceptron (ANN)"
   ]
  },
  {
   "cell_type": "code",
   "execution_count": 9,
   "metadata": {
    "scrolled": true
   },
   "outputs": [
    {
     "name": "stdout",
     "output_type": "stream",
     "text": [
      "Iteration 1, loss = 1.11846237\n",
      "Iteration 2, loss = 0.97775571\n",
      "Iteration 3, loss = 0.85681627\n",
      "Iteration 4, loss = 0.78917478\n",
      "Iteration 5, loss = 0.70573337\n",
      "Iteration 6, loss = 0.64334846\n",
      "Iteration 7, loss = 0.58799431\n",
      "Iteration 8, loss = 0.54359692\n",
      "Iteration 9, loss = 0.50861003\n",
      "Iteration 10, loss = 0.47748466\n",
      "Iteration 11, loss = 0.45106926\n",
      "Iteration 12, loss = 0.43014231\n",
      "Iteration 13, loss = 0.41017752\n",
      "Iteration 14, loss = 0.39371487\n",
      "Iteration 15, loss = 0.38343601\n",
      "Iteration 16, loss = 0.37295819\n",
      "Iteration 17, loss = 0.36254758\n",
      "Iteration 18, loss = 0.35489903\n",
      "Iteration 19, loss = 0.35151622\n",
      "Iteration 20, loss = 0.35219515\n",
      "Iteration 21, loss = 0.34381275\n",
      "Iteration 22, loss = 0.33559722\n",
      "Iteration 23, loss = 0.33133065\n",
      "Iteration 24, loss = 0.32736541\n",
      "Iteration 25, loss = 0.32361410\n",
      "Iteration 26, loss = 0.32150969\n",
      "Iteration 27, loss = 0.32819569\n",
      "Iteration 28, loss = 0.31704117\n",
      "Iteration 29, loss = 0.31429237\n",
      "Iteration 30, loss = 0.31677300\n",
      "Iteration 31, loss = 0.31504523\n",
      "Iteration 32, loss = 0.31371176\n",
      "Iteration 33, loss = 0.31820813\n",
      "Iteration 34, loss = 0.31303208\n",
      "Iteration 35, loss = 0.30602058\n",
      "Iteration 36, loss = 0.31049311\n",
      "Iteration 37, loss = 0.30839521\n",
      "Iteration 38, loss = 0.30229208\n",
      "Iteration 39, loss = 0.31003182\n",
      "Iteration 40, loss = 0.30536495\n",
      "Iteration 41, loss = 0.30695045\n",
      "Iteration 42, loss = 0.30782219\n",
      "Iteration 43, loss = 0.30307833\n",
      "Iteration 44, loss = 0.29984293\n",
      "Iteration 45, loss = 0.30303667\n",
      "Iteration 46, loss = 0.30041272\n",
      "Iteration 47, loss = 0.30919063\n",
      "Iteration 48, loss = 0.31332177\n",
      "Iteration 49, loss = 0.30897730\n",
      "Iteration 50, loss = 0.30235842\n",
      "Iteration 51, loss = 0.29891621\n",
      "Iteration 52, loss = 0.29741603\n",
      "Iteration 53, loss = 0.29886929\n",
      "Iteration 54, loss = 0.29794706\n",
      "Iteration 55, loss = 0.29901870\n",
      "Iteration 56, loss = 0.29797911\n",
      "Iteration 57, loss = 0.29806935\n",
      "Iteration 58, loss = 0.30567319\n",
      "Iteration 59, loss = 0.30090887\n",
      "Iteration 60, loss = 0.29910138\n",
      "Iteration 61, loss = 0.29818738\n",
      "Iteration 62, loss = 0.29758713\n",
      "Iteration 63, loss = 0.30155983\n",
      "Training loss did not improve more than tol=0.000100 for 10 consecutive epochs. Stopping.\n"
     ]
    },
    {
     "data": {
      "text/plain": [
       "MLPClassifier(activation='tanh', alpha=0.0001, batch_size='auto', beta_1=0.9,\n",
       "              beta_2=0.999, early_stopping=False, epsilon=1e-08,\n",
       "              hidden_layer_sizes=(50, 100, 50), learning_rate='constant',\n",
       "              learning_rate_init=0.001, max_fun=15000, max_iter=200,\n",
       "              momentum=0.9, n_iter_no_change=10, nesterovs_momentum=True,\n",
       "              power_t=0.5, random_state=None, shuffle=True, solver='adam',\n",
       "              tol=0.0001, validation_fraction=0.1, verbose=True,\n",
       "              warm_start=False)"
      ]
     },
     "execution_count": 9,
     "metadata": {},
     "output_type": "execute_result"
    }
   ],
   "source": [
    "# define and train\n",
    "mlp = MLPClassifier(verbose=True)\n",
    "mlp.set_params(**{'activation': 'tanh', \n",
    "                  'alpha': 0.0001, \n",
    "                  'hidden_layer_sizes': (50, 100, 50), \n",
    "                  'learning_rate': 'constant', \n",
    "                  'solver': 'adam'})\n",
    "mlp.fit(X_train, y_train)"
   ]
  },
  {
   "cell_type": "markdown",
   "metadata": {},
   "source": [
    "#### SVM"
   ]
  },
  {
   "cell_type": "code",
   "execution_count": 10,
   "metadata": {},
   "outputs": [
    {
     "name": "stdout",
     "output_type": "stream",
     "text": [
      "[LibSVM]"
     ]
    },
    {
     "data": {
      "text/plain": [
       "SVC(C=10, break_ties=False, cache_size=200, class_weight='balanced', coef0=0.0,\n",
       "    decision_function_shape='ovr', degree=3, gamma=0.001, kernel='linear',\n",
       "    max_iter=-1, probability=True, random_state=None, shrinking=True, tol=0.1,\n",
       "    verbose=True)"
      ]
     },
     "execution_count": 10,
     "metadata": {},
     "output_type": "execute_result"
    }
   ],
   "source": [
    "# define and train\n",
    "svm = SVC(verbose=True, probability=True)\n",
    "svm.set_params(**{'C': 10, \n",
    "                  'class_weight': 'balanced', \n",
    "                  'gamma': 0.001, \n",
    "                  'kernel': 'linear', \n",
    "                  'tol': 0.1})\n",
    "svm.fit(X_train, y_train)"
   ]
  },
  {
   "cell_type": "markdown",
   "metadata": {},
   "source": [
    "#### Evaluate Base Learners"
   ]
  },
  {
   "cell_type": "code",
   "execution_count": 11,
   "metadata": {},
   "outputs": [],
   "source": [
    "# define dictionary of all baselearners\n",
    "baselearners = {'LRA': lra, 'DT': dtc, 'ANN': mlp, 'SVM': svm}"
   ]
  },
  {
   "cell_type": "code",
   "execution_count": 12,
   "metadata": {
    "scrolled": true
   },
   "outputs": [
    {
     "name": "stdout",
     "output_type": "stream",
     "text": [
      "LRA\n",
      "========Model Evaluation Report========\n",
      "Train Score:  0.869942196531792\n",
      "Test Score:  0.8901734104046243\n",
      "=======================================\n",
      "Train BCA: 0.891 | Train AUC: 0.966\n",
      "Test BCA: 0.911 | Test AUC: 0.972\n",
      "=======================================\n"
     ]
    },
    {
     "data": {
      "image/png": "[encoded data removed]",
      "text/plain": [
       "<Figure size 576x576 with 1 Axes>"
      ]
     },
     "metadata": {
      "needs_background": "light"
     },
     "output_type": "display_data"
    },
    {
     "name": "stdout",
     "output_type": "stream",
     "text": [
      "DT\n",
      "========Model Evaluation Report========\n",
      "Train Score:  0.8735549132947977\n",
      "Test Score:  0.8959537572254336\n",
      "=======================================\n",
      "Train BCA: 0.891 | Train AUC: 0.963\n",
      "Test BCA: 0.908 | Test AUC: 0.961\n",
      "=======================================\n"
     ]
    },
    {
     "data": {
      "image/png": "[encoded data removed]",
      "text/plain": [
       "<Figure size 576x576 with 1 Axes>"
      ]
     },
     "metadata": {
      "needs_background": "light"
     },
     "output_type": "display_data"
    },
    {
     "name": "stdout",
     "output_type": "stream",
     "text": [
      "ANN\n",
      "========Model Evaluation Report========\n",
      "Train Score:  0.8728323699421965\n",
      "Test Score:  0.9132947976878613\n",
      "=======================================\n",
      "Train BCA: 0.875 | Train AUC: 0.966\n",
      "Test BCA: 0.915 | Test AUC: 0.971\n",
      "=======================================\n"
     ]
    },
    {
     "data": {
      "image/png": "[encoded data removed]",
      "text/plain": [
       "<Figure size 576x576 with 1 Axes>"
      ]
     },
     "metadata": {
      "needs_background": "light"
     },
     "output_type": "display_data"
    },
    {
     "name": "stdout",
     "output_type": "stream",
     "text": [
      "SVM\n",
      "========Model Evaluation Report========\n",
      "Train Score:  0.8713872832369942\n",
      "Test Score:  0.8901734104046243\n",
      "=======================================\n",
      "Train BCA: 0.894 | Train AUC: 0.959\n",
      "Test BCA: 0.914 | Test AUC: 0.972\n",
      "=======================================\n"
     ]
    },
    {
     "data": {
      "image/png": "[encoded data removed]",
      "text/plain": [
       "<Figure size 576x576 with 1 Axes>"
      ]
     },
     "metadata": {
      "needs_background": "light"
     },
     "output_type": "display_data"
    }
   ],
   "source": [
    "# evaluate\n",
    "metrics = evaluate(baselearners)"
   ]
  },
  {
   "cell_type": "markdown",
   "metadata": {},
   "source": [
    "### Stacking - Ensemble Learning: Model Training\n",
    "\n",
    "Level 1 Classifiers - LRA, DT, ANN and SVM\n",
    "\n",
    "Level 2 Classifier - LRA"
   ]
  },
  {
   "cell_type": "code",
   "execution_count": 13,
   "metadata": {},
   "outputs": [],
   "source": [
    "# define level 1 estimators\n",
    "estimators = [\n",
    "    ('lra', lra),\n",
    "    ('dt', dtc),\n",
    "    ('ann', mlp),\n",
    "    ('svm', svm)\n",
    "]"
   ]
  },
  {
   "cell_type": "code",
   "execution_count": 14,
   "metadata": {},
   "outputs": [
    {
     "name": "stderr",
     "output_type": "stream",
     "text": [
      "[Parallel(n_jobs=1)]: Using backend SequentialBackend with 1 concurrent workers.\n",
      "[Parallel(n_jobs=1)]: Done   1 out of   1 | elapsed:    0.0s remaining:    0.0s\n",
      "[Parallel(n_jobs=1)]: Done   1 out of   1 | elapsed:    0.0s finished\n"
     ]
    },
    {
     "name": "stdout",
     "output_type": "stream",
     "text": [
      "convergence after 12 epochs took 0 seconds\n",
      "Iteration 1, loss = 0.95681198\n",
      "Iteration 2, loss = 0.88248505\n",
      "Iteration 3, loss = 0.80195491\n",
      "Iteration 4, loss = 0.72762823\n",
      "Iteration 5, loss = 0.66007205\n",
      "Iteration 6, loss = 0.60125585\n",
      "Iteration 7, loss = 0.55236991\n",
      "Iteration 8, loss = 0.51037104\n",
      "Iteration 9, loss = 0.47476980\n",
      "Iteration 10, loss = 0.44094609\n",
      "Iteration 11, loss = 0.41652555\n",
      "Iteration 12, loss = 0.39548525\n",
      "Iteration 13, loss = 0.37941774\n",
      "Iteration 14, loss = 0.37581819\n",
      "Iteration 15, loss = 0.36412803\n",
      "Iteration 16, loss = 0.36150325\n",
      "Iteration 17, loss = 0.33929020\n",
      "Iteration 18, loss = 0.34017339\n",
      "Iteration 19, loss = 0.33365589\n",
      "Iteration 20, loss = 0.32564785\n",
      "Iteration 21, loss = 0.32278128\n",
      "Iteration 22, loss = 0.31793893\n",
      "Iteration 23, loss = 0.31703667\n",
      "Iteration 24, loss = 0.31492397\n",
      "Iteration 25, loss = 0.31493505\n",
      "Iteration 26, loss = 0.31010620\n",
      "Iteration 27, loss = 0.30995385\n",
      "Iteration 28, loss = 0.30985240\n",
      "Iteration 29, loss = 0.31482292\n",
      "Iteration 30, loss = 0.31322978\n",
      "Iteration 31, loss = 0.30716310\n",
      "Iteration 32, loss = 0.31031953\n",
      "Iteration 33, loss = 0.30106024\n",
      "Iteration 34, loss = 0.30247429\n",
      "Iteration 35, loss = 0.30691293\n",
      "Iteration 36, loss = 0.30725408\n",
      "Iteration 37, loss = 0.30011512\n",
      "Iteration 38, loss = 0.29969807\n",
      "Iteration 39, loss = 0.30034393\n",
      "Iteration 40, loss = 0.30353263\n",
      "Iteration 41, loss = 0.29830545\n",
      "Iteration 42, loss = 0.29968045\n",
      "Iteration 43, loss = 0.30496716\n",
      "Iteration 44, loss = 0.30497733\n",
      "Iteration 45, loss = 0.30270985\n",
      "Iteration 46, loss = 0.30099490\n",
      "Iteration 47, loss = 0.30211771\n",
      "Iteration 48, loss = 0.29808236\n",
      "Iteration 49, loss = 0.30100183\n",
      "Iteration 50, loss = 0.29778900\n",
      "Iteration 51, loss = 0.29529545\n",
      "Iteration 52, loss = 0.29779810\n",
      "Iteration 53, loss = 0.29837026\n",
      "Iteration 54, loss = 0.30444465\n",
      "Iteration 55, loss = 0.30059584\n",
      "Iteration 56, loss = 0.30531637\n",
      "Iteration 57, loss = 0.30426527\n",
      "Iteration 58, loss = 0.30729404\n",
      "Iteration 59, loss = 0.30320947\n",
      "Iteration 60, loss = 0.29976771\n",
      "Iteration 61, loss = 0.30169229\n",
      "Iteration 62, loss = 0.29549428\n",
      "Training loss did not improve more than tol=0.000100 for 10 consecutive epochs. Stopping.\n",
      "[LibSVM]convergence after 21 epochs took 0 seconds\n",
      "convergence after 12 epochs took 0 seconds\n",
      "convergence after 12 epochs took 0 seconds\n",
      "convergence after 14 epochs took 0 seconds\n",
      "convergence after 12 epochs took 0 seconds\n",
      "Iteration 1, loss = 1.03032838\n",
      "Iteration 2, loss = 0.93229561\n",
      "Iteration 3, loss = 0.85310357\n",
      "Iteration 4, loss = 0.78372877\n",
      "Iteration 5, loss = 0.72274296\n",
      "Iteration 6, loss = 0.66715332\n",
      "Iteration 7, loss = 0.62058336\n",
      "Iteration 8, loss = 0.58101187\n",
      "Iteration 9, loss = 0.54528033\n",
      "Iteration 10, loss = 0.51500356\n",
      "Iteration 11, loss = 0.48925899\n",
      "Iteration 12, loss = 0.46624144\n",
      "Iteration 13, loss = 0.44683818\n",
      "Iteration 14, loss = 0.43103796\n",
      "Iteration 15, loss = 0.41457035\n"
     ]
    },
    {
     "name": "stderr",
     "output_type": "stream",
     "text": [
      "[Parallel(n_jobs=1)]: Using backend SequentialBackend with 1 concurrent workers.\n",
      "[Parallel(n_jobs=1)]: Using backend SequentialBackend with 1 concurrent workers.\n",
      "[Parallel(n_jobs=1)]: Done   1 out of   1 | elapsed:    0.0s remaining:    0.0s\n",
      "[Parallel(n_jobs=1)]: Done   1 out of   1 | elapsed:    0.0s finished\n",
      "[Parallel(n_jobs=1)]: Done   1 out of   1 | elapsed:    0.0s remaining:    0.0s\n",
      "[Parallel(n_jobs=1)]: Using backend SequentialBackend with 1 concurrent workers.\n",
      "[Parallel(n_jobs=1)]: Done   1 out of   1 | elapsed:    0.0s remaining:    0.0s\n",
      "[Parallel(n_jobs=1)]: Done   1 out of   1 | elapsed:    0.0s finished\n",
      "[Parallel(n_jobs=1)]: Using backend SequentialBackend with 1 concurrent workers.\n",
      "[Parallel(n_jobs=1)]: Done   1 out of   1 | elapsed:    0.0s remaining:    0.0s\n",
      "[Parallel(n_jobs=1)]: Done   1 out of   1 | elapsed:    0.0s finished\n",
      "[Parallel(n_jobs=1)]: Using backend SequentialBackend with 1 concurrent workers.\n",
      "[Parallel(n_jobs=1)]: Done   1 out of   1 | elapsed:    0.0s remaining:    0.0s\n",
      "[Parallel(n_jobs=1)]: Done   1 out of   1 | elapsed:    0.0s finished\n",
      "[Parallel(n_jobs=1)]: Using backend SequentialBackend with 1 concurrent workers.\n",
      "[Parallel(n_jobs=1)]: Done   1 out of   1 | elapsed:    0.0s remaining:    0.0s\n",
      "[Parallel(n_jobs=1)]: Done   1 out of   1 | elapsed:    0.0s finished\n",
      "[Parallel(n_jobs=1)]: Done   5 out of   5 | elapsed:    0.0s finished\n",
      "[Parallel(n_jobs=1)]: Using backend SequentialBackend with 1 concurrent workers.\n",
      "[Parallel(n_jobs=1)]: Done   1 out of   1 | elapsed:    0.0s remaining:    0.0s\n",
      "[Parallel(n_jobs=1)]: Done   5 out of   5 | elapsed:    0.0s finished\n",
      "[Parallel(n_jobs=1)]: Using backend SequentialBackend with 1 concurrent workers.\n"
     ]
    },
    {
     "name": "stdout",
     "output_type": "stream",
     "text": [
      "Iteration 16, loss = 0.40445261\n",
      "Iteration 17, loss = 0.39142496\n",
      "Iteration 18, loss = 0.38722830\n",
      "Iteration 19, loss = 0.37638146\n",
      "Iteration 20, loss = 0.36847434\n",
      "Iteration 21, loss = 0.35930536\n",
      "Iteration 22, loss = 0.35525922\n",
      "Iteration 23, loss = 0.35067930\n",
      "Iteration 24, loss = 0.34545395\n",
      "Iteration 25, loss = 0.34102500\n",
      "Iteration 26, loss = 0.33515097\n",
      "Iteration 27, loss = 0.34167580\n",
      "Iteration 28, loss = 0.34732106\n",
      "Iteration 29, loss = 0.33481600\n",
      "Iteration 30, loss = 0.33138158\n",
      "Iteration 31, loss = 0.32626899\n",
      "Iteration 32, loss = 0.32291763\n",
      "Iteration 33, loss = 0.31866054\n",
      "Iteration 34, loss = 0.31858580\n",
      "Iteration 35, loss = 0.31612917\n",
      "Iteration 36, loss = 0.31364106\n",
      "Iteration 37, loss = 0.31530765\n",
      "Iteration 38, loss = 0.31897706\n",
      "Iteration 39, loss = 0.31397966\n",
      "Iteration 40, loss = 0.31669414\n",
      "Iteration 41, loss = 0.31454420\n",
      "Iteration 42, loss = 0.30987606\n",
      "Iteration 43, loss = 0.31143497\n",
      "Iteration 44, loss = 0.31210211\n",
      "Iteration 45, loss = 0.31183720\n",
      "Iteration 46, loss = 0.31401346\n",
      "Iteration 47, loss = 0.30615603\n",
      "Iteration 48, loss = 0.30912932\n",
      "Iteration 49, loss = 0.30700903\n",
      "Iteration 50, loss = 0.30596067\n",
      "Iteration 51, loss = 0.30818385\n",
      "Iteration 52, loss = 0.30750929\n",
      "Iteration 53, loss = 0.31061915\n",
      "Iteration 54, loss = 0.30627272\n",
      "Iteration 55, loss = 0.30704777\n",
      "Iteration 56, loss = 0.30721334\n",
      "Iteration 57, loss = 0.30818405\n",
      "Iteration 58, loss = 0.30777098\n",
      "Iteration 59, loss = 0.31564454\n",
      "Iteration 60, loss = 0.31168150\n",
      "Iteration 61, loss = 0.30671370\n",
      "Training loss did not improve more than tol=0.000100 for 10 consecutive epochs. Stopping.\n",
      "Iteration 1, loss = 0.99770633\n"
     ]
    },
    {
     "name": "stderr",
     "output_type": "stream",
     "text": [
      "[Parallel(n_jobs=1)]: Done   1 out of   1 | elapsed:    0.5s remaining:    0.0s\n"
     ]
    },
    {
     "name": "stdout",
     "output_type": "stream",
     "text": [
      "Iteration 2, loss = 0.90282863\n",
      "Iteration 3, loss = 0.82232998\n",
      "Iteration 4, loss = 0.75857404\n",
      "Iteration 5, loss = 0.69011518\n",
      "Iteration 6, loss = 0.63377819\n",
      "Iteration 7, loss = 0.58773852\n",
      "Iteration 8, loss = 0.54903093\n",
      "Iteration 9, loss = 0.51738199\n",
      "Iteration 10, loss = 0.48615064\n",
      "Iteration 11, loss = 0.46193174\n",
      "Iteration 12, loss = 0.43854086\n",
      "Iteration 13, loss = 0.41768326\n",
      "Iteration 14, loss = 0.40198157\n",
      "Iteration 15, loss = 0.38547154\n",
      "Iteration 16, loss = 0.37658144\n",
      "Iteration 17, loss = 0.36474006\n",
      "Iteration 18, loss = 0.35485721\n",
      "Iteration 19, loss = 0.35086747\n",
      "Iteration 20, loss = 0.34133418\n",
      "Iteration 21, loss = 0.33344477\n",
      "Iteration 22, loss = 0.33192555\n",
      "Iteration 23, loss = 0.33020716\n",
      "Iteration 24, loss = 0.32968230\n",
      "Iteration 25, loss = 0.33001047\n",
      "Iteration 26, loss = 0.31642946\n",
      "Iteration 27, loss = 0.31477045\n",
      "Iteration 28, loss = 0.31299801\n",
      "Iteration 29, loss = 0.31247093\n",
      "Iteration 30, loss = 0.31133964\n",
      "Iteration 31, loss = 0.31729142\n",
      "Iteration 32, loss = 0.32084378\n",
      "Iteration 33, loss = 0.30618355\n",
      "Iteration 34, loss = 0.31960050\n",
      "Iteration 35, loss = 0.31532574\n",
      "Iteration 36, loss = 0.30894192\n",
      "Iteration 37, loss = 0.31056837\n",
      "Iteration 38, loss = 0.30694295\n",
      "Iteration 39, loss = 0.30641864\n",
      "Iteration 40, loss = 0.30873234\n",
      "Iteration 41, loss = 0.30679528\n",
      "Iteration 42, loss = 0.30231071\n",
      "Iteration 43, loss = 0.30210654\n",
      "Iteration 44, loss = 0.30285732\n",
      "Iteration 45, loss = 0.30436566\n",
      "Iteration 46, loss = 0.30315262\n",
      "Iteration 47, loss = 0.30089342\n",
      "Iteration 48, loss = 0.30101009\n",
      "Iteration 49, loss = 0.30586049\n",
      "Iteration 50, loss = 0.30020816\n",
      "Iteration 51, loss = 0.30162150\n",
      "Iteration 52, loss = 0.30229290\n",
      "Iteration 53, loss = 0.29894551\n",
      "Iteration 54, loss = 0.29859242\n",
      "Iteration 55, loss = 0.29950734\n",
      "Iteration 56, loss = 0.29831120\n",
      "Iteration 57, loss = 0.29860506\n",
      "Iteration 58, loss = 0.29723494\n",
      "Iteration 59, loss = 0.29706641\n",
      "Iteration 60, loss = 0.29899045\n",
      "Iteration 61, loss = 0.29786663\n",
      "Iteration 62, loss = 0.29707889\n",
      "Iteration 63, loss = 0.30073725\n",
      "Iteration 64, loss = 0.30470352\n",
      "Iteration 65, loss = 0.30548519\n",
      "Iteration 66, loss = 0.30435802\n",
      "Iteration 67, loss = 0.30704006\n",
      "Iteration 68, loss = 0.29869776\n",
      "Iteration 69, loss = 0.30011976\n",
      "Iteration 70, loss = 0.29533037\n",
      "Iteration 71, loss = 0.29931445\n",
      "Iteration 72, loss = 0.29802658\n",
      "Iteration 73, loss = 0.29828244\n",
      "Iteration 74, loss = 0.29696292\n",
      "Iteration 75, loss = 0.29655187\n",
      "Iteration 76, loss = 0.29722540\n",
      "Iteration 77, loss = 0.30000245\n",
      "Iteration 78, loss = 0.30814769\n",
      "Iteration 79, loss = 0.30074461\n",
      "Iteration 80, loss = 0.29852537\n",
      "Iteration 81, loss = 0.29957478\n",
      "Training loss did not improve more than tol=0.000100 for 10 consecutive epochs. Stopping.\n",
      "Iteration 1, loss = 1.04600608\n",
      "Iteration 2, loss = 0.94838536\n",
      "Iteration 3, loss = 0.85957872\n",
      "Iteration 4, loss = 0.80318171\n",
      "Iteration 5, loss = 0.72894312\n",
      "Iteration 6, loss = 0.67081587\n",
      "Iteration 7, loss = 0.61645136\n",
      "Iteration 8, loss = 0.57674778\n",
      "Iteration 9, loss = 0.53920569\n",
      "Iteration 10, loss = 0.50728658\n",
      "Iteration 11, loss = 0.47889590\n",
      "Iteration 12, loss = 0.45569080\n",
      "Iteration 13, loss = 0.43451659\n",
      "Iteration 14, loss = 0.41665375\n",
      "Iteration 15, loss = 0.39981028\n",
      "Iteration 16, loss = 0.38774738\n",
      "Iteration 17, loss = 0.38338563\n",
      "Iteration 18, loss = 0.36894709\n",
      "Iteration 19, loss = 0.36046754\n",
      "Iteration 20, loss = 0.35249525\n",
      "Iteration 21, loss = 0.34720369\n",
      "Iteration 22, loss = 0.34378777\n",
      "Iteration 23, loss = 0.33969653\n",
      "Iteration 24, loss = 0.33866072\n",
      "Iteration 25, loss = 0.32846313\n",
      "Iteration 26, loss = 0.32570853\n",
      "Iteration 27, loss = 0.32264848\n",
      "Iteration 28, loss = 0.32100505\n",
      "Iteration 29, loss = 0.32187299\n",
      "Iteration 30, loss = 0.31618605\n",
      "Iteration 31, loss = 0.31359211\n",
      "Iteration 32, loss = 0.31181564\n",
      "Iteration 33, loss = 0.31083502\n",
      "Iteration 34, loss = 0.30582819\n",
      "Iteration 35, loss = 0.31620867\n",
      "Iteration 36, loss = 0.31947391\n",
      "Iteration 37, loss = 0.31191877\n",
      "Iteration 38, loss = 0.31914780\n",
      "Iteration 39, loss = 0.30577369\n",
      "Iteration 40, loss = 0.30103407\n",
      "Iteration 41, loss = 0.30040214\n",
      "Iteration 42, loss = 0.29935475\n",
      "Iteration 43, loss = 0.29922800\n",
      "Iteration 44, loss = 0.29817498\n",
      "Iteration 45, loss = 0.29678612\n",
      "Iteration 46, loss = 0.30109797\n",
      "Iteration 47, loss = 0.30547012\n",
      "Iteration 48, loss = 0.31020797\n",
      "Iteration 49, loss = 0.30124141\n",
      "Iteration 50, loss = 0.29620478\n",
      "Iteration 51, loss = 0.29584660\n",
      "Iteration 52, loss = 0.29824452\n",
      "Iteration 53, loss = 0.29851601\n",
      "Iteration 54, loss = 0.29570943\n",
      "Iteration 55, loss = 0.29619721\n",
      "Iteration 56, loss = 0.29630477\n",
      "Iteration 57, loss = 0.29206081\n",
      "Iteration 58, loss = 0.29609685\n",
      "Iteration 59, loss = 0.29369913\n",
      "Iteration 60, loss = 0.29218420\n",
      "Iteration 61, loss = 0.29313796\n",
      "Iteration 62, loss = 0.29448705\n",
      "Iteration 63, loss = 0.29349966\n",
      "Iteration 64, loss = 0.29762281\n",
      "Iteration 65, loss = 0.29625450\n",
      "Iteration 66, loss = 0.29263586\n",
      "Iteration 67, loss = 0.29227410\n",
      "Iteration 68, loss = 0.29440650\n",
      "Training loss did not improve more than tol=0.000100 for 10 consecutive epochs. Stopping.\n",
      "Iteration 1, loss = 1.03342756\n",
      "Iteration 2, loss = 0.94017706\n",
      "Iteration 3, loss = 0.84557029\n",
      "Iteration 4, loss = 0.79411222\n",
      "Iteration 5, loss = 0.72842525\n",
      "Iteration 6, loss = 0.67254173\n",
      "Iteration 7, loss = 0.62214626\n",
      "Iteration 8, loss = 0.58008675\n",
      "Iteration 9, loss = 0.54135509\n",
      "Iteration 10, loss = 0.50977997\n",
      "Iteration 11, loss = 0.47969432\n",
      "Iteration 12, loss = 0.45362679\n",
      "Iteration 13, loss = 0.43321109\n",
      "Iteration 14, loss = 0.41362940\n",
      "Iteration 15, loss = 0.39728985\n",
      "Iteration 16, loss = 0.38436913\n",
      "Iteration 17, loss = 0.36941411\n",
      "Iteration 18, loss = 0.36061184\n",
      "Iteration 19, loss = 0.35457942\n",
      "Iteration 20, loss = 0.36274126\n",
      "Iteration 21, loss = 0.35334487\n",
      "Iteration 22, loss = 0.34591527\n",
      "Iteration 23, loss = 0.34416132\n",
      "Iteration 24, loss = 0.34053632\n",
      "Iteration 25, loss = 0.32915937\n",
      "Iteration 26, loss = 0.33481437\n",
      "Iteration 27, loss = 0.34620352\n",
      "Iteration 28, loss = 0.32553181\n",
      "Iteration 29, loss = 0.32750845\n",
      "Iteration 30, loss = 0.32260183\n",
      "Iteration 31, loss = 0.31788570\n",
      "Iteration 32, loss = 0.31928720\n",
      "Iteration 33, loss = 0.31644609\n",
      "Iteration 34, loss = 0.31444498\n",
      "Iteration 35, loss = 0.31709782\n",
      "Iteration 36, loss = 0.31245636\n",
      "Iteration 37, loss = 0.31247459\n",
      "Iteration 38, loss = 0.31245386\n",
      "Iteration 39, loss = 0.30944497\n",
      "Iteration 40, loss = 0.30979468\n",
      "Iteration 41, loss = 0.31150010\n",
      "Iteration 42, loss = 0.31002415\n",
      "Iteration 43, loss = 0.31030057\n",
      "Iteration 44, loss = 0.30939083\n",
      "Iteration 45, loss = 0.31167813\n",
      "Iteration 46, loss = 0.31029751\n",
      "Iteration 47, loss = 0.30818389\n",
      "Iteration 48, loss = 0.30645678\n",
      "Iteration 49, loss = 0.30958411\n",
      "Iteration 50, loss = 0.31469651\n",
      "Iteration 51, loss = 0.30641232\n",
      "Iteration 52, loss = 0.30878595\n",
      "Iteration 53, loss = 0.30947615\n",
      "Iteration 54, loss = 0.30544097\n",
      "Iteration 55, loss = 0.30631976\n",
      "Iteration 56, loss = 0.30697699\n",
      "Iteration 57, loss = 0.30853998\n",
      "Iteration 58, loss = 0.30591289\n",
      "Iteration 59, loss = 0.30541189\n",
      "Iteration 60, loss = 0.30747589\n",
      "Iteration 61, loss = 0.30959012\n",
      "Iteration 62, loss = 0.30577241\n",
      "Iteration 63, loss = 0.30524837\n",
      "Iteration 64, loss = 0.30790505\n",
      "Iteration 65, loss = 0.30538333\n",
      "Iteration 66, loss = 0.30779439\n",
      "Iteration 67, loss = 0.30671466\n",
      "Iteration 68, loss = 0.30613059\n",
      "Iteration 69, loss = 0.30460171\n",
      "Iteration 70, loss = 0.30795734\n",
      "Iteration 71, loss = 0.30755517\n",
      "Iteration 72, loss = 0.30534783\n",
      "Iteration 73, loss = 0.30442091\n",
      "Iteration 74, loss = 0.30386324\n",
      "Iteration 75, loss = 0.30624699\n",
      "Iteration 76, loss = 0.30680135\n",
      "Iteration 77, loss = 0.30537435\n",
      "Iteration 78, loss = 0.30638474\n",
      "Iteration 79, loss = 0.30660204\n",
      "Iteration 80, loss = 0.30591964\n",
      "Iteration 81, loss = 0.31008026\n",
      "Iteration 82, loss = 0.31329267\n",
      "Iteration 83, loss = 0.30759968\n",
      "Iteration 84, loss = 0.31483816\n",
      "Iteration 85, loss = 0.31105294\n",
      "Training loss did not improve more than tol=0.000100 for 10 consecutive epochs. Stopping.\n",
      "Iteration 1, loss = 1.04325294\n",
      "Iteration 2, loss = 0.94062834\n",
      "Iteration 3, loss = 0.85541438\n",
      "Iteration 4, loss = 0.78404772\n",
      "Iteration 5, loss = 0.71421207\n",
      "Iteration 6, loss = 0.65192418\n",
      "Iteration 7, loss = 0.59964014\n",
      "Iteration 8, loss = 0.55644357\n",
      "Iteration 9, loss = 0.52089257\n",
      "Iteration 10, loss = 0.48834968\n",
      "Iteration 11, loss = 0.46277164\n",
      "Iteration 12, loss = 0.44034564\n",
      "Iteration 13, loss = 0.42213596\n",
      "Iteration 14, loss = 0.40596988\n",
      "Iteration 15, loss = 0.39463403\n",
      "Iteration 16, loss = 0.38154840\n",
      "Iteration 17, loss = 0.37420628\n",
      "Iteration 18, loss = 0.36341052\n",
      "Iteration 19, loss = 0.35671706\n",
      "Iteration 20, loss = 0.34798962\n",
      "Iteration 21, loss = 0.34659817\n",
      "Iteration 22, loss = 0.34145312\n",
      "Iteration 23, loss = 0.33395434\n",
      "Iteration 24, loss = 0.32786748\n",
      "Iteration 25, loss = 0.32199176\n",
      "Iteration 26, loss = 0.32226448\n",
      "Iteration 27, loss = 0.31561457\n",
      "Iteration 28, loss = 0.31307269\n",
      "Iteration 29, loss = 0.31175702\n",
      "Iteration 30, loss = 0.31181482\n",
      "Iteration 31, loss = 0.31008151\n",
      "Iteration 32, loss = 0.30246734\n",
      "Iteration 33, loss = 0.30055424\n",
      "Iteration 34, loss = 0.29724084\n",
      "Iteration 35, loss = 0.29782553\n",
      "Iteration 36, loss = 0.29334356\n",
      "Iteration 37, loss = 0.29305735\n",
      "Iteration 38, loss = 0.29353849\n",
      "Iteration 39, loss = 0.29367626\n"
     ]
    },
    {
     "name": "stdout",
     "output_type": "stream",
     "text": [
      "Iteration 40, loss = 0.28957476\n",
      "Iteration 41, loss = 0.29142749\n",
      "Iteration 42, loss = 0.28917298\n",
      "Iteration 43, loss = 0.29002769\n",
      "Iteration 44, loss = 0.28899191\n",
      "Iteration 45, loss = 0.29314218\n",
      "Iteration 46, loss = 0.28664546\n",
      "Iteration 47, loss = 0.28508481\n",
      "Iteration 48, loss = 0.28553411\n",
      "Iteration 49, loss = 0.28495807\n",
      "Iteration 50, loss = 0.28434318\n",
      "Iteration 51, loss = 0.28868535\n",
      "Iteration 52, loss = 0.28314676\n",
      "Iteration 53, loss = 0.28610753\n",
      "Iteration 54, loss = 0.28254759\n",
      "Iteration 55, loss = 0.28138168\n",
      "Iteration 56, loss = 0.28148245\n",
      "Iteration 57, loss = 0.28241985\n",
      "Iteration 58, loss = 0.28169333\n",
      "Iteration 59, loss = 0.28595526\n",
      "Iteration 60, loss = 0.28989041\n",
      "Iteration 61, loss = 0.28292944\n",
      "Iteration 62, loss = 0.28673459\n",
      "Iteration 63, loss = 0.28608549\n",
      "Iteration 64, loss = 0.28369120\n",
      "Iteration 65, loss = 0.28034920\n",
      "Iteration 66, loss = 0.28096563\n",
      "Iteration 67, loss = 0.28930396\n",
      "Iteration 68, loss = 0.28668472\n",
      "Iteration 69, loss = 0.28772112\n",
      "Iteration 70, loss = 0.28170397\n",
      "Iteration 71, loss = 0.28107727\n",
      "Iteration 72, loss = 0.28048480\n",
      "Iteration 73, loss = 0.28023930\n",
      "Iteration 74, loss = 0.28099334\n",
      "Iteration 75, loss = 0.27972091\n",
      "Iteration 76, loss = 0.28107356\n",
      "Iteration 77, loss = 0.27993033\n",
      "Iteration 78, loss = 0.28126729\n",
      "Iteration 79, loss = 0.28887586\n",
      "Iteration 80, loss = 0.28461365\n",
      "Iteration 81, loss = 0.28970698\n",
      "Iteration 82, loss = 0.28313348\n",
      "Iteration 83, loss = 0.28996902\n",
      "Iteration 84, loss = 0.28012901\n",
      "Iteration 85, loss = 0.28312109\n",
      "Iteration 86, loss = 0.28895093\n",
      "Training loss did not improve more than tol=0.000100 for 10 consecutive epochs. Stopping.\n",
      "[LibSVM][LibSVM][LibSVM][LibSVM][LibSVM]"
     ]
    },
    {
     "name": "stderr",
     "output_type": "stream",
     "text": [
      "[Parallel(n_jobs=1)]: Done   5 out of   5 | elapsed:    3.2s finished\n",
      "[Parallel(n_jobs=1)]: Using backend SequentialBackend with 1 concurrent workers.\n",
      "[Parallel(n_jobs=1)]: Done   1 out of   1 | elapsed:    0.0s remaining:    0.0s\n",
      "[Parallel(n_jobs=1)]: Done   5 out of   5 | elapsed:    0.1s finished\n"
     ]
    },
    {
     "data": {
      "text/plain": [
       "StackingClassifier(cv=None,\n",
       "                   estimators=[('lra',\n",
       "                                LogisticRegression(C=3792.690190732246,\n",
       "                                                   class_weight='balanced',\n",
       "                                                   dual=False,\n",
       "                                                   fit_intercept=True,\n",
       "                                                   intercept_scaling=1,\n",
       "                                                   l1_ratio=None, max_iter=100,\n",
       "                                                   multi_class='auto',\n",
       "                                                   n_jobs=None, penalty='l2',\n",
       "                                                   random_state=None,\n",
       "                                                   solver='sag', tol=0.01,\n",
       "                                                   verbose=2,\n",
       "                                                   warm_start=False)),\n",
       "                               ('dt',\n",
       "                                DecisionTreeClassifier(ccp_alpha=0.0,\n",
       "                                                       class_we...\n",
       "                                    shrinking=True, tol=0.1, verbose=True))],\n",
       "                   final_estimator=LogisticRegression(C=1.0, class_weight=None,\n",
       "                                                      dual=False,\n",
       "                                                      fit_intercept=True,\n",
       "                                                      intercept_scaling=1,\n",
       "                                                      l1_ratio=None,\n",
       "                                                      max_iter=100,\n",
       "                                                      multi_class='auto',\n",
       "                                                      n_jobs=None, penalty='l2',\n",
       "                                                      random_state=None,\n",
       "                                                      solver='lbfgs',\n",
       "                                                      tol=0.0001, verbose=0,\n",
       "                                                      warm_start=False),\n",
       "                   n_jobs=None, passthrough=False, stack_method='auto',\n",
       "                   verbose=2)"
      ]
     },
     "execution_count": 14,
     "metadata": {},
     "output_type": "execute_result"
    }
   ],
   "source": [
    "# define and train stacking ensemble method\n",
    "stk_clf = StackingClassifier(estimators=estimators, final_estimator=LogisticRegression(), verbose=2)\n",
    "stk_clf.fit(X_train, y_train)"
   ]
  },
  {
   "cell_type": "code",
   "execution_count": 15,
   "metadata": {},
   "outputs": [
    {
     "name": "stdout",
     "output_type": "stream",
     "text": [
      "========Model Evaluation Report========\n",
      "Train Score:  0.8786127167630058\n",
      "Test Score:  0.9190751445086706\n",
      "=======================================\n",
      "Train BCA: 0.888 | Train AUC: 0.966\n",
      "Test BCA: 0.925 | Test AUC: 0.972\n",
      "=======================================\n"
     ]
    },
    {
     "data": {
      "image/png": "[encoded data removed]",
      "text/plain": [
       "<Figure size 576x576 with 1 Axes>"
      ]
     },
     "metadata": {
      "needs_background": "light"
     },
     "output_type": "display_data"
    }
   ],
   "source": [
    "el_metrics = report(stk_clf)"
   ]
  },
  {
   "cell_type": "markdown",
   "metadata": {},
   "source": [
    "### Save Best Model"
   ]
  },
  {
   "cell_type": "code",
   "execution_count": 16,
   "metadata": {},
   "outputs": [
    {
     "name": "stdout",
     "output_type": "stream",
     "text": [
      "saving trained model\n"
     ]
    }
   ],
   "source": [
    "model_name = \"stacking_130620_1.pkl\" #ensemble-date-modelversion\n",
    "\n",
    "tp.save(stk_clf, model_name)"
   ]
  },
  {
   "cell_type": "markdown",
   "metadata": {},
   "source": [
    "### Visualize Results"
   ]
  },
  {
   "cell_type": "code",
   "execution_count": 17,
   "metadata": {},
   "outputs": [],
   "source": [
    "# add stacking results\n",
    "metrics.append(['stacking'] + el_metrics)\n",
    "# create results dataframe\n",
    "results_df = pd.DataFrame(metrics, columns=['classifier', 'score_train', 'score_test', 'BCA_train', 'BCA_test', \n",
    "                                            'mAUC_train', 'mAUC_test'])"
   ]
  },
  {
   "cell_type": "code",
   "execution_count": 18,
   "metadata": {},
   "outputs": [
    {
     "data": {
      "image/png": "[encoded data removed]",
      "text/plain": [
       "<Figure size 432x288 with 1 Axes>"
      ]
     },
     "metadata": {
      "needs_background": "light"
     },
     "output_type": "display_data"
    }
   ],
   "source": [
    "results_df.plot(x='classifier', y=['score_train', 'score_test'], kind='bar', \n",
    "                title='Model Score', grid=True).legend(bbox_to_anchor=(1.2, 0.5));"
   ]
  },
  {
   "cell_type": "code",
   "execution_count": 19,
   "metadata": {},
   "outputs": [
    {
     "data": {
      "image/png": "[encoded data removed]",
      "text/plain": [
       "<Figure size 432x288 with 1 Axes>"
      ]
     },
     "metadata": {
      "needs_background": "light"
     },
     "output_type": "display_data"
    }
   ],
   "source": [
    "results_df.plot(x='classifier', y=['BCA_train', 'BCA_test'], kind='bar', \n",
    "                title='Model BCA', grid=True).legend(bbox_to_anchor=(1.2, 0.5));"
   ]
  },
  {
   "cell_type": "code",
   "execution_count": 20,
   "metadata": {},
   "outputs": [
    {
     "data": {
      "image/png": "[encoded data removed]",
      "text/plain": [
       "<Figure size 432x288 with 1 Axes>"
      ]
     },
     "metadata": {
      "needs_background": "light"
     },
     "output_type": "display_data"
    }
   ],
   "source": [
    "results_df.plot(x='classifier', y=['mAUC_train', 'mAUC_test'], kind='bar', \n",
    "                title='Model mAUC', grid=True).legend(bbox_to_anchor=(1.2, 0.5));"
   ]
  },
  {
   "cell_type": "markdown",
   "metadata": {},
   "source": [
    "### Grid Search: Stacking"
   ]
  },
  {
   "cell_type": "code",
   "execution_count": 21,
   "metadata": {},
   "outputs": [],
   "source": [
    "clf1 = LogisticRegression(class_weight='balanced')\n",
    "clf2 = DecisionTreeClassifier(class_weight='balanced')\n",
    "clf3 = MLPClassifier(learning_rate='adaptive')\n",
    "clf4 = SVC(probability=True, class_weight='balanced')\n",
    "lr = LogisticRegression(class_weight='balanced')\n",
    "    \n",
    "stk_params = {'logisticregression__C' : np.logspace(-4, 4, 10),\n",
    "              'decisiontreeclassifier__max_depth' : [7, 8, 9, 10],       \n",
    "              'mlpclassifier__hidden_layer_sizes' : [(50,50,50), (50,100,50), (100,)],\n",
    "              'svc__C' : [1, 10, 100, 1000],\n",
    "              'meta_classifier__C' : np.logspace(-4, 4, 10)}"
   ]
  },
  {
   "cell_type": "code",
   "execution_count": 22,
   "metadata": {
    "scrolled": false
   },
   "outputs": [
    {
     "name": "stdout",
     "output_type": "stream",
     "text": [
      "performing grid search\n",
      "Fitting 5 folds for each of 4800 candidates, totalling 24000 fits\n"
     ]
    },
    {
     "name": "stderr",
     "output_type": "stream",
     "text": [
      "[Parallel(n_jobs=10)]: Using backend LokyBackend with 10 concurrent workers.\n",
      "[Parallel(n_jobs=10)]: Done  21 tasks      | elapsed:   19.9s\n",
      "[Parallel(n_jobs=10)]: Done 142 tasks      | elapsed:  1.6min\n",
      "[Parallel(n_jobs=10)]: Done 345 tasks      | elapsed:  3.9min\n",
      "[Parallel(n_jobs=10)]: Done 628 tasks      | elapsed:  7.1min\n",
      "[Parallel(n_jobs=10)]: Done 993 tasks      | elapsed: 11.2min\n",
      "[Parallel(n_jobs=10)]: Done 1438 tasks      | elapsed: 16.2min\n",
      "[Parallel(n_jobs=10)]: Done 1965 tasks      | elapsed: 22.0min\n",
      "[Parallel(n_jobs=10)]: Done 2572 tasks      | elapsed: 29.0min\n",
      "[Parallel(n_jobs=10)]: Done 3261 tasks      | elapsed: 36.7min\n",
      "[Parallel(n_jobs=10)]: Done 4030 tasks      | elapsed: 45.1min\n",
      "[Parallel(n_jobs=10)]: Done 4881 tasks      | elapsed: 54.7min\n",
      "[Parallel(n_jobs=10)]: Done 5812 tasks      | elapsed: 64.4min\n",
      "[Parallel(n_jobs=10)]: Done 6825 tasks      | elapsed: 74.2min\n",
      "[Parallel(n_jobs=10)]: Done 7918 tasks      | elapsed: 84.7min\n",
      "[Parallel(n_jobs=10)]: Done 9093 tasks      | elapsed: 97.5min\n",
      "[Parallel(n_jobs=10)]: Done 10348 tasks      | elapsed: 109.9min\n",
      "[Parallel(n_jobs=10)]: Done 11685 tasks      | elapsed: 122.8min\n",
      "[Parallel(n_jobs=10)]: Done 13102 tasks      | elapsed: 136.5min\n",
      "[Parallel(n_jobs=10)]: Done 14601 tasks      | elapsed: 150.9min\n",
      "[Parallel(n_jobs=10)]: Done 16180 tasks      | elapsed: 166.0min\n",
      "[Parallel(n_jobs=10)]: Done 17841 tasks      | elapsed: 182.1min\n",
      "[Parallel(n_jobs=10)]: Done 19582 tasks      | elapsed: 198.6min\n",
      "[Parallel(n_jobs=10)]: Done 21405 tasks      | elapsed: 216.1min\n",
      "[Parallel(n_jobs=10)]: Done 23308 tasks      | elapsed: 234.5min\n",
      "[Parallel(n_jobs=10)]: Done 24000 out of 24000 | elapsed: 241.1min finished\n",
      "[Parallel(n_jobs=1)]: Using backend SequentialBackend with 1 concurrent workers.\n",
      "[Parallel(n_jobs=1)]: Done   1 out of   1 | elapsed:    0.0s remaining:    0.0s\n",
      "[Parallel(n_jobs=1)]: Done   2 out of   2 | elapsed:    0.0s finished\n",
      "[Parallel(n_jobs=1)]: Using backend SequentialBackend with 1 concurrent workers.\n",
      "[Parallel(n_jobs=1)]: Done   1 out of   1 | elapsed:    0.0s remaining:    0.0s\n",
      "[Parallel(n_jobs=1)]: Done   2 out of   2 | elapsed:    0.0s finished\n",
      "[Parallel(n_jobs=1)]: Using backend SequentialBackend with 1 concurrent workers.\n"
     ]
    },
    {
     "name": "stdout",
     "output_type": "stream",
     "text": [
      "Fitting 4 classifiers...\n",
      "Fitting classifier1: logisticregression (1/4)\n",
      "LogisticRegression(C=10000.0, class_weight='balanced', dual=False,\n",
      "                   fit_intercept=True, intercept_scaling=1, l1_ratio=None,\n",
      "                   max_iter=100, multi_class='auto', n_jobs=None, penalty='l2',\n",
      "                   random_state=None, solver='lbfgs', tol=0.0001, verbose=0,\n",
      "                   warm_start=False)\n",
      "Fitting classifier2: decisiontreeclassifier (2/4)\n",
      "DecisionTreeClassifier(ccp_alpha=0.0, class_weight='balanced', criterion='gini',\n",
      "                       max_depth=8, max_features=None, max_leaf_nodes=None,\n",
      "                       min_impurity_decrease=0.0, min_impurity_split=None,\n",
      "                       min_samples_leaf=1, min_samples_split=2,\n",
      "                       min_weight_fraction_leaf=0.0, presort='deprecated',\n",
      "                       random_state=None, splitter='best')\n",
      "Fitting classifier3: mlpclassifier (3/4)\n",
      "MLPClassifier(activation='relu', alpha=0.0001, batch_size='auto', beta_1=0.9,\n",
      "              beta_2=0.999, early_stopping=False, epsilon=1e-08,\n",
      "              hidden_layer_sizes=(50, 50, 50), learning_rate='adaptive',\n",
      "              learning_rate_init=0.001, max_fun=15000, max_iter=200,\n",
      "              momentum=0.9, n_iter_no_change=10, nesterovs_momentum=True,\n",
      "              power_t=0.5, random_state=None, shuffle=True, solver='adam',\n",
      "              tol=0.0001, validation_fraction=0.1, verbose=False,\n",
      "              warm_start=False)\n"
     ]
    },
    {
     "name": "stderr",
     "output_type": "stream",
     "text": [
      "[Parallel(n_jobs=1)]: Done   1 out of   1 | elapsed:    0.6s remaining:    0.0s\n",
      "[Parallel(n_jobs=1)]: Done   2 out of   2 | elapsed:    1.3s finished\n",
      "[Parallel(n_jobs=1)]: Using backend SequentialBackend with 1 concurrent workers.\n",
      "[Parallel(n_jobs=1)]: Done   1 out of   1 | elapsed:    0.0s remaining:    0.0s\n",
      "[Parallel(n_jobs=1)]: Done   2 out of   2 | elapsed:    0.1s finished\n"
     ]
    },
    {
     "name": "stdout",
     "output_type": "stream",
     "text": [
      "Fitting classifier4: svc (4/4)\n",
      "SVC(C=1, break_ties=False, cache_size=200, class_weight='balanced', coef0=0.0,\n",
      "    decision_function_shape='ovr', degree=3, gamma='scale', kernel='rbf',\n",
      "    max_iter=-1, probability=True, random_state=None, shrinking=True, tol=0.001,\n",
      "    verbose=False)\n"
     ]
    }
   ],
   "source": [
    "sclf = StackingCVClassifier(classifiers=[clf1, clf2, clf3, clf4], meta_classifier=lr,\n",
    "                            random_state=43, use_probas=True, verbose=2)\n",
    "stk_cv = tp.gridsearch(stk_params, sclf, scoring, n_jobs=10)"
   ]
  },
  {
   "cell_type": "code",
   "execution_count": 23,
   "metadata": {},
   "outputs": [
    {
     "data": {
      "text/plain": [
       "{'decisiontreeclassifier__max_depth': 8,\n",
       " 'logisticregression__C': 10000.0,\n",
       " 'meta_classifier__C': 2.782559402207126,\n",
       " 'mlpclassifier__hidden_layer_sizes': (50, 50, 50),\n",
       " 'svc__C': 1}"
      ]
     },
     "execution_count": 23,
     "metadata": {},
     "output_type": "execute_result"
    }
   ],
   "source": [
    "stk_cv.best_params_"
   ]
  },
  {
   "cell_type": "code",
   "execution_count": 24,
   "metadata": {},
   "outputs": [
    {
     "name": "stdout",
     "output_type": "stream",
     "text": [
      "========Model Evaluation Report========\n",
      "Train Score:  0.8786127167630058\n",
      "Test Score:  0.8872832369942196\n",
      "=======================================\n",
      "Train BCA: 0.901 | Train AUC: 0.978\n",
      "Test BCA: 0.910 | Test AUC: 0.970\n",
      "=======================================\n"
     ]
    },
    {
     "data": {
      "image/png": "[encoded data removed]",
      "text/plain": [
       "<Figure size 576x576 with 1 Axes>"
      ]
     },
     "metadata": {
      "needs_background": "light"
     },
     "output_type": "display_data"
    }
   ],
   "source": [
    "el_cv_metrics = report(stk_cv.best_estimator_)"
   ]
  }
 ],
 "metadata": {
  "kernelspec": {
   "display_name": "Python 3",
   "language": "python",
   "name": "python3"
  },
  "language_info": {
   "codemirror_mode": {
    "name": "ipython",
    "version": 3
   },
   "file_extension": ".py",
   "mimetype": "text/x-python",
   "name": "python",
   "nbconvert_exporter": "python",
   "pygments_lexer": "ipython3",
   "version": "3.7.7"
  }
 },
 "nbformat": 4,
 "nbformat_minor": 2
}
