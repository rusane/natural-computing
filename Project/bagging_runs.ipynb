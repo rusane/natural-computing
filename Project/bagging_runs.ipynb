{
 "cells": [
  {
   "cell_type": "markdown",
   "metadata": {},
   "source": [
    "# Bagging Runs\n",
    "\n",
    "This notebook runs the bagging ensemble with different base learners $n$ times and saves the output to a CSV file separately for each base learner."
   ]
  },
  {
   "cell_type": "markdown",
   "metadata": {},
   "source": [
    "## Imports"
   ]
  },
  {
   "cell_type": "code",
   "execution_count": 5,
   "metadata": {},
   "outputs": [],
   "source": [
    "# sklearn\n",
    "from sklearn.tree import DecisionTreeClassifier\n",
    "from sklearn.svm import SVC\n",
    "from sklearn.linear_model import LogisticRegression\n",
    "from sklearn.neural_network import MLPClassifier\n",
    "from sklearn.ensemble import BaggingClassifier\n",
    "\n",
    "# custom modules\n",
    "from tadpole import Tadpole\n",
    "from classifier import Classifier\n",
    "from main import run, get_params"
   ]
  },
  {
   "cell_type": "markdown",
   "metadata": {},
   "source": [
    "## Data Loading"
   ]
  },
  {
   "cell_type": "code",
   "execution_count": 2,
   "metadata": {},
   "outputs": [
    {
     "name": "stdout",
     "output_type": "stream",
     "text": [
      "Wall time: 4.5 s\n"
     ]
    }
   ],
   "source": [
    "%%time\n",
    "tp = Tadpole()"
   ]
  },
  {
   "cell_type": "code",
   "execution_count": 3,
   "metadata": {},
   "outputs": [],
   "source": [
    "n_runs = 10 # change to 30 for final evaluation"
   ]
  },
  {
   "cell_type": "code",
   "execution_count": 6,
   "metadata": {},
   "outputs": [],
   "source": [
    "params_dtc = get_params('dtc')\n",
    "params_svc = get_params('svc')\n",
    "params_lra = get_params('lra')\n",
    "params_ann = get_params('ann')"
   ]
  },
  {
   "cell_type": "code",
   "execution_count": 7,
   "metadata": {},
   "outputs": [],
   "source": [
    "# dtc_out = './results/bag_dtc.csv'\n",
    "# svc_out = './results/bag_svc.csv'\n",
    "# lra_out = './results/bag_lra.csv'\n",
    "# ann_out = './results/bag_ann.csv'\n",
    "\n",
    "# Temporary\n",
    "dtc_out = None\n",
    "svc_out = None\n",
    "lra_out = None\n",
    "ann_out = None"
   ]
  },
  {
   "cell_type": "markdown",
   "metadata": {},
   "source": [
    "## Bagging Ensembles\n",
    "\n",
    "**TODO:** grid search on bagging in another notebook"
   ]
  },
  {
   "cell_type": "markdown",
   "metadata": {},
   "source": [
    "### DTC"
   ]
  },
  {
   "cell_type": "code",
   "execution_count": 8,
   "metadata": {},
   "outputs": [
    {
     "name": "stderr",
     "output_type": "stream",
     "text": [
      "100%|██████████████████████████████████████████| 10/10 [00:03<00:00,  2.57it/s]\n"
     ]
    },
    {
     "data": {
      "text/html": [
       "<div>\n",
       "<style scoped>\n",
       "    .dataframe tbody tr th:only-of-type {\n",
       "        vertical-align: middle;\n",
       "    }\n",
       "\n",
       "    .dataframe tbody tr th {\n",
       "        vertical-align: top;\n",
       "    }\n",
       "\n",
       "    .dataframe thead th {\n",
       "        text-align: right;\n",
       "    }\n",
       "</style>\n",
       "<table border=\"1\" class=\"dataframe\">\n",
       "  <thead>\n",
       "    <tr style=\"text-align: right;\">\n",
       "      <th></th>\n",
       "      <th>BCA_train</th>\n",
       "      <th>BCA_test</th>\n",
       "      <th>mAUC_train</th>\n",
       "      <th>mAUC_test</th>\n",
       "    </tr>\n",
       "  </thead>\n",
       "  <tbody>\n",
       "    <tr>\n",
       "      <th>0</th>\n",
       "      <td>0.920742</td>\n",
       "      <td>0.908225</td>\n",
       "      <td>0.994090</td>\n",
       "      <td>0.970838</td>\n",
       "    </tr>\n",
       "    <tr>\n",
       "      <th>1</th>\n",
       "      <td>0.925201</td>\n",
       "      <td>0.863183</td>\n",
       "      <td>0.994353</td>\n",
       "      <td>0.960208</td>\n",
       "    </tr>\n",
       "    <tr>\n",
       "      <th>2</th>\n",
       "      <td>0.919033</td>\n",
       "      <td>0.916465</td>\n",
       "      <td>0.993650</td>\n",
       "      <td>0.974490</td>\n",
       "    </tr>\n",
       "    <tr>\n",
       "      <th>3</th>\n",
       "      <td>0.924367</td>\n",
       "      <td>0.868908</td>\n",
       "      <td>0.994467</td>\n",
       "      <td>0.962951</td>\n",
       "    </tr>\n",
       "    <tr>\n",
       "      <th>4</th>\n",
       "      <td>0.932745</td>\n",
       "      <td>0.870906</td>\n",
       "      <td>0.994817</td>\n",
       "      <td>0.964432</td>\n",
       "    </tr>\n",
       "    <tr>\n",
       "      <th>5</th>\n",
       "      <td>0.925382</td>\n",
       "      <td>0.887279</td>\n",
       "      <td>0.994356</td>\n",
       "      <td>0.969443</td>\n",
       "    </tr>\n",
       "    <tr>\n",
       "      <th>6</th>\n",
       "      <td>0.922637</td>\n",
       "      <td>0.897145</td>\n",
       "      <td>0.994100</td>\n",
       "      <td>0.979154</td>\n",
       "    </tr>\n",
       "    <tr>\n",
       "      <th>7</th>\n",
       "      <td>0.921113</td>\n",
       "      <td>0.863058</td>\n",
       "      <td>0.994355</td>\n",
       "      <td>0.970796</td>\n",
       "    </tr>\n",
       "    <tr>\n",
       "      <th>8</th>\n",
       "      <td>0.925032</td>\n",
       "      <td>0.884375</td>\n",
       "      <td>0.993882</td>\n",
       "      <td>0.974798</td>\n",
       "    </tr>\n",
       "    <tr>\n",
       "      <th>9</th>\n",
       "      <td>0.919702</td>\n",
       "      <td>0.914610</td>\n",
       "      <td>0.993980</td>\n",
       "      <td>0.976776</td>\n",
       "    </tr>\n",
       "  </tbody>\n",
       "</table>\n",
       "</div>"
      ],
      "text/plain": [
       "   BCA_train  BCA_test  mAUC_train  mAUC_test\n",
       "0   0.920742  0.908225    0.994090   0.970838\n",
       "1   0.925201  0.863183    0.994353   0.960208\n",
       "2   0.919033  0.916465    0.993650   0.974490\n",
       "3   0.924367  0.868908    0.994467   0.962951\n",
       "4   0.932745  0.870906    0.994817   0.964432\n",
       "5   0.925382  0.887279    0.994356   0.969443\n",
       "6   0.922637  0.897145    0.994100   0.979154\n",
       "7   0.921113  0.863058    0.994355   0.970796\n",
       "8   0.925032  0.884375    0.993882   0.974798\n",
       "9   0.919702  0.914610    0.993980   0.976776"
      ]
     },
     "execution_count": 8,
     "metadata": {},
     "output_type": "execute_result"
    }
   ],
   "source": [
    "dtc = DecisionTreeClassifier()\n",
    "\n",
    "bag_clf = BaggingClassifier(base_estimator = dtc, \n",
    "                            n_estimators = 100, \n",
    "                            max_samples = 0.3, \n",
    "                            random_state = 0)\n",
    "bag_dtc = Classifier(bag_clf)\n",
    "run(bag_dtc, tp, n_runs=n_runs, output=dtc_out)"
   ]
  },
  {
   "cell_type": "markdown",
   "metadata": {},
   "source": [
    "### SVC"
   ]
  },
  {
   "cell_type": "code",
   "execution_count": 9,
   "metadata": {},
   "outputs": [
    {
     "name": "stderr",
     "output_type": "stream",
     "text": [
      "100%|██████████████████████████████████████████| 10/10 [00:46<00:00,  4.64s/it]\n"
     ]
    },
    {
     "data": {
      "text/html": [
       "<div>\n",
       "<style scoped>\n",
       "    .dataframe tbody tr th:only-of-type {\n",
       "        vertical-align: middle;\n",
       "    }\n",
       "\n",
       "    .dataframe tbody tr th {\n",
       "        vertical-align: top;\n",
       "    }\n",
       "\n",
       "    .dataframe thead th {\n",
       "        text-align: right;\n",
       "    }\n",
       "</style>\n",
       "<table border=\"1\" class=\"dataframe\">\n",
       "  <thead>\n",
       "    <tr style=\"text-align: right;\">\n",
       "      <th></th>\n",
       "      <th>BCA_train</th>\n",
       "      <th>BCA_test</th>\n",
       "      <th>mAUC_train</th>\n",
       "      <th>mAUC_test</th>\n",
       "    </tr>\n",
       "  </thead>\n",
       "  <tbody>\n",
       "    <tr>\n",
       "      <th>0</th>\n",
       "      <td>0.867533</td>\n",
       "      <td>0.910696</td>\n",
       "      <td>0.969533</td>\n",
       "      <td>0.973263</td>\n",
       "    </tr>\n",
       "    <tr>\n",
       "      <th>1</th>\n",
       "      <td>0.883602</td>\n",
       "      <td>0.856220</td>\n",
       "      <td>0.974299</td>\n",
       "      <td>0.954727</td>\n",
       "    </tr>\n",
       "    <tr>\n",
       "      <th>2</th>\n",
       "      <td>0.870472</td>\n",
       "      <td>0.882748</td>\n",
       "      <td>0.971212</td>\n",
       "      <td>0.962843</td>\n",
       "    </tr>\n",
       "    <tr>\n",
       "      <th>3</th>\n",
       "      <td>0.875693</td>\n",
       "      <td>0.855252</td>\n",
       "      <td>0.970690</td>\n",
       "      <td>0.966243</td>\n",
       "    </tr>\n",
       "    <tr>\n",
       "      <th>4</th>\n",
       "      <td>0.878515</td>\n",
       "      <td>0.869958</td>\n",
       "      <td>0.970704</td>\n",
       "      <td>0.966057</td>\n",
       "    </tr>\n",
       "    <tr>\n",
       "      <th>5</th>\n",
       "      <td>0.876595</td>\n",
       "      <td>0.882541</td>\n",
       "      <td>0.969840</td>\n",
       "      <td>0.969606</td>\n",
       "    </tr>\n",
       "    <tr>\n",
       "      <th>6</th>\n",
       "      <td>0.875987</td>\n",
       "      <td>0.886682</td>\n",
       "      <td>0.969171</td>\n",
       "      <td>0.971668</td>\n",
       "    </tr>\n",
       "    <tr>\n",
       "      <th>7</th>\n",
       "      <td>0.878454</td>\n",
       "      <td>0.858917</td>\n",
       "      <td>0.971357</td>\n",
       "      <td>0.966163</td>\n",
       "    </tr>\n",
       "    <tr>\n",
       "      <th>8</th>\n",
       "      <td>0.877156</td>\n",
       "      <td>0.873912</td>\n",
       "      <td>0.970797</td>\n",
       "      <td>0.970827</td>\n",
       "    </tr>\n",
       "    <tr>\n",
       "      <th>9</th>\n",
       "      <td>0.872996</td>\n",
       "      <td>0.888844</td>\n",
       "      <td>0.968555</td>\n",
       "      <td>0.976067</td>\n",
       "    </tr>\n",
       "  </tbody>\n",
       "</table>\n",
       "</div>"
      ],
      "text/plain": [
       "   BCA_train  BCA_test  mAUC_train  mAUC_test\n",
       "0   0.867533  0.910696    0.969533   0.973263\n",
       "1   0.883602  0.856220    0.974299   0.954727\n",
       "2   0.870472  0.882748    0.971212   0.962843\n",
       "3   0.875693  0.855252    0.970690   0.966243\n",
       "4   0.878515  0.869958    0.970704   0.966057\n",
       "5   0.876595  0.882541    0.969840   0.969606\n",
       "6   0.875987  0.886682    0.969171   0.971668\n",
       "7   0.878454  0.858917    0.971357   0.966163\n",
       "8   0.877156  0.873912    0.970797   0.970827\n",
       "9   0.872996  0.888844    0.968555   0.976067"
      ]
     },
     "execution_count": 9,
     "metadata": {},
     "output_type": "execute_result"
    }
   ],
   "source": [
    "svc = SVC(probability=True)\n",
    "svc.set_params(**params_svc)\n",
    "\n",
    "bag_clf = BaggingClassifier(base_estimator = svc, \n",
    "                            n_estimators = 100, \n",
    "                            max_samples = 0.3, \n",
    "                            random_state = 0)\n",
    "bag_svc = Classifier(bag_clf)\n",
    "run(bag_svc, tp, n_runs=n_runs, output=svc_out)"
   ]
  },
  {
   "cell_type": "markdown",
   "metadata": {},
   "source": [
    "### LRA"
   ]
  },
  {
   "cell_type": "code",
   "execution_count": 10,
   "metadata": {},
   "outputs": [
    {
     "name": "stderr",
     "output_type": "stream",
     "text": [
      "100%|██████████████████████████████████████████| 10/10 [00:03<00:00,  3.18it/s]\n"
     ]
    },
    {
     "data": {
      "text/html": [
       "<div>\n",
       "<style scoped>\n",
       "    .dataframe tbody tr th:only-of-type {\n",
       "        vertical-align: middle;\n",
       "    }\n",
       "\n",
       "    .dataframe tbody tr th {\n",
       "        vertical-align: top;\n",
       "    }\n",
       "\n",
       "    .dataframe thead th {\n",
       "        text-align: right;\n",
       "    }\n",
       "</style>\n",
       "<table border=\"1\" class=\"dataframe\">\n",
       "  <thead>\n",
       "    <tr style=\"text-align: right;\">\n",
       "      <th></th>\n",
       "      <th>BCA_train</th>\n",
       "      <th>BCA_test</th>\n",
       "      <th>mAUC_train</th>\n",
       "      <th>mAUC_test</th>\n",
       "    </tr>\n",
       "  </thead>\n",
       "  <tbody>\n",
       "    <tr>\n",
       "      <th>0</th>\n",
       "      <td>0.781176</td>\n",
       "      <td>0.840034</td>\n",
       "      <td>0.932821</td>\n",
       "      <td>0.943016</td>\n",
       "    </tr>\n",
       "    <tr>\n",
       "      <th>1</th>\n",
       "      <td>0.800938</td>\n",
       "      <td>0.773983</td>\n",
       "      <td>0.939154</td>\n",
       "      <td>0.924547</td>\n",
       "    </tr>\n",
       "    <tr>\n",
       "      <th>2</th>\n",
       "      <td>0.585378</td>\n",
       "      <td>0.609326</td>\n",
       "      <td>0.933065</td>\n",
       "      <td>0.940464</td>\n",
       "    </tr>\n",
       "    <tr>\n",
       "      <th>3</th>\n",
       "      <td>0.795866</td>\n",
       "      <td>0.800654</td>\n",
       "      <td>0.937880</td>\n",
       "      <td>0.929735</td>\n",
       "    </tr>\n",
       "    <tr>\n",
       "      <th>4</th>\n",
       "      <td>0.792468</td>\n",
       "      <td>0.807863</td>\n",
       "      <td>0.931925</td>\n",
       "      <td>0.941515</td>\n",
       "    </tr>\n",
       "    <tr>\n",
       "      <th>5</th>\n",
       "      <td>0.793266</td>\n",
       "      <td>0.802961</td>\n",
       "      <td>0.934222</td>\n",
       "      <td>0.943338</td>\n",
       "    </tr>\n",
       "    <tr>\n",
       "      <th>6</th>\n",
       "      <td>0.801036</td>\n",
       "      <td>0.802551</td>\n",
       "      <td>0.931731</td>\n",
       "      <td>0.942735</td>\n",
       "    </tr>\n",
       "    <tr>\n",
       "      <th>7</th>\n",
       "      <td>0.805119</td>\n",
       "      <td>0.752357</td>\n",
       "      <td>0.932164</td>\n",
       "      <td>0.931036</td>\n",
       "    </tr>\n",
       "    <tr>\n",
       "      <th>8</th>\n",
       "      <td>0.795398</td>\n",
       "      <td>0.806977</td>\n",
       "      <td>0.933905</td>\n",
       "      <td>0.941270</td>\n",
       "    </tr>\n",
       "    <tr>\n",
       "      <th>9</th>\n",
       "      <td>0.749810</td>\n",
       "      <td>0.774005</td>\n",
       "      <td>0.930155</td>\n",
       "      <td>0.937721</td>\n",
       "    </tr>\n",
       "  </tbody>\n",
       "</table>\n",
       "</div>"
      ],
      "text/plain": [
       "   BCA_train  BCA_test  mAUC_train  mAUC_test\n",
       "0   0.781176  0.840034    0.932821   0.943016\n",
       "1   0.800938  0.773983    0.939154   0.924547\n",
       "2   0.585378  0.609326    0.933065   0.940464\n",
       "3   0.795866  0.800654    0.937880   0.929735\n",
       "4   0.792468  0.807863    0.931925   0.941515\n",
       "5   0.793266  0.802961    0.934222   0.943338\n",
       "6   0.801036  0.802551    0.931731   0.942735\n",
       "7   0.805119  0.752357    0.932164   0.931036\n",
       "8   0.795398  0.806977    0.933905   0.941270\n",
       "9   0.749810  0.774005    0.930155   0.937721"
      ]
     },
     "execution_count": 10,
     "metadata": {},
     "output_type": "execute_result"
    }
   ],
   "source": [
    "lra = LogisticRegression()\n",
    "lra.set_params(**params_lra)\n",
    "\n",
    "bag_clf = BaggingClassifier(base_estimator = lra, \n",
    "                            n_estimators = 100, \n",
    "                            max_samples = 0.3, \n",
    "                            random_state = 0)\n",
    "bag_lra = Classifier(bag_clf)\n",
    "run(bag_lra, tp, n_runs=n_runs, output=lra_out)"
   ]
  },
  {
   "cell_type": "markdown",
   "metadata": {},
   "source": [
    "### ANN"
   ]
  },
  {
   "cell_type": "code",
   "execution_count": null,
   "metadata": {},
   "outputs": [
    {
     "name": "stderr",
     "output_type": "stream",
     "text": [
      " 10%|████▎                                      | 1/10 [01:10<10:35, 70.66s/it]"
     ]
    }
   ],
   "source": [
    "ann = MLPClassifier()\n",
    "ann.set_params(**params_ann)\n",
    "\n",
    "bag_clf = BaggingClassifier(base_estimator = ann, \n",
    "                            n_estimators = 100, \n",
    "                            max_samples = 0.3, \n",
    "                            random_state = 0)\n",
    "bag_ann = Classifier(bag_clf)\n",
    "run(bag_ann, tp, n_runs=n_runs, output=ann_out)"
   ]
  }
 ],
 "metadata": {
  "kernelspec": {
   "display_name": "Python 3",
   "language": "python",
   "name": "python3"
  },
  "language_info": {
   "codemirror_mode": {
    "name": "ipython",
    "version": 3
   },
   "file_extension": ".py",
   "mimetype": "text/x-python",
   "name": "python",
   "nbconvert_exporter": "python",
   "pygments_lexer": "ipython3",
   "version": "3.8.1"
  }
 },
 "nbformat": 4,
 "nbformat_minor": 4
}
