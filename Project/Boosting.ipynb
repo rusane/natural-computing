{
 "cells": [
  {
   "cell_type": "markdown",
   "metadata": {},
   "source": [
    "# Boosting\n",
    "\n",
    "Training D1_D2 dataset using the `Boosting` ensemble method.\n",
    "\n",
    "### Author\n",
    "Anna Gansen"
   ]
  },
  {
   "cell_type": "code",
   "execution_count": 4,
   "metadata": {},
   "outputs": [],
   "source": [
    "# import libraries\n",
    "import warnings\n",
    "import numpy as np\n",
    "\n",
    "warnings.filterwarnings(action='ignore')\n",
    "\n",
    "# import custom class\n",
    "from tadpole import Tadpole\n",
    "\n",
    "# import sklearn model training\n",
    "from sklearn.svm import SVC\n",
    "from sklearn.tree import DecisionTreeClassifier\n",
    "from sklearn.neural_network import MLPClassifier\n",
    "from sklearn.linear_model import LogisticRegression\n",
    "from sklearn.ensemble import BaggingClassifier\n",
    "from sklearn.ensemble import AdaBoostClassifier\n",
    "\n",
    "#metrics\n",
    "from sklearn.metrics import balanced_accuracy_score, roc_auc_score, confusion_matrix\n",
    "\n",
    "# import visualization library\n",
    "from matplotlib import pyplot as plt\n",
    "# import libraries\n",
    "import warnings\n",
    "import pandas as pd\n",
    "import numpy as np\n",
    "\n",
    "warnings.filterwarnings(action='ignore')\n",
    "\n",
    "# import custom class\n",
    "from tadpole import Tadpole\n",
    "\n",
    "# base learners\n",
    "from sklearn.tree import DecisionTreeClassifier\n",
    "from sklearn.svm import SVC\n",
    "from sklearn.neural_network import MLPClassifier\n",
    "from sklearn.linear_model import LogisticRegression\n",
    "\n",
    "# ensemble learning - stacking\n",
    "from sklearn.ensemble import StackingClassifier\n",
    "from sklearn.svm import LinearSVC\n",
    "from sklearn.preprocessing import StandardScaler\n",
    "from sklearn.pipeline import make_pipeline\n",
    "\n",
    "# metrics\n",
    "from sklearn.metrics import balanced_accuracy_score, roc_auc_score\n",
    "from sklearn.metrics import make_scorer, confusion_matrix\n",
    "\n",
    "# import visualization library\n",
    "from matplotlib import pyplot as plt\n",
    "import seaborn as sns\n",
    "\n",
    "\n",
    "# set seed (for reproducibility)\n",
    "np.random.seed(43)\n",
    "\n",
    "%matplotlib inline\n",
    "sns.set(style='whitegrid', palette=\"deep\", font_scale=0.7, rc={\"figure.figsize\": [8, 5]})"
   ]
  },
  {
   "cell_type": "markdown",
   "metadata": {},
   "source": [
    "### Data Loading + Preprocessing"
   ]
  },
  {
   "cell_type": "code",
   "execution_count": 5,
   "metadata": {},
   "outputs": [
    {
     "name": "stdout",
     "output_type": "stream",
     "text": [
      "loading tadpole dataset\n",
      "pre-processing dataset\n"
     ]
    }
   ],
   "source": [
    "# initialize class\n",
    "tp = Tadpole(debug=True)"
   ]
  },
  {
   "cell_type": "code",
   "execution_count": 6,
   "metadata": {},
   "outputs": [
    {
     "name": "stdout",
     "output_type": "stream",
     "text": [
      "loading tadpole dataset\n",
      "pre-processing dataset\n",
      "{0: 'AD', 1: 'CN', 2: 'MCI'}\n"
     ]
    }
   ],
   "source": [
    "# load and pre-process tadpole dataset\n",
    "tp.load()\n",
    "print(tp.label_dict)"
   ]
  },
  {
   "cell_type": "markdown",
   "metadata": {},
   "source": [
    "##### Split data into Train and Test datasets"
   ]
  },
  {
   "cell_type": "code",
   "execution_count": 7,
   "metadata": {},
   "outputs": [
    {
     "name": "stdout",
     "output_type": "stream",
     "text": [
      "splitting dataset to train and test datasets\n"
     ]
    },
    {
     "data": {
      "text/plain": [
       "(array([[0.        , 0.12491212, 0.91666667, ..., 0.20507751, 1.        ,\n",
       "         0.41621622],\n",
       "        [0.25      , 0.44527771, 0.5       , ..., 0.27756092, 0.5       ,\n",
       "         0.57837838],\n",
       "        [0.        , 0.10147645, 1.        , ..., 0.04599641, 0.        ,\n",
       "         0.59189189],\n",
       "        ...,\n",
       "        [0.        , 0.14834779, 1.        , ..., 0.20507751, 0.        ,\n",
       "         0.5       ],\n",
       "        [0.3       , 0.32809937, 0.5       , ..., 0.54879207, 1.        ,\n",
       "         0.11081081],\n",
       "        [0.        , 0.10147645, 1.        , ..., 0.20507751, 0.        ,\n",
       "         0.6       ]]),\n",
       " array([[0.1       , 0.20318725, 1.        , ..., 0.20507751, 0.5       ,\n",
       "         0.43783784],\n",
       "        [0.05      , 0.18748535, 1.        , ..., 0.01983332, 0.        ,\n",
       "         0.19459459],\n",
       "        [0.15      , 0.19521912, 1.        , ..., 0.20507751, 0.5       ,\n",
       "         0.37837838],\n",
       "        ...,\n",
       "        [0.6       , 0.62502929, 0.16666667, ..., 0.33801034, 0.5       ,\n",
       "         0.20540541],\n",
       "        [0.2       , 0.32809937, 0.75      , ..., 0.20507751, 1.        ,\n",
       "         0.43783784],\n",
       "        [0.4       , 0.28122803, 0.58333333, ..., 0.29349087, 1.        ,\n",
       "         0.64054054]]),\n",
       " array([1, 0, 1, ..., 1, 2, 1]),\n",
       " array([2, 2, 2, 2, 1, 1, 0, 0, 0, 2, 1, 2, 2, 1, 2, 1, 2, 2, 1, 0, 2, 2,\n",
       "        2, 2, 2, 1, 2, 2, 1, 1, 2, 0, 2, 0, 2, 2, 0, 2, 2, 2, 2, 2, 2, 0,\n",
       "        2, 2, 1, 1, 0, 2, 2, 2, 1, 2, 2, 1, 2, 0, 1, 2, 0, 2, 0, 2, 1, 2,\n",
       "        1, 2, 2, 1, 2, 2, 0, 0, 2, 1, 2, 0, 1, 2, 1, 0, 2, 1, 2, 0, 2, 2,\n",
       "        2, 2, 2, 1, 1, 1, 2, 2, 2, 2, 2, 0, 2, 2, 2, 2, 2, 1, 2, 2, 1, 2,\n",
       "        2, 2, 0, 2, 1, 1, 1, 1, 0, 2, 2, 2, 0, 0, 2, 0, 2, 1, 0, 1, 2, 2,\n",
       "        0, 0, 2, 1, 2, 1, 2, 0, 2, 1, 1, 2, 2, 0, 2, 1, 2, 2, 2, 1, 0, 1,\n",
       "        0, 1, 0, 2, 1, 1, 1, 2, 2, 2, 1, 2, 1, 2, 1, 1, 0, 2, 2, 0, 1, 2,\n",
       "        2, 1, 1, 2, 2, 2, 2, 2, 2, 1, 0, 2, 2, 1, 0, 1, 2, 2, 2, 2, 0, 2,\n",
       "        1, 2, 1, 2, 0, 2, 2, 0, 1, 2, 0, 2, 2, 2, 2, 0, 2, 1, 0, 2, 1, 1,\n",
       "        2, 1, 2, 2, 2, 2, 0, 0, 1, 2, 1, 2, 1, 2, 2, 1, 2, 2, 1, 2, 2, 2,\n",
       "        2, 2, 2, 2, 2, 1, 0, 2, 2, 0, 2, 0, 2, 1, 1, 2, 1, 0, 0, 2, 0, 0,\n",
       "        2, 2, 0, 2, 0, 2, 2, 1, 2, 2, 2, 2, 2, 2, 2, 2, 1, 2, 0, 2, 0, 2,\n",
       "        1, 0, 2, 0, 2, 0, 0, 2, 2, 2, 2, 2, 2, 2, 2, 2, 1, 1, 2, 2, 1, 0,\n",
       "        1, 2, 2, 2, 2, 1, 2, 1, 0, 2, 2, 0, 0, 2, 2, 1, 2, 2, 2, 2, 2, 2,\n",
       "        1, 2, 0, 0, 1, 2, 1, 2, 0, 0, 2, 2, 1, 0, 2, 0]))"
      ]
     },
     "execution_count": 7,
     "metadata": {},
     "output_type": "execute_result"
    }
   ],
   "source": [
    "# train-test split\n",
    "tp.split()"
   ]
  },
  {
   "cell_type": "code",
   "execution_count": 8,
   "metadata": {},
   "outputs": [],
   "source": [
    "# import variables from class instance (notebook compatibility)\n",
    "label_dict = tp.label_dict\n",
    "X, y, X_train, X_test, y_train, y_test = tp.X, tp.y, tp.X_train, tp.X_test, tp.y_train, tp.y_test"
   ]
  },
  {
   "cell_type": "code",
   "execution_count": 9,
   "metadata": {},
   "outputs": [],
   "source": [
    "# define scoring parameter\n",
    "scoring = {'BA': make_scorer(balanced_accuracy_score)}"
   ]
  },
  {
   "cell_type": "markdown",
   "metadata": {},
   "source": [
    "### Helper Functions"
   ]
  },
  {
   "cell_type": "code",
   "execution_count": 10,
   "metadata": {},
   "outputs": [],
   "source": [
    "# Source: https://stackoverflow.com/questions/55632010/using-scikit-learns-mlpclassifier-in-adaboostclassifier\n",
    "class CustomMLPClassifier(MLPClassifier):\n",
    "    def resample_with_replacement(self, X_train, y_train, sample_weight):\n",
    "\n",
    "        # normalize sample_weights if not already\n",
    "        sample_weight = sample_weight / sample_weight.sum(dtype=np.float64)\n",
    "\n",
    "        X_train_resampled = np.zeros((len(X_train), len(X_train[0])), dtype=np.float32)\n",
    "        y_train_resampled = np.zeros((len(y_train)), dtype=np.int)\n",
    "        for i in range(len(X_train)):\n",
    "            # draw a number from 0 to len(X_train)-1\n",
    "            draw = np.random.choice(np.arange(len(X_train)), p=sample_weight)\n",
    "\n",
    "            # place the X and y at the drawn number into the resampled X and y\n",
    "            X_train_resampled[i] = X_train[draw]\n",
    "            y_train_resampled[i] = y_train[draw]\n",
    "\n",
    "        return X_train_resampled, y_train_resampled\n",
    "\n",
    "\n",
    "    def fit(self, X, y, sample_weight=None):\n",
    "        if sample_weight is not None:\n",
    "            X, y = self.resample_with_replacement(X, y, sample_weight)\n",
    "        return self._fit(X, y, incremental=(self.warm_start and\n",
    "                                            hasattr(self, \"classes_\")))"
   ]
  },
  {
   "cell_type": "code",
   "execution_count": null,
   "metadata": {},
   "outputs": [],
   "source": [
    "# def boosting_clf(clf):\n",
    "#     if (isinstance(clf,SVC)):\n",
    "#         return AdaBoostClassifier(base_estimator = clf, n_estimators = 100, random_state = 0, \n",
    "#                                   algorithm = 'SAMME', learning_rate = 0.1)\n",
    "#     else:\n",
    "#         return AdaBoostClassifier(base_estimator = clf, n_estimators = 100, random_state = 0, learning_rate = 0.1)"
   ]
  },
  {
   "cell_type": "code",
   "execution_count": null,
   "metadata": {},
   "outputs": [],
   "source": [
    "# def accuracy(clf, X, y):\n",
    "#     y_pred = clf.predict(X)\n",
    "#     y_prob = clf.predict_proba(X)\n",
    "#     BCA = balanced_accuracy_score(y, y_pred)\n",
    "#     print('Balanced accuracy score: ', BCA)\n",
    "#     mAUC = roc_auc_score(y, y_prob, multi_class=\"ovo\", average=\"macro\")\n",
    "#     print('Overall mAUC: ', mAUC)"
   ]
  },
  {
   "cell_type": "code",
   "execution_count": null,
   "metadata": {},
   "outputs": [],
   "source": [
    "# def showConfusionMatrix(clf, X, y):\n",
    "#     cm = confusion_matrix(y, clf.predict(X))\n",
    "#     fig, ax = plt.subplots(figsize=(8, 8))\n",
    "#     ax.imshow(cm, cmap='GnBu')\n",
    "#     ax.grid(False)\n",
    "\n",
    "#     # For 3 categories\n",
    "#     ax.xaxis.set(ticks=(0, 1, 2), ticklabels=('Predicted ' + label_dict[0], 'Predicted ' + label_dict[1], \n",
    "#                                               'Predicted ' + label_dict[2]))\n",
    "#     ax.yaxis.set(ticks=(0, 1, 2), ticklabels=('Actual ' + label_dict[0], 'Actual ' + label_dict[1], \n",
    "#                                               'Actual ' + label_dict[2]))\n",
    "\n",
    "#     for i in range(3):\n",
    "#         for j in range(3):\n",
    "#             ax.text(j, i, cm[i, j], ha='center', va='center', color='black')\n",
    "#     plt.title('Test Data Confusion Matrix')\n",
    "#     plt.show()"
   ]
  },
  {
   "cell_type": "code",
   "execution_count": null,
   "metadata": {},
   "outputs": [],
   "source": [
    "# def report_accuracy(clf):\n",
    "#     print('Train metrics:')\n",
    "#     accuracy(clf, X_train, y_train)\n",
    "#     print('\\n\\nTest metrics:')\n",
    "#     accuracy(clf, X_test, y_test)\n",
    "#     showConfusionMatrix(clf, X_test, y_test)"
   ]
  },
  {
   "cell_type": "code",
   "execution_count": null,
   "metadata": {},
   "outputs": [],
   "source": [
    "# def evaluate(Classifier, **kwargs):\n",
    "#     print('+ Base learner')\n",
    "#     clf = Classifier(**kwargs).fit(X_train, y_train)\n",
    "#     report_accuracy(clf)\n",
    "#     print('+ Ensemble')\n",
    "#     boost_clf = boosting_clf(Classifier(**kwargs)).fit(X_train, y_train)\n",
    "#     report_accuracy(boost_clf)"
   ]
  },
  {
   "cell_type": "code",
   "execution_count": 11,
   "metadata": {},
   "outputs": [],
   "source": [
    "def showConfusionMatrix(clf, X, y):\n",
    "    cm = confusion_matrix(y, clf.predict(X))\n",
    "    fig, ax = plt.subplots(figsize=(8, 8))\n",
    "    ax.imshow(cm, cmap='GnBu')\n",
    "    ax.grid(False)\n",
    "\n",
    "    # For 3 categories\n",
    "    ax.xaxis.set(ticks=(0, 1, 2), ticklabels=('Predicted ' + label_dict[0], 'Predicted ' + label_dict[1], \n",
    "                                              'Predicted ' + label_dict[2]))\n",
    "    ax.yaxis.set(ticks=(0, 1, 2), ticklabels=('Actual ' + label_dict[0], 'Actual ' + label_dict[1], \n",
    "                                              'Actual ' + label_dict[2]))\n",
    "\n",
    "    for i in range(3):\n",
    "        for j in range(3):\n",
    "            ax.text(j, i, cm[i, j], ha='center', va='center', color='black')\n",
    "    plt.title('Test Data Confusion Matrix')\n",
    "    plt.show()\n",
    "    \n",
    "def computeMetrics(model, X, y):\n",
    "    \"\"\"\n",
    "    @description:\n",
    "        function to compute performance metrics\n",
    "    @arguments:\n",
    "        model (sklearn) - trained model\n",
    "        X (np.array) - features\n",
    "        y (np.array) - target\n",
    "    \"\"\"\n",
    "    y_pred = model.predict(X)\n",
    "    y_prob = model.predict_proba(X)\n",
    "    BCA = balanced_accuracy_score(y, y_pred)\n",
    "    mAUC = roc_auc_score(y, y_prob, multi_class=\"ovr\", average=\"macro\")\n",
    "    return BCA, mAUC\n",
    "\n",
    "def report(model):\n",
    "    \"\"\"\n",
    "    @description:\n",
    "        function to report trained model performance\n",
    "    @arguments:\n",
    "        model (sklearn) - trained model\n",
    "    \"\"\"\n",
    "    score_train = model.score(X_train, y_train)\n",
    "    score_test = model.score(X_test, y_test)\n",
    "    BCA_train, mAUC_train = computeMetrics(model, X_train, y_train)\n",
    "    BCA_test, mAUC_test = computeMetrics(model, X_test, y_test)\n",
    "    print(\"========Model Evaluation Report========\")\n",
    "    print(\"Train Score: \", score_train)\n",
    "    print(\"Test Score: \", score_test)\n",
    "    print(\"=======================================\")\n",
    "    print(\"Train BCA: {:.3f} | Train AUC: {:.3f}\".format(BCA_train, mAUC_train))\n",
    "    print(\"Test BCA: {:.3f} | Test AUC: {:.3f}\".format(BCA_test, mAUC_test))\n",
    "    print(\"=======================================\")\n",
    "    showConfusionMatrix(model, X_test, y_test)\n",
    "    return [score_train, score_test, BCA_train, BCA_test, mAUC_train, mAUC_test]\n",
    "\n",
    "def evaluate(baselearners):\n",
    "    \"\"\"\n",
    "    @description:\n",
    "        function to evaluate base learners\n",
    "    @arguments:\n",
    "        baselearners (sklearn) - list of trained models\n",
    "    \"\"\"\n",
    "    metrics = []\n",
    "    for name, model in baselearners.items():\n",
    "        print(name)\n",
    "        results = report(model)\n",
    "        metrics.append([name] + results)\n",
    "    return metrics"
   ]
  },
  {
   "cell_type": "code",
   "execution_count": null,
   "metadata": {},
   "outputs": [],
   "source": [
    "# def main():\n",
    "#     baselearners = [DecisionTreeClassifier, \n",
    "#                     SVC, \n",
    "#                     CustomMLPClassifier,\n",
    "#                     LogisticRegression]\n",
    "    \n",
    "#     for learner in baselearners:\n",
    "#         print(learner)\n",
    "#         evaluate(learner)\n",
    "#         print()"
   ]
  },
  {
   "cell_type": "markdown",
   "metadata": {},
   "source": [
    "### Model Training\n",
    "The following parameter grids were found to work best for the base learners: \n",
    "    \n",
    "1. **LRA**: {'C': 0.08858667904100823, 'class_weight': 'balanced', 'dual': False, 'penalty': 'l1', 'solver': 'liblinear', 'tol': 0.0001}\n",
    "\n",
    "2. **DT**: {'class_weight': 'balanced', 'criterion': 'gini', 'max_depth': 8, 'max_features': 'sqrt', 'min_samples_leaf': 0.2, 'min_samples_split': 0.5, 'splitter': 'best'}\n",
    "\n",
    "3. **MLP**: {'activation': 'relu', 'alpha': 0.05, 'hidden_layer_sizes': (50, 50, 50), 'learning_rate': 'adaptive', 'solver': \n",
    "'adam'}\n",
    "\n",
    "4. **SVM**: {'C': 1000, 'class_weight': 'balanced', 'gamma': 0.001, 'kernel': 'linear', 'tol': 1}\n",
    "\n",
    "### Decision Tree\n",
    "#### Base Learner"
   ]
  },
  {
   "cell_type": "code",
   "execution_count": 27,
   "metadata": {},
   "outputs": [
    {
     "name": "stdout",
     "output_type": "stream",
     "text": [
      "========Model Evaluation Report========\n",
      "Train Score:  0.7030346820809249\n",
      "Test Score:  0.7254335260115607\n",
      "=======================================\n",
      "Train BCA: 0.777 | Train AUC: 0.854\n",
      "Test BCA: 0.788 | Test AUC: 0.868\n",
      "=======================================\n"
     ]
    },
    {
     "data": {
      "image/png": "[encoded data removed]",
      "text/plain": [
       "<Figure size 576x576 with 1 Axes>"
      ]
     },
     "metadata": {},
     "output_type": "display_data"
    },
    {
     "data": {
      "text/plain": [
       "[0.7030346820809249,\n",
       " 0.7254335260115607,\n",
       " 0.7769971287866397,\n",
       " 0.7882976854628166,\n",
       " 0.8543627222905231,\n",
       " 0.8684033809191812]"
      ]
     },
     "execution_count": 27,
     "metadata": {},
     "output_type": "execute_result"
    }
   ],
   "source": [
    "dtc = DecisionTreeClassifier()\n",
    "dtc.set_params(**{'class_weight': 'balanced', 'criterion': 'gini', 'max_depth': 8, \n",
    "                  'max_features': 'sqrt', 'min_samples_leaf': 0.2, 'min_samples_split': 0.5, \n",
    "                  'splitter': 'best'})\n",
    "dtc.fit(X_train, y_train)\n",
    "report(dtc)"
   ]
  },
  {
   "cell_type": "markdown",
   "metadata": {},
   "source": [
    "#### Grid Search AdaBoost - Decision Trees"
   ]
  },
  {
   "cell_type": "code",
   "execution_count": 28,
   "metadata": {},
   "outputs": [
    {
     "name": "stdout",
     "output_type": "stream",
     "text": [
      "performing grid search\n",
      "Fitting 5 folds for each of 60 candidates, totalling 300 fits\n"
     ]
    },
    {
     "name": "stderr",
     "output_type": "stream",
     "text": [
      "[Parallel(n_jobs=4)]: Using backend LokyBackend with 4 concurrent workers.\n",
      "[Parallel(n_jobs=4)]: Done  33 tasks      | elapsed:   14.2s\n",
      "[Parallel(n_jobs=4)]: Done 154 tasks      | elapsed:  1.4min\n",
      "[Parallel(n_jobs=4)]: Done 300 out of 300 | elapsed:  2.7min finished\n"
     ]
    },
    {
     "name": "stdout",
     "output_type": "stream",
     "text": [
      "========Model Evaluation Report========\n",
      "Train Score:  0.868168829162805\n",
      "Test Score:  0.8967753366406804\n",
      "=======================================\n",
      "Train BCA: 0.868 | Train AUC: 0.944\n",
      "Test BCA: 0.897 | Test AUC: 0.955\n",
      "=======================================\n"
     ]
    },
    {
     "data": {
      "image/png": "[encoded data removed]",
      "text/plain": [
       "<Figure size 576x576 with 1 Axes>"
      ]
     },
     "metadata": {},
     "output_type": "display_data"
    },
    {
     "name": "stdout",
     "output_type": "stream",
     "text": [
      "AdaBoost with DT: {'learning_rate': 0.0001, 'n_estimators': 400}\n"
     ]
    }
   ],
   "source": [
    "adaboost_param_grid = {'n_estimators'  : [50, 100, 150, 200, 250, 300, 350, 400, 450, 500],\n",
    "                       'learning_rate' : [0.1, 0.01, 0.001, 0.0001, 0.00001, 1]}\n",
    "\n",
    "dt = DecisionTreeClassifier()\n",
    "dt.set_params(**{'class_weight': 'balanced', 'criterion': 'gini', 'max_depth': 8, \n",
    "                  'max_features': 'sqrt', 'min_samples_leaf': 0.2, 'min_samples_split': 0.5, \n",
    "                  'splitter': 'best'})\n",
    "boosting_clf = AdaBoostClassifier(base_estimator = dt, random_state = 0)\n",
    "boost_dtc_cv = tp.gridsearch(adaboost_param_grid, boosting_clf, scoring)\n",
    "metrics = report(boost_dtc_cv)\n",
    "print(\"AdaBoost with DT:\", boost_dtc_cv.best_params_)"
   ]
  },
  {
   "cell_type": "markdown",
   "metadata": {},
   "source": [
    "### Logistic Regression Analysis (LRA)\n",
    "#### Base Learner"
   ]
  },
  {
   "cell_type": "code",
   "execution_count": 47,
   "metadata": {},
   "outputs": [
    {
     "name": "stdout",
     "output_type": "stream",
     "text": [
      "[LibLinear]========Model Evaluation Report========\n",
      "Train Score:  0.875\n",
      "Test Score:  0.9017341040462428\n",
      "=======================================\n",
      "Train BCA: 0.891 | Train AUC: 0.961\n",
      "Test BCA: 0.918 | Test AUC: 0.968\n",
      "=======================================\n"
     ]
    },
    {
     "data": {
      "image/png": "[encoded data removed]",
      "text/plain": [
       "<Figure size 576x576 with 1 Axes>"
      ]
     },
     "metadata": {},
     "output_type": "display_data"
    },
    {
     "data": {
      "text/plain": [
       "[0.875,\n",
       " 0.9017341040462428,\n",
       " 0.8908123444002253,\n",
       " 0.918111662335617,\n",
       " 0.9612448482208306,\n",
       " 0.9684053949935209]"
      ]
     },
     "execution_count": 47,
     "metadata": {},
     "output_type": "execute_result"
    }
   ],
   "source": [
    "lra = LogisticRegression(verbose=2)\n",
    "lra.set_params(**{'C': 0.08858667904100823, 'class_weight': 'balanced', 'dual': False, \n",
    "                'penalty': 'l1', 'solver': 'liblinear', 'tol': 0.0001})\n",
    "lra.fit(X_train, y_train)\n",
    "report(lra)"
   ]
  },
  {
   "cell_type": "markdown",
   "metadata": {},
   "source": [
    "#### Grid Search AdaBoost - LRA"
   ]
  },
  {
   "cell_type": "code",
   "execution_count": 14,
   "metadata": {},
   "outputs": [
    {
     "name": "stdout",
     "output_type": "stream",
     "text": [
      "performing grid search\n",
      "Fitting 5 folds for each of 60 candidates, totalling 300 fits\n"
     ]
    },
    {
     "name": "stderr",
     "output_type": "stream",
     "text": [
      "[Parallel(n_jobs=4)]: Using backend LokyBackend with 4 concurrent workers.\n",
      "[Parallel(n_jobs=4)]: Done  33 tasks      | elapsed:   11.9s\n",
      "[Parallel(n_jobs=4)]: Done 154 tasks      | elapsed:  1.1min\n",
      "[Parallel(n_jobs=4)]: Done 300 out of 300 | elapsed:  2.2min finished\n"
     ]
    },
    {
     "name": "stdout",
     "output_type": "stream",
     "text": [
      "[LibLinear][LibLinear][LibLinear][LibLinear][LibLinear][LibLinear][LibLinear][LibLinear][LibLinear][LibLinear][LibLinear][LibLinear][LibLinear][LibLinear][LibLinear][LibLinear][LibLinear][LibLinear][LibLinear][LibLinear][LibLinear][LibLinear][LibLinear][LibLinear][LibLinear][LibLinear][LibLinear][LibLinear][LibLinear][LibLinear][LibLinear][LibLinear][LibLinear][LibLinear][LibLinear][LibLinear][LibLinear][LibLinear][LibLinear][LibLinear][LibLinear][LibLinear][LibLinear][LibLinear][LibLinear][LibLinear][LibLinear][LibLinear][LibLinear][LibLinear]========Model Evaluation Report========\n",
      "Train Score:  0.3333333333333333\n",
      "Test Score:  0.3333333333333333\n",
      "=======================================\n",
      "Train BCA: 0.333 | Train AUC: 0.500\n",
      "Test BCA: 0.333 | Test AUC: 0.500\n",
      "=======================================\n"
     ]
    },
    {
     "data": {
      "image/png": "[encoded data removed]",
      "text/plain": [
       "<Figure size 576x576 with 1 Axes>"
      ]
     },
     "metadata": {},
     "output_type": "display_data"
    },
    {
     "name": "stdout",
     "output_type": "stream",
     "text": [
      "AdaBoost with LRA: {'learning_rate': 0.1, 'n_estimators': 50}\n"
     ]
    }
   ],
   "source": [
    "adaboost_param_grid = {'n_estimators'  : [1,2,3],#50, 100, 150, 200, 250, 300, 350, 400, 450, 500],\n",
    "                       'learning_rate' : [0.1, 0.01, 0.001, 0.0001, 0.00001, 1]}\n",
    "\n",
    "lra = LogisticRegression(verbose=2)\n",
    "lra.set_params(**{'C': 0.08858667904100823, 'class_weight': 'balanced', 'dual': False, \n",
    "                'penalty': 'l1', 'solver': 'liblinear', 'tol': 0.0001})\n",
    "boosting_clf = AdaBoostClassifier(base_estimator = lra, random_state = 0)\n",
    "boost_lra_cv = tp.gridsearch(adaboost_param_grid, boosting_clf, scoring)\n",
    "metrics = report(boost_lra_cv)\n",
    "print(\"AdaBoost with LRA:\", boost_lra_cv.best_params_)"
   ]
  },
  {
   "cell_type": "markdown",
   "metadata": {},
   "source": [
    "### Artifical Neural Network (ANN) - MLP\n",
    "#### Base Learner"
   ]
  },
  {
   "cell_type": "code",
   "execution_count": 50,
   "metadata": {},
   "outputs": [
    {
     "name": "stdout",
     "output_type": "stream",
     "text": [
      "Iteration 1, loss = 1.21861028\n",
      "Iteration 2, loss = 1.07606071\n",
      "Iteration 3, loss = 1.00350976\n",
      "Iteration 4, loss = 0.97521532\n",
      "Iteration 5, loss = 0.95249838\n",
      "Iteration 6, loss = 0.91793541\n",
      "Iteration 7, loss = 0.88016485\n",
      "Iteration 8, loss = 0.83073029\n",
      "Iteration 9, loss = 0.77557749\n",
      "Iteration 10, loss = 0.71908628\n",
      "Iteration 11, loss = 0.66799216\n",
      "Iteration 12, loss = 0.62201038\n",
      "Iteration 13, loss = 0.58632143\n",
      "Iteration 14, loss = 0.55981272\n",
      "Iteration 15, loss = 0.53745443\n",
      "Iteration 16, loss = 0.52311517\n",
      "Iteration 17, loss = 0.50560201\n",
      "Iteration 18, loss = 0.48954673\n",
      "Iteration 19, loss = 0.47698904\n",
      "Iteration 20, loss = 0.46274404\n",
      "Iteration 21, loss = 0.45258717\n",
      "Iteration 22, loss = 0.44080709\n",
      "Iteration 23, loss = 0.43095785\n",
      "Iteration 24, loss = 0.42181579\n",
      "Iteration 25, loss = 0.41466261\n",
      "Iteration 26, loss = 0.41027645\n",
      "Iteration 27, loss = 0.41073551\n",
      "Iteration 28, loss = 0.39724676\n",
      "Iteration 29, loss = 0.38811634\n",
      "Iteration 30, loss = 0.38449000\n",
      "Iteration 31, loss = 0.37711075\n",
      "Iteration 32, loss = 0.37788289\n",
      "Iteration 33, loss = 0.37162164\n",
      "Iteration 34, loss = 0.36598395\n",
      "Iteration 35, loss = 0.36229322\n",
      "Iteration 36, loss = 0.35921531\n",
      "Iteration 37, loss = 0.35742450\n",
      "Iteration 38, loss = 0.35467713\n",
      "Iteration 39, loss = 0.35010136\n",
      "Iteration 40, loss = 0.34675326\n",
      "Iteration 41, loss = 0.34209360\n",
      "Iteration 42, loss = 0.34341179\n",
      "Iteration 43, loss = 0.34941323\n",
      "Iteration 44, loss = 0.34001737\n",
      "Iteration 45, loss = 0.34118813\n",
      "Iteration 46, loss = 0.33715339\n",
      "Iteration 47, loss = 0.33165253\n",
      "Iteration 48, loss = 0.33325575\n",
      "Iteration 49, loss = 0.32949711\n",
      "Iteration 50, loss = 0.32655499\n",
      "Iteration 51, loss = 0.32525939\n",
      "Iteration 52, loss = 0.32994168\n",
      "Iteration 53, loss = 0.32587350\n",
      "Iteration 54, loss = 0.32284656\n",
      "Iteration 55, loss = 0.32726998\n",
      "Iteration 56, loss = 0.32426623\n",
      "Iteration 57, loss = 0.32214495\n",
      "Iteration 58, loss = 0.32865559\n",
      "Iteration 59, loss = 0.33014566\n",
      "Iteration 60, loss = 0.33020645\n",
      "Iteration 61, loss = 0.32108564\n",
      "Iteration 62, loss = 0.31586150\n",
      "Iteration 63, loss = 0.31656532\n",
      "Iteration 64, loss = 0.31611049\n",
      "Iteration 65, loss = 0.31355487\n",
      "Iteration 66, loss = 0.31635501\n",
      "Iteration 67, loss = 0.31141382\n",
      "Iteration 68, loss = 0.31095223\n",
      "Iteration 69, loss = 0.30721892\n",
      "Iteration 70, loss = 0.30661200\n",
      "Iteration 71, loss = 0.30637201\n",
      "Iteration 72, loss = 0.31138141\n",
      "Iteration 73, loss = 0.30724916\n",
      "Iteration 74, loss = 0.30577875\n",
      "Iteration 75, loss = 0.31293206\n",
      "Iteration 76, loss = 0.30389798\n",
      "Iteration 77, loss = 0.31242247\n",
      "Iteration 78, loss = 0.31011184\n",
      "Iteration 79, loss = 0.30532334\n",
      "Iteration 80, loss = 0.30288590\n",
      "Iteration 81, loss = 0.30934415\n",
      "Iteration 82, loss = 0.29766239\n",
      "Iteration 83, loss = 0.29773680\n",
      "Iteration 84, loss = 0.30201115\n",
      "Iteration 85, loss = 0.29774750\n",
      "Iteration 86, loss = 0.29725022\n",
      "Iteration 87, loss = 0.29638804\n",
      "Iteration 88, loss = 0.29843640\n",
      "Iteration 89, loss = 0.29591040\n",
      "Iteration 90, loss = 0.29945904\n",
      "Iteration 91, loss = 0.29784214\n",
      "Iteration 92, loss = 0.29586426\n",
      "Iteration 93, loss = 0.29565857\n",
      "Iteration 94, loss = 0.29308938\n",
      "Iteration 95, loss = 0.29471207\n",
      "Iteration 96, loss = 0.29441438\n",
      "Iteration 97, loss = 0.29557802\n",
      "Iteration 98, loss = 0.29299926\n",
      "Iteration 99, loss = 0.29706334\n",
      "Iteration 100, loss = 0.29305738\n",
      "Iteration 101, loss = 0.29724787\n",
      "Iteration 102, loss = 0.29288284\n",
      "Iteration 103, loss = 0.30136177\n",
      "Iteration 104, loss = 0.29403076\n",
      "Iteration 105, loss = 0.28993145\n",
      "Iteration 106, loss = 0.29201640\n",
      "Iteration 107, loss = 0.28983901\n",
      "Iteration 108, loss = 0.29509281\n",
      "Iteration 109, loss = 0.29441110\n",
      "Iteration 110, loss = 0.29502142\n",
      "Iteration 111, loss = 0.29179622\n",
      "Iteration 112, loss = 0.29249530\n",
      "Iteration 113, loss = 0.30840763\n",
      "Iteration 114, loss = 0.29691085\n",
      "Iteration 115, loss = 0.29505550\n",
      "Iteration 116, loss = 0.29341229\n",
      "Training loss did not improve more than tol=0.000100 for 10 consecutive epochs. Stopping.\n"
     ]
    },
    {
     "data": {
      "text/plain": [
       "CustomMLPClassifier(alpha=0.05, hidden_layer_sizes=(50, 50, 50),\n",
       "                    learning_rate='adaptive', verbose=True)"
      ]
     },
     "execution_count": 50,
     "metadata": {},
     "output_type": "execute_result"
    }
   ],
   "source": [
    "mlp = CustomMLPClassifier(verbose=True)\n",
    "mlp.set_params(**{'activation': 'relu', 'alpha': 0.05, 'hidden_layer_sizes': (50, 50, 50), \n",
    "                  'learning_rate': 'adaptive', 'solver': 'adam'})\n",
    "mlp.fit(X_train, y_train)"
   ]
  },
  {
   "cell_type": "code",
   "execution_count": 51,
   "metadata": {},
   "outputs": [
    {
     "name": "stdout",
     "output_type": "stream",
     "text": [
      "========Model Evaluation Report========\n",
      "Train Score:  0.8735549132947977\n",
      "Test Score:  0.9046242774566474\n",
      "=======================================\n",
      "Train BCA: 0.864 | Train AUC: 0.972\n",
      "Test BCA: 0.895 | Test AUC: 0.973\n",
      "=======================================\n"
     ]
    },
    {
     "data": {
      "image/png": "[encoded data removed]",
      "text/plain": [
       "<Figure size 576x576 with 1 Axes>"
      ]
     },
     "metadata": {},
     "output_type": "display_data"
    },
    {
     "data": {
      "text/plain": [
       "[0.8735549132947977,\n",
       " 0.9046242774566474,\n",
       " 0.863965893740876,\n",
       " 0.8949826455141835,\n",
       " 0.9721783258837281,\n",
       " 0.9731615998490688]"
      ]
     },
     "execution_count": 51,
     "metadata": {},
     "output_type": "execute_result"
    }
   ],
   "source": [
    "report(mlp)"
   ]
  },
  {
   "cell_type": "markdown",
   "metadata": {},
   "source": [
    "#### Grid Search AdaBoost - MLP"
   ]
  },
  {
   "cell_type": "code",
   "execution_count": null,
   "metadata": {},
   "outputs": [],
   "source": [
    "adaboost_param_grid = {'n_estimators'  : [300, 400],\n",
    "                       'learning_rate' : [ 0.01, 0.0001]}\n",
    "\n",
    "mlp = CustomMLPClassifier()\n",
    "mlp.set_params(**{'activation': 'relu', 'alpha': 0.05, 'hidden_layer_sizes': (50, 50, 50), \n",
    "                  'learning_rate': 'adaptive', 'solver': 'adam'})\n",
    "boosting_clf = AdaBoostClassifier(base_estimator = mlp, random_state = 0, n_estimators = 300, learning_rate = 0.01)\n",
    "#boost_mlp_cv = tp.gridsearch(adaboost_param_grid, boosting_clf, scoring,n_jobs=16)\n",
    "boosting_clf.fit(X_train, y_train)\n",
    "metrics = report(boosting_clf)\n",
    "#print(\"AdaBoost with MLP:\", boost_mlp_cv.best_params_)"
   ]
  },
  {
   "cell_type": "markdown",
   "metadata": {},
   "source": [
    "### SVM\n",
    "#### Base Learner"
   ]
  },
  {
   "cell_type": "code",
   "execution_count": 10,
   "metadata": {},
   "outputs": [
    {
     "name": "stdout",
     "output_type": "stream",
     "text": [
      "[LibSVM]========Model Evaluation Report========\n",
      "Train Score:  0.8764450867052023\n",
      "Test Score:  0.8988439306358381\n",
      "=======================================\n",
      "Train BCA: 0.897 | Train AUC: 0.960\n",
      "Test BCA: 0.916 | Test AUC: 0.970\n",
      "=======================================\n"
     ]
    },
    {
     "data": {
      "image/png": "[encoded data removed]",
      "text/plain": [
       "<Figure size 576x576 with 1 Axes>"
      ]
     },
     "metadata": {},
     "output_type": "display_data"
    },
    {
     "data": {
      "text/plain": [
       "[0.8764450867052023,\n",
       " 0.8988439306358381,\n",
       " 0.8971203062627584,\n",
       " 0.9164022606262153,\n",
       " 0.9601890434951211,\n",
       " 0.9700113119464792]"
      ]
     },
     "execution_count": 10,
     "metadata": {},
     "output_type": "execute_result"
    }
   ],
   "source": [
    "svm = SVC(verbose=True, probability=True)\n",
    "svm.set_params(**{'C': 1000, 'class_weight': 'balanced', 'gamma': 0.001, \n",
    "                  'kernel': 'linear', 'tol': 1})\n",
    "svm.fit(X_train, y_train)\n",
    "report(svm)"
   ]
  },
  {
   "cell_type": "markdown",
   "metadata": {},
   "source": [
    "#### Grid Search AdaBoost - SVM"
   ]
  },
  {
   "cell_type": "code",
   "execution_count": 11,
   "metadata": {},
   "outputs": [
    {
     "name": "stdout",
     "output_type": "stream",
     "text": [
      "performing grid search\n",
      "Fitting 5 folds for each of 60 candidates, totalling 300 fits\n"
     ]
    },
    {
     "name": "stderr",
     "output_type": "stream",
     "text": [
      "[Parallel(n_jobs=4)]: Using backend LokyBackend with 4 concurrent workers.\n",
      "[Parallel(n_jobs=4)]: Done  33 tasks      | elapsed:  2.1min\n",
      "[Parallel(n_jobs=4)]: Done 154 tasks      | elapsed: 30.0min\n",
      "[Parallel(n_jobs=4)]: Done 300 out of 300 | elapsed: 65.8min finished\n"
     ]
    },
    {
     "name": "stdout",
     "output_type": "stream",
     "text": [
      "[LibSVM][LibSVM][LibSVM][LibSVM][LibSVM][LibSVM][LibSVM][LibSVM][LibSVM][LibSVM][LibSVM][LibSVM][LibSVM][LibSVM][LibSVM][LibSVM][LibSVM][LibSVM][LibSVM][LibSVM][LibSVM][LibSVM][LibSVM][LibSVM][LibSVM][LibSVM][LibSVM][LibSVM][LibSVM][LibSVM][LibSVM][LibSVM][LibSVM][LibSVM][LibSVM][LibSVM][LibSVM][LibSVM][LibSVM][LibSVM][LibSVM][LibSVM][LibSVM][LibSVM][LibSVM][LibSVM][LibSVM][LibSVM][LibSVM][LibSVM][LibSVM][LibSVM][LibSVM][LibSVM][LibSVM][LibSVM][LibSVM][LibSVM][LibSVM][LibSVM][LibSVM][LibSVM][LibSVM][LibSVM][LibSVM][LibSVM][LibSVM][LibSVM][LibSVM][LibSVM][LibSVM][LibSVM][LibSVM][LibSVM][LibSVM][LibSVM][LibSVM][LibSVM][LibSVM][LibSVM][LibSVM][LibSVM][LibSVM][LibSVM][LibSVM][LibSVM][LibSVM][LibSVM][LibSVM][LibSVM][LibSVM][LibSVM][LibSVM][LibSVM][LibSVM][LibSVM][LibSVM][LibSVM][LibSVM][LibSVM][LibSVM][LibSVM][LibSVM][LibSVM][LibSVM][LibSVM][LibSVM][LibSVM][LibSVM][LibSVM][LibSVM][LibSVM][LibSVM][LibSVM][LibSVM][LibSVM][LibSVM][LibSVM][LibSVM][LibSVM][LibSVM][LibSVM][LibSVM][LibSVM][LibSVM][LibSVM][LibSVM][LibSVM][LibSVM][LibSVM][LibSVM][LibSVM][LibSVM][LibSVM][LibSVM][LibSVM][LibSVM][LibSVM][LibSVM][LibSVM][LibSVM][LibSVM][LibSVM][LibSVM][LibSVM][LibSVM][LibSVM][LibSVM][LibSVM][LibSVM][LibSVM][LibSVM][LibSVM][LibSVM][LibSVM][LibSVM][LibSVM][LibSVM][LibSVM][LibSVM][LibSVM][LibSVM][LibSVM][LibSVM][LibSVM][LibSVM][LibSVM][LibSVM][LibSVM][LibSVM][LibSVM][LibSVM][LibSVM][LibSVM][LibSVM][LibSVM][LibSVM][LibSVM][LibSVM][LibSVM][LibSVM][LibSVM][LibSVM][LibSVM][LibSVM][LibSVM][LibSVM][LibSVM][LibSVM][LibSVM][LibSVM][LibSVM][LibSVM][LibSVM][LibSVM][LibSVM][LibSVM][LibSVM][LibSVM][LibSVM][LibSVM][LibSVM][LibSVM][LibSVM][LibSVM][LibSVM][LibSVM][LibSVM][LibSVM][LibSVM][LibSVM][LibSVM][LibSVM][LibSVM][LibSVM][LibSVM][LibSVM][LibSVM][LibSVM][LibSVM][LibSVM][LibSVM][LibSVM][LibSVM][LibSVM][LibSVM][LibSVM][LibSVM][LibSVM][LibSVM][LibSVM][LibSVM][LibSVM][LibSVM][LibSVM][LibSVM][LibSVM][LibSVM][LibSVM][LibSVM][LibSVM][LibSVM][LibSVM][LibSVM][LibSVM][LibSVM][LibSVM][LibSVM][LibSVM][LibSVM][LibSVM][LibSVM][LibSVM][LibSVM][LibSVM][LibSVM][LibSVM][LibSVM][LibSVM][LibSVM][LibSVM][LibSVM][LibSVM][LibSVM][LibSVM][LibSVM][LibSVM][LibSVM][LibSVM][LibSVM][LibSVM][LibSVM][LibSVM][LibSVM][LibSVM][LibSVM][LibSVM][LibSVM][LibSVM][LibSVM][LibSVM][LibSVM][LibSVM][LibSVM][LibSVM][LibSVM][LibSVM][LibSVM][LibSVM][LibSVM][LibSVM][LibSVM][LibSVM][LibSVM][LibSVM][LibSVM][LibSVM][LibSVM][LibSVM][LibSVM]========Model Evaluation Report========\n",
      "Train Score:  0.8800260620157857\n",
      "Test Score:  0.9057748338754718\n",
      "=======================================\n",
      "Train BCA: 0.880 | Train AUC: 0.953\n",
      "Test BCA: 0.906 | Test AUC: 0.954\n",
      "=======================================\n"
     ]
    },
    {
     "data": {
      "image/png": "[encoded data removed]",
      "text/plain": [
       "<Figure size 576x576 with 1 Axes>"
      ]
     },
     "metadata": {},
     "output_type": "display_data"
    },
    {
     "name": "stdout",
     "output_type": "stream",
     "text": [
      "AdaBoost with SVM: {'learning_rate': 0.01, 'n_estimators': 300}\n"
     ]
    }
   ],
   "source": [
    "adaboost_param_grid = {'n_estimators'  : [50, 100, 150, 200, 250, 300, 350, 400, 450, 500],\n",
    "                       'learning_rate' : [0.1, 0.01, 0.001, 0.0001, 0.00001, 1]}\n",
    "\n",
    "svm = SVC(verbose=True, probability=True)\n",
    "svm.set_params(**{'C': 1000, 'class_weight': 'balanced', 'gamma': 0.001, \n",
    "                  'kernel': 'linear', 'tol': 1})\n",
    "boosting_clf = AdaBoostClassifier(base_estimator = svm, random_state = 0, algorithm = 'SAMME')\n",
    "boost_svm_cv = tp.gridsearch(adaboost_param_grid, boosting_clf, scoring)\n",
    "metrics = report(boost_svm_cv)\n",
    "print(\"AdaBoost with SVM:\", boost_svm_cv.best_params_)"
   ]
  },
  {
   "cell_type": "markdown",
   "metadata": {},
   "source": [
    "### Results of Grid Search for AdaBoost and the different Base Learners:\n",
    "* AdaBoost with SVM: {'learning_rate': 0.01, 'n_estimators': 300}\n",
    "* AdaBoost with DT: {'learning_rate': 0.0001, 'n_estimators': 400}\n",
    "* AdaBoost with LRA: {'learning_rate': 0.1, 'n_estimators': 50}\n",
    "* MLP missing\n",
    "\n",
    "### Comparison of Base Learners and Ensemble Methods\n",
    "\n",
    "#### Decision Tree\n",
    "* **Base Learner:** \n",
    "    - BCA: 0.688 (Train), 0.698 (Test)\n",
    "    - mAUC: 0.768 (Train), 0.775 (Test)\n",
    "    - Accuracy: 0.5447976878612717 (Train), 0.569364161849711 (Test)\n",
    "* **AdaBoost:** \n",
    "    - BCA: 0.868 (Train), 0.897 (Test)\n",
    "    - mAUC: 0.944 (Train), 0.955 (Test)\n",
    "    - Accuracy: 0.868168829162805 (Train), 0.8967753366406804 (Test)\n",
    "    \n",
    "#### LRA\n",
    "* **Base Learner:** \n",
    "    - BCA: 0.688 (Train), 0.698 (Test)\n",
    "    - mAUC: 0.768 (Train), 0.775 (Test)\n",
    "    - Accuracy: 0.5447976878612717 (Train), 0.569364161849711 (Test)\n",
    "* **AdaBoost:** \n",
    "    - BCA: 0.868 (Train), 0.897 (Test)\n",
    "    - mAUC: 0.944 (Train), 0.955 (Test)\n",
    "    - Accuracy: 0.868168829162805 (Train), 0.8967753366406804 (Test)\n",
    "\n",
    "#### MLP\n",
    "* Base Learner:\n",
    "* AdaBoost: \n",
    "\n",
    "#### SVM\n",
    "* Base Learner:\n",
    "* AdaBoost: \n"
   ]
  },
  {
   "cell_type": "code",
   "execution_count": 31,
   "metadata": {},
   "outputs": [
    {
     "name": "stdout",
     "output_type": "stream",
     "text": [
      "Decision Tree\n",
      "========Model Evaluation Report========\n",
      "Train Score:  0.8562138728323699\n",
      "Test Score:  0.884393063583815\n",
      "=======================================\n",
      "Train BCA: 0.885 | Train AUC: 0.967\n",
      "Test BCA: 0.906 | Test AUC: 0.970\n",
      "=======================================\n"
     ]
    },
    {
     "data": {
      "image/png": "[encoded data removed]",
      "text/plain": [
       "<Figure size 576x576 with 1 Axes>"
      ]
     },
     "metadata": {},
     "output_type": "display_data"
    },
    {
     "name": "stdout",
     "output_type": "stream",
     "text": [
      "SVC\n",
      "========Model Evaluation Report========\n",
      "Train Score:  0.8547687861271677\n",
      "Test Score:  0.8815028901734104\n",
      "=======================================\n",
      "Train BCA: 0.859 | Train AUC: 0.953\n",
      "Test BCA: 0.874 | Test AUC: 0.966\n",
      "=======================================\n"
     ]
    },
    {
     "data": {
      "image/png": "[encoded data removed]",
      "text/plain": [
       "<Figure size 576x576 with 1 Axes>"
      ]
     },
     "metadata": {},
     "output_type": "display_data"
    },
    {
     "name": "stdout",
     "output_type": "stream",
     "text": [
      "MLP\n",
      "========Model Evaluation Report========\n",
      "Train Score:  0.8937861271676301\n",
      "Test Score:  0.9132947976878613\n",
      "=======================================\n",
      "Train BCA: 0.896 | Train AUC: 0.978\n",
      "Test BCA: 0.917 | Test AUC: 0.974\n",
      "=======================================\n"
     ]
    },
    {
     "data": {
      "image/png": "[encoded data removed]",
      "text/plain": [
       "<Figure size 576x576 with 1 Axes>"
      ]
     },
     "metadata": {},
     "output_type": "display_data"
    },
    {
     "name": "stdout",
     "output_type": "stream",
     "text": [
      "LRA\n",
      "========Model Evaluation Report========\n",
      "Train Score:  0.19653179190751446\n",
      "Test Score:  0.19653179190751446\n",
      "=======================================\n",
      "Train BCA: 0.333 | Train AUC: 0.500\n",
      "Test BCA: 0.333 | Test AUC: 0.500\n",
      "=======================================\n"
     ]
    },
    {
     "data": {
      "image/png": "[encoded data removed]",
      "text/plain": [
       "<Figure size 576x576 with 1 Axes>"
      ]
     },
     "metadata": {},
     "output_type": "display_data"
    }
   ],
   "source": [
    "# custom modules\n",
    "from tadpole import Tadpole\n",
    "from classifier import Classifier\n",
    "from main import run, get_params\n",
    "\n",
    "# parameters\n",
    "params_dtc = get_params('dtc')\n",
    "params_svc = get_params('svc')\n",
    "params_lra = get_params('lra')\n",
    "params_ann = get_params('ann')\n",
    "\n",
    "params_boost_dtc = {'learning_rate': 0.0001, 'n_estimators': 400}\n",
    "params_boost_svc = {'learning_rate': 0.01, 'n_estimators': 300}\n",
    "params_boost_lra = {'learning_rate': 0.1, 'n_estimators': 50}\n",
    "params_boost_ann = {'learning_rate': 0.0001, 'n_estimators': 300}\n",
    "\n",
    "# Decision Tree\n",
    "print(\"Decision Tree\")\n",
    "dtc = DecisionTreeClassifier()\n",
    "dtc.set_params(**params_dtc)\n",
    "\n",
    "boost_clf = AdaBoostClassifier(base_estimator = dtc,                             \n",
    "                            random_state = 0,\n",
    "                            **params_boost_dtc)\n",
    "boost_clf.fit(X_train, y_train)\n",
    "metrics_boost_dtc = report(boost_clf)\n",
    "\n",
    "# SVC\n",
    "print(\"SVC\")\n",
    "svc = SVC(probability=True)\n",
    "svc.set_params(**params_svc)\n",
    "\n",
    "boost_clf = AdaBoostClassifier(base_estimator = svc,                             \n",
    "                            random_state = 0,\n",
    "                            **params_boost_svc)\n",
    "boost_clf.fit(X_train, y_train)\n",
    "metrics_boost_svc = report(boost_clf)\n",
    "\n",
    "# MLP\n",
    "print(\"MLP\")\n",
    "ann = CustomMLPClassifier()\n",
    "ann.set_params(**params_ann)\n",
    "\n",
    "boost_clf = AdaBoostClassifier(base_estimator = ann,                              \n",
    "                            random_state = 0,\n",
    "                            **params_boost_ann)\n",
    "boost_clf.fit(X_train, y_train)\n",
    "metrics_boost_mlp = report(boost_clf)\n",
    "\n",
    "# LRA\n",
    "print(\"LRA\")\n",
    "lra = LogisticRegression()\n",
    "lra.set_params(**params_lra)\n",
    "\n",
    "boost_clf = AdaBoostClassifier(base_estimator = lra,                             \n",
    "                            random_state = 0,\n",
    "                            **params_boost_lra)\n",
    "boost_clf.fit(X_train, y_train)\n",
    "metrics_boost_lra = report(boost_clf)"
   ]
  },
  {
   "cell_type": "code",
   "execution_count": 27,
   "metadata": {},
   "outputs": [],
   "source": [
    "# add stacking results\n",
    "metrics = []\n",
    "metrics.append(['DTC'] + metrics_boost_dtc)\n",
    "metrics.append(['SVC'] + metrics_boost_svc)\n",
    "metrics.append(['LRA'] + metrics_boost_lra)\n",
    "metrics.append(['MLP'] + metrics_boost_mlp)\n",
    "# create results dataframe\n",
    "results_df = pd.DataFrame(metrics, columns=['classifier', 'score_train', 'score_test', 'BCA_train', 'BCA_test', 'mAUC_train', 'mAUC_test'])"
   ]
  },
  {
   "cell_type": "code",
   "execution_count": 28,
   "metadata": {},
   "outputs": [
    {
     "data": {
      "image/png": "[encoded data removed]",
      "text/plain": [
       "<Figure size 576x360 with 1 Axes>"
      ]
     },
     "metadata": {},
     "output_type": "display_data"
    }
   ],
   "source": [
    "results_df.plot(x='classifier', y=['score_train', 'score_test'], kind='bar', \n",
    "                title='Model Score', grid=True).legend(bbox_to_anchor=(1.2, 0.5));"
   ]
  },
  {
   "cell_type": "code",
   "execution_count": 29,
   "metadata": {},
   "outputs": [
    {
     "data": {
      "image/png": "[encoded data removed]",
      "text/plain": [
       "<Figure size 576x360 with 1 Axes>"
      ]
     },
     "metadata": {},
     "output_type": "display_data"
    }
   ],
   "source": [
    "results_df.plot(x='classifier', y=['BCA_train', 'BCA_test'], kind='bar', \n",
    "                title='Model BCA', grid=True).legend(bbox_to_anchor=(1.2, 0.5));"
   ]
  },
  {
   "cell_type": "code",
   "execution_count": 30,
   "metadata": {},
   "outputs": [
    {
     "data": {
      "image/png": "[encoded data removed]",
      "text/plain": [
       "<Figure size 576x360 with 1 Axes>"
      ]
     },
     "metadata": {},
     "output_type": "display_data"
    }
   ],
   "source": [
    "results_df.plot(x='classifier', y=['mAUC_train', 'mAUC_test'], kind='bar', \n",
    "                title='Model mAUC', grid=True).legend(bbox_to_anchor=(1.2, 0.5));"
   ]
  }
 ],
 "metadata": {
  "kernelspec": {
   "display_name": "Python 3",
   "language": "python",
   "name": "python3"
  },
  "language_info": {
   "codemirror_mode": {
    "name": "ipython",
    "version": 3
   },
   "file_extension": ".py",
   "mimetype": "text/x-python",
   "name": "python",
   "nbconvert_exporter": "python",
   "pygments_lexer": "ipython3",
   "version": "3.7.7"
  }
 },
 "nbformat": 4,
 "nbformat_minor": 4
}
