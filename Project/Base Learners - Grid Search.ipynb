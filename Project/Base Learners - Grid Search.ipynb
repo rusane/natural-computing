{
 "cells": [
  {
   "cell_type": "markdown",
   "metadata": {},
   "source": [
    "# Base Leaners - Grid Search\n",
    "\n",
    "Performing grid search on base learners to find best parameters for each base learner"
   ]
  },
  {
   "cell_type": "code",
   "execution_count": 1,
   "metadata": {},
   "outputs": [],
   "source": [
    "# import libraries\n",
    "import warnings\n",
    "import pandas as pd\n",
    "import numpy as np\n",
    "\n",
    "warnings.filterwarnings(action='ignore')\n",
    "\n",
    "# import custom class\n",
    "from tadpole import Tadpole\n",
    "\n",
    "# base learners\n",
    "from sklearn.tree import DecisionTreeClassifier\n",
    "from sklearn.svm import SVC\n",
    "from sklearn.neural_network import MLPClassifier\n",
    "from sklearn.linear_model import LogisticRegression\n",
    "\n",
    "# metrics\n",
    "from sklearn.metrics import balanced_accuracy_score, roc_auc_score\n",
    "from sklearn.metrics import confusion_matrix, make_scorer\n",
    "\n",
    "# import visualization library\n",
    "from matplotlib import pyplot as plt\n",
    "import seaborn as sns\n",
    "\n",
    "\n",
    "# set seed (for reproducibility)\n",
    "np.random.seed(43)\n",
    "\n",
    "%matplotlib inline\n",
    "sns.set(style='whitegrid', palette=\"deep\", font_scale=0.7, rc={\"figure.figsize\": [8, 5]})"
   ]
  },
  {
   "cell_type": "markdown",
   "metadata": {},
   "source": [
    "### Data Loading + Pre-processing"
   ]
  },
  {
   "cell_type": "code",
   "execution_count": 2,
   "metadata": {},
   "outputs": [
    {
     "name": "stdout",
     "output_type": "stream",
     "text": [
      "loading tadpole dataset\n",
      "pre-processing dataset\n",
      "Labels: {0: 'AD', 1: 'CN', 2: 'MCI'}\n"
     ]
    }
   ],
   "source": [
    "# load and pre-process tadpole dataset\n",
    "tp = Tadpole(debug=True)\n",
    "print(\"Labels:\", tp.label_dict)"
   ]
  },
  {
   "cell_type": "code",
   "execution_count": 3,
   "metadata": {},
   "outputs": [
    {
     "name": "stdout",
     "output_type": "stream",
     "text": [
      "splitting dataset to train and test datasets\n"
     ]
    }
   ],
   "source": [
    "# train-test split\n",
    "X_train, X_test, y_train, y_test = tp.split()"
   ]
  },
  {
   "cell_type": "code",
   "execution_count": 4,
   "metadata": {},
   "outputs": [],
   "source": [
    "# import variables from class instance (notebook compatibility)\n",
    "X, y, label_dict = tp.X, tp.y, tp.label_dict"
   ]
  },
  {
   "cell_type": "code",
   "execution_count": 5,
   "metadata": {},
   "outputs": [],
   "source": [
    "# define scoring parameter\n",
    "scoring = {'BA': make_scorer(balanced_accuracy_score)}"
   ]
  },
  {
   "cell_type": "markdown",
   "metadata": {},
   "source": [
    "Helper Functions"
   ]
  },
  {
   "cell_type": "code",
   "execution_count": 6,
   "metadata": {},
   "outputs": [],
   "source": [
    "def showConfusionMatrix(clf, X, y):\n",
    "    cm = confusion_matrix(y, clf.predict(X))\n",
    "    fig, ax = plt.subplots(figsize=(8, 8))\n",
    "    ax.imshow(cm, cmap='GnBu')\n",
    "    ax.grid(False)\n",
    "\n",
    "    # For 3 categories\n",
    "    ax.xaxis.set(ticks=(0, 1, 2), ticklabels=('Predicted ' + label_dict[0], 'Predicted ' + label_dict[1], \n",
    "                                              'Predicted ' + label_dict[2]))\n",
    "    ax.yaxis.set(ticks=(0, 1, 2), ticklabels=('Actual ' + label_dict[0], 'Actual ' + label_dict[1], \n",
    "                                              'Actual ' + label_dict[2]))\n",
    "\n",
    "    for i in range(3):\n",
    "        for j in range(3):\n",
    "            ax.text(j, i, cm[i, j], ha='center', va='center', color='black')\n",
    "    plt.title('Test Data Confusion Matrix')\n",
    "    plt.show()\n",
    "    \n",
    "def computeMetrics(model, X, y):\n",
    "    \"\"\"\n",
    "    @description:\n",
    "        function to compute performance metrics\n",
    "    @arguments:\n",
    "        model (sklearn) - trained model\n",
    "        X (np.array) - features\n",
    "        y (np.array) - target\n",
    "    \"\"\"\n",
    "    y_pred = model.predict(X)\n",
    "    y_prob = model.predict_proba(X)\n",
    "    BCA = balanced_accuracy_score(y, y_pred)\n",
    "    mAUC = roc_auc_score(y, y_prob, multi_class=\"ovr\", average=\"macro\")\n",
    "    return BCA, mAUC\n",
    "\n",
    "def report(model):\n",
    "    \"\"\"\n",
    "    @description:\n",
    "        function to report trained model performance\n",
    "    @arguments:\n",
    "        model (sklearn) - trained model\n",
    "    \"\"\"\n",
    "    score_train = model.score(X_train, y_train)\n",
    "    score_test = model.score(X_test, y_test)\n",
    "    BCA_train, mAUC_train = computeMetrics(model, X_train, y_train)\n",
    "    BCA_test, mAUC_test = computeMetrics(model, X_test, y_test)\n",
    "    print(\"========Model Evaluation Report========\")\n",
    "    print(\"Train Score: \", score_train)\n",
    "    print(\"Test Score: \", score_test)\n",
    "    print(\"=======================================\")\n",
    "    print(\"Train BCA: {:.3f} | Train AUC: {:.3f}\".format(BCA_train, mAUC_train))\n",
    "    print(\"Test BCA: {:.3f} | Test AUC: {:.3f}\".format(BCA_test, mAUC_test))\n",
    "    print(\"=======================================\")\n",
    "    showConfusionMatrix(model, X_test, y_test)\n",
    "    return [score_train, score_test, BCA_train, BCA_test, mAUC_train, mAUC_test]\n",
    "\n",
    "def evaluate(baselearners):\n",
    "    \"\"\"\n",
    "    @description:\n",
    "        function to evaluate base learners\n",
    "    @arguments:\n",
    "        baselearners (sklearn) - list of trained models\n",
    "    \"\"\"\n",
    "    metrics = []\n",
    "    for name, model in baselearners.items():\n",
    "        print(name)\n",
    "        results = report(model)\n",
    "        metrics.append([name] + results)\n",
    "    return metrics"
   ]
  },
  {
   "cell_type": "markdown",
   "metadata": {},
   "source": [
    "### Grid Search: Model Training"
   ]
  },
  {
   "cell_type": "code",
   "execution_count": 7,
   "metadata": {},
   "outputs": [],
   "source": [
    "# define search grids\n",
    "lra_param_grid = {'penalty'            : ['l1', 'l2'],\n",
    "                  'dual'               : [True, False],\n",
    "                  'tol'                : [1e-4, 1e-3, 1e-2, 0.1, 1],\n",
    "                  'C'                  : np.logspace(-4, 4, 20),\n",
    "                  'class_weight'       : [None, 'balanced'],\n",
    "                  'solver'             : ['newton-cg', 'lbfgs', 'liblinear', 'sag', 'saga']}\n",
    "\n",
    "dtc_param_grid = {'criterion'          : ['gini', 'entropy'], \n",
    "                  'splitter'           : ['best', 'random'], \n",
    "                  'max_depth'          : [6, 7, 8, 9, 10, None], \n",
    "                  'min_samples_split'  : np.linspace(0.1, 2.0, 20, endpoint=True), \n",
    "                  'min_samples_leaf'   : np.linspace(0.1, 1, 10, endpoint=True), \n",
    "                  'max_features'       : ['auto', 'sqrt', 'log2'], \n",
    "                  'class_weight'       : [None, 'balanced']}\n",
    "\n",
    "mlp_param_grid = {'hidden_layer_sizes' : [(50,50,50), (50,100,50), (100,)],\n",
    "                  'activation'         : ['tanh', 'relu'],\n",
    "                  'solver'             : ['sgd', 'adam'],\n",
    "                  'alpha'              : [0.0001, 0.05], \n",
    "                  'learning_rate'      : ['constant','adaptive']}\n",
    "\n",
    "svm_param_grid = {'kernel'             : ['rbf', 'linear'], \n",
    "                  'gamma'              : [1e-3, 1e-4], \n",
    "                  'tol'                : [1e-3, 1e-2, 0.1, 1],\n",
    "                  'class_weight'       : [None, 'balanced'],\n",
    "                  'C'                  : [1, 10, 100, 1000]}"
   ]
  },
  {
   "cell_type": "markdown",
   "metadata": {},
   "source": [
    "#### Logistic Regression (LRA)"
   ]
  },
  {
   "cell_type": "code",
   "execution_count": 8,
   "metadata": {},
   "outputs": [
    {
     "name": "stdout",
     "output_type": "stream",
     "text": [
      "performing grid search\n",
      "Fitting 5 folds for each of 4000 candidates, totalling 20000 fits\n"
     ]
    },
    {
     "name": "stderr",
     "output_type": "stream",
     "text": [
      "[Parallel(n_jobs=4)]: Using backend LokyBackend with 4 concurrent workers.\n",
      "[Parallel(n_jobs=4)]: Done 229 tasks      | elapsed:    0.9s\n",
      "[Parallel(n_jobs=4)]: Done 15526 tasks      | elapsed:   25.9s\n"
     ]
    },
    {
     "name": "stdout",
     "output_type": "stream",
     "text": [
      "[LibLinear]"
     ]
    },
    {
     "name": "stderr",
     "output_type": "stream",
     "text": [
      "[Parallel(n_jobs=4)]: Done 20000 out of 20000 | elapsed:   49.9s finished\n"
     ]
    }
   ],
   "source": [
    "# define and train\n",
    "lra = LogisticRegression(verbose=2, multi_class='auto')\n",
    "lra_cv = tp.gridsearch(lra_param_grid, lra, scoring)"
   ]
  },
  {
   "cell_type": "markdown",
   "metadata": {},
   "source": [
    "#### Decision Trees (DT)"
   ]
  },
  {
   "cell_type": "code",
   "execution_count": 9,
   "metadata": {},
   "outputs": [
    {
     "name": "stderr",
     "output_type": "stream",
     "text": [
      "[Parallel(n_jobs=4)]: Using backend LokyBackend with 4 concurrent workers.\n"
     ]
    },
    {
     "name": "stdout",
     "output_type": "stream",
     "text": [
      "performing grid search\n",
      "Fitting 5 folds for each of 28800 candidates, totalling 144000 fits\n"
     ]
    },
    {
     "name": "stderr",
     "output_type": "stream",
     "text": [
      "[Parallel(n_jobs=4)]: Done 2322 tasks      | elapsed:    1.4s\n",
      "[Parallel(n_jobs=4)]: Done 24828 tasks      | elapsed:   10.3s\n",
      "[Parallel(n_jobs=4)]: Done 62586 tasks      | elapsed:   27.2s\n",
      "[Parallel(n_jobs=4)]: Done 115224 tasks      | elapsed:   55.5s\n",
      "[Parallel(n_jobs=4)]: Done 144000 out of 144000 | elapsed:  1.2min finished\n"
     ]
    }
   ],
   "source": [
    "# define and train\n",
    "dtc = DecisionTreeClassifier()\n",
    "dtc_cv = tp.gridsearch(dtc_param_grid, dtc, scoring)"
   ]
  },
  {
   "cell_type": "markdown",
   "metadata": {},
   "source": [
    "#### Multi-layer Perceptron (ANN)"
   ]
  },
  {
   "cell_type": "code",
   "execution_count": 10,
   "metadata": {
    "scrolled": true
   },
   "outputs": [
    {
     "name": "stdout",
     "output_type": "stream",
     "text": [
      "performing grid search\n",
      "Fitting 5 folds for each of 48 candidates, totalling 240 fits\n"
     ]
    },
    {
     "name": "stderr",
     "output_type": "stream",
     "text": [
      "[Parallel(n_jobs=4)]: Using backend LokyBackend with 4 concurrent workers.\n",
      "[Parallel(n_jobs=4)]: Done  33 tasks      | elapsed:   17.4s\n",
      "[Parallel(n_jobs=4)]: Done 154 tasks      | elapsed:  1.3min\n",
      "[Parallel(n_jobs=4)]: Done 240 out of 240 | elapsed:  2.1min finished\n"
     ]
    },
    {
     "name": "stdout",
     "output_type": "stream",
     "text": [
      "Iteration 1, loss = 1.02027167\n",
      "Iteration 2, loss = 0.92281224\n",
      "Iteration 3, loss = 0.83740943\n",
      "Iteration 4, loss = 0.76219932\n",
      "Iteration 5, loss = 0.69536587\n",
      "Iteration 6, loss = 0.63860151\n",
      "Iteration 7, loss = 0.59488259\n",
      "Iteration 8, loss = 0.55977821\n",
      "Iteration 9, loss = 0.52860546\n",
      "Iteration 10, loss = 0.49971475\n",
      "Iteration 11, loss = 0.47828115\n",
      "Iteration 12, loss = 0.45924099\n",
      "Iteration 13, loss = 0.44251118\n",
      "Iteration 14, loss = 0.43024216\n",
      "Iteration 15, loss = 0.41949347\n",
      "Iteration 16, loss = 0.40234155\n",
      "Iteration 17, loss = 0.39737253\n",
      "Iteration 18, loss = 0.39060236\n",
      "Iteration 19, loss = 0.37976797\n",
      "Iteration 20, loss = 0.37484097\n",
      "Iteration 21, loss = 0.37029941\n",
      "Iteration 22, loss = 0.36852500\n",
      "Iteration 23, loss = 0.36145274\n",
      "Iteration 24, loss = 0.35779642\n",
      "Iteration 25, loss = 0.35631244\n",
      "Iteration 26, loss = 0.34937242\n",
      "Iteration 27, loss = 0.35005582\n",
      "Iteration 28, loss = 0.34638856\n",
      "Iteration 29, loss = 0.34555120\n",
      "Iteration 30, loss = 0.34046152\n",
      "Iteration 31, loss = 0.33992540\n",
      "Iteration 32, loss = 0.33942682\n",
      "Iteration 33, loss = 0.33645227\n",
      "Iteration 34, loss = 0.33641199\n",
      "Iteration 35, loss = 0.33226987\n",
      "Iteration 36, loss = 0.32986029\n",
      "Iteration 37, loss = 0.32885209\n",
      "Iteration 38, loss = 0.32726376\n",
      "Iteration 39, loss = 0.33159706\n",
      "Iteration 40, loss = 0.32610673\n",
      "Iteration 41, loss = 0.33577896\n",
      "Iteration 42, loss = 0.32934320\n",
      "Iteration 43, loss = 0.33403960\n",
      "Iteration 44, loss = 0.33804836\n",
      "Iteration 45, loss = 0.32940042\n",
      "Iteration 46, loss = 0.32565874\n",
      "Iteration 47, loss = 0.32572692\n",
      "Iteration 48, loss = 0.32514596\n",
      "Iteration 49, loss = 0.32183918\n",
      "Iteration 50, loss = 0.32016392\n",
      "Iteration 51, loss = 0.32778382\n",
      "Iteration 52, loss = 0.32430636\n",
      "Iteration 53, loss = 0.32346873\n",
      "Iteration 54, loss = 0.32549751\n",
      "Iteration 55, loss = 0.32143758\n",
      "Iteration 56, loss = 0.32045611\n",
      "Iteration 57, loss = 0.32735826\n",
      "Iteration 58, loss = 0.32218042\n",
      "Iteration 59, loss = 0.32075281\n",
      "Iteration 60, loss = 0.33693331\n",
      "Iteration 61, loss = 0.32352079\n",
      "Training loss did not improve more than tol=0.000100 for 10 consecutive epochs. Stopping.\n"
     ]
    }
   ],
   "source": [
    "# define and train\n",
    "mlp = MLPClassifier(verbose=True)\n",
    "mlp_cv = tp.gridsearch(mlp_param_grid, mlp, scoring)"
   ]
  },
  {
   "cell_type": "markdown",
   "metadata": {},
   "source": [
    "#### SVM"
   ]
  },
  {
   "cell_type": "code",
   "execution_count": 11,
   "metadata": {},
   "outputs": [
    {
     "name": "stdout",
     "output_type": "stream",
     "text": [
      "performing grid search\n",
      "Fitting 5 folds for each of 128 candidates, totalling 640 fits\n"
     ]
    },
    {
     "name": "stderr",
     "output_type": "stream",
     "text": [
      "[Parallel(n_jobs=4)]: Using backend LokyBackend with 4 concurrent workers.\n",
      "[Parallel(n_jobs=4)]: Done  33 tasks      | elapsed:    1.3s\n",
      "[Parallel(n_jobs=4)]: Done 489 tasks      | elapsed:   18.6s\n",
      "[Parallel(n_jobs=4)]: Done 640 out of 640 | elapsed:  2.3min finished\n"
     ]
    },
    {
     "name": "stdout",
     "output_type": "stream",
     "text": [
      "[LibSVM]"
     ]
    }
   ],
   "source": [
    "# define and train\n",
    "svm = SVC(verbose=True, probability=True)\n",
    "svm_cv = tp.gridsearch(svm_param_grid, svm, scoring)"
   ]
  },
  {
   "cell_type": "markdown",
   "metadata": {},
   "source": [
    "### Grid Search: Evaluation"
   ]
  },
  {
   "cell_type": "code",
   "execution_count": 12,
   "metadata": {},
   "outputs": [],
   "source": [
    "# define dictionary of all baselearners\n",
    "baselearners = {'LRA': lra_cv.best_estimator_, 'DT': dtc_cv.best_estimator_, \n",
    "                'ANN': mlp_cv.best_estimator_, 'SVM': svm_cv.best_estimator_}"
   ]
  },
  {
   "cell_type": "code",
   "execution_count": 13,
   "metadata": {},
   "outputs": [
    {
     "name": "stdout",
     "output_type": "stream",
     "text": [
      "LRA\n",
      "========Model Evaluation Report========\n",
      "Train Score:  0.875\n",
      "Test Score:  0.9017341040462428\n",
      "=======================================\n",
      "Train BCA: 0.891 | Train AUC: 0.961\n",
      "Test BCA: 0.918 | Test AUC: 0.968\n",
      "=======================================\n"
     ]
    },
    {
     "data": {
      "image/png": "[encoded data removed]",
      "text/plain": [
       "<Figure size 576x576 with 1 Axes>"
      ]
     },
     "metadata": {
      "needs_background": "light"
     },
     "output_type": "display_data"
    },
    {
     "name": "stdout",
     "output_type": "stream",
     "text": [
      "DT\n",
      "========Model Evaluation Report========\n",
      "Train Score:  0.7586705202312138\n",
      "Test Score:  0.7803468208092486\n",
      "=======================================\n",
      "Train BCA: 0.819 | Train AUC: 0.895\n",
      "Test BCA: 0.821 | Test AUC: 0.909\n",
      "=======================================\n"
     ]
    },
    {
     "data": {
      "image/png": "[encoded data removed]",
      "text/plain": [
       "<Figure size 576x576 with 1 Axes>"
      ]
     },
     "metadata": {
      "needs_background": "light"
     },
     "output_type": "display_data"
    },
    {
     "name": "stdout",
     "output_type": "stream",
     "text": [
      "ANN\n",
      "========Model Evaluation Report========\n",
      "Train Score:  0.8807803468208093\n",
      "Test Score:  0.9161849710982659\n",
      "=======================================\n",
      "Train BCA: 0.883 | Train AUC: 0.967\n",
      "Test BCA: 0.920 | Test AUC: 0.970\n",
      "=======================================\n"
     ]
    },
    {
     "data": {
      "image/png": "[encoded data removed]",
      "text/plain": [
       "<Figure size 576x576 with 1 Axes>"
      ]
     },
     "metadata": {
      "needs_background": "light"
     },
     "output_type": "display_data"
    },
    {
     "name": "stdout",
     "output_type": "stream",
     "text": [
      "SVM\n",
      "========Model Evaluation Report========\n",
      "Train Score:  0.8764450867052023\n",
      "Test Score:  0.8988439306358381\n",
      "=======================================\n",
      "Train BCA: 0.897 | Train AUC: 0.960\n",
      "Test BCA: 0.916 | Test AUC: 0.970\n",
      "=======================================\n"
     ]
    },
    {
     "data": {
      "image/png": "[encoded data removed]",
      "text/plain": [
       "<Figure size 576x576 with 1 Axes>"
      ]
     },
     "metadata": {
      "needs_background": "light"
     },
     "output_type": "display_data"
    }
   ],
   "source": [
    "# evaluate\n",
    "metrics = evaluate(baselearners)"
   ]
  },
  {
   "cell_type": "code",
   "execution_count": 15,
   "metadata": {
    "scrolled": true
   },
   "outputs": [
    {
     "name": "stdout",
     "output_type": "stream",
     "text": [
      "LRA\n",
      "========Model Evaluation Report========\n",
      "Train Score:  0.875\n",
      "Test Score:  0.9017341040462428\n",
      "=======================================\n",
      "Train BCA: 0.891 | Train AUC: 0.961\n",
      "Test BCA: 0.918 | Test AUC: 0.968\n",
      "=======================================\n"
     ]
    },
    {
     "data": {
      "image/png": "[encoded data removed]",
      "text/plain": [
       "<Figure size 576x576 with 1 Axes>"
      ]
     },
     "metadata": {
      "needs_background": "light"
     },
     "output_type": "display_data"
    },
    {
     "name": "stdout",
     "output_type": "stream",
     "text": [
      "DT\n",
      "========Model Evaluation Report========\n",
      "Train Score:  0.7030346820809249\n",
      "Test Score:  0.7254335260115607\n",
      "=======================================\n",
      "Train BCA: 0.777 | Train AUC: 0.854\n",
      "Test BCA: 0.788 | Test AUC: 0.868\n",
      "=======================================\n"
     ]
    },
    {
     "data": {
      "image/png": "[encoded data removed]",
      "text/plain": [
       "<Figure size 576x576 with 1 Axes>"
      ]
     },
     "metadata": {
      "needs_background": "light"
     },
     "output_type": "display_data"
    },
    {
     "name": "stdout",
     "output_type": "stream",
     "text": [
      "ANN\n",
      "========Model Evaluation Report========\n",
      "Train Score:  0.884393063583815\n",
      "Test Score:  0.9046242774566474\n",
      "=======================================\n",
      "Train BCA: 0.890 | Train AUC: 0.975\n",
      "Test BCA: 0.909 | Test AUC: 0.975\n",
      "=======================================\n"
     ]
    },
    {
     "data": {
      "image/png": "[encoded data removed]",
      "text/plain": [
       "<Figure size 576x576 with 1 Axes>"
      ]
     },
     "metadata": {
      "needs_background": "light"
     },
     "output_type": "display_data"
    },
    {
     "name": "stdout",
     "output_type": "stream",
     "text": [
      "SVM\n",
      "========Model Evaluation Report========\n",
      "Train Score:  0.8764450867052023\n",
      "Test Score:  0.8988439306358381\n",
      "=======================================\n",
      "Train BCA: 0.897 | Train AUC: 0.960\n",
      "Test BCA: 0.916 | Test AUC: 0.970\n",
      "=======================================\n"
     ]
    },
    {
     "data": {
      "image/png": "[encoded data removed]",
      "text/plain": [
       "<Figure size 576x576 with 1 Axes>"
      ]
     },
     "metadata": {
      "needs_background": "light"
     },
     "output_type": "display_data"
    }
   ],
   "source": [
    "# evaluate\n",
    "metrics = evaluate(baselearners)"
   ]
  },
  {
   "cell_type": "code",
   "execution_count": 14,
   "metadata": {},
   "outputs": [
    {
     "name": "stdout",
     "output_type": "stream",
     "text": [
      "LRA: {'C': 0.08858667904100823, 'class_weight': 'balanced', 'dual': False, 'penalty': 'l1', 'solver': 'liblinear', 'tol': 0.0001}\n",
      "DT: {'class_weight': 'balanced', 'criterion': 'gini', 'max_depth': 8, 'max_features': 'log2', 'min_samples_leaf': 0.1, 'min_samples_split': 0.1, 'splitter': 'best'}\n",
      "MLP: {'activation': 'tanh', 'alpha': 0.05, 'hidden_layer_sizes': (50, 100, 50), 'learning_rate': 'adaptive', 'solver': 'adam'}\n",
      "SVM: {'C': 1000, 'class_weight': 'balanced', 'gamma': 0.001, 'kernel': 'linear', 'tol': 1}\n"
     ]
    }
   ],
   "source": [
    "# Best estimator parameter grid\n",
    "print(\"LRA:\", lra_cv.best_params_)\n",
    "print(\"DT:\", dtc_cv.best_params_)\n",
    "print(\"MLP:\", mlp_cv.best_params_)\n",
    "print(\"SVM:\", svm_cv.best_params_)"
   ]
  }
 ],
 "metadata": {
  "kernelspec": {
   "display_name": "Python 3",
   "language": "python",
   "name": "python3"
  },
  "language_info": {
   "codemirror_mode": {
    "name": "ipython",
    "version": 3
   },
   "file_extension": ".py",
   "mimetype": "text/x-python",
   "name": "python",
   "nbconvert_exporter": "python",
   "pygments_lexer": "ipython3",
   "version": "3.7.7"
  }
 },
 "nbformat": 4,
 "nbformat_minor": 2
}
