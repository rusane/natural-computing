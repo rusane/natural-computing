{
 "cells": [
  {
   "cell_type": "markdown",
   "metadata": {},
   "source": [
    "# Base Leaners - Grid Search\n",
    "\n",
    "Performing grid search on base learners to find best parameters for each base learner"
   ]
  },
  {
   "cell_type": "code",
   "execution_count": 1,
   "metadata": {},
   "outputs": [],
   "source": [
    "# import libraries\n",
    "import warnings\n",
    "import pandas as pd\n",
    "import numpy as np\n",
    "\n",
    "warnings.filterwarnings(action='ignore')\n",
    "\n",
    "# import custom class\n",
    "from tadpole import Tadpole\n",
    "\n",
    "# base learners\n",
    "from sklearn.tree import DecisionTreeClassifier\n",
    "from sklearn.svm import SVC\n",
    "from sklearn.neural_network import MLPClassifier\n",
    "from sklearn.linear_model import LogisticRegression\n",
    "\n",
    "# metrics\n",
    "from sklearn.metrics import balanced_accuracy_score, roc_auc_score\n",
    "from sklearn.metrics import confusion_matrix, make_scorer\n",
    "\n",
    "# import visualization library\n",
    "from matplotlib import pyplot as plt\n",
    "import seaborn as sns\n",
    "\n",
    "\n",
    "# set seed (for reproducibility)\n",
    "np.random.seed(43)\n",
    "\n",
    "%matplotlib inline\n",
    "sns.set(style='whitegrid', palette=\"deep\", font_scale=0.7, rc={\"figure.figsize\": [8, 5]})"
   ]
  },
  {
   "cell_type": "markdown",
   "metadata": {},
   "source": [
    "### Data Loading + Pre-processing"
   ]
  },
  {
   "cell_type": "code",
   "execution_count": 2,
   "metadata": {},
   "outputs": [],
   "source": [
    "# initialize class\n",
    "tp = Tadpole(debug=True)"
   ]
  },
  {
   "cell_type": "code",
   "execution_count": 3,
   "metadata": {},
   "outputs": [
    {
     "name": "stdout",
     "output_type": "stream",
     "text": [
      "loading tadpole dataset\n",
      "pre-processing dataset\n",
      "Labels: {0: 'AD', 1: 'CN', 2: 'MCI'}\n"
     ]
    }
   ],
   "source": [
    "# load and pre-process tadpole dataset\n",
    "tp.load()\n",
    "print(\"Labels:\", tp.label_dict)"
   ]
  },
  {
   "cell_type": "code",
   "execution_count": 4,
   "metadata": {},
   "outputs": [
    {
     "name": "stdout",
     "output_type": "stream",
     "text": [
      "splitting dataset to train and test datasets\n"
     ]
    }
   ],
   "source": [
    "# train-test split\n",
    "tp.split()"
   ]
  },
  {
   "cell_type": "code",
   "execution_count": 5,
   "metadata": {},
   "outputs": [],
   "source": [
    "# import variables from class instance (notebook compatibility)\n",
    "label_dict = tp.label_dict\n",
    "X, y, X_train, X_test, y_train, y_test = tp.X, tp.y, tp.X_train, tp.X_test, tp.y_train, tp.y_test"
   ]
  },
  {
   "cell_type": "code",
   "execution_count": 6,
   "metadata": {},
   "outputs": [],
   "source": [
    "# define scoring parameter\n",
    "scoring = {'BA': make_scorer(balanced_accuracy_score)}"
   ]
  },
  {
   "cell_type": "markdown",
   "metadata": {},
   "source": [
    "Helper Functions"
   ]
  },
  {
   "cell_type": "code",
   "execution_count": 7,
   "metadata": {},
   "outputs": [],
   "source": [
    "def showConfusionMatrix(clf, X, y):\n",
    "    cm = confusion_matrix(y, clf.predict(X))\n",
    "    fig, ax = plt.subplots(figsize=(8, 8))\n",
    "    ax.imshow(cm, cmap='GnBu')\n",
    "    ax.grid(False)\n",
    "\n",
    "    # For 3 categories\n",
    "    ax.xaxis.set(ticks=(0, 1, 2), ticklabels=('Predicted ' + label_dict[0], 'Predicted ' + label_dict[1], \n",
    "                                              'Predicted ' + label_dict[2]))\n",
    "    ax.yaxis.set(ticks=(0, 1, 2), ticklabels=('Actual ' + label_dict[0], 'Actual ' + label_dict[1], \n",
    "                                              'Actual ' + label_dict[2]))\n",
    "\n",
    "    for i in range(3):\n",
    "        for j in range(3):\n",
    "            ax.text(j, i, cm[i, j], ha='center', va='center', color='black')\n",
    "    plt.title('Test Data Confusion Matrix')\n",
    "    plt.show()\n",
    "    \n",
    "def computeMetrics(model, X, y):\n",
    "    \"\"\"\n",
    "    @description:\n",
    "        function to compute performance metrics\n",
    "    @arguments:\n",
    "        model (sklearn) - trained model\n",
    "        X (np.array) - features\n",
    "        y (np.array) - target\n",
    "    \"\"\"\n",
    "    y_pred = model.predict(X)\n",
    "    y_prob = model.predict_proba(X)\n",
    "    BCA = balanced_accuracy_score(y, y_pred)\n",
    "    mAUC = roc_auc_score(y, y_prob, multi_class=\"ovr\", average=\"macro\")\n",
    "    return BCA, mAUC\n",
    "\n",
    "def report(model):\n",
    "    \"\"\"\n",
    "    @description:\n",
    "        function to report trained model performance\n",
    "    @arguments:\n",
    "        model (sklearn) - trained model\n",
    "    \"\"\"\n",
    "    score_train = model.score(X_train, y_train)\n",
    "    score_test = model.score(X_test, y_test)\n",
    "    BCA_train, mAUC_train = computeMetrics(model, X_train, y_train)\n",
    "    BCA_test, mAUC_test = computeMetrics(model, X_test, y_test)\n",
    "    print(\"========Model Evaluation Report========\")\n",
    "    print(\"Train Score: \", score_train)\n",
    "    print(\"Test Score: \", score_test)\n",
    "    print(\"=======================================\")\n",
    "    print(\"Train BCA: {:.3f} | Train AUC: {:.3f}\".format(BCA_train, mAUC_train))\n",
    "    print(\"Test BCA: {:.3f} | Test AUC: {:.3f}\".format(BCA_test, mAUC_test))\n",
    "    print(\"=======================================\")\n",
    "    showConfusionMatrix(model, X_test, y_test)\n",
    "    return [score_train, score_test, BCA_train, BCA_test, mAUC_train, mAUC_test]\n",
    "\n",
    "def evaluate(baselearners):\n",
    "    \"\"\"\n",
    "    @description:\n",
    "        function to evaluate base learners\n",
    "    @arguments:\n",
    "        baselearners (sklearn) - list of trained models\n",
    "    \"\"\"\n",
    "    metrics = []\n",
    "    for name, model in baselearners.items():\n",
    "        print(name)\n",
    "        results = report(model)\n",
    "        metrics.append([name] + results)\n",
    "    return metrics"
   ]
  },
  {
   "cell_type": "markdown",
   "metadata": {},
   "source": [
    "### Grid Search: Model Training"
   ]
  },
  {
   "cell_type": "code",
   "execution_count": 8,
   "metadata": {},
   "outputs": [],
   "source": [
    "# define search grids\n",
    "lra_param_grid = {'penalty'            : ['l1', 'l2'],\n",
    "                  'dual'               : [True, False],\n",
    "                  'tol'                : [1e-4, 1e-3, 1e-2, 0.1, 1],\n",
    "                  'C'                  : np.logspace(-4, 4, 20),\n",
    "                  'class_weight'       : [None, 'balanced'],\n",
    "                  'solver'             : ['newton-cg', 'lbfgs', 'liblinear', 'sag', 'saga']}\n",
    "\n",
    "dtc_param_grid = {'criterion'          : ['gini', 'entropy'], \n",
    "                  'splitter'           : ['best', 'random'], \n",
    "                  'max_depth'          : [6, 7, 8, 9, 10], \n",
    "                  'min_samples_split'  : np.linspace(0.1, 2.0, 20, endpoint=True), \n",
    "                  'min_samples_leaf'   : np.linspace(0.1, 1, 10, endpoint=True), \n",
    "                  'max_features'       : ['auto', 'sqrt', 'log2'], \n",
    "                  'class_weight'       : [None, 'balanced']}\n",
    "\n",
    "mlp_param_grid = {'hidden_layer_sizes' : [(50,50,50), (50,100,50), (100,)],\n",
    "                  'activation'         : ['tanh', 'relu'],\n",
    "                  'solver'             : ['sgd', 'adam'],\n",
    "                  'alpha'              : [0.0001, 0.05], \n",
    "                  'learning_rate'      : ['constant','adaptive']}\n",
    "\n",
    "svm_param_grid = {'kernel'             : ['rbf', 'linear'], \n",
    "                  'gamma'              : [1e-3, 1e-4], \n",
    "                  'tol'                : [1e-3, 1e-2, 0.1, 1],\n",
    "                  'class_weight'       : [None, 'balanced'],\n",
    "                  'C'                  : [1, 10, 100, 1000]}"
   ]
  },
  {
   "cell_type": "markdown",
   "metadata": {},
   "source": [
    "#### Logistic Regression (LRA)"
   ]
  },
  {
   "cell_type": "code",
   "execution_count": 9,
   "metadata": {},
   "outputs": [
    {
     "name": "stdout",
     "output_type": "stream",
     "text": [
      "performing grid search\n",
      "Fitting 5 folds for each of 4000 candidates, totalling 20000 fits\n"
     ]
    },
    {
     "name": "stderr",
     "output_type": "stream",
     "text": [
      "[Parallel(n_jobs=4)]: Using backend LokyBackend with 4 concurrent workers.\n",
      "[Parallel(n_jobs=4)]: Done 286 tasks      | elapsed:    0.9s\n",
      "[Parallel(n_jobs=4)]: Done 17533 tasks      | elapsed:   27.5s\n"
     ]
    },
    {
     "name": "stdout",
     "output_type": "stream",
     "text": [
      "[LibLinear]"
     ]
    },
    {
     "name": "stderr",
     "output_type": "stream",
     "text": [
      "[Parallel(n_jobs=4)]: Done 20000 out of 20000 | elapsed:   36.3s finished\n"
     ]
    }
   ],
   "source": [
    "# define and train\n",
    "lra = LogisticRegression(verbose=2, multi_class='auto')\n",
    "lra_cv = tp.gridsearch(lra_param_grid, lra, scoring)"
   ]
  },
  {
   "cell_type": "markdown",
   "metadata": {},
   "source": [
    "#### Decision Trees (DT)"
   ]
  },
  {
   "cell_type": "code",
   "execution_count": 10,
   "metadata": {},
   "outputs": [
    {
     "name": "stderr",
     "output_type": "stream",
     "text": [
      "[Parallel(n_jobs=4)]: Using backend LokyBackend with 4 concurrent workers.\n"
     ]
    },
    {
     "name": "stdout",
     "output_type": "stream",
     "text": [
      "performing grid search\n",
      "Fitting 5 folds for each of 24000 candidates, totalling 120000 fits\n"
     ]
    },
    {
     "name": "stderr",
     "output_type": "stream",
     "text": [
      "[Parallel(n_jobs=4)]: Done 1990 tasks      | elapsed:    0.9s\n",
      "[Parallel(n_jobs=4)]: Done 15300 tasks      | elapsed:    4.7s\n",
      "[Parallel(n_jobs=4)]: Done 37630 tasks      | elapsed:   11.2s\n",
      "[Parallel(n_jobs=4)]: Done 68760 tasks      | elapsed:   20.6s\n",
      "[Parallel(n_jobs=4)]: Done 108910 tasks      | elapsed:   33.8s\n",
      "[Parallel(n_jobs=4)]: Done 120000 out of 120000 | elapsed:   37.4s finished\n"
     ]
    }
   ],
   "source": [
    "# define and train\n",
    "dtc = DecisionTreeClassifier()\n",
    "dtc_cv = tp.gridsearch(dtc_param_grid, dtc, scoring)"
   ]
  },
  {
   "cell_type": "markdown",
   "metadata": {},
   "source": [
    "#### Multi-layer Perceptron (ANN)"
   ]
  },
  {
   "cell_type": "code",
   "execution_count": 11,
   "metadata": {
    "scrolled": true
   },
   "outputs": [
    {
     "name": "stdout",
     "output_type": "stream",
     "text": [
      "performing grid search\n",
      "Fitting 5 folds for each of 48 candidates, totalling 240 fits\n"
     ]
    },
    {
     "name": "stderr",
     "output_type": "stream",
     "text": [
      "[Parallel(n_jobs=4)]: Using backend LokyBackend with 4 concurrent workers.\n",
      "[Parallel(n_jobs=4)]: Done  33 tasks      | elapsed:   16.8s\n",
      "[Parallel(n_jobs=4)]: Done 154 tasks      | elapsed:  1.6min\n",
      "[Parallel(n_jobs=4)]: Done 240 out of 240 | elapsed:  2.3min finished\n"
     ]
    },
    {
     "name": "stdout",
     "output_type": "stream",
     "text": [
      "Iteration 1, loss = 1.18587792\n",
      "Iteration 2, loss = 1.05711820\n",
      "Iteration 3, loss = 0.98842656\n",
      "Iteration 4, loss = 0.96469965\n",
      "Iteration 5, loss = 0.93512903\n",
      "Iteration 6, loss = 0.89640073\n",
      "Iteration 7, loss = 0.84780304\n",
      "Iteration 8, loss = 0.79007843\n",
      "Iteration 9, loss = 0.72733721\n",
      "Iteration 10, loss = 0.66972971\n",
      "Iteration 11, loss = 0.61711702\n",
      "Iteration 12, loss = 0.57736693\n",
      "Iteration 13, loss = 0.54621083\n",
      "Iteration 14, loss = 0.51531036\n",
      "Iteration 15, loss = 0.49036928\n",
      "Iteration 16, loss = 0.47106084\n",
      "Iteration 17, loss = 0.45183221\n",
      "Iteration 18, loss = 0.43934933\n",
      "Iteration 19, loss = 0.42646212\n",
      "Iteration 20, loss = 0.41497846\n",
      "Iteration 21, loss = 0.40753935\n",
      "Iteration 22, loss = 0.39825757\n",
      "Iteration 23, loss = 0.39237880\n",
      "Iteration 24, loss = 0.38498474\n",
      "Iteration 25, loss = 0.38828775\n",
      "Iteration 26, loss = 0.37515908\n",
      "Iteration 27, loss = 0.37344045\n",
      "Iteration 28, loss = 0.37835774\n",
      "Iteration 29, loss = 0.39721291\n",
      "Iteration 30, loss = 0.37091714\n",
      "Iteration 31, loss = 0.36371571\n",
      "Iteration 32, loss = 0.35481244\n",
      "Iteration 33, loss = 0.35332210\n",
      "Iteration 34, loss = 0.35400235\n",
      "Iteration 35, loss = 0.35035815\n",
      "Iteration 36, loss = 0.35050540\n",
      "Iteration 37, loss = 0.34384014\n",
      "Iteration 38, loss = 0.34152321\n",
      "Iteration 39, loss = 0.34435015\n",
      "Iteration 40, loss = 0.34394254\n",
      "Iteration 41, loss = 0.34168924\n",
      "Iteration 42, loss = 0.33775865\n",
      "Iteration 43, loss = 0.33475111\n",
      "Iteration 44, loss = 0.33787039\n",
      "Iteration 45, loss = 0.33744807\n",
      "Iteration 46, loss = 0.33280814\n",
      "Iteration 47, loss = 0.32746470\n",
      "Iteration 48, loss = 0.32655298\n",
      "Iteration 49, loss = 0.32740842\n",
      "Iteration 50, loss = 0.32741141\n",
      "Iteration 51, loss = 0.32928370\n",
      "Iteration 52, loss = 0.32184376\n",
      "Iteration 53, loss = 0.32296714\n",
      "Iteration 54, loss = 0.32624801\n",
      "Iteration 55, loss = 0.32290375\n",
      "Iteration 56, loss = 0.31915934\n",
      "Iteration 57, loss = 0.32032540\n",
      "Iteration 58, loss = 0.31721745\n",
      "Iteration 59, loss = 0.31396688\n",
      "Iteration 60, loss = 0.31588200\n",
      "Iteration 61, loss = 0.31365568\n",
      "Iteration 62, loss = 0.31260536\n",
      "Iteration 63, loss = 0.31612719\n",
      "Iteration 64, loss = 0.31737260\n",
      "Iteration 65, loss = 0.31349563\n",
      "Iteration 66, loss = 0.32198474\n",
      "Iteration 67, loss = 0.31712397\n",
      "Iteration 68, loss = 0.31680523\n",
      "Iteration 69, loss = 0.30954064\n",
      "Iteration 70, loss = 0.30806830\n",
      "Iteration 71, loss = 0.30358264\n",
      "Iteration 72, loss = 0.30402858\n",
      "Iteration 73, loss = 0.30353807\n",
      "Iteration 74, loss = 0.30119606\n",
      "Iteration 75, loss = 0.30068250\n",
      "Iteration 76, loss = 0.30214225\n",
      "Iteration 77, loss = 0.29983549\n",
      "Iteration 78, loss = 0.29902442\n",
      "Iteration 79, loss = 0.30343727\n",
      "Iteration 80, loss = 0.29968618\n",
      "Iteration 81, loss = 0.30484588\n",
      "Iteration 82, loss = 0.29757993\n",
      "Iteration 83, loss = 0.29718470\n",
      "Iteration 84, loss = 0.29819724\n",
      "Iteration 85, loss = 0.29581869\n",
      "Iteration 86, loss = 0.30222495\n",
      "Iteration 87, loss = 0.29514585\n",
      "Iteration 88, loss = 0.29533719\n",
      "Iteration 89, loss = 0.29577222\n",
      "Iteration 90, loss = 0.29706196\n",
      "Iteration 91, loss = 0.29883207\n",
      "Iteration 92, loss = 0.29840368\n",
      "Iteration 93, loss = 0.29554686\n",
      "Iteration 94, loss = 0.29572943\n",
      "Iteration 95, loss = 0.29195495\n",
      "Iteration 96, loss = 0.29618579\n",
      "Iteration 97, loss = 0.29461052\n",
      "Iteration 98, loss = 0.30201930\n",
      "Iteration 99, loss = 0.30125851\n",
      "Iteration 100, loss = 0.30309304\n",
      "Iteration 101, loss = 0.29201848\n",
      "Iteration 102, loss = 0.29463715\n",
      "Iteration 103, loss = 0.28932413\n",
      "Iteration 104, loss = 0.29247279\n",
      "Iteration 105, loss = 0.29196925\n",
      "Iteration 106, loss = 0.29284979\n",
      "Iteration 107, loss = 0.29359748\n",
      "Iteration 108, loss = 0.29112063\n",
      "Iteration 109, loss = 0.29152563\n",
      "Iteration 110, loss = 0.29566929\n",
      "Iteration 111, loss = 0.29762846\n",
      "Iteration 112, loss = 0.29156032\n",
      "Iteration 113, loss = 0.28584920\n",
      "Iteration 114, loss = 0.28634890\n",
      "Iteration 115, loss = 0.29230125\n",
      "Iteration 116, loss = 0.28692266\n",
      "Iteration 117, loss = 0.28661692\n",
      "Iteration 118, loss = 0.28981662\n",
      "Iteration 119, loss = 0.28563748\n",
      "Iteration 120, loss = 0.28582008\n",
      "Iteration 121, loss = 0.28589925\n",
      "Iteration 122, loss = 0.28699274\n",
      "Iteration 123, loss = 0.28267893\n",
      "Iteration 124, loss = 0.28366441\n",
      "Iteration 125, loss = 0.28390098\n",
      "Iteration 126, loss = 0.28284444\n",
      "Iteration 127, loss = 0.28360012\n",
      "Iteration 128, loss = 0.28351438\n",
      "Iteration 129, loss = 0.28059875\n",
      "Iteration 130, loss = 0.28639433\n",
      "Iteration 131, loss = 0.28251493\n",
      "Iteration 132, loss = 0.28416365\n",
      "Iteration 133, loss = 0.28404211\n",
      "Iteration 134, loss = 0.28161364\n",
      "Iteration 135, loss = 0.28633465\n",
      "Iteration 136, loss = 0.28561697\n",
      "Iteration 137, loss = 0.28393577\n",
      "Iteration 138, loss = 0.28411954\n",
      "Iteration 139, loss = 0.28069905\n",
      "Iteration 140, loss = 0.28175564\n",
      "Training loss did not improve more than tol=0.000100 for 10 consecutive epochs. Stopping.\n"
     ]
    }
   ],
   "source": [
    "# define and train\n",
    "mlp = MLPClassifier(verbose=True)\n",
    "mlp_cv = tp.gridsearch(mlp_param_grid, mlp, scoring)"
   ]
  },
  {
   "cell_type": "markdown",
   "metadata": {},
   "source": [
    "#### SVM"
   ]
  },
  {
   "cell_type": "code",
   "execution_count": 12,
   "metadata": {},
   "outputs": [
    {
     "name": "stdout",
     "output_type": "stream",
     "text": [
      "performing grid search\n",
      "Fitting 5 folds for each of 128 candidates, totalling 640 fits\n"
     ]
    },
    {
     "name": "stderr",
     "output_type": "stream",
     "text": [
      "[Parallel(n_jobs=4)]: Using backend LokyBackend with 4 concurrent workers.\n",
      "[Parallel(n_jobs=4)]: Done  33 tasks      | elapsed:    1.1s\n",
      "[Parallel(n_jobs=4)]: Done 498 tasks      | elapsed:   23.0s\n",
      "[Parallel(n_jobs=4)]: Done 640 out of 640 | elapsed:  2.2min finished\n"
     ]
    },
    {
     "name": "stdout",
     "output_type": "stream",
     "text": [
      "[LibSVM]"
     ]
    }
   ],
   "source": [
    "# define and train\n",
    "svm = SVC(verbose=True, probability=True)\n",
    "svm_cv = tp.gridsearch(svm_param_grid, svm, scoring)"
   ]
  },
  {
   "cell_type": "markdown",
   "metadata": {},
   "source": [
    "### Grid Search: Evaluation"
   ]
  },
  {
   "cell_type": "code",
   "execution_count": 14,
   "metadata": {},
   "outputs": [],
   "source": [
    "# define dictionary of all baselearners\n",
    "baselearners = {'LRA': lra_cv.best_estimator_, 'DT': dtc_cv.best_estimator_, \n",
    "                'ANN': mlp_cv.best_estimator_, 'SVM': svm_cv.best_estimator_}"
   ]
  },
  {
   "cell_type": "code",
   "execution_count": 15,
   "metadata": {
    "scrolled": false
   },
   "outputs": [
    {
     "name": "stdout",
     "output_type": "stream",
     "text": [
      "LRA\n",
      "========Model Evaluation Report========\n",
      "Train Score:  0.875\n",
      "Test Score:  0.9017341040462428\n",
      "=======================================\n",
      "Train BCA: 0.891 | Train AUC: 0.961\n",
      "Test BCA: 0.918 | Test AUC: 0.968\n",
      "=======================================\n"
     ]
    },
    {
     "data": {
      "image/png": "[encoded data removed]",
      "text/plain": [
       "<Figure size 576x576 with 1 Axes>"
      ]
     },
     "metadata": {
      "needs_background": "light"
     },
     "output_type": "display_data"
    },
    {
     "name": "stdout",
     "output_type": "stream",
     "text": [
      "DT\n",
      "========Model Evaluation Report========\n",
      "Train Score:  0.7030346820809249\n",
      "Test Score:  0.7254335260115607\n",
      "=======================================\n",
      "Train BCA: 0.777 | Train AUC: 0.854\n",
      "Test BCA: 0.788 | Test AUC: 0.868\n",
      "=======================================\n"
     ]
    },
    {
     "data": {
      "image/png": "[encoded data removed]",
      "text/plain": [
       "<Figure size 576x576 with 1 Axes>"
      ]
     },
     "metadata": {
      "needs_background": "light"
     },
     "output_type": "display_data"
    },
    {
     "name": "stdout",
     "output_type": "stream",
     "text": [
      "ANN\n",
      "========Model Evaluation Report========\n",
      "Train Score:  0.884393063583815\n",
      "Test Score:  0.9046242774566474\n",
      "=======================================\n",
      "Train BCA: 0.890 | Train AUC: 0.975\n",
      "Test BCA: 0.909 | Test AUC: 0.975\n",
      "=======================================\n"
     ]
    },
    {
     "data": {
      "image/png": "[encoded data removed]",
      "text/plain": [
       "<Figure size 576x576 with 1 Axes>"
      ]
     },
     "metadata": {
      "needs_background": "light"
     },
     "output_type": "display_data"
    },
    {
     "name": "stdout",
     "output_type": "stream",
     "text": [
      "SVM\n",
      "========Model Evaluation Report========\n",
      "Train Score:  0.8764450867052023\n",
      "Test Score:  0.8988439306358381\n",
      "=======================================\n",
      "Train BCA: 0.897 | Train AUC: 0.960\n",
      "Test BCA: 0.916 | Test AUC: 0.970\n",
      "=======================================\n"
     ]
    },
    {
     "data": {
      "image/png": "[encoded data removed]",
      "text/plain": [
       "<Figure size 576x576 with 1 Axes>"
      ]
     },
     "metadata": {
      "needs_background": "light"
     },
     "output_type": "display_data"
    }
   ],
   "source": [
    "# evaluate\n",
    "metrics = evaluate(baselearners)"
   ]
  },
  {
   "cell_type": "code",
   "execution_count": 16,
   "metadata": {},
   "outputs": [
    {
     "name": "stdout",
     "output_type": "stream",
     "text": [
      "LRA: {'C': 0.08858667904100823, 'class_weight': 'balanced', 'dual': False, 'penalty': 'l1', 'solver': 'liblinear', 'tol': 0.0001}\n",
      "DT: {'class_weight': 'balanced', 'criterion': 'gini', 'max_depth': 8, 'max_features': 'sqrt', 'min_samples_leaf': 0.2, 'min_samples_split': 0.5, 'splitter': 'best'}\n",
      "MLP: {'activation': 'relu', 'alpha': 0.05, 'hidden_layer_sizes': (50, 50, 50), 'learning_rate': 'adaptive', 'solver': 'adam'}\n",
      "SVM: {'C': 1000, 'class_weight': 'balanced', 'gamma': 0.001, 'kernel': 'linear', 'tol': 1}\n"
     ]
    }
   ],
   "source": [
    "# Best estimator parameter grid\n",
    "print(\"LRA:\", lra_cv.best_params_)\n",
    "print(\"DT:\", dtc_cv.best_params_)\n",
    "print(\"MLP:\", mlp_cv.best_params_)\n",
    "print(\"SVM:\", svm_cv.best_params_)"
   ]
  }
 ],
 "metadata": {
  "kernelspec": {
   "display_name": "Python 3",
   "language": "python",
   "name": "python3"
  }
 },
 "nbformat": 4,
 "nbformat_minor": 2
}
