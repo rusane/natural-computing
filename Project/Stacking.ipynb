{
 "cells": [
  {
   "cell_type": "markdown",
   "metadata": {},
   "source": [
    "# Stacking\n",
    "\n",
    "Training D1_D2 dataset using the `Stacking` ensemble method.\n",
    "\n",
    "### Author\n",
    "Ajinkya Indulkar"
   ]
  },
  {
   "cell_type": "code",
   "execution_count": 1,
   "metadata": {},
   "outputs": [],
   "source": [
    "# import libraries\n",
    "import warnings\n",
    "import numpy as np\n",
    "\n",
    "warnings.filterwarnings(action='ignore')\n",
    "\n",
    "# import custom class\n",
    "from tadpole import Tadpole\n",
    "\n",
    "# base learners\n",
    "from sklearn.tree import DecisionTreeClassifier\n",
    "from sklearn.svm import SVC\n",
    "from sklearn.neural_network import MLPClassifier\n",
    "from sklearn.linear_model import LogisticRegression\n",
    "\n",
    "# ensemble learning - stacking\n",
    "from sklearn.ensemble import StackingClassifier\n",
    "from sklearn.svm import LinearSVC\n",
    "from sklearn.preprocessing import StandardScaler\n",
    "from sklearn.pipeline import make_pipeline\n",
    "\n",
    "# metrics\n",
    "from sklearn.metrics import balanced_accuracy_score, roc_auc_score, confusion_matrix\n",
    "\n",
    "# import visualization library\n",
    "from matplotlib import pyplot as plt\n",
    "\n",
    "\n",
    "# set seed (for reproducibility)\n",
    "np.random.seed(43)\n",
    "\n",
    "%matplotlib inline"
   ]
  },
  {
   "cell_type": "markdown",
   "metadata": {},
   "source": [
    "### Data Loading + Pre-processing"
   ]
  },
  {
   "cell_type": "code",
   "execution_count": 2,
   "metadata": {},
   "outputs": [],
   "source": [
    "# initialize class\n",
    "tp = Tadpole(debug=True)"
   ]
  },
  {
   "cell_type": "code",
   "execution_count": 3,
   "metadata": {},
   "outputs": [
    {
     "name": "stdout",
     "output_type": "stream",
     "text": [
      "loading tadpole dataset\n",
      "pre-processing dataset\n",
      "Labels: {0: 'AD', 1: 'CN', 2: 'MCI'}\n"
     ]
    }
   ],
   "source": [
    "# load and pre-process tadpole dataset\n",
    "tp.load()\n",
    "print(\"Labels:\", tp.label_dict)"
   ]
  },
  {
   "cell_type": "code",
   "execution_count": 4,
   "metadata": {},
   "outputs": [
    {
     "name": "stdout",
     "output_type": "stream",
     "text": [
      "splitting dataset to train and test datasets\n"
     ]
    }
   ],
   "source": [
    "# train-test split\n",
    "tp.split()"
   ]
  },
  {
   "cell_type": "code",
   "execution_count": 5,
   "metadata": {},
   "outputs": [],
   "source": [
    "# import variables from class instance (notebook compatibility)\n",
    "label_dict = tp.label_dict\n",
    "X, y, X_train, X_test, y_train, y_test = tp.X, tp.y, tp.X_train, tp.X_test, tp.y_train, tp.y_test"
   ]
  },
  {
   "cell_type": "markdown",
   "metadata": {},
   "source": [
    "Helper Functions"
   ]
  },
  {
   "cell_type": "code",
   "execution_count": 6,
   "metadata": {},
   "outputs": [],
   "source": [
    "def showConfusionMatrix(clf, X, y):\n",
    "    cm = confusion_matrix(y, clf.predict(X))\n",
    "    fig, ax = plt.subplots(figsize=(8, 8))\n",
    "    ax.imshow(cm, cmap='GnBu')\n",
    "    ax.grid(False)\n",
    "\n",
    "    # For 3 categories\n",
    "    ax.xaxis.set(ticks=(0, 1, 2), ticklabels=('Predicted ' + label_dict[0], 'Predicted ' + label_dict[1], \n",
    "                                              'Predicted ' + label_dict[2]))\n",
    "    ax.yaxis.set(ticks=(0, 1, 2), ticklabels=('Actual ' + label_dict[0], 'Actual ' + label_dict[1], \n",
    "                                              'Actual ' + label_dict[2]))\n",
    "\n",
    "    for i in range(3):\n",
    "        for j in range(3):\n",
    "            ax.text(j, i, cm[i, j], ha='center', va='center', color='black')\n",
    "    plt.title('Test Data Confusion Matrix')\n",
    "    plt.show()\n",
    "    \n",
    "def metrics(model, X, y):\n",
    "    \"\"\"\n",
    "    @description:\n",
    "        function to compute performance metrics\n",
    "    @arguments:\n",
    "        model (sklearn) - trained model\n",
    "        X (np.array) - features\n",
    "        y (np.array) - target\n",
    "    \"\"\"\n",
    "    y_pred = model.predict(X)\n",
    "    y_prob = model.predict_proba(X)\n",
    "    BCA = balanced_accuracy_score(y, y_pred)\n",
    "    mAUC = roc_auc_score(y, y_prob, multi_class=\"ovr\", average=\"macro\")\n",
    "    return BCA, mAUC\n",
    "\n",
    "def report(model):\n",
    "    \"\"\"\n",
    "    @description:\n",
    "        function to report trained model performance\n",
    "    @arguments:\n",
    "        model (sklearn) - trained model\n",
    "    \"\"\"\n",
    "    BCA_train, mAUC_train = metrics(model, X_train, y_train)\n",
    "    BCA_test, mAUC_test = metrics(model, X_test, y_test)\n",
    "    print(\"========Model Evaluation Report========\")\n",
    "    print(\"Train Score: \", model.score(X_train, y_train))\n",
    "    print(\"Test Score: \", model.score(X_test, y_test))\n",
    "    print(\"=======================================\")\n",
    "    print(\"Train BCA: {:.3f} | Train AUC: {:.3f}\".format(BCA_train, mAUC_train))\n",
    "    print(\"Test BCA: {:.3f} | Test AUC: {:.3f}\".format(BCA_test, mAUC_test))\n",
    "    print(\"=======================================\")\n",
    "    showConfusionMatrix(model, X_test, y_test)\n",
    "\n",
    "def evaluate(baselearners):\n",
    "    \"\"\"\n",
    "    @description:\n",
    "        function to evaluate base learners\n",
    "    @arguments:\n",
    "        baselearners (sklearn) - list of trained models\n",
    "    \"\"\"\n",
    "    for name, model in baselearners.items():\n",
    "        print(name)\n",
    "        report(model)"
   ]
  },
  {
   "cell_type": "markdown",
   "metadata": {},
   "source": [
    "### Base Learners: Model Training\n",
    "\n",
    "#### Logistic Regression (LRA)"
   ]
  },
  {
   "cell_type": "code",
   "execution_count": 7,
   "metadata": {},
   "outputs": [
    {
     "name": "stderr",
     "output_type": "stream",
     "text": [
      "[Parallel(n_jobs=1)]: Using backend SequentialBackend with 1 concurrent workers.\n",
      "[Parallel(n_jobs=1)]: Done   1 out of   1 | elapsed:    0.1s remaining:    0.0s\n",
      "[Parallel(n_jobs=1)]: Done   1 out of   1 | elapsed:    0.1s finished\n"
     ]
    },
    {
     "data": {
      "text/plain": [
       "LogisticRegression(C=1.0, class_weight=None, dual=False, fit_intercept=True,\n",
       "                   intercept_scaling=1, l1_ratio=None, max_iter=100,\n",
       "                   multi_class='auto', n_jobs=None, penalty='l2',\n",
       "                   random_state=None, solver='lbfgs', tol=0.0001, verbose=2,\n",
       "                   warm_start=False)"
      ]
     },
     "execution_count": 7,
     "metadata": {},
     "output_type": "execute_result"
    }
   ],
   "source": [
    "# define and train\n",
    "lra = LogisticRegression(verbose=2)\n",
    "lra.fit(X_train, y_train)"
   ]
  },
  {
   "cell_type": "markdown",
   "metadata": {},
   "source": [
    "#### Decision Trees (DT)"
   ]
  },
  {
   "cell_type": "code",
   "execution_count": 8,
   "metadata": {},
   "outputs": [
    {
     "data": {
      "text/plain": [
       "DecisionTreeClassifier(ccp_alpha=0.0, class_weight=None, criterion='gini',\n",
       "                       max_depth=None, max_features=None, max_leaf_nodes=None,\n",
       "                       min_impurity_decrease=0.0, min_impurity_split=None,\n",
       "                       min_samples_leaf=1, min_samples_split=2,\n",
       "                       min_weight_fraction_leaf=0.0, presort='deprecated',\n",
       "                       random_state=None, splitter='best')"
      ]
     },
     "execution_count": 8,
     "metadata": {},
     "output_type": "execute_result"
    }
   ],
   "source": [
    "# define and train\n",
    "dtc = DecisionTreeClassifier()\n",
    "dtc.fit(X_train, y_train)"
   ]
  },
  {
   "cell_type": "markdown",
   "metadata": {},
   "source": [
    "#### Multi-layer Perceptron (ANN)"
   ]
  },
  {
   "cell_type": "code",
   "execution_count": 9,
   "metadata": {},
   "outputs": [
    {
     "name": "stdout",
     "output_type": "stream",
     "text": [
      "Iteration 1, loss = 1.04789623\n",
      "Iteration 2, loss = 0.97569963\n",
      "Iteration 3, loss = 0.94483697\n",
      "Iteration 4, loss = 0.92107533\n",
      "Iteration 5, loss = 0.89519625\n",
      "Iteration 6, loss = 0.87031438\n",
      "Iteration 7, loss = 0.84655170\n",
      "Iteration 8, loss = 0.82306140\n",
      "Iteration 9, loss = 0.79966611\n",
      "Iteration 10, loss = 0.77771162\n",
      "Iteration 11, loss = 0.75696313\n",
      "Iteration 12, loss = 0.73791099\n",
      "Iteration 13, loss = 0.71983004\n",
      "Iteration 14, loss = 0.70328472\n",
      "Iteration 15, loss = 0.68864609\n",
      "Iteration 16, loss = 0.67399045\n",
      "Iteration 17, loss = 0.66078161\n",
      "Iteration 18, loss = 0.64900028\n",
      "Iteration 19, loss = 0.63855882\n",
      "Iteration 20, loss = 0.62737686\n",
      "Iteration 21, loss = 0.61773806\n",
      "Iteration 22, loss = 0.60902737\n",
      "Iteration 23, loss = 0.59976739\n",
      "Iteration 24, loss = 0.59200456\n",
      "Iteration 25, loss = 0.58409407\n",
      "Iteration 26, loss = 0.57655145\n",
      "Iteration 27, loss = 0.56966822\n",
      "Iteration 28, loss = 0.56422543\n",
      "Iteration 29, loss = 0.55684612\n",
      "Iteration 30, loss = 0.55017360\n",
      "Iteration 31, loss = 0.54430825\n",
      "Iteration 32, loss = 0.53792691\n",
      "Iteration 33, loss = 0.53261130\n",
      "Iteration 34, loss = 0.52691817\n",
      "Iteration 35, loss = 0.52146259\n",
      "Iteration 36, loss = 0.51614222\n",
      "Iteration 37, loss = 0.51158993\n",
      "Iteration 38, loss = 0.50696661\n",
      "Iteration 39, loss = 0.50132572\n",
      "Iteration 40, loss = 0.49741360\n",
      "Iteration 41, loss = 0.49282548\n",
      "Iteration 42, loss = 0.48823133\n",
      "Iteration 43, loss = 0.48404146\n",
      "Iteration 44, loss = 0.47982603\n",
      "Iteration 45, loss = 0.47541903\n",
      "Iteration 46, loss = 0.47244798\n",
      "Iteration 47, loss = 0.46839420\n",
      "Iteration 48, loss = 0.46405396\n",
      "Iteration 49, loss = 0.46170581\n",
      "Iteration 50, loss = 0.45665126\n",
      "Iteration 51, loss = 0.45386582\n",
      "Iteration 52, loss = 0.45001800\n",
      "Iteration 53, loss = 0.44697717\n",
      "Iteration 54, loss = 0.44322121\n",
      "Iteration 55, loss = 0.44063374\n",
      "Iteration 56, loss = 0.43771861\n",
      "Iteration 57, loss = 0.43407146\n",
      "Iteration 58, loss = 0.43196139\n",
      "Iteration 59, loss = 0.42907406\n",
      "Iteration 60, loss = 0.42561960\n",
      "Iteration 61, loss = 0.42312692\n",
      "Iteration 62, loss = 0.42046029\n",
      "Iteration 63, loss = 0.41754750\n",
      "Iteration 64, loss = 0.41555128\n",
      "Iteration 65, loss = 0.41441788\n",
      "Iteration 66, loss = 0.40990416\n",
      "Iteration 67, loss = 0.40843112\n",
      "Iteration 68, loss = 0.40639112\n",
      "Iteration 69, loss = 0.40334812\n",
      "Iteration 70, loss = 0.40077295\n",
      "Iteration 71, loss = 0.40039394\n",
      "Iteration 72, loss = 0.39739237\n",
      "Iteration 73, loss = 0.39616579\n",
      "Iteration 74, loss = 0.39269618\n",
      "Iteration 75, loss = 0.39056058\n",
      "Iteration 76, loss = 0.38941657\n",
      "Iteration 77, loss = 0.38684853\n",
      "Iteration 78, loss = 0.38471025\n",
      "Iteration 79, loss = 0.38297859\n",
      "Iteration 80, loss = 0.38156228\n",
      "Iteration 81, loss = 0.38001996\n",
      "Iteration 82, loss = 0.37766047\n",
      "Iteration 83, loss = 0.37772858\n",
      "Iteration 84, loss = 0.37846995\n",
      "Iteration 85, loss = 0.37859587\n",
      "Iteration 86, loss = 0.37406640\n",
      "Iteration 87, loss = 0.37289544\n",
      "Iteration 88, loss = 0.36910223\n",
      "Iteration 89, loss = 0.36855459\n",
      "Iteration 90, loss = 0.36594877\n",
      "Iteration 91, loss = 0.36409660\n",
      "Iteration 92, loss = 0.36379215\n",
      "Iteration 93, loss = 0.36540460\n",
      "Iteration 94, loss = 0.35966468\n",
      "Iteration 95, loss = 0.36025183\n",
      "Iteration 96, loss = 0.35733335\n",
      "Iteration 97, loss = 0.35651168\n",
      "Iteration 98, loss = 0.35571363\n",
      "Iteration 99, loss = 0.35372667\n",
      "Iteration 100, loss = 0.35402299\n",
      "Iteration 101, loss = 0.35126386\n",
      "Iteration 102, loss = 0.35079961\n",
      "Iteration 103, loss = 0.35101382\n",
      "Iteration 104, loss = 0.34884734\n",
      "Iteration 105, loss = 0.34585866\n",
      "Iteration 106, loss = 0.34807595\n",
      "Iteration 107, loss = 0.34438867\n",
      "Iteration 108, loss = 0.34438000\n",
      "Iteration 109, loss = 0.34264694\n",
      "Iteration 110, loss = 0.34213568\n",
      "Iteration 111, loss = 0.34068577\n",
      "Iteration 112, loss = 0.34011298\n",
      "Iteration 113, loss = 0.33901225\n",
      "Iteration 114, loss = 0.33859617\n",
      "Iteration 115, loss = 0.33715762\n",
      "Iteration 116, loss = 0.33558346\n",
      "Iteration 117, loss = 0.33540488\n",
      "Iteration 118, loss = 0.33504144\n",
      "Iteration 119, loss = 0.33482071\n",
      "Iteration 120, loss = 0.33262719\n",
      "Iteration 121, loss = 0.33101324\n",
      "Iteration 122, loss = 0.33045828\n",
      "Iteration 123, loss = 0.32962825\n",
      "Iteration 124, loss = 0.32844365\n",
      "Iteration 125, loss = 0.32831275\n",
      "Iteration 126, loss = 0.32805962\n",
      "Iteration 127, loss = 0.32624000\n",
      "Iteration 128, loss = 0.32585279\n",
      "Iteration 129, loss = 0.32571261\n",
      "Iteration 130, loss = 0.32514630\n",
      "Iteration 131, loss = 0.32238629\n",
      "Iteration 132, loss = 0.32372238\n",
      "Iteration 133, loss = 0.32405276\n",
      "Iteration 134, loss = 0.32130533\n",
      "Iteration 135, loss = 0.32129266\n",
      "Iteration 136, loss = 0.31936308\n",
      "Iteration 137, loss = 0.32122590\n",
      "Iteration 138, loss = 0.31869809\n",
      "Iteration 139, loss = 0.31788431\n",
      "Iteration 140, loss = 0.31758628\n",
      "Iteration 141, loss = 0.31680434\n",
      "Iteration 142, loss = 0.31547153\n",
      "Iteration 143, loss = 0.31535059\n",
      "Iteration 144, loss = 0.31657033\n",
      "Iteration 145, loss = 0.31516769\n",
      "Iteration 146, loss = 0.31355013\n",
      "Iteration 147, loss = 0.31380921\n",
      "Iteration 148, loss = 0.31266108\n",
      "Iteration 149, loss = 0.31190085\n",
      "Iteration 150, loss = 0.31092374\n",
      "Iteration 151, loss = 0.31048237\n",
      "Iteration 152, loss = 0.31006117\n",
      "Iteration 153, loss = 0.30981832\n",
      "Iteration 154, loss = 0.30868835\n",
      "Iteration 155, loss = 0.30878844\n",
      "Iteration 156, loss = 0.30843071\n",
      "Iteration 157, loss = 0.31050675\n",
      "Iteration 158, loss = 0.31130270\n",
      "Iteration 159, loss = 0.30818544\n",
      "Iteration 160, loss = 0.30746899\n",
      "Iteration 161, loss = 0.30601297\n",
      "Iteration 162, loss = 0.30525085\n",
      "Iteration 163, loss = 0.30496417\n",
      "Iteration 164, loss = 0.30407056\n",
      "Iteration 165, loss = 0.30353862\n",
      "Iteration 166, loss = 0.30354145\n",
      "Iteration 167, loss = 0.30267388\n",
      "Iteration 168, loss = 0.30225954\n",
      "Iteration 169, loss = 0.30194425\n",
      "Iteration 170, loss = 0.30113864\n",
      "Iteration 171, loss = 0.30113075\n",
      "Iteration 172, loss = 0.30207099\n",
      "Iteration 173, loss = 0.30168448\n",
      "Iteration 174, loss = 0.29938029\n",
      "Iteration 175, loss = 0.29995219\n",
      "Iteration 176, loss = 0.29906795\n",
      "Iteration 177, loss = 0.29833035\n",
      "Iteration 178, loss = 0.29825404\n",
      "Iteration 179, loss = 0.29782824\n",
      "Iteration 180, loss = 0.29769694\n",
      "Iteration 181, loss = 0.29710307\n",
      "Iteration 182, loss = 0.29709945\n",
      "Iteration 183, loss = 0.29670495\n",
      "Iteration 184, loss = 0.29680818\n",
      "Iteration 185, loss = 0.29547167\n",
      "Iteration 186, loss = 0.29502934\n",
      "Iteration 187, loss = 0.29482569\n",
      "Iteration 188, loss = 0.29486246\n",
      "Iteration 189, loss = 0.29426426\n",
      "Iteration 190, loss = 0.29772785\n",
      "Iteration 191, loss = 0.29434806\n",
      "Iteration 192, loss = 0.29344556\n",
      "Iteration 193, loss = 0.29379900\n",
      "Iteration 194, loss = 0.29284639\n",
      "Iteration 195, loss = 0.29314536\n",
      "Iteration 196, loss = 0.29234950\n",
      "Iteration 197, loss = 0.29199917\n",
      "Iteration 198, loss = 0.29350692\n",
      "Iteration 199, loss = 0.29087957\n",
      "Iteration 200, loss = 0.29090515\n"
     ]
    },
    {
     "data": {
      "text/plain": [
       "MLPClassifier(activation='relu', alpha=0.0001, batch_size='auto', beta_1=0.9,\n",
       "              beta_2=0.999, early_stopping=False, epsilon=1e-08,\n",
       "              hidden_layer_sizes=(100,), learning_rate='constant',\n",
       "              learning_rate_init=0.001, max_fun=15000, max_iter=200,\n",
       "              momentum=0.9, n_iter_no_change=10, nesterovs_momentum=True,\n",
       "              power_t=0.5, random_state=None, shuffle=True, solver='adam',\n",
       "              tol=0.0001, validation_fraction=0.1, verbose=True,\n",
       "              warm_start=False)"
      ]
     },
     "execution_count": 9,
     "metadata": {},
     "output_type": "execute_result"
    }
   ],
   "source": [
    "# define and train\n",
    "mlp = MLPClassifier(verbose=True)\n",
    "mlp.fit(X_train, y_train)"
   ]
  },
  {
   "cell_type": "markdown",
   "metadata": {},
   "source": [
    "#### SVM"
   ]
  },
  {
   "cell_type": "code",
   "execution_count": 10,
   "metadata": {},
   "outputs": [
    {
     "name": "stdout",
     "output_type": "stream",
     "text": [
      "[LibSVM]"
     ]
    },
    {
     "data": {
      "text/plain": [
       "SVC(C=1.0, break_ties=False, cache_size=200, class_weight=None, coef0=0.0,\n",
       "    decision_function_shape='ovr', degree=3, gamma='scale', kernel='rbf',\n",
       "    max_iter=-1, probability=True, random_state=None, shrinking=True, tol=0.001,\n",
       "    verbose=True)"
      ]
     },
     "execution_count": 10,
     "metadata": {},
     "output_type": "execute_result"
    }
   ],
   "source": [
    "# define and train\n",
    "svm = SVC(verbose=True, probability=True)\n",
    "svm.fit(X_train, y_train)"
   ]
  },
  {
   "cell_type": "markdown",
   "metadata": {},
   "source": [
    "#### Evaluate Base Learners"
   ]
  },
  {
   "cell_type": "code",
   "execution_count": 11,
   "metadata": {},
   "outputs": [],
   "source": [
    "# define dictionary of all baselearners\n",
    "baselearners = {'LRA': lra, 'DT': dtc, 'ANN': mlp, 'SVM': svm}"
   ]
  },
  {
   "cell_type": "code",
   "execution_count": 12,
   "metadata": {
    "scrolled": false
   },
   "outputs": [
    {
     "name": "stdout",
     "output_type": "stream",
     "text": [
      "LRA\n",
      "========Model Evaluation Report========\n",
      "Train Score:  0.8345375722543352\n",
      "Test Score:  0.8323699421965318\n",
      "=======================================\n",
      "Train BCA: 0.810 | Train AUC: 0.953\n",
      "Test BCA: 0.799 | Test AUC: 0.951\n",
      "=======================================\n"
     ]
    },
    {
     "data": {
      "image/png": "[encoded data removed]",
      "text/plain": [
       "<Figure size 576x576 with 1 Axes>"
      ]
     },
     "metadata": {
      "needs_background": "light"
     },
     "output_type": "display_data"
    },
    {
     "name": "stdout",
     "output_type": "stream",
     "text": [
      "DT\n",
      "========Model Evaluation Report========\n",
      "Train Score:  1.0\n",
      "Test Score:  0.8352601156069365\n",
      "=======================================\n",
      "Train BCA: 1.000 | Train AUC: 1.000\n",
      "Test BCA: 0.833 | Test AUC: 0.868\n",
      "=======================================\n"
     ]
    },
    {
     "data": {
      "image/png": "[encoded data removed]",
      "text/plain": [
       "<Figure size 576x576 with 1 Axes>"
      ]
     },
     "metadata": {
      "needs_background": "light"
     },
     "output_type": "display_data"
    },
    {
     "name": "stdout",
     "output_type": "stream",
     "text": [
      "ANN\n",
      "========Model Evaluation Report========\n",
      "Train Score:  0.880057803468208\n",
      "Test Score:  0.8728323699421965\n",
      "=======================================\n",
      "Train BCA: 0.876 | Train AUC: 0.970\n",
      "Test BCA: 0.876 | Test AUC: 0.963\n",
      "=======================================\n"
     ]
    },
    {
     "data": {
      "image/png": "[encoded data removed]",
      "text/plain": [
       "<Figure size 576x576 with 1 Axes>"
      ]
     },
     "metadata": {
      "needs_background": "light"
     },
     "output_type": "display_data"
    },
    {
     "name": "stdout",
     "output_type": "stream",
     "text": [
      "SVM\n",
      "========Model Evaluation Report========\n",
      "Train Score:  0.8778901734104047\n",
      "Test Score:  0.8497109826589595\n",
      "=======================================\n",
      "Train BCA: 0.880 | Train AUC: 0.970\n",
      "Test BCA: 0.858 | Test AUC: 0.959\n",
      "=======================================\n"
     ]
    },
    {
     "data": {
      "image/png": "[encoded data removed]",
      "text/plain": [
       "<Figure size 576x576 with 1 Axes>"
      ]
     },
     "metadata": {
      "needs_background": "light"
     },
     "output_type": "display_data"
    }
   ],
   "source": [
    "# evaluate\n",
    "evaluate(baselearners)"
   ]
  },
  {
   "cell_type": "markdown",
   "metadata": {},
   "source": [
    "### Stacking - Ensemble Learning: Model Training\n",
    "\n",
    "Level 1 Classifiers - LRA, DT, ANN and SVM\n",
    "\n",
    "Level 2 Classifier - LRA"
   ]
  },
  {
   "cell_type": "code",
   "execution_count": 13,
   "metadata": {},
   "outputs": [],
   "source": [
    "# define level 1 estimators\n",
    "estimators = [\n",
    "    ('lra', LogisticRegression()),\n",
    "    ('dt', DecisionTreeClassifier()),\n",
    "    ('ann', MLPClassifier()),\n",
    "    ('svm', SVC(probability=True))\n",
    "]"
   ]
  },
  {
   "cell_type": "code",
   "execution_count": 14,
   "metadata": {},
   "outputs": [
    {
     "name": "stderr",
     "output_type": "stream",
     "text": [
      "[Parallel(n_jobs=1)]: Using backend SequentialBackend with 1 concurrent workers.\n",
      "[Parallel(n_jobs=1)]: Done   1 out of   1 | elapsed:    0.0s remaining:    0.0s\n",
      "[Parallel(n_jobs=1)]: Done   5 out of   5 | elapsed:    0.1s finished\n",
      "[Parallel(n_jobs=1)]: Using backend SequentialBackend with 1 concurrent workers.\n",
      "[Parallel(n_jobs=1)]: Done   1 out of   1 | elapsed:    0.0s remaining:    0.0s\n",
      "[Parallel(n_jobs=1)]: Done   5 out of   5 | elapsed:    0.0s finished\n",
      "[Parallel(n_jobs=1)]: Using backend SequentialBackend with 1 concurrent workers.\n",
      "[Parallel(n_jobs=1)]: Done   1 out of   1 | elapsed:    0.7s remaining:    0.0s\n",
      "[Parallel(n_jobs=1)]: Done   5 out of   5 | elapsed:    3.7s finished\n",
      "[Parallel(n_jobs=1)]: Using backend SequentialBackend with 1 concurrent workers.\n",
      "[Parallel(n_jobs=1)]: Done   1 out of   1 | elapsed:    0.1s remaining:    0.0s\n",
      "[Parallel(n_jobs=1)]: Done   5 out of   5 | elapsed:    0.5s finished\n"
     ]
    },
    {
     "data": {
      "text/plain": [
       "StackingClassifier(cv=None,\n",
       "                   estimators=[('lra',\n",
       "                                LogisticRegression(C=1.0, class_weight=None,\n",
       "                                                   dual=False,\n",
       "                                                   fit_intercept=True,\n",
       "                                                   intercept_scaling=1,\n",
       "                                                   l1_ratio=None, max_iter=100,\n",
       "                                                   multi_class='auto',\n",
       "                                                   n_jobs=None, penalty='l2',\n",
       "                                                   random_state=None,\n",
       "                                                   solver='lbfgs', tol=0.0001,\n",
       "                                                   verbose=0,\n",
       "                                                   warm_start=False)),\n",
       "                               ('dt',\n",
       "                                DecisionTreeClassifier(ccp_alpha=0.0,\n",
       "                                                       class_weight=None,\n",
       "                                                       criter...\n",
       "                                    shrinking=True, tol=0.001,\n",
       "                                    verbose=False))],\n",
       "                   final_estimator=LogisticRegression(C=1.0, class_weight=None,\n",
       "                                                      dual=False,\n",
       "                                                      fit_intercept=True,\n",
       "                                                      intercept_scaling=1,\n",
       "                                                      l1_ratio=None,\n",
       "                                                      max_iter=100,\n",
       "                                                      multi_class='auto',\n",
       "                                                      n_jobs=None, penalty='l2',\n",
       "                                                      random_state=None,\n",
       "                                                      solver='lbfgs',\n",
       "                                                      tol=0.0001, verbose=0,\n",
       "                                                      warm_start=False),\n",
       "                   n_jobs=None, passthrough=False, stack_method='auto',\n",
       "                   verbose=2)"
      ]
     },
     "execution_count": 14,
     "metadata": {},
     "output_type": "execute_result"
    }
   ],
   "source": [
    "# define and train stacking ensemble method\n",
    "stk_clf = StackingClassifier(estimators=estimators, final_estimator=LogisticRegression(), verbose=2)\n",
    "stk_clf.fit(X_train, y_train)"
   ]
  },
  {
   "cell_type": "code",
   "execution_count": 15,
   "metadata": {},
   "outputs": [
    {
     "name": "stdout",
     "output_type": "stream",
     "text": [
      "========Model Evaluation Report========\n",
      "Train Score:  0.8952312138728323\n",
      "Test Score:  0.869942196531792\n",
      "=======================================\n",
      "Train BCA: 0.891 | Train AUC: 0.981\n",
      "Test BCA: 0.871 | Test AUC: 0.965\n",
      "=======================================\n"
     ]
    },
    {
     "data": {
      "image/png": "[encoded data removed]",
      "text/plain": [
       "<Figure size 576x576 with 1 Axes>"
      ]
     },
     "metadata": {
      "needs_background": "light"
     },
     "output_type": "display_data"
    }
   ],
   "source": [
    "report(stk_clf)"
   ]
  },
  {
   "cell_type": "markdown",
   "metadata": {},
   "source": [
    "### Save Best Model"
   ]
  },
  {
   "cell_type": "code",
   "execution_count": 16,
   "metadata": {},
   "outputs": [
    {
     "name": "stdout",
     "output_type": "stream",
     "text": [
      "saving trained model\n"
     ]
    }
   ],
   "source": [
    "model_name = \"stacking_030620_1.pkl\" #ensemble-date-modelversion\n",
    "\n",
    "tp.save(stk_clf, model_name)"
   ]
  }
 ],
 "metadata": {
  "kernelspec": {
   "display_name": "Python 3",
   "language": "python",
   "name": "python3"
  },
  "language_info": {
   "codemirror_mode": {
    "name": "ipython",
    "version": 3
   },
   "file_extension": ".py",
   "mimetype": "text/x-python",
   "name": "python",
   "nbconvert_exporter": "python",
   "pygments_lexer": "ipython3",
   "version": "3.7.7"
  }
 },
 "nbformat": 4,
 "nbformat_minor": 2
}
