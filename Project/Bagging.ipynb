{
 "cells": [
  {
   "cell_type": "code",
   "execution_count": 15,
   "metadata": {},
   "outputs": [],
   "source": [
    "import pandas as pd\n",
    "import numpy as np\n",
    "\n",
    "from sklearn.model_selection import train_test_split\n",
    "from sklearn.tree import DecisionTreeClassifier\n",
    "from sklearn.svm import LinearSVC\n",
    "from sklearn.neural_network import MLPClassifier\n",
    "from sklearn.linear_model import LogisticRegression\n",
    "from sklearn.ensemble import BaggingClassifier\n",
    "\n",
    "from data import get_data"
   ]
  },
  {
   "cell_type": "markdown",
   "metadata": {},
   "source": [
    "**Load data**"
   ]
  },
  {
   "cell_type": "code",
   "execution_count": 16,
   "metadata": {},
   "outputs": [],
   "source": [
    "ROOT = './tadpole_challenge/'\n",
    "X, y = get_data(ROOT)"
   ]
  },
  {
   "cell_type": "code",
   "execution_count": 17,
   "metadata": {},
   "outputs": [],
   "source": [
    "X_train, X_test, y_train, y_test = train_test_split(X, y, test_size=0.20, random_state=0)"
   ]
  },
  {
   "cell_type": "markdown",
   "metadata": {},
   "source": [
    "**Helper functions**"
   ]
  },
  {
   "cell_type": "markdown",
   "metadata": {},
   "source": [
    "Some temporary performance metrics."
   ]
  },
  {
   "cell_type": "code",
   "execution_count": 18,
   "metadata": {},
   "outputs": [],
   "source": [
    "def accuracy(clf, X, y):\n",
    "    y_pred = clf.predict(X)\n",
    "    acc = sum(y_pred == y) / len(y)\n",
    "    return acc"
   ]
  },
  {
   "cell_type": "code",
   "execution_count": 19,
   "metadata": {},
   "outputs": [],
   "source": [
    "def report_accuracy(clf):\n",
    "    train_acc = accuracy(clf, X_train, y_train)\n",
    "    test_acc = accuracy(clf, X_test, y_test)\n",
    "    print('Train accuracy:', train_acc)\n",
    "    print('Test accuracy:', test_acc)"
   ]
  },
  {
   "cell_type": "markdown",
   "metadata": {},
   "source": [
    "Settings are not final."
   ]
  },
  {
   "cell_type": "code",
   "execution_count": 20,
   "metadata": {},
   "outputs": [],
   "source": [
    "def bagging_clf(clf):\n",
    "    return BaggingClassifier(base_estimator = clf, \n",
    "                             n_estimators = 100, \n",
    "                             max_samples = 0.3, \n",
    "                             random_state = 0)"
   ]
  },
  {
   "cell_type": "code",
   "execution_count": 71,
   "metadata": {},
   "outputs": [],
   "source": [
    "def evaluate(Classifier, **kwargs):\n",
    "    print('+ Base learner')\n",
    "    clf = Classifier(**kwargs).fit(X_train, y_train)\n",
    "    report_accuracy(clf)\n",
    "    print('+ Ensemble')\n",
    "    bag_clf = bagging_clf(Classifier(**kwargs)).fit(X_train, y_train)\n",
    "    report_accuracy(bag_clf)"
   ]
  },
  {
   "cell_type": "code",
   "execution_count": 72,
   "metadata": {},
   "outputs": [],
   "source": [
    "def main():\n",
    "    baselearners = [DecisionTreeClassifier, \n",
    "                    LinearSVC, \n",
    "                    MLPClassifier,\n",
    "                    LogisticRegression]\n",
    "    \n",
    "    for learner in baselearners:\n",
    "        print(learner)\n",
    "        evaluate(learner)\n",
    "        print()"
   ]
  },
  {
   "cell_type": "markdown",
   "metadata": {},
   "source": [
    "## DTC"
   ]
  },
  {
   "cell_type": "code",
   "execution_count": 73,
   "metadata": {},
   "outputs": [
    {
     "name": "stdout",
     "output_type": "stream",
     "text": [
      "+ Base learner\n",
      "Train accuracy: 1.0\n",
      "Test accuracy: 0.7109826589595376\n",
      "+ Ensemble\n",
      "Train accuracy: 0.8728323699421965\n",
      "Test accuracy: 0.7976878612716763\n"
     ]
    }
   ],
   "source": [
    "evaluate(DecisionTreeClassifier)"
   ]
  },
  {
   "cell_type": "markdown",
   "metadata": {},
   "source": [
    "## SVM"
   ]
  },
  {
   "cell_type": "code",
   "execution_count": 74,
   "metadata": {},
   "outputs": [
    {
     "name": "stdout",
     "output_type": "stream",
     "text": [
      "+ Base learner\n",
      "Train accuracy: 0.7182080924855492\n",
      "Test accuracy: 0.7745664739884393\n",
      "+ Ensemble\n",
      "Train accuracy: 0.7052023121387283\n",
      "Test accuracy: 0.7687861271676301\n"
     ]
    }
   ],
   "source": [
    "evaluate(LinearSVC)"
   ]
  },
  {
   "cell_type": "markdown",
   "metadata": {},
   "source": [
    "## ANN"
   ]
  },
  {
   "cell_type": "code",
   "execution_count": 34,
   "metadata": {},
   "outputs": [
    {
     "name": "stdout",
     "output_type": "stream",
     "text": [
      "+ Base learner\n",
      "Train accuracy: 0.763728323699422\n",
      "Test accuracy: 0.7572254335260116\n",
      "+ Ensemble\n",
      "Train accuracy: 0.6921965317919075\n",
      "Test accuracy: 0.7398843930635838\n"
     ]
    }
   ],
   "source": [
    "evaluate(MLPClassifier)"
   ]
  },
  {
   "cell_type": "markdown",
   "metadata": {},
   "source": [
    "## LRA"
   ]
  },
  {
   "cell_type": "code",
   "execution_count": 35,
   "metadata": {},
   "outputs": [
    {
     "name": "stdout",
     "output_type": "stream",
     "text": [
      "+ Base learner\n",
      "Train accuracy: 0.7044797687861272\n",
      "Test accuracy: 0.7601156069364162\n",
      "+ Ensemble\n",
      "Train accuracy: 0.6784682080924855\n",
      "Test accuracy: 0.7109826589595376\n"
     ]
    }
   ],
   "source": [
    "evaluate(LogisticRegression)"
   ]
  },
  {
   "cell_type": "markdown",
   "metadata": {},
   "source": [
    "## All base learners at once"
   ]
  },
  {
   "cell_type": "code",
   "execution_count": 36,
   "metadata": {},
   "outputs": [
    {
     "name": "stdout",
     "output_type": "stream",
     "text": [
      "<class 'sklearn.tree._classes.DecisionTreeClassifier'>\n",
      "+ Base learner\n",
      "Train accuracy: 1.0\n",
      "Test accuracy: 0.6878612716763006\n",
      "+ Ensemble\n",
      "Train accuracy: 0.8728323699421965\n",
      "Test accuracy: 0.7976878612716763\n",
      "\n",
      "<class 'sklearn.svm._classes.LinearSVC'>\n",
      "+ Base learner\n",
      "Train accuracy: 0.7182080924855492\n",
      "Test accuracy: 0.7745664739884393\n",
      "+ Ensemble\n",
      "Train accuracy: 0.7052023121387283\n",
      "Test accuracy: 0.7687861271676301\n",
      "\n",
      "<class 'sklearn.neural_network._multilayer_perceptron.MLPClassifier'>\n",
      "+ Base learner\n",
      "Train accuracy: 0.755057803468208\n",
      "Test accuracy: 0.7572254335260116\n",
      "+ Ensemble\n",
      "Train accuracy: 0.6921965317919075\n",
      "Test accuracy: 0.7398843930635838\n",
      "\n",
      "<class 'sklearn.linear_model._logistic.LogisticRegression'>\n",
      "+ Base learner\n",
      "Train accuracy: 0.7044797687861272\n",
      "Test accuracy: 0.7601156069364162\n",
      "+ Ensemble\n",
      "Train accuracy: 0.6784682080924855\n",
      "Test accuracy: 0.7109826589595376\n",
      "\n"
     ]
    }
   ],
   "source": [
    "main()"
   ]
  },
  {
   "cell_type": "code",
   "execution_count": null,
   "metadata": {},
   "outputs": [],
   "source": []
  }
 ],
 "metadata": {
  "kernelspec": {
   "display_name": "Python 3",
   "language": "python",
   "name": "python3"
  },
  "language_info": {
   "codemirror_mode": {
    "name": "ipython",
    "version": 3
   },
   "file_extension": ".py",
   "mimetype": "text/x-python",
   "name": "python",
   "nbconvert_exporter": "python",
   "pygments_lexer": "ipython3",
   "version": "3.8.1"
  }
 },
 "nbformat": 4,
 "nbformat_minor": 4
}
