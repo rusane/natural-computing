{
 "cells": [
  {
   "cell_type": "markdown",
   "metadata": {},
   "source": [
    "# Bagging\n",
    "\n",
    "Training D1_D2 dataset using the `Bagging` ensemble method.\n",
    "\n",
    "### Author\n",
    "Richard Li"
   ]
  },
  {
   "cell_type": "code",
   "execution_count": 1,
   "metadata": {},
   "outputs": [],
   "source": [
    "# import libraries\n",
    "import warnings\n",
    "import numpy as np\n",
    "\n",
    "warnings.filterwarnings(action='ignore')\n",
    "\n",
    "# import custom class\n",
    "from tadpole import Tadpole\n",
    "\n",
    "from sklearn.tree import DecisionTreeClassifier\n",
    "from sklearn.svm import SVC\n",
    "from sklearn.neural_network import MLPClassifier\n",
    "from sklearn.linear_model import LogisticRegression\n",
    "from sklearn.ensemble import BaggingClassifier\n",
    "\n",
    "from sklearn.metrics import balanced_accuracy_score, roc_auc_score, confusion_matrix\n",
    "\n",
    "# import visualization library\n",
    "from matplotlib import pyplot as plt\n",
    "\n",
    "%matplotlib inline"
   ]
  },
  {
   "cell_type": "markdown",
   "metadata": {},
   "source": [
    "### Data Loading + Preprocessing"
   ]
  },
  {
   "cell_type": "code",
   "execution_count": 2,
   "metadata": {},
   "outputs": [],
   "source": [
    "# initialize class\n",
    "tp = Tadpole(debug=True)"
   ]
  },
  {
   "cell_type": "code",
   "execution_count": 3,
   "metadata": {},
   "outputs": [
    {
     "name": "stdout",
     "output_type": "stream",
     "text": [
      "loading tadpole dataset\n",
      "pre-processing dataset\n",
      "{0: 'AD', 1: 'CN', 2: 'MCI'}\n"
     ]
    }
   ],
   "source": [
    "# load and pre-process tadpole dataset\n",
    "tp.load()\n",
    "print(tp.label_dict)"
   ]
  },
  {
   "cell_type": "markdown",
   "metadata": {},
   "source": [
    "##### Split data into Train and Test datasets"
   ]
  },
  {
   "cell_type": "code",
   "execution_count": 4,
   "metadata": {},
   "outputs": [
    {
     "name": "stdout",
     "output_type": "stream",
     "text": [
      "splitting dataset to train and test datasets\n"
     ]
    }
   ],
   "source": [
    "# train-test split\n",
    "tp.split()"
   ]
  },
  {
   "cell_type": "code",
   "execution_count": 5,
   "metadata": {},
   "outputs": [],
   "source": [
    "# import variables from class instance (notebook compatibility)\n",
    "label_dict = tp.label_dict\n",
    "X, y, X_train, X_test, y_train, y_test = tp.X, tp.y, tp.X_train, tp.X_test, tp.y_train, tp.y_test"
   ]
  },
  {
   "cell_type": "markdown",
   "metadata": {},
   "source": [
    "### Helper functions"
   ]
  },
  {
   "cell_type": "code",
   "execution_count": 6,
   "metadata": {},
   "outputs": [],
   "source": [
    "def showConfusionMatrix(clf, X, y):\n",
    "    cm = confusion_matrix(y, clf.predict(X))\n",
    "    fig, ax = plt.subplots(figsize=(8, 8))\n",
    "    ax.imshow(cm, cmap='GnBu')\n",
    "    ax.grid(False)\n",
    "\n",
    "    # For 3 categories\n",
    "    ax.xaxis.set(ticks=(0, 1, 2), ticklabels=('Predicted ' + label_dict[0], 'Predicted ' + label_dict[1], \n",
    "                                              'Predicted ' + label_dict[2]))\n",
    "    ax.yaxis.set(ticks=(0, 1, 2), ticklabels=('Actual ' + label_dict[0], 'Actual ' + label_dict[1], \n",
    "                                              'Actual ' + label_dict[2]))\n",
    "\n",
    "    for i in range(3):\n",
    "        for j in range(3):\n",
    "            ax.text(j, i, cm[i, j], ha='center', va='center', color='black')\n",
    "    plt.title('Test Data Confusion Matrix')\n",
    "    plt.show()\n",
    "\n",
    "def accuracy(clf, X, y):\n",
    "    y_pred = clf.predict(X)\n",
    "    acc = sum(y_pred == y) / len(y)\n",
    "    return acc\n",
    "\n",
    "def metrics(clf, X, y):\n",
    "    y_pred = clf.predict(X)\n",
    "    y_prob = clf.predict_proba(X)\n",
    "    BCA = balanced_accuracy_score(y, y_pred)\n",
    "    mAUC = roc_auc_score(y, y_prob, multi_class=\"ovo\", average=\"macro\")\n",
    "    return BCA, mAUC"
   ]
  },
  {
   "cell_type": "code",
   "execution_count": 7,
   "metadata": {},
   "outputs": [],
   "source": [
    "def report_accuracy(clf):\n",
    "    train_acc = accuracy(clf, X_train, y_train)\n",
    "    test_acc = accuracy(clf, X_test, y_test)\n",
    "    print('Train accuracy:', train_acc)\n",
    "    print('Test accuracy:', test_acc)\n",
    "    \n",
    "def report_metrics(clf, verbose):\n",
    "    BCA_train, mAUC_train = metrics(clf, X_train, y_train)\n",
    "    BCA_test, mAUC_test = metrics(clf, X_test, y_test)\n",
    "    \n",
    "    if verbose:\n",
    "        print('\\tTrain metrics')    \n",
    "        print('BCA_train:', BCA_train)\n",
    "        print('mAUC_train:', mAUC_train)\n",
    "\n",
    "        print('\\tTest metrics')   \n",
    "        print('BCA_test:', BCA_test)\n",
    "        print('mAUC_test:', mAUC_test)\n",
    "    \n",
    "    showConfusionMatrix(clf, X_test, y_test)\n",
    "    return BCA_train, BCA_test, mAUC_train, mAUC_test"
   ]
  },
  {
   "cell_type": "markdown",
   "metadata": {},
   "source": [
    "Settings are not final."
   ]
  },
  {
   "cell_type": "code",
   "execution_count": 8,
   "metadata": {},
   "outputs": [],
   "source": [
    "def bagging_clf(clf):\n",
    "    return BaggingClassifier(base_estimator = clf, \n",
    "                             n_estimators = 100, \n",
    "                             max_samples = 0.3, \n",
    "                             random_state = 0)"
   ]
  },
  {
   "cell_type": "code",
   "execution_count": 9,
   "metadata": {},
   "outputs": [],
   "source": [
    "def evaluate(Classifier, verbose=False, **kwargs):\n",
    "    if verbose: print('+ Base learner')\n",
    "    clf = Classifier(**kwargs).fit(X_train, y_train)\n",
    "    clf_perf = report_metrics(clf, verbose)\n",
    "    \n",
    "    if verbose: print('\\n+ Ensemble')\n",
    "    bag_clf = bagging_clf(Classifier(**kwargs)).fit(X_train, y_train)\n",
    "    bag_clf_perf = report_metrics(bag_clf, verbose)\n",
    "    \n",
    "    # Values in dict are lists of the following format: \n",
    "    # BCA_train, BCA_test, mAUC_train, mAUC_test\n",
    "    if not verbose:\n",
    "        return {'clf': list(clf_perf), 'bag_clf': list(bag_clf_perf)}"
   ]
  },
  {
   "cell_type": "code",
   "execution_count": 10,
   "metadata": {},
   "outputs": [],
   "source": [
    "# Make a main for every baselearner that runs them multiple times\n",
    "# because SVC requires extra arguments, which makes it difficult\n",
    "# to generalize into one function.\n",
    "\n",
    "# def main(verbose=False):\n",
    "#     baselearners = [DecisionTreeClassifier, \n",
    "#                     SVC, \n",
    "#                     MLPClassifier,\n",
    "#                     LogisticRegression]\n",
    "    \n",
    "#     for learner in baselearners:           \n",
    "#         if verbose:\n",
    "#             print(learner)\n",
    "#             evaluate(learner, True)\n",
    "#             print()\n",
    "#         else:\n",
    "#             perf = evaluate(learner)"
   ]
  },
  {
   "cell_type": "markdown",
   "metadata": {},
   "source": [
    "## Models"
   ]
  },
  {
   "cell_type": "markdown",
   "metadata": {},
   "source": [
    "### DTC"
   ]
  },
  {
   "cell_type": "code",
   "execution_count": 11,
   "metadata": {},
   "outputs": [
    {
     "name": "stdout",
     "output_type": "stream",
     "text": [
      "+ Base learner\n",
      "\tTrain metrics\n",
      "BCA_train: 1.0\n",
      "mAUC_train: 1.0\n",
      "\tTest metrics\n",
      "BCA_test: 0.8250201408954067\n",
      "mAUC_test: 0.868765105671555\n"
     ]
    },
    {
     "data": {
      "image/png": "[encoded data removed]",
      "text/plain": [
       "<Figure size 576x576 with 1 Axes>"
      ]
     },
     "metadata": {
      "needs_background": "light"
     },
     "output_type": "display_data"
    },
    {
     "name": "stdout",
     "output_type": "stream",
     "text": [
      "\n",
      "+ Ensemble\n",
      "\tTrain metrics\n",
      "BCA_train: 0.9207424721510478\n",
      "mAUC_train: 0.9940903035217793\n",
      "\tTest metrics\n",
      "BCA_test: 0.9082253599617172\n",
      "mAUC_test: 0.970838254980707\n"
     ]
    },
    {
     "data": {
      "image/png": "[encoded data removed]",
      "text/plain": [
       "<Figure size 576x576 with 1 Axes>"
      ]
     },
     "metadata": {
      "needs_background": "light"
     },
     "output_type": "display_data"
    }
   ],
   "source": [
    "evaluate(DecisionTreeClassifier, True)"
   ]
  },
  {
   "cell_type": "markdown",
   "metadata": {},
   "source": [
    "### SVC"
   ]
  },
  {
   "cell_type": "code",
   "execution_count": 12,
   "metadata": {},
   "outputs": [
    {
     "name": "stdout",
     "output_type": "stream",
     "text": [
      "+ Base learner\n",
      "\tTrain metrics\n",
      "BCA_train: 0.8742581184466373\n",
      "mAUC_train: 0.9734689228255405\n",
      "\tTest metrics\n",
      "BCA_test: 0.8875677672984548\n",
      "mAUC_test: 0.9687040772441198\n"
     ]
    },
    {
     "data": {
      "image/png": "[encoded data removed]",
      "text/plain": [
       "<Figure size 576x576 with 1 Axes>"
      ]
     },
     "metadata": {
      "needs_background": "light"
     },
     "output_type": "display_data"
    },
    {
     "name": "stdout",
     "output_type": "stream",
     "text": [
      "\n",
      "+ Ensemble\n",
      "\tTrain metrics\n",
      "BCA_train: 0.8224248426587194\n",
      "mAUC_train: 0.9618717801068528\n",
      "\tTest metrics\n",
      "BCA_test: 0.8197471636167596\n",
      "mAUC_test: 0.9640189718148613\n"
     ]
    },
    {
     "data": {
      "image/png": "[encoded data removed]",
      "text/plain": [
       "<Figure size 576x576 with 1 Axes>"
      ]
     },
     "metadata": {
      "needs_background": "light"
     },
     "output_type": "display_data"
    }
   ],
   "source": [
    "evaluate(SVC, True, probability=True)"
   ]
  },
  {
   "cell_type": "markdown",
   "metadata": {},
   "source": [
    "### LRA"
   ]
  },
  {
   "cell_type": "code",
   "execution_count": 14,
   "metadata": {},
   "outputs": [
    {
     "name": "stdout",
     "output_type": "stream",
     "text": [
      "+ Base learner\n",
      "\tTrain metrics\n",
      "BCA_train: 0.8023542889506744\n",
      "mAUC_train: 0.9580339457377018\n",
      "\tTest metrics\n",
      "BCA_test: 0.8248129773997951\n",
      "mAUC_test: 0.9674944120372895\n"
     ]
    },
    {
     "data": {
      "image/png": "[encoded data removed]",
      "text/plain": [
       "<Figure size 576x576 with 1 Axes>"
      ]
     },
     "metadata": {
      "needs_background": "light"
     },
     "output_type": "display_data"
    },
    {
     "name": "stdout",
     "output_type": "stream",
     "text": [
      "\n",
      "+ Ensemble\n",
      "\tTrain metrics\n",
      "BCA_train: 0.715503340662802\n",
      "mAUC_train: 0.9420457565556343\n",
      "\tTest metrics\n",
      "BCA_test: 0.7167269379175828\n",
      "mAUC_test: 0.9529407221646768\n"
     ]
    },
    {
     "data": {
      "image/png": "[encoded data removed]",
      "text/plain": [
       "<Figure size 576x576 with 1 Axes>"
      ]
     },
     "metadata": {
      "needs_background": "light"
     },
     "output_type": "display_data"
    }
   ],
   "source": [
    "evaluate(LogisticRegression, True)"
   ]
  },
  {
   "cell_type": "markdown",
   "metadata": {},
   "source": [
    "### ANN"
   ]
  },
  {
   "cell_type": "code",
   "execution_count": 13,
   "metadata": {},
   "outputs": [
    {
     "name": "stdout",
     "output_type": "stream",
     "text": [
      "+ Base learner\n",
      "\tTrain metrics\n",
      "BCA_train: 0.878439095749514\n",
      "mAUC_train: 0.9726142598296655\n",
      "\tTest metrics\n",
      "BCA_test: 0.9139508259281469\n",
      "mAUC_test: 0.9757447588241351\n"
     ]
    },
    {
     "data": {
      "image/png": "[encoded data removed]",
      "text/plain": [
       "<Figure size 576x576 with 1 Axes>"
      ]
     },
     "metadata": {
      "needs_background": "light"
     },
     "output_type": "display_data"
    },
    {
     "name": "stdout",
     "output_type": "stream",
     "text": [
      "\n",
      "+ Ensemble\n",
      "\tTrain metrics\n",
      "BCA_train: 0.7914644248184292\n",
      "mAUC_train: 0.953598822136207\n",
      "\tTest metrics\n",
      "BCA_test: 0.8328451059138514\n",
      "mAUC_test: 0.9675784586309036\n"
     ]
    },
    {
     "data": {
      "image/png": "[encoded data removed]",
      "text/plain": [
       "<Figure size 576x576 with 1 Axes>"
      ]
     },
     "metadata": {
      "needs_background": "light"
     },
     "output_type": "display_data"
    }
   ],
   "source": [
    "evaluate(MLPClassifier, True)"
   ]
  },
  {
   "cell_type": "markdown",
   "metadata": {},
   "source": [
    "## Grid Search"
   ]
  },
  {
   "cell_type": "code",
   "execution_count": 2,
   "metadata": {},
   "outputs": [],
   "source": [
    "from sklearn.metrics import make_scorer\n",
    "\n",
    "from tadpole import Tadpole\n",
    "from classifier import Classifier\n",
    "from main import run, get_params"
   ]
  },
  {
   "cell_type": "code",
   "execution_count": 3,
   "metadata": {},
   "outputs": [],
   "source": [
    "tp = Tadpole()\n",
    "_ = tp.split(random_state=0)"
   ]
  },
  {
   "cell_type": "code",
   "execution_count": 4,
   "metadata": {},
   "outputs": [],
   "source": [
    "bag_params = {\n",
    "    'n_estimators': [10, 50, 100],\n",
    "    'max_samples': np.arange(0.1, 1, 0.1)\n",
    "}"
   ]
  },
  {
   "cell_type": "code",
   "execution_count": 12,
   "metadata": {},
   "outputs": [],
   "source": [
    "scoring = {'BA': make_scorer(balanced_accuracy_score)}\n",
    "n_jobs=8"
   ]
  },
  {
   "cell_type": "code",
   "execution_count": 6,
   "metadata": {},
   "outputs": [],
   "source": [
    "def report_cv(base_learner, cv_best):\n",
    "    print('Best params:', cv_best.best_params_, '\\n')\n",
    "\n",
    "    print('-'*5,'Default', '-'*5)\n",
    "    clf = Classifier(BaggingClassifier(base_estimator=base_learner))\n",
    "    _ = clf.fit_predict(tp.X_train, tp.y_train, tp.X_test, tp.y_test, verbose=True)\n",
    "\n",
    "    print('\\n', '-'*5,'Best', '-'*5)\n",
    "    clf = Classifier(cv_best.best_estimator_)\n",
    "    _ = clf.fit_predict(tp.X_train, tp.y_train, tp.X_test, tp.y_test, verbose=True)"
   ]
  },
  {
   "cell_type": "markdown",
   "metadata": {},
   "source": [
    "### DTC"
   ]
  },
  {
   "cell_type": "code",
   "execution_count": 30,
   "metadata": {},
   "outputs": [],
   "source": [
    "params_dtc = get_params('dtc')\n",
    "dtc = DecisionTreeClassifier()\n",
    "dtc.set_params(**params_dtc)\n",
    "bag_dtc = BaggingClassifier(base_estimator=dtc, warm_start=True, random_state=0)"
   ]
  },
  {
   "cell_type": "code",
   "execution_count": 31,
   "metadata": {},
   "outputs": [
    {
     "name": "stdout",
     "output_type": "stream",
     "text": [
      "Fitting 5 folds for each of 27 candidates, totalling 135 fits\n"
     ]
    },
    {
     "name": "stderr",
     "output_type": "stream",
     "text": [
      "[Parallel(n_jobs=8)]: Using backend LokyBackend with 8 concurrent workers.\n",
      "[Parallel(n_jobs=8)]: Done  25 tasks      | elapsed:    2.7s\n",
      "[Parallel(n_jobs=8)]: Done 135 out of 135 | elapsed:    5.8s finished\n"
     ]
    }
   ],
   "source": [
    "bag_dtc_cv = tp.gridsearch(bag_params, bag_dtc, scoring, n_jobs=n_jobs)"
   ]
  },
  {
   "cell_type": "code",
   "execution_count": 32,
   "metadata": {},
   "outputs": [
    {
     "name": "stdout",
     "output_type": "stream",
     "text": [
      "Best params: {'max_samples': 0.9, 'n_estimators': 100} \n",
      "\n",
      "----- Default -----\n",
      "# Train metrics\n",
      "BCA_train: 0.8416057139568833\n",
      "mAUC_train: 0.9501681026519351\n",
      "# Test metrics\n",
      "BCA_test: 0.8819879820942896\n",
      "mAUC_test: 0.963877682676407\n",
      "\n",
      " ----- Best -----\n",
      "# Train metrics\n",
      "BCA_train: 0.856944823032704\n",
      "mAUC_train: 0.9526995803727732\n",
      "# Test metrics\n",
      "BCA_test: 0.8954369514256119\n",
      "mAUC_test: 0.9615083259130035\n"
     ]
    }
   ],
   "source": [
    "report_cv(dtc, bag_dtc_cv)"
   ]
  },
  {
   "cell_type": "markdown",
   "metadata": {},
   "source": [
    "### SVC"
   ]
  },
  {
   "cell_type": "code",
   "execution_count": 19,
   "metadata": {},
   "outputs": [],
   "source": [
    "params_svc = get_params('svc')\n",
    "svc = SVC(probability=True)\n",
    "svc.set_params(**params_svc)\n",
    "bag_svc = BaggingClassifier(base_estimator=svc, warm_start=True, random_state=0)"
   ]
  },
  {
   "cell_type": "code",
   "execution_count": 20,
   "metadata": {},
   "outputs": [
    {
     "name": "stdout",
     "output_type": "stream",
     "text": [
      "Fitting 5 folds for each of 27 candidates, totalling 135 fits\n"
     ]
    },
    {
     "name": "stderr",
     "output_type": "stream",
     "text": [
      "[Parallel(n_jobs=8)]: Using backend LokyBackend with 8 concurrent workers.\n",
      "[Parallel(n_jobs=8)]: Done  34 tasks      | elapsed:    6.1s\n",
      "[Parallel(n_jobs=8)]: Done 135 out of 135 | elapsed:  2.4min finished\n"
     ]
    }
   ],
   "source": [
    "bag_svc_cv = tp.gridsearch(bag_params, bag_svc, scoring, n_jobs=n_jobs)"
   ]
  },
  {
   "cell_type": "code",
   "execution_count": 21,
   "metadata": {},
   "outputs": [
    {
     "name": "stdout",
     "output_type": "stream",
     "text": [
      "Best params: {'max_samples': 0.7000000000000001, 'n_estimators': 10} \n",
      "\n",
      "----- Default -----\n",
      "# Train metrics\n",
      "BCA_train: 0.8824961232562224\n",
      "mAUC_train: 0.9700035435861092\n",
      "# Test metrics\n",
      "BCA_test: 0.9217567100983118\n",
      "mAUC_test: 0.9751626415162914\n",
      "\n",
      " ----- Best -----\n",
      "# Train metrics\n",
      "BCA_train: 0.8760544440204256\n",
      "mAUC_train: 0.9682804559111258\n",
      "# Test metrics\n",
      "BCA_test: 0.9234661118077135\n",
      "mAUC_test: 0.9721496847116975\n"
     ]
    }
   ],
   "source": [
    "report_cv(svc, bag_svc_cv)"
   ]
  },
  {
   "cell_type": "markdown",
   "metadata": {},
   "source": [
    "### LRA"
   ]
  },
  {
   "cell_type": "code",
   "execution_count": 16,
   "metadata": {},
   "outputs": [],
   "source": [
    "params_lra = get_params('lra')\n",
    "lra = LogisticRegression()\n",
    "lra.set_params(**params_lra)\n",
    "bag_lra = BaggingClassifier(base_estimator=lra, warm_start=True, random_state=0)"
   ]
  },
  {
   "cell_type": "code",
   "execution_count": 17,
   "metadata": {},
   "outputs": [
    {
     "name": "stdout",
     "output_type": "stream",
     "text": [
      "Fitting 5 folds for each of 27 candidates, totalling 135 fits\n"
     ]
    },
    {
     "name": "stderr",
     "output_type": "stream",
     "text": [
      "[Parallel(n_jobs=8)]: Using backend LokyBackend with 8 concurrent workers.\n",
      "[Parallel(n_jobs=8)]: Done  25 tasks      | elapsed:    1.1s\n",
      "[Parallel(n_jobs=8)]: Done 135 out of 135 | elapsed:    6.2s finished\n"
     ]
    }
   ],
   "source": [
    "bag_lra_cv = tp.gridsearch(bag_params, bag_lra, scoring, n_jobs=n_jobs)"
   ]
  },
  {
   "cell_type": "code",
   "execution_count": 18,
   "metadata": {},
   "outputs": [
    {
     "name": "stdout",
     "output_type": "stream",
     "text": [
      "Best params: {'max_samples': 0.9, 'n_estimators': 50} \n",
      "\n",
      "----- Default -----\n",
      "# Train metrics\n",
      "BCA_train: 0.8905702750670859\n",
      "mAUC_train: 0.9657406492485779\n",
      "# Test metrics\n",
      "BCA_test: 0.9215304657544204\n",
      "mAUC_test: 0.9714730717742767\n",
      "\n",
      " ----- Best -----\n",
      "# Train metrics\n",
      "BCA_train: 0.8901429246397354\n",
      "mAUC_train: 0.9660760595171031\n",
      "# Test metrics\n",
      "BCA_test: 0.9183379066795084\n",
      "mAUC_test: 0.9723115690514698\n"
     ]
    }
   ],
   "source": [
    "report_cv(lra, bag_lra_cv)"
   ]
  },
  {
   "cell_type": "markdown",
   "metadata": {},
   "source": [
    "### ANN"
   ]
  },
  {
   "cell_type": "code",
   "execution_count": 23,
   "metadata": {},
   "outputs": [],
   "source": [
    "# More modest grid search for ANN\n",
    "# Reason: cannot run the other parameters due to CPU reaching temperatures close to overheating due to the longer run time\n",
    "bag_params_ann = {\n",
    "    'n_estimators': [10, 20, 50],\n",
    "    'max_samples': np.arange(0.1, 1, 0.2)\n",
    "}\n",
    "\n",
    "# Cannot run these either as the same problem remains (CPU 95+ degrees after a few minutes)"
   ]
  },
  {
   "cell_type": "code",
   "execution_count": 26,
   "metadata": {},
   "outputs": [],
   "source": [
    "# Even more modest grid search for ANN\n",
    "# Reason: see cell above\n",
    "bag_params_ann = {\n",
    "    'n_estimators': [10],\n",
    "    'max_samples': np.arange(0.1, 1, 0.2)\n",
    "}"
   ]
  },
  {
   "cell_type": "code",
   "execution_count": 27,
   "metadata": {},
   "outputs": [],
   "source": [
    "params_ann = get_params('ann')\n",
    "ann = MLPClassifier()\n",
    "ann.set_params(**params_ann)\n",
    "bag_ann = BaggingClassifier(base_estimator=ann, warm_start=True, random_state=0)"
   ]
  },
  {
   "cell_type": "code",
   "execution_count": 28,
   "metadata": {},
   "outputs": [
    {
     "name": "stdout",
     "output_type": "stream",
     "text": [
      "Fitting 5 folds for each of 5 candidates, totalling 25 fits\n"
     ]
    },
    {
     "name": "stderr",
     "output_type": "stream",
     "text": [
      "[Parallel(n_jobs=8)]: Using backend LokyBackend with 8 concurrent workers.\n",
      "[Parallel(n_jobs=8)]: Done  23 out of  25 | elapsed:   58.3s remaining:    5.0s\n",
      "[Parallel(n_jobs=8)]: Done  25 out of  25 | elapsed:  1.1min finished\n"
     ]
    }
   ],
   "source": [
    "bag_ann_cv = tp.gridsearch(bag_params_ann, bag_ann, scoring, n_jobs=n_jobs)"
   ]
  },
  {
   "cell_type": "code",
   "execution_count": 29,
   "metadata": {},
   "outputs": [
    {
     "name": "stdout",
     "output_type": "stream",
     "text": [
      "Best params: {'max_samples': 0.7000000000000001, 'n_estimators': 10} \n",
      "\n",
      "----- Default -----\n",
      "# Train metrics\n",
      "BCA_train: 0.8929642400673584\n",
      "mAUC_train: 0.9804687831264727\n",
      "# Test metrics\n",
      "BCA_test: 0.9156602276375486\n",
      "mAUC_test: 0.9771282717597388\n",
      "\n",
      " ----- Best -----\n",
      "# Train metrics\n",
      "BCA_train: 0.8847156347865065\n",
      "mAUC_train: 0.9789102109796652\n",
      "# Test metrics\n",
      "BCA_test: 0.9108206581984044\n",
      "mAUC_test: 0.9754742953715313\n"
     ]
    }
   ],
   "source": [
    "report_cv(ann, bag_ann_cv)"
   ]
  }
 ],
 "metadata": {
  "kernelspec": {
   "display_name": "Python 3",
   "language": "python",
   "name": "python3"
  },
  "language_info": {
   "codemirror_mode": {
    "name": "ipython",
    "version": 3
   },
   "file_extension": ".py",
   "mimetype": "text/x-python",
   "name": "python",
   "nbconvert_exporter": "python",
   "pygments_lexer": "ipython3",
   "version": "3.8.1"
  }
 },
 "nbformat": 4,
 "nbformat_minor": 4
}
