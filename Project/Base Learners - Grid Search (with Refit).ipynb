{
 "cells": [
  {
   "cell_type": "markdown",
   "metadata": {},
   "source": [
    "# Base Leaners - Grid Search (with Refit)\n",
    "\n",
    "Performing grid search on base learners to find best parameters for each base learner. Refit data using `sfm` model from Feature Importances Experiment."
   ]
  },
  {
   "cell_type": "code",
   "execution_count": 1,
   "metadata": {},
   "outputs": [],
   "source": [
    "# import libraries\n",
    "import warnings\n",
    "import pandas as pd\n",
    "import numpy as np\n",
    "\n",
    "warnings.filterwarnings(action='ignore')\n",
    "\n",
    "# import custom class\n",
    "from tadpole import Tadpole\n",
    "\n",
    "# base learners\n",
    "from sklearn.tree import DecisionTreeClassifier\n",
    "from sklearn.svm import SVC\n",
    "from sklearn.neural_network import MLPClassifier\n",
    "from sklearn.linear_model import LogisticRegression\n",
    "\n",
    "# metrics\n",
    "from sklearn.metrics import balanced_accuracy_score, roc_auc_score\n",
    "from sklearn.metrics import confusion_matrix, make_scorer\n",
    "\n",
    "# import visualization library\n",
    "from matplotlib import pyplot as plt\n",
    "import seaborn as sns\n",
    "\n",
    "\n",
    "# set seed (for reproducibility)\n",
    "np.random.seed(43)\n",
    "\n",
    "%matplotlib inline\n",
    "sns.set(style='whitegrid', palette=\"deep\", font_scale=0.7, rc={\"figure.figsize\": [8, 5]})"
   ]
  },
  {
   "cell_type": "markdown",
   "metadata": {},
   "source": [
    "### Data Loading + Pre-processing"
   ]
  },
  {
   "cell_type": "code",
   "execution_count": 2,
   "metadata": {},
   "outputs": [
    {
     "name": "stdout",
     "output_type": "stream",
     "text": [
      "loading tadpole dataset\n",
      "pre-processing dataset\n"
     ]
    }
   ],
   "source": [
    "# load and pre-process tadpole dataset\n",
    "tp = Tadpole(debug=True)"
   ]
  },
  {
   "cell_type": "code",
   "execution_count": 3,
   "metadata": {},
   "outputs": [
    {
     "name": "stdout",
     "output_type": "stream",
     "text": [
      "splitting dataset to train and test datasets\n",
      "refitting data\n"
     ]
    }
   ],
   "source": [
    "# train-test split\n",
    "X_train, X_test, y_train, y_test = tp.split(refit=True)"
   ]
  },
  {
   "cell_type": "code",
   "execution_count": 4,
   "metadata": {},
   "outputs": [],
   "source": [
    "# import variables from class instance (notebook compatibility)\n",
    "X, y, label_dict = tp.X, tp.y, tp.label_dict"
   ]
  },
  {
   "cell_type": "code",
   "execution_count": 5,
   "metadata": {},
   "outputs": [],
   "source": [
    "# define scoring parameter\n",
    "scoring = {'BA': make_scorer(balanced_accuracy_score)}"
   ]
  },
  {
   "cell_type": "markdown",
   "metadata": {},
   "source": [
    "Helper Functions"
   ]
  },
  {
   "cell_type": "code",
   "execution_count": 6,
   "metadata": {},
   "outputs": [],
   "source": [
    "def showConfusionMatrix(clf, X, y):\n",
    "    cm = confusion_matrix(y, clf.predict(X))\n",
    "    fig, ax = plt.subplots(figsize=(8, 8))\n",
    "    ax.imshow(cm, cmap='GnBu')\n",
    "    ax.grid(False)\n",
    "\n",
    "    # For 3 categories\n",
    "    ax.xaxis.set(ticks=(0, 1, 2), ticklabels=('Predicted ' + label_dict[0], 'Predicted ' + label_dict[1], \n",
    "                                              'Predicted ' + label_dict[2]))\n",
    "    ax.yaxis.set(ticks=(0, 1, 2), ticklabels=('Actual ' + label_dict[0], 'Actual ' + label_dict[1], \n",
    "                                              'Actual ' + label_dict[2]))\n",
    "\n",
    "    for i in range(3):\n",
    "        for j in range(3):\n",
    "            ax.text(j, i, cm[i, j], ha='center', va='center', color='black')\n",
    "    plt.title('Test Data Confusion Matrix')\n",
    "    plt.show()\n",
    "    \n",
    "def computeMetrics(model, X, y):\n",
    "    \"\"\"\n",
    "    @description:\n",
    "        function to compute performance metrics\n",
    "    @arguments:\n",
    "        model (sklearn) - trained model\n",
    "        X (np.array) - features\n",
    "        y (np.array) - target\n",
    "    \"\"\"\n",
    "    y_pred = model.predict(X)\n",
    "    y_prob = model.predict_proba(X)\n",
    "    BCA = balanced_accuracy_score(y, y_pred)\n",
    "    mAUC = roc_auc_score(y, y_prob, multi_class=\"ovr\", average=\"macro\")\n",
    "    return BCA, mAUC\n",
    "\n",
    "def report(model):\n",
    "    \"\"\"\n",
    "    @description:\n",
    "        function to report trained model performance\n",
    "    @arguments:\n",
    "        model (sklearn) - trained model\n",
    "    \"\"\"\n",
    "    score_train = model.score(X_train, y_train)\n",
    "    score_test = model.score(X_test, y_test)\n",
    "    BCA_train, mAUC_train = computeMetrics(model, X_train, y_train)\n",
    "    BCA_test, mAUC_test = computeMetrics(model, X_test, y_test)\n",
    "    print(\"========Model Evaluation Report========\")\n",
    "    print(\"Train Score: \", score_train)\n",
    "    print(\"Test Score: \", score_test)\n",
    "    print(\"=======================================\")\n",
    "    print(\"Train BCA: {:.3f} | Train AUC: {:.3f}\".format(BCA_train, mAUC_train))\n",
    "    print(\"Test BCA: {:.3f} | Test AUC: {:.3f}\".format(BCA_test, mAUC_test))\n",
    "    print(\"=======================================\")\n",
    "    showConfusionMatrix(model, X_test, y_test)\n",
    "    return [score_train, score_test, BCA_train, BCA_test, mAUC_train, mAUC_test]\n",
    "\n",
    "def evaluate(baselearners):\n",
    "    \"\"\"\n",
    "    @description:\n",
    "        function to evaluate base learners\n",
    "    @arguments:\n",
    "        baselearners (sklearn) - list of trained models\n",
    "    \"\"\"\n",
    "    metrics = []\n",
    "    for name, model in baselearners.items():\n",
    "        print(name)\n",
    "        results = report(model)\n",
    "        metrics.append([name] + results)\n",
    "    return metrics"
   ]
  },
  {
   "cell_type": "markdown",
   "metadata": {},
   "source": [
    "### Grid Search: Model Training"
   ]
  },
  {
   "cell_type": "code",
   "execution_count": 7,
   "metadata": {},
   "outputs": [],
   "source": [
    "# define search grids\n",
    "lra_param_grid = {'penalty'            : ['l1', 'l2'],\n",
    "                  'dual'               : [True, False],\n",
    "                  'tol'                : [1e-4, 1e-3, 1e-2, 0.1, 1],\n",
    "                  'C'                  : np.logspace(-4, 4, 20),\n",
    "                  'class_weight'       : [None, 'balanced'],\n",
    "                  'solver'             : ['newton-cg', 'lbfgs', 'liblinear', 'sag', 'saga']}\n",
    "\n",
    "dtc_param_grid = {'criterion'          : ['gini', 'entropy'], \n",
    "                  'splitter'           : ['best', 'random'], \n",
    "                  'max_depth'          : [6, 7, 8, 9, 10, None], \n",
    "                  'min_samples_split'  : np.linspace(0.1, 2.0, 20, endpoint=True), \n",
    "                  'min_samples_leaf'   : np.linspace(0.1, 1, 10, endpoint=True), \n",
    "                  'max_features'       : ['auto', 'sqrt', 'log2'], \n",
    "                  'class_weight'       : [None, 'balanced']}\n",
    "\n",
    "mlp_param_grid = {'hidden_layer_sizes' : [(50,50,50), (50,100,50), (100,)],\n",
    "                  'activation'         : ['tanh', 'relu'],\n",
    "                  'solver'             : ['sgd', 'adam'],\n",
    "                  'alpha'              : [0.0001, 0.05], \n",
    "                  'learning_rate'      : ['constant','adaptive']}\n",
    "\n",
    "svm_param_grid = {'kernel'             : ['rbf', 'linear'], \n",
    "                  'gamma'              : [1e-3, 1e-4], \n",
    "                  'tol'                : [1e-3, 1e-2, 0.1, 1],\n",
    "                  'class_weight'       : [None, 'balanced'],\n",
    "                  'C'                  : [1, 10, 100, 1000]}"
   ]
  },
  {
   "cell_type": "markdown",
   "metadata": {},
   "source": [
    "#### Logistic Regression (LRA)"
   ]
  },
  {
   "cell_type": "code",
   "execution_count": 8,
   "metadata": {},
   "outputs": [
    {
     "name": "stdout",
     "output_type": "stream",
     "text": [
      "performing grid search\n",
      "Fitting 5 folds for each of 4000 candidates, totalling 20000 fits\n"
     ]
    },
    {
     "name": "stderr",
     "output_type": "stream",
     "text": [
      "[Parallel(n_jobs=4)]: Using backend LokyBackend with 4 concurrent workers.\n",
      "[Parallel(n_jobs=4)]: Done 299 tasks      | elapsed:    1.0s\n",
      "[Parallel(n_jobs=4)]: Done 17415 tasks      | elapsed:   20.3s\n"
     ]
    },
    {
     "name": "stdout",
     "output_type": "stream",
     "text": [
      "convergence after 14 epochs took 0 seconds\n"
     ]
    },
    {
     "name": "stderr",
     "output_type": "stream",
     "text": [
      "[Parallel(n_jobs=4)]: Done 20000 out of 20000 | elapsed:   28.6s finished\n",
      "[Parallel(n_jobs=1)]: Using backend SequentialBackend with 1 concurrent workers.\n",
      "[Parallel(n_jobs=1)]: Done   1 out of   1 | elapsed:    0.0s remaining:    0.0s\n",
      "[Parallel(n_jobs=1)]: Done   1 out of   1 | elapsed:    0.0s finished\n"
     ]
    }
   ],
   "source": [
    "# define and train\n",
    "lra = LogisticRegression(verbose=2, multi_class='auto')\n",
    "lra_cv = tp.gridsearch(lra_param_grid, lra, scoring)"
   ]
  },
  {
   "cell_type": "markdown",
   "metadata": {},
   "source": [
    "#### Decision Trees (DT)"
   ]
  },
  {
   "cell_type": "code",
   "execution_count": 9,
   "metadata": {},
   "outputs": [
    {
     "name": "stderr",
     "output_type": "stream",
     "text": [
      "[Parallel(n_jobs=4)]: Using backend LokyBackend with 4 concurrent workers.\n"
     ]
    },
    {
     "name": "stdout",
     "output_type": "stream",
     "text": [
      "performing grid search\n",
      "Fitting 5 folds for each of 28800 candidates, totalling 144000 fits\n"
     ]
    },
    {
     "name": "stderr",
     "output_type": "stream",
     "text": [
      "[Parallel(n_jobs=4)]: Done 1974 tasks      | elapsed:    0.9s\n",
      "[Parallel(n_jobs=4)]: Done 15284 tasks      | elapsed:    5.7s\n",
      "[Parallel(n_jobs=4)]: Done 37614 tasks      | elapsed:   14.3s\n",
      "[Parallel(n_jobs=4)]: Done 68744 tasks      | elapsed:   29.8s\n",
      "[Parallel(n_jobs=4)]: Done 108894 tasks      | elapsed:   52.5s\n",
      "[Parallel(n_jobs=4)]: Done 144000 out of 144000 | elapsed:  1.2min finished\n"
     ]
    }
   ],
   "source": [
    "# define and train\n",
    "dtc = DecisionTreeClassifier()\n",
    "dtc_cv = tp.gridsearch(dtc_param_grid, dtc, scoring)"
   ]
  },
  {
   "cell_type": "markdown",
   "metadata": {},
   "source": [
    "#### Multi-layer Perceptron (ANN)"
   ]
  },
  {
   "cell_type": "code",
   "execution_count": 10,
   "metadata": {
    "scrolled": true
   },
   "outputs": [
    {
     "name": "stdout",
     "output_type": "stream",
     "text": [
      "performing grid search\n",
      "Fitting 5 folds for each of 48 candidates, totalling 240 fits\n"
     ]
    },
    {
     "name": "stderr",
     "output_type": "stream",
     "text": [
      "[Parallel(n_jobs=4)]: Using backend LokyBackend with 4 concurrent workers.\n",
      "[Parallel(n_jobs=4)]: Done  33 tasks      | elapsed:   16.2s\n",
      "[Parallel(n_jobs=4)]: Done 154 tasks      | elapsed:  1.1min\n",
      "[Parallel(n_jobs=4)]: Done 240 out of 240 | elapsed:  1.6min finished\n"
     ]
    },
    {
     "name": "stdout",
     "output_type": "stream",
     "text": [
      "Iteration 1, loss = 1.11846237\n",
      "Iteration 2, loss = 0.97775571\n",
      "Iteration 3, loss = 0.85681627\n",
      "Iteration 4, loss = 0.78917478\n",
      "Iteration 5, loss = 0.70573337\n",
      "Iteration 6, loss = 0.64334846\n",
      "Iteration 7, loss = 0.58799431\n",
      "Iteration 8, loss = 0.54359692\n",
      "Iteration 9, loss = 0.50861003\n",
      "Iteration 10, loss = 0.47748466\n",
      "Iteration 11, loss = 0.45106926\n",
      "Iteration 12, loss = 0.43014231\n",
      "Iteration 13, loss = 0.41017752\n",
      "Iteration 14, loss = 0.39371487\n",
      "Iteration 15, loss = 0.38343601\n",
      "Iteration 16, loss = 0.37295819\n",
      "Iteration 17, loss = 0.36254758\n",
      "Iteration 18, loss = 0.35489903\n",
      "Iteration 19, loss = 0.35151622\n",
      "Iteration 20, loss = 0.35219515\n",
      "Iteration 21, loss = 0.34381275\n",
      "Iteration 22, loss = 0.33559722\n",
      "Iteration 23, loss = 0.33133065\n",
      "Iteration 24, loss = 0.32736541\n",
      "Iteration 25, loss = 0.32361410\n",
      "Iteration 26, loss = 0.32150969\n",
      "Iteration 27, loss = 0.32819569\n",
      "Iteration 28, loss = 0.31704117\n",
      "Iteration 29, loss = 0.31429237\n",
      "Iteration 30, loss = 0.31677300\n",
      "Iteration 31, loss = 0.31504523\n",
      "Iteration 32, loss = 0.31371176\n",
      "Iteration 33, loss = 0.31820813\n",
      "Iteration 34, loss = 0.31303208\n",
      "Iteration 35, loss = 0.30602058\n",
      "Iteration 36, loss = 0.31049311\n",
      "Iteration 37, loss = 0.30839521\n",
      "Iteration 38, loss = 0.30229208\n",
      "Iteration 39, loss = 0.31003182\n",
      "Iteration 40, loss = 0.30536495\n",
      "Iteration 41, loss = 0.30695045\n",
      "Iteration 42, loss = 0.30782219\n",
      "Iteration 43, loss = 0.30307833\n",
      "Iteration 44, loss = 0.29984293\n",
      "Iteration 45, loss = 0.30303667\n",
      "Iteration 46, loss = 0.30041272\n",
      "Iteration 47, loss = 0.30919063\n",
      "Iteration 48, loss = 0.31332177\n",
      "Iteration 49, loss = 0.30897730\n",
      "Iteration 50, loss = 0.30235842\n",
      "Iteration 51, loss = 0.29891621\n",
      "Iteration 52, loss = 0.29741603\n",
      "Iteration 53, loss = 0.29886929\n",
      "Iteration 54, loss = 0.29794706\n",
      "Iteration 55, loss = 0.29901870\n",
      "Iteration 56, loss = 0.29797911\n",
      "Iteration 57, loss = 0.29806935\n",
      "Iteration 58, loss = 0.30567319\n",
      "Iteration 59, loss = 0.30090887\n",
      "Iteration 60, loss = 0.29910138\n",
      "Iteration 61, loss = 0.29818738\n",
      "Iteration 62, loss = 0.29758713\n",
      "Iteration 63, loss = 0.30155983\n",
      "Training loss did not improve more than tol=0.000100 for 10 consecutive epochs. Stopping.\n"
     ]
    }
   ],
   "source": [
    "# define and train\n",
    "mlp = MLPClassifier(verbose=True)\n",
    "mlp_cv = tp.gridsearch(mlp_param_grid, mlp, scoring)"
   ]
  },
  {
   "cell_type": "markdown",
   "metadata": {},
   "source": [
    "#### SVM"
   ]
  },
  {
   "cell_type": "code",
   "execution_count": 11,
   "metadata": {},
   "outputs": [
    {
     "name": "stdout",
     "output_type": "stream",
     "text": [
      "performing grid search\n",
      "Fitting 5 folds for each of 128 candidates, totalling 640 fits\n"
     ]
    },
    {
     "name": "stderr",
     "output_type": "stream",
     "text": [
      "[Parallel(n_jobs=4)]: Using backend LokyBackend with 4 concurrent workers.\n",
      "[Parallel(n_jobs=4)]: Done  58 tasks      | elapsed:    1.5s\n",
      "[Parallel(n_jobs=4)]: Done 300 tasks      | elapsed:    8.7s\n",
      "[Parallel(n_jobs=4)]: Done 629 tasks      | elapsed:   31.0s\n"
     ]
    },
    {
     "name": "stdout",
     "output_type": "stream",
     "text": [
      "[LibSVM]"
     ]
    },
    {
     "name": "stderr",
     "output_type": "stream",
     "text": [
      "[Parallel(n_jobs=4)]: Done 640 out of 640 | elapsed:   32.3s finished\n"
     ]
    }
   ],
   "source": [
    "# define and train\n",
    "svm = SVC(verbose=True, probability=True)\n",
    "svm_cv = tp.gridsearch(svm_param_grid, svm, scoring)"
   ]
  },
  {
   "cell_type": "markdown",
   "metadata": {},
   "source": [
    "### Grid Search: Evaluation"
   ]
  },
  {
   "cell_type": "code",
   "execution_count": 12,
   "metadata": {},
   "outputs": [],
   "source": [
    "# define dictionary of all baselearners\n",
    "baselearners = {'LRA': lra_cv.best_estimator_, 'DT': dtc_cv.best_estimator_, \n",
    "                'ANN': mlp_cv.best_estimator_, 'SVM': svm_cv.best_estimator_}"
   ]
  },
  {
   "cell_type": "code",
   "execution_count": 13,
   "metadata": {},
   "outputs": [
    {
     "name": "stdout",
     "output_type": "stream",
     "text": [
      "LRA\n",
      "========Model Evaluation Report========\n",
      "Train Score:  0.869942196531792\n",
      "Test Score:  0.8901734104046243\n",
      "=======================================\n",
      "Train BCA: 0.891 | Train AUC: 0.966\n",
      "Test BCA: 0.911 | Test AUC: 0.972\n",
      "=======================================\n"
     ]
    },
    {
     "data": {
      "image/png": "[encoded data removed]",
      "text/plain": [
       "<Figure size 576x576 with 1 Axes>"
      ]
     },
     "metadata": {
      "needs_background": "light"
     },
     "output_type": "display_data"
    },
    {
     "name": "stdout",
     "output_type": "stream",
     "text": [
      "DT\n",
      "========Model Evaluation Report========\n",
      "Train Score:  0.8735549132947977\n",
      "Test Score:  0.8959537572254336\n",
      "=======================================\n",
      "Train BCA: 0.891 | Train AUC: 0.963\n",
      "Test BCA: 0.908 | Test AUC: 0.961\n",
      "=======================================\n"
     ]
    },
    {
     "data": {
      "image/png": "[encoded data removed]",
      "text/plain": [
       "<Figure size 576x576 with 1 Axes>"
      ]
     },
     "metadata": {
      "needs_background": "light"
     },
     "output_type": "display_data"
    },
    {
     "name": "stdout",
     "output_type": "stream",
     "text": [
      "ANN\n",
      "========Model Evaluation Report========\n",
      "Train Score:  0.8728323699421965\n",
      "Test Score:  0.9132947976878613\n",
      "=======================================\n",
      "Train BCA: 0.875 | Train AUC: 0.966\n",
      "Test BCA: 0.915 | Test AUC: 0.971\n",
      "=======================================\n"
     ]
    },
    {
     "data": {
      "image/png": "[encoded data removed]",
      "text/plain": [
       "<Figure size 576x576 with 1 Axes>"
      ]
     },
     "metadata": {
      "needs_background": "light"
     },
     "output_type": "display_data"
    },
    {
     "name": "stdout",
     "output_type": "stream",
     "text": [
      "SVM\n",
      "========Model Evaluation Report========\n",
      "Train Score:  0.8713872832369942\n",
      "Test Score:  0.8901734104046243\n",
      "=======================================\n",
      "Train BCA: 0.894 | Train AUC: 0.959\n",
      "Test BCA: 0.914 | Test AUC: 0.972\n",
      "=======================================\n"
     ]
    },
    {
     "data": {
      "image/png": "[encoded data removed]",
      "text/plain": [
       "<Figure size 576x576 with 1 Axes>"
      ]
     },
     "metadata": {
      "needs_background": "light"
     },
     "output_type": "display_data"
    }
   ],
   "source": [
    "# evaluate\n",
    "metrics = evaluate(baselearners)"
   ]
  },
  {
   "cell_type": "code",
   "execution_count": 14,
   "metadata": {},
   "outputs": [
    {
     "name": "stdout",
     "output_type": "stream",
     "text": [
      "LRA: {'C': 3792.690190732246, 'class_weight': 'balanced', 'dual': False, 'penalty': 'l2', 'solver': 'sag', 'tol': 0.01}\n",
      "DT: {'class_weight': 'balanced', 'criterion': 'entropy', 'max_depth': None, 'max_features': 'auto', 'min_samples_leaf': 0.1, 'min_samples_split': 0.2, 'splitter': 'best'}\n",
      "MLP: {'activation': 'tanh', 'alpha': 0.0001, 'hidden_layer_sizes': (50, 100, 50), 'learning_rate': 'constant', 'solver': 'adam'}\n",
      "SVM: {'C': 10, 'class_weight': 'balanced', 'gamma': 0.001, 'kernel': 'linear', 'tol': 0.1}\n"
     ]
    }
   ],
   "source": [
    "# Best estimator parameter grid\n",
    "print(\"LRA:\", lra_cv.best_params_)\n",
    "print(\"DT:\", dtc_cv.best_params_)\n",
    "print(\"MLP:\", mlp_cv.best_params_)\n",
    "print(\"SVM:\", svm_cv.best_params_)"
   ]
  }
 ],
 "metadata": {
  "kernelspec": {
   "display_name": "Python 3",
   "language": "python",
   "name": "python3"
  },
  "language_info": {
   "codemirror_mode": {
    "name": "ipython",
    "version": 3
   },
   "file_extension": ".py",
   "mimetype": "text/x-python",
   "name": "python",
   "nbconvert_exporter": "python",
   "pygments_lexer": "ipython3",
   "version": "3.7.7"
  }
 },
 "nbformat": 4,
 "nbformat_minor": 2
}
