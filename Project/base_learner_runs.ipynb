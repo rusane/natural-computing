{
 "cells": [
  {
   "cell_type": "markdown",
   "metadata": {},
   "source": [
    "# Base Learner Runs\n",
    "\n",
    "This notebook runs the base learners $n$ times and saves the output to a CSV file separately for each base learner."
   ]
  },
  {
   "cell_type": "markdown",
   "metadata": {},
   "source": [
    "## Imports"
   ]
  },
  {
   "cell_type": "code",
   "execution_count": 1,
   "metadata": {},
   "outputs": [],
   "source": [
    "# sklearn\n",
    "from sklearn.tree import DecisionTreeClassifier\n",
    "from sklearn.svm import SVC\n",
    "from sklearn.linear_model import LogisticRegression\n",
    "from sklearn.neural_network import MLPClassifier\n",
    "\n",
    "# custom modules\n",
    "from tadpole import Tadpole\n",
    "from classifier import Classifier\n",
    "from main import run, get_params"
   ]
  },
  {
   "cell_type": "markdown",
   "metadata": {},
   "source": [
    "## Data Loading"
   ]
  },
  {
   "cell_type": "code",
   "execution_count": 2,
   "metadata": {},
   "outputs": [
    {
     "name": "stdout",
     "output_type": "stream",
     "text": [
      "Wall time: 4.47 s\n"
     ]
    }
   ],
   "source": [
    "%%time\n",
    "tp = Tadpole()"
   ]
  },
  {
   "cell_type": "code",
   "execution_count": null,
   "metadata": {},
   "outputs": [],
   "source": [
    "n_runs = 10 # change to 30 for final evaluation"
   ]
  },
  {
   "cell_type": "code",
   "execution_count": 6,
   "metadata": {},
   "outputs": [],
   "source": [
    "params_dtc = get_params('dtc')\n",
    "params_svc = get_params('svc')\n",
    "params_lra = get_params('lra')\n",
    "params_ann = get_params('ann')"
   ]
  },
  {
   "cell_type": "code",
   "execution_count": 7,
   "metadata": {},
   "outputs": [],
   "source": [
    "# dtc_out = './results/dtc.csv'\n",
    "# svc_out = './results/svc.csv'\n",
    "# lra_out = './results/lra.csv'\n",
    "# ann_out = './results/ann.csv'\n",
    "\n",
    "# Temporary\n",
    "dtc_out = None\n",
    "svc_out = None\n",
    "lra_out = None\n",
    "ann_out = None"
   ]
  },
  {
   "cell_type": "markdown",
   "metadata": {},
   "source": [
    "**NOTE:** Do we want to give a random state (seed) to the classifiers as well?"
   ]
  },
  {
   "cell_type": "markdown",
   "metadata": {},
   "source": [
    "## Base Learners"
   ]
  },
  {
   "cell_type": "markdown",
   "metadata": {},
   "source": [
    "### DTC"
   ]
  },
  {
   "cell_type": "markdown",
   "metadata": {},
   "source": [
    "**NOTE:** DTC with best params from grid search performs much worse at times (i.e., inconsistent) than default params."
   ]
  },
  {
   "cell_type": "code",
   "execution_count": 8,
   "metadata": {},
   "outputs": [
    {
     "name": "stderr",
     "output_type": "stream",
     "text": [
      "100%|██████████████████████████████████████████| 10/10 [00:00<00:00, 54.15it/s]\n"
     ]
    },
    {
     "data": {
      "text/html": [
       "<div>\n",
       "<style scoped>\n",
       "    .dataframe tbody tr th:only-of-type {\n",
       "        vertical-align: middle;\n",
       "    }\n",
       "\n",
       "    .dataframe tbody tr th {\n",
       "        vertical-align: top;\n",
       "    }\n",
       "\n",
       "    .dataframe thead th {\n",
       "        text-align: right;\n",
       "    }\n",
       "</style>\n",
       "<table border=\"1\" class=\"dataframe\">\n",
       "  <thead>\n",
       "    <tr style=\"text-align: right;\">\n",
       "      <th></th>\n",
       "      <th>BCA_train</th>\n",
       "      <th>BCA_test</th>\n",
       "      <th>mAUC_train</th>\n",
       "      <th>mAUC_test</th>\n",
       "    </tr>\n",
       "  </thead>\n",
       "  <tbody>\n",
       "    <tr>\n",
       "      <th>0</th>\n",
       "      <td>1.0</td>\n",
       "      <td>0.810912</td>\n",
       "      <td>1.0</td>\n",
       "      <td>0.858184</td>\n",
       "    </tr>\n",
       "    <tr>\n",
       "      <th>1</th>\n",
       "      <td>1.0</td>\n",
       "      <td>0.844235</td>\n",
       "      <td>1.0</td>\n",
       "      <td>0.883176</td>\n",
       "    </tr>\n",
       "    <tr>\n",
       "      <th>2</th>\n",
       "      <td>1.0</td>\n",
       "      <td>0.844793</td>\n",
       "      <td>1.0</td>\n",
       "      <td>0.883595</td>\n",
       "    </tr>\n",
       "    <tr>\n",
       "      <th>3</th>\n",
       "      <td>1.0</td>\n",
       "      <td>0.763211</td>\n",
       "      <td>1.0</td>\n",
       "      <td>0.822408</td>\n",
       "    </tr>\n",
       "    <tr>\n",
       "      <th>4</th>\n",
       "      <td>1.0</td>\n",
       "      <td>0.814701</td>\n",
       "      <td>1.0</td>\n",
       "      <td>0.861026</td>\n",
       "    </tr>\n",
       "    <tr>\n",
       "      <th>5</th>\n",
       "      <td>1.0</td>\n",
       "      <td>0.772418</td>\n",
       "      <td>1.0</td>\n",
       "      <td>0.829313</td>\n",
       "    </tr>\n",
       "    <tr>\n",
       "      <th>6</th>\n",
       "      <td>1.0</td>\n",
       "      <td>0.815525</td>\n",
       "      <td>1.0</td>\n",
       "      <td>0.861644</td>\n",
       "    </tr>\n",
       "    <tr>\n",
       "      <th>7</th>\n",
       "      <td>1.0</td>\n",
       "      <td>0.797256</td>\n",
       "      <td>1.0</td>\n",
       "      <td>0.847942</td>\n",
       "    </tr>\n",
       "    <tr>\n",
       "      <th>8</th>\n",
       "      <td>1.0</td>\n",
       "      <td>0.843864</td>\n",
       "      <td>1.0</td>\n",
       "      <td>0.882898</td>\n",
       "    </tr>\n",
       "    <tr>\n",
       "      <th>9</th>\n",
       "      <td>1.0</td>\n",
       "      <td>0.852969</td>\n",
       "      <td>1.0</td>\n",
       "      <td>0.889727</td>\n",
       "    </tr>\n",
       "  </tbody>\n",
       "</table>\n",
       "</div>"
      ],
      "text/plain": [
       "   BCA_train  BCA_test  mAUC_train  mAUC_test\n",
       "0        1.0  0.810912         1.0   0.858184\n",
       "1        1.0  0.844235         1.0   0.883176\n",
       "2        1.0  0.844793         1.0   0.883595\n",
       "3        1.0  0.763211         1.0   0.822408\n",
       "4        1.0  0.814701         1.0   0.861026\n",
       "5        1.0  0.772418         1.0   0.829313\n",
       "6        1.0  0.815525         1.0   0.861644\n",
       "7        1.0  0.797256         1.0   0.847942\n",
       "8        1.0  0.843864         1.0   0.882898\n",
       "9        1.0  0.852969         1.0   0.889727"
      ]
     },
     "execution_count": 8,
     "metadata": {},
     "output_type": "execute_result"
    }
   ],
   "source": [
    "dtc = Classifier(DecisionTreeClassifier(), params_dtc)\n",
    "run(dtc, tp, n_runs=n_runs, output=dtc_out)"
   ]
  },
  {
   "cell_type": "markdown",
   "metadata": {},
   "source": [
    "### SVC"
   ]
  },
  {
   "cell_type": "code",
   "execution_count": 9,
   "metadata": {},
   "outputs": [
    {
     "name": "stderr",
     "output_type": "stream",
     "text": [
      "100%|██████████████████████████████████████████| 10/10 [00:04<00:00,  2.17it/s]\n"
     ]
    },
    {
     "data": {
      "text/html": [
       "<div>\n",
       "<style scoped>\n",
       "    .dataframe tbody tr th:only-of-type {\n",
       "        vertical-align: middle;\n",
       "    }\n",
       "\n",
       "    .dataframe tbody tr th {\n",
       "        vertical-align: top;\n",
       "    }\n",
       "\n",
       "    .dataframe thead th {\n",
       "        text-align: right;\n",
       "    }\n",
       "</style>\n",
       "<table border=\"1\" class=\"dataframe\">\n",
       "  <thead>\n",
       "    <tr style=\"text-align: right;\">\n",
       "      <th></th>\n",
       "      <th>BCA_train</th>\n",
       "      <th>BCA_test</th>\n",
       "      <th>mAUC_train</th>\n",
       "      <th>mAUC_test</th>\n",
       "    </tr>\n",
       "  </thead>\n",
       "  <tbody>\n",
       "    <tr>\n",
       "      <th>0</th>\n",
       "      <td>0.897120</td>\n",
       "      <td>0.916402</td>\n",
       "      <td>0.966224</td>\n",
       "      <td>0.972994</td>\n",
       "    </tr>\n",
       "    <tr>\n",
       "      <th>1</th>\n",
       "      <td>0.902532</td>\n",
       "      <td>0.881761</td>\n",
       "      <td>0.971524</td>\n",
       "      <td>0.954123</td>\n",
       "    </tr>\n",
       "    <tr>\n",
       "      <th>2</th>\n",
       "      <td>0.892908</td>\n",
       "      <td>0.906579</td>\n",
       "      <td>0.968978</td>\n",
       "      <td>0.960283</td>\n",
       "    </tr>\n",
       "    <tr>\n",
       "      <th>3</th>\n",
       "      <td>0.901290</td>\n",
       "      <td>0.880793</td>\n",
       "      <td>0.970455</td>\n",
       "      <td>0.966464</td>\n",
       "    </tr>\n",
       "    <tr>\n",
       "      <th>4</th>\n",
       "      <td>0.902346</td>\n",
       "      <td>0.879083</td>\n",
       "      <td>0.967706</td>\n",
       "      <td>0.967304</td>\n",
       "    </tr>\n",
       "    <tr>\n",
       "      <th>5</th>\n",
       "      <td>0.896379</td>\n",
       "      <td>0.880153</td>\n",
       "      <td>0.967637</td>\n",
       "      <td>0.970254</td>\n",
       "    </tr>\n",
       "    <tr>\n",
       "      <th>6</th>\n",
       "      <td>0.895714</td>\n",
       "      <td>0.913932</td>\n",
       "      <td>0.963426</td>\n",
       "      <td>0.967246</td>\n",
       "    </tr>\n",
       "    <tr>\n",
       "      <th>7</th>\n",
       "      <td>0.899834</td>\n",
       "      <td>0.883634</td>\n",
       "      <td>0.966508</td>\n",
       "      <td>0.960295</td>\n",
       "    </tr>\n",
       "    <tr>\n",
       "      <th>8</th>\n",
       "      <td>0.900447</td>\n",
       "      <td>0.896260</td>\n",
       "      <td>0.970685</td>\n",
       "      <td>0.967474</td>\n",
       "    </tr>\n",
       "    <tr>\n",
       "      <th>9</th>\n",
       "      <td>0.893691</td>\n",
       "      <td>0.909256</td>\n",
       "      <td>0.965578</td>\n",
       "      <td>0.974704</td>\n",
       "    </tr>\n",
       "  </tbody>\n",
       "</table>\n",
       "</div>"
      ],
      "text/plain": [
       "   BCA_train  BCA_test  mAUC_train  mAUC_test\n",
       "0   0.897120  0.916402    0.966224   0.972994\n",
       "1   0.902532  0.881761    0.971524   0.954123\n",
       "2   0.892908  0.906579    0.968978   0.960283\n",
       "3   0.901290  0.880793    0.970455   0.966464\n",
       "4   0.902346  0.879083    0.967706   0.967304\n",
       "5   0.896379  0.880153    0.967637   0.970254\n",
       "6   0.895714  0.913932    0.963426   0.967246\n",
       "7   0.899834  0.883634    0.966508   0.960295\n",
       "8   0.900447  0.896260    0.970685   0.967474\n",
       "9   0.893691  0.909256    0.965578   0.974704"
      ]
     },
     "execution_count": 9,
     "metadata": {},
     "output_type": "execute_result"
    }
   ],
   "source": [
    "svc = Classifier(SVC(probability=True), params_svc)\n",
    "run(svc, tp, n_runs=n_runs, output=svc_out)"
   ]
  },
  {
   "cell_type": "markdown",
   "metadata": {},
   "source": [
    "### LRA"
   ]
  },
  {
   "cell_type": "code",
   "execution_count": 10,
   "metadata": {},
   "outputs": [
    {
     "name": "stderr",
     "output_type": "stream",
     "text": [
      "100%|██████████████████████████████████████████| 10/10 [00:00<00:00, 49.99it/s]\n"
     ]
    },
    {
     "data": {
      "text/html": [
       "<div>\n",
       "<style scoped>\n",
       "    .dataframe tbody tr th:only-of-type {\n",
       "        vertical-align: middle;\n",
       "    }\n",
       "\n",
       "    .dataframe tbody tr th {\n",
       "        vertical-align: top;\n",
       "    }\n",
       "\n",
       "    .dataframe thead th {\n",
       "        text-align: right;\n",
       "    }\n",
       "</style>\n",
       "<table border=\"1\" class=\"dataframe\">\n",
       "  <thead>\n",
       "    <tr style=\"text-align: right;\">\n",
       "      <th></th>\n",
       "      <th>BCA_train</th>\n",
       "      <th>BCA_test</th>\n",
       "      <th>mAUC_train</th>\n",
       "      <th>mAUC_test</th>\n",
       "    </tr>\n",
       "  </thead>\n",
       "  <tbody>\n",
       "    <tr>\n",
       "      <th>0</th>\n",
       "      <td>0.890812</td>\n",
       "      <td>0.918112</td>\n",
       "      <td>0.966716</td>\n",
       "      <td>0.972457</td>\n",
       "    </tr>\n",
       "    <tr>\n",
       "      <th>1</th>\n",
       "      <td>0.897712</td>\n",
       "      <td>0.880875</td>\n",
       "      <td>0.969845</td>\n",
       "      <td>0.956953</td>\n",
       "    </tr>\n",
       "    <tr>\n",
       "      <th>2</th>\n",
       "      <td>0.887790</td>\n",
       "      <td>0.926351</td>\n",
       "      <td>0.967181</td>\n",
       "      <td>0.971432</td>\n",
       "    </tr>\n",
       "    <tr>\n",
       "      <th>3</th>\n",
       "      <td>0.899215</td>\n",
       "      <td>0.882358</td>\n",
       "      <td>0.967938</td>\n",
       "      <td>0.966696</td>\n",
       "    </tr>\n",
       "    <tr>\n",
       "      <th>4</th>\n",
       "      <td>0.895333</td>\n",
       "      <td>0.896919</td>\n",
       "      <td>0.967278</td>\n",
       "      <td>0.970838</td>\n",
       "    </tr>\n",
       "    <tr>\n",
       "      <th>5</th>\n",
       "      <td>0.896775</td>\n",
       "      <td>0.894796</td>\n",
       "      <td>0.967312</td>\n",
       "      <td>0.971320</td>\n",
       "    </tr>\n",
       "    <tr>\n",
       "      <th>6</th>\n",
       "      <td>0.887234</td>\n",
       "      <td>0.923673</td>\n",
       "      <td>0.965724</td>\n",
       "      <td>0.976834</td>\n",
       "    </tr>\n",
       "    <tr>\n",
       "      <th>7</th>\n",
       "      <td>0.895776</td>\n",
       "      <td>0.906598</td>\n",
       "      <td>0.967840</td>\n",
       "      <td>0.967061</td>\n",
       "    </tr>\n",
       "    <tr>\n",
       "      <th>8</th>\n",
       "      <td>0.894030</td>\n",
       "      <td>0.893664</td>\n",
       "      <td>0.967799</td>\n",
       "      <td>0.968511</td>\n",
       "    </tr>\n",
       "    <tr>\n",
       "      <th>9</th>\n",
       "      <td>0.890725</td>\n",
       "      <td>0.910513</td>\n",
       "      <td>0.964941</td>\n",
       "      <td>0.976227</td>\n",
       "    </tr>\n",
       "  </tbody>\n",
       "</table>\n",
       "</div>"
      ],
      "text/plain": [
       "   BCA_train  BCA_test  mAUC_train  mAUC_test\n",
       "0   0.890812  0.918112    0.966716   0.972457\n",
       "1   0.897712  0.880875    0.969845   0.956953\n",
       "2   0.887790  0.926351    0.967181   0.971432\n",
       "3   0.899215  0.882358    0.967938   0.966696\n",
       "4   0.895333  0.896919    0.967278   0.970838\n",
       "5   0.896775  0.894796    0.967312   0.971320\n",
       "6   0.887234  0.923673    0.965724   0.976834\n",
       "7   0.895776  0.906598    0.967840   0.967061\n",
       "8   0.894030  0.893664    0.967799   0.968511\n",
       "9   0.890725  0.910513    0.964941   0.976227"
      ]
     },
     "execution_count": 10,
     "metadata": {},
     "output_type": "execute_result"
    }
   ],
   "source": [
    "lra = Classifier(LogisticRegression(), params_lra)\n",
    "run(lra, tp, n_runs=n_runs, output=lra_out)"
   ]
  },
  {
   "cell_type": "markdown",
   "metadata": {},
   "source": [
    "### ANN"
   ]
  },
  {
   "cell_type": "code",
   "execution_count": 11,
   "metadata": {},
   "outputs": [
    {
     "name": "stderr",
     "output_type": "stream",
     "text": [
      "100%|██████████████████████████████████████████| 10/10 [00:16<00:00,  1.63s/it]\n"
     ]
    },
    {
     "data": {
      "text/html": [
       "<div>\n",
       "<style scoped>\n",
       "    .dataframe tbody tr th:only-of-type {\n",
       "        vertical-align: middle;\n",
       "    }\n",
       "\n",
       "    .dataframe tbody tr th {\n",
       "        vertical-align: top;\n",
       "    }\n",
       "\n",
       "    .dataframe thead th {\n",
       "        text-align: right;\n",
       "    }\n",
       "</style>\n",
       "<table border=\"1\" class=\"dataframe\">\n",
       "  <thead>\n",
       "    <tr style=\"text-align: right;\">\n",
       "      <th></th>\n",
       "      <th>BCA_train</th>\n",
       "      <th>BCA_test</th>\n",
       "      <th>mAUC_train</th>\n",
       "      <th>mAUC_test</th>\n",
       "    </tr>\n",
       "  </thead>\n",
       "  <tbody>\n",
       "    <tr>\n",
       "      <th>0</th>\n",
       "      <td>0.881348</td>\n",
       "      <td>0.908225</td>\n",
       "      <td>0.978928</td>\n",
       "      <td>0.975140</td>\n",
       "    </tr>\n",
       "    <tr>\n",
       "      <th>1</th>\n",
       "      <td>0.895065</td>\n",
       "      <td>0.834782</td>\n",
       "      <td>0.983343</td>\n",
       "      <td>0.958800</td>\n",
       "    </tr>\n",
       "    <tr>\n",
       "      <th>2</th>\n",
       "      <td>0.892233</td>\n",
       "      <td>0.902130</td>\n",
       "      <td>0.976882</td>\n",
       "      <td>0.966923</td>\n",
       "    </tr>\n",
       "    <tr>\n",
       "      <th>3</th>\n",
       "      <td>0.897160</td>\n",
       "      <td>0.872038</td>\n",
       "      <td>0.980321</td>\n",
       "      <td>0.965180</td>\n",
       "    </tr>\n",
       "    <tr>\n",
       "      <th>4</th>\n",
       "      <td>0.884072</td>\n",
       "      <td>0.839664</td>\n",
       "      <td>0.980533</td>\n",
       "      <td>0.967615</td>\n",
       "    </tr>\n",
       "    <tr>\n",
       "      <th>5</th>\n",
       "      <td>0.891513</td>\n",
       "      <td>0.879782</td>\n",
       "      <td>0.976196</td>\n",
       "      <td>0.972597</td>\n",
       "    </tr>\n",
       "    <tr>\n",
       "      <th>6</th>\n",
       "      <td>0.893917</td>\n",
       "      <td>0.896013</td>\n",
       "      <td>0.976658</td>\n",
       "      <td>0.978458</td>\n",
       "    </tr>\n",
       "    <tr>\n",
       "      <th>7</th>\n",
       "      <td>0.898283</td>\n",
       "      <td>0.873748</td>\n",
       "      <td>0.981886</td>\n",
       "      <td>0.967765</td>\n",
       "    </tr>\n",
       "    <tr>\n",
       "      <th>8</th>\n",
       "      <td>0.895868</td>\n",
       "      <td>0.883489</td>\n",
       "      <td>0.978209</td>\n",
       "      <td>0.972660</td>\n",
       "    </tr>\n",
       "    <tr>\n",
       "      <th>9</th>\n",
       "      <td>0.883789</td>\n",
       "      <td>0.882357</td>\n",
       "      <td>0.980690</td>\n",
       "      <td>0.976398</td>\n",
       "    </tr>\n",
       "  </tbody>\n",
       "</table>\n",
       "</div>"
      ],
      "text/plain": [
       "   BCA_train  BCA_test  mAUC_train  mAUC_test\n",
       "0   0.881348  0.908225    0.978928   0.975140\n",
       "1   0.895065  0.834782    0.983343   0.958800\n",
       "2   0.892233  0.902130    0.976882   0.966923\n",
       "3   0.897160  0.872038    0.980321   0.965180\n",
       "4   0.884072  0.839664    0.980533   0.967615\n",
       "5   0.891513  0.879782    0.976196   0.972597\n",
       "6   0.893917  0.896013    0.976658   0.978458\n",
       "7   0.898283  0.873748    0.981886   0.967765\n",
       "8   0.895868  0.883489    0.978209   0.972660\n",
       "9   0.883789  0.882357    0.980690   0.976398"
      ]
     },
     "execution_count": 11,
     "metadata": {},
     "output_type": "execute_result"
    }
   ],
   "source": [
    "ann = Classifier(MLPClassifier(), params_ann)\n",
    "run(ann, tp, n_runs=n_runs, output=ann_out)"
   ]
  }
 ],
 "metadata": {
  "kernelspec": {
   "display_name": "Python 3",
   "language": "python",
   "name": "python3"
  },
  "language_info": {
   "codemirror_mode": {
    "name": "ipython",
    "version": 3
   },
   "file_extension": ".py",
   "mimetype": "text/x-python",
   "name": "python",
   "nbconvert_exporter": "python",
   "pygments_lexer": "ipython3",
   "version": "3.8.1"
  }
 },
 "nbformat": 4,
 "nbformat_minor": 4
}
