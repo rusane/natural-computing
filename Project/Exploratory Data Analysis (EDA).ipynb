{
 "cells": [
  {
   "cell_type": "markdown",
   "metadata": {},
   "source": [
    "# Exploratory Data Analysis (EDA)\n",
    "\n",
    "EDA of ADNI `D1_D2` dataset of the [TADPOLE Challenge](https://tadpole.grand-challenge.org/Home/)\n",
    "\n",
    "### Author\n",
    "Ajinkya Indulkar"
   ]
  },
  {
   "cell_type": "code",
   "execution_count": 1,
   "metadata": {},
   "outputs": [],
   "source": [
    "# import libraries\n",
    "import warnings\n",
    "\n",
    "warnings.filterwarnings(action='ignore')\n",
    "\n",
    "import pandas as pd\n",
    "import numpy as np\n",
    "import matplotlib.pyplot as plt\n",
    "import seaborn as sns\n",
    "\n",
    "from sklearn.preprocessing import LabelEncoder\n",
    "from pyts.preprocessing import InterpolationImputer\n",
    "\n",
    "%matplotlib inline"
   ]
  },
  {
   "cell_type": "markdown",
   "metadata": {},
   "source": [
    "### Load Data"
   ]
  },
  {
   "cell_type": "code",
   "execution_count": 2,
   "metadata": {},
   "outputs": [],
   "source": [
    "ROOT = \"./tadpole_challenge/\""
   ]
  },
  {
   "cell_type": "code",
   "execution_count": 3,
   "metadata": {},
   "outputs": [],
   "source": [
    "# load csv\n",
    "d1_d2_df = pd.read_csv(ROOT+\"TADPOLE_D1_D2.csv\")"
   ]
  },
  {
   "cell_type": "markdown",
   "metadata": {},
   "source": [
    "As suggested by the challenge, we select a list of biomarkers as a starting point."
   ]
  },
  {
   "cell_type": "code",
   "execution_count": 4,
   "metadata": {},
   "outputs": [],
   "source": [
    "# list of columns for training (starting point)\n",
    "getting_started = [\"RID\", \"VISCODE\", \"DX_bl\", \"DX\", \"ADAS13\", \"Ventricles\", \"CDRSB\", \"ADAS11\", \"MMSE\", \n",
    "                   \"RAVLT_immediate\", \"Hippocampus\", \"WholeBrain\", \"Entorhinal\", \"MidTemp\", \"FDG\", \"AV45\",\n",
    "                   \"ABETA_UPENNBIOMK9_04_19_17\", \"TAU_UPENNBIOMK9_04_19_17\", \"PTAU_UPENNBIOMK9_04_19_17\", \"APOE4\", \n",
    "                   \"AGE\"]"
   ]
  },
  {
   "cell_type": "code",
   "execution_count": 5,
   "metadata": {},
   "outputs": [],
   "source": [
    "# filter dataframe based on list of columns selected\n",
    "gs_df = d1_d2_df[getting_started]"
   ]
  },
  {
   "cell_type": "markdown",
   "metadata": {},
   "source": [
    "### Data Cleaning"
   ]
  },
  {
   "cell_type": "code",
   "execution_count": 6,
   "metadata": {},
   "outputs": [],
   "source": [
    "# filter out only baseline visits\n",
    "train_df = gs_df[gs_df[\"VISCODE\"] == \"bl\"].reset_index(drop=True).drop(columns='VISCODE')"
   ]
  },
  {
   "cell_type": "code",
   "execution_count": 7,
   "metadata": {},
   "outputs": [
    {
     "name": "stdout",
     "output_type": "stream",
     "text": [
      "DX_bl : ['CN' 'AD' 'LMCI' 'EMCI' 'SMC']\n",
      "DX : ['NL' 'Dementia' 'MCI' 'Dementia to MCI' 'MCI to Dementia' 'MCI to NL' nan\n",
      " 'NL to MCI']\n",
      "ABETA_UPENNBIOMK9_04_19_17 : [' ' '741.5' '1501' ... '558.9' '416.8' '1460']\n",
      "TAU_UPENNBIOMK9_04_19_17 : [' ' '239.7' '153.1' ... '268.4' '88.69' '224.9']\n",
      "PTAU_UPENNBIOMK9_04_19_17 : [' ' '22.83' '13.29' ... '26.11' '8.53' '20.9']\n"
     ]
    }
   ],
   "source": [
    "# observing unique values of columns with dtype=object\n",
    "cols = ['DX_bl', 'DX', 'ABETA_UPENNBIOMK9_04_19_17', \n",
    "        'TAU_UPENNBIOMK9_04_19_17', 'PTAU_UPENNBIOMK9_04_19_17']\n",
    "for c in cols:\n",
    "    print(c, \":\", train_df[c].unique())"
   ]
  },
  {
   "cell_type": "markdown",
   "metadata": {},
   "source": [
    "#### Fix Columns with erroneous data\n",
    "\n",
    "Replace missing data points/features with `None` datatype to be handled later by Imputation by Interpolation."
   ]
  },
  {
   "cell_type": "code",
   "execution_count": 8,
   "metadata": {},
   "outputs": [],
   "source": [
    "# fix \"DX\" column\n",
    "train_df['DX'] = train_df['DX'].fillna('nan')\n",
    "# remove rows with nan DX values\n",
    "train_df = train_df[train_df['DX'] != 'nan'].reset_index(drop=True)"
   ]
  },
  {
   "cell_type": "code",
   "execution_count": 9,
   "metadata": {},
   "outputs": [],
   "source": [
    "# fix \"ABETA_UPENNBIOMK9_04_19_17, TAU_UPENNBIOMK9_04_19_17, PTAU_UPENNBIOMK9_04_19_17\" column\n",
    "err_cols = [\"ABETA_UPENNBIOMK9_04_19_17\", \"TAU_UPENNBIOMK9_04_19_17\", \"PTAU_UPENNBIOMK9_04_19_17\"]\n",
    "\n",
    "for c in err_cols:\n",
    "    train_df[c] = train_df[c].apply(lambda x: None if x == ' ' or '<' in x or '>' in x else x)\n",
    "    train_df[c] = train_df[c].astype(float)"
   ]
  },
  {
   "cell_type": "code",
   "execution_count": 10,
   "metadata": {},
   "outputs": [],
   "source": [
    "# convert \"DX_bl\" and \"DX\" to categorical values\n",
    "train_df[['DX_bl', 'DX']] = train_df[['DX_bl', 'DX']].apply(LabelEncoder().fit_transform)"
   ]
  },
  {
   "cell_type": "markdown",
   "metadata": {},
   "source": [
    "#### imputation by interpolation"
   ]
  },
  {
   "cell_type": "code",
   "execution_count": 11,
   "metadata": {},
   "outputs": [],
   "source": [
    "impcols = [c for c in train_df.columns.tolist() if c not in ['RID', 'DX_bl']]"
   ]
  },
  {
   "cell_type": "code",
   "execution_count": 12,
   "metadata": {},
   "outputs": [],
   "source": [
    "features = train_df.drop(columns=['RID', 'DX_bl']).to_numpy()\n",
    "features = InterpolationImputer().fit_transform(features)"
   ]
  },
  {
   "cell_type": "code",
   "execution_count": 13,
   "metadata": {},
   "outputs": [],
   "source": [
    "train_df[impcols] = pd.DataFrame(features)"
   ]
  },
  {
   "cell_type": "code",
   "execution_count": 14,
   "metadata": {},
   "outputs": [
    {
     "data": {
      "text/html": [
       "<div>\n",
       "<style scoped>\n",
       "    .dataframe tbody tr th:only-of-type {\n",
       "        vertical-align: middle;\n",
       "    }\n",
       "\n",
       "    .dataframe tbody tr th {\n",
       "        vertical-align: top;\n",
       "    }\n",
       "\n",
       "    .dataframe thead th {\n",
       "        text-align: right;\n",
       "    }\n",
       "</style>\n",
       "<table border=\"1\" class=\"dataframe\">\n",
       "  <thead>\n",
       "    <tr style=\"text-align: right;\">\n",
       "      <th></th>\n",
       "      <th>RID</th>\n",
       "      <th>DX_bl</th>\n",
       "      <th>DX</th>\n",
       "      <th>ADAS13</th>\n",
       "      <th>Ventricles</th>\n",
       "      <th>CDRSB</th>\n",
       "      <th>ADAS11</th>\n",
       "      <th>MMSE</th>\n",
       "      <th>RAVLT_immediate</th>\n",
       "      <th>Hippocampus</th>\n",
       "      <th>WholeBrain</th>\n",
       "      <th>Entorhinal</th>\n",
       "      <th>MidTemp</th>\n",
       "      <th>FDG</th>\n",
       "      <th>AV45</th>\n",
       "      <th>ABETA_UPENNBIOMK9_04_19_17</th>\n",
       "      <th>TAU_UPENNBIOMK9_04_19_17</th>\n",
       "      <th>PTAU_UPENNBIOMK9_04_19_17</th>\n",
       "      <th>APOE4</th>\n",
       "      <th>AGE</th>\n",
       "    </tr>\n",
       "  </thead>\n",
       "  <tbody>\n",
       "    <tr>\n",
       "      <th>0</th>\n",
       "      <td>2</td>\n",
       "      <td>1</td>\n",
       "      <td>5.0</td>\n",
       "      <td>18.67</td>\n",
       "      <td>118233.0</td>\n",
       "      <td>0.0</td>\n",
       "      <td>10.67</td>\n",
       "      <td>28.0</td>\n",
       "      <td>44.0</td>\n",
       "      <td>8336.0</td>\n",
       "      <td>1229740.0</td>\n",
       "      <td>4177.0</td>\n",
       "      <td>27936.0</td>\n",
       "      <td>1.36926</td>\n",
       "      <td>1.095408</td>\n",
       "      <td>0.821556</td>\n",
       "      <td>0.547704</td>\n",
       "      <td>0.273852</td>\n",
       "      <td>0.0</td>\n",
       "      <td>74.3</td>\n",
       "    </tr>\n",
       "    <tr>\n",
       "      <th>1</th>\n",
       "      <td>3</td>\n",
       "      <td>0</td>\n",
       "      <td>0.0</td>\n",
       "      <td>31.00</td>\n",
       "      <td>84599.0</td>\n",
       "      <td>4.5</td>\n",
       "      <td>22.00</td>\n",
       "      <td>20.0</td>\n",
       "      <td>22.0</td>\n",
       "      <td>5319.0</td>\n",
       "      <td>1129830.0</td>\n",
       "      <td>1791.0</td>\n",
       "      <td>18422.0</td>\n",
       "      <td>1.09079</td>\n",
       "      <td>371.295395</td>\n",
       "      <td>741.500000</td>\n",
       "      <td>239.700000</td>\n",
       "      <td>22.830000</td>\n",
       "      <td>1.0</td>\n",
       "      <td>81.3</td>\n",
       "    </tr>\n",
       "    <tr>\n",
       "      <th>2</th>\n",
       "      <td>4</td>\n",
       "      <td>3</td>\n",
       "      <td>2.0</td>\n",
       "      <td>21.33</td>\n",
       "      <td>39605.0</td>\n",
       "      <td>1.0</td>\n",
       "      <td>14.33</td>\n",
       "      <td>27.0</td>\n",
       "      <td>37.0</td>\n",
       "      <td>6869.0</td>\n",
       "      <td>1154980.0</td>\n",
       "      <td>3983.0</td>\n",
       "      <td>19615.0</td>\n",
       "      <td>13577.00000</td>\n",
       "      <td>7539.000000</td>\n",
       "      <td>1501.000000</td>\n",
       "      <td>153.100000</td>\n",
       "      <td>13.290000</td>\n",
       "      <td>0.0</td>\n",
       "      <td>67.5</td>\n",
       "    </tr>\n",
       "    <tr>\n",
       "      <th>3</th>\n",
       "      <td>5</td>\n",
       "      <td>1</td>\n",
       "      <td>5.0</td>\n",
       "      <td>14.67</td>\n",
       "      <td>34062.0</td>\n",
       "      <td>0.0</td>\n",
       "      <td>8.67</td>\n",
       "      <td>29.0</td>\n",
       "      <td>37.0</td>\n",
       "      <td>7075.0</td>\n",
       "      <td>1116630.0</td>\n",
       "      <td>4433.0</td>\n",
       "      <td>21614.0</td>\n",
       "      <td>1.29799</td>\n",
       "      <td>274.298995</td>\n",
       "      <td>547.300000</td>\n",
       "      <td>337.000000</td>\n",
       "      <td>33.430000</td>\n",
       "      <td>0.0</td>\n",
       "      <td>73.7</td>\n",
       "    </tr>\n",
       "    <tr>\n",
       "      <th>4</th>\n",
       "      <td>6</td>\n",
       "      <td>3</td>\n",
       "      <td>2.0</td>\n",
       "      <td>25.67</td>\n",
       "      <td>39826.0</td>\n",
       "      <td>0.5</td>\n",
       "      <td>18.67</td>\n",
       "      <td>25.0</td>\n",
       "      <td>30.0</td>\n",
       "      <td>5348.0</td>\n",
       "      <td>927510.0</td>\n",
       "      <td>2277.0</td>\n",
       "      <td>17802.0</td>\n",
       "      <td>14835.00000</td>\n",
       "      <td>11868.000000</td>\n",
       "      <td>8901.000000</td>\n",
       "      <td>5934.000000</td>\n",
       "      <td>2967.000000</td>\n",
       "      <td>0.0</td>\n",
       "      <td>80.4</td>\n",
       "    </tr>\n",
       "  </tbody>\n",
       "</table>\n",
       "</div>"
      ],
      "text/plain": [
       "   RID  DX_bl   DX  ADAS13  Ventricles  CDRSB  ADAS11  MMSE  RAVLT_immediate  \\\n",
       "0    2      1  5.0   18.67    118233.0    0.0   10.67  28.0             44.0   \n",
       "1    3      0  0.0   31.00     84599.0    4.5   22.00  20.0             22.0   \n",
       "2    4      3  2.0   21.33     39605.0    1.0   14.33  27.0             37.0   \n",
       "3    5      1  5.0   14.67     34062.0    0.0    8.67  29.0             37.0   \n",
       "4    6      3  2.0   25.67     39826.0    0.5   18.67  25.0             30.0   \n",
       "\n",
       "   Hippocampus  WholeBrain  Entorhinal  MidTemp          FDG          AV45  \\\n",
       "0       8336.0   1229740.0      4177.0  27936.0      1.36926      1.095408   \n",
       "1       5319.0   1129830.0      1791.0  18422.0      1.09079    371.295395   \n",
       "2       6869.0   1154980.0      3983.0  19615.0  13577.00000   7539.000000   \n",
       "3       7075.0   1116630.0      4433.0  21614.0      1.29799    274.298995   \n",
       "4       5348.0    927510.0      2277.0  17802.0  14835.00000  11868.000000   \n",
       "\n",
       "   ABETA_UPENNBIOMK9_04_19_17  TAU_UPENNBIOMK9_04_19_17  \\\n",
       "0                    0.821556                  0.547704   \n",
       "1                  741.500000                239.700000   \n",
       "2                 1501.000000                153.100000   \n",
       "3                  547.300000                337.000000   \n",
       "4                 8901.000000               5934.000000   \n",
       "\n",
       "   PTAU_UPENNBIOMK9_04_19_17  APOE4   AGE  \n",
       "0                   0.273852    0.0  74.3  \n",
       "1                  22.830000    1.0  81.3  \n",
       "2                  13.290000    0.0  67.5  \n",
       "3                  33.430000    0.0  73.7  \n",
       "4                2967.000000    0.0  80.4  "
      ]
     },
     "execution_count": 14,
     "metadata": {},
     "output_type": "execute_result"
    }
   ],
   "source": [
    "# check data\n",
    "train_df.head()"
   ]
  },
  {
   "cell_type": "code",
   "execution_count": 15,
   "metadata": {},
   "outputs": [
    {
     "name": "stdout",
     "output_type": "stream",
     "text": [
      "<class 'pandas.core.frame.DataFrame'>\n",
      "RangeIndex: 1730 entries, 0 to 1729\n",
      "Data columns (total 20 columns):\n",
      " #   Column                      Non-Null Count  Dtype  \n",
      "---  ------                      --------------  -----  \n",
      " 0   RID                         1730 non-null   int64  \n",
      " 1   DX_bl                       1730 non-null   int64  \n",
      " 2   DX                          1730 non-null   float64\n",
      " 3   ADAS13                      1730 non-null   float64\n",
      " 4   Ventricles                  1730 non-null   float64\n",
      " 5   CDRSB                       1730 non-null   float64\n",
      " 6   ADAS11                      1730 non-null   float64\n",
      " 7   MMSE                        1730 non-null   float64\n",
      " 8   RAVLT_immediate             1730 non-null   float64\n",
      " 9   Hippocampus                 1730 non-null   float64\n",
      " 10  WholeBrain                  1730 non-null   float64\n",
      " 11  Entorhinal                  1730 non-null   float64\n",
      " 12  MidTemp                     1730 non-null   float64\n",
      " 13  FDG                         1730 non-null   float64\n",
      " 14  AV45                        1730 non-null   float64\n",
      " 15  ABETA_UPENNBIOMK9_04_19_17  1730 non-null   float64\n",
      " 16  TAU_UPENNBIOMK9_04_19_17    1730 non-null   float64\n",
      " 17  PTAU_UPENNBIOMK9_04_19_17   1730 non-null   float64\n",
      " 18  APOE4                       1730 non-null   float64\n",
      " 19  AGE                         1730 non-null   float64\n",
      "dtypes: float64(18), int64(2)\n",
      "memory usage: 270.4 KB\n"
     ]
    }
   ],
   "source": [
    "train_df.info()"
   ]
  },
  {
   "cell_type": "markdown",
   "metadata": {},
   "source": [
    "### EDA"
   ]
  },
  {
   "cell_type": "code",
   "execution_count": 16,
   "metadata": {},
   "outputs": [],
   "source": [
    "sns.set(style='whitegrid', palette=\"deep\", font_scale=0.7, rc={\"figure.figsize\": [8, 5]})"
   ]
  },
  {
   "cell_type": "markdown",
   "metadata": {},
   "source": [
    "#### Categorical Values Distribution"
   ]
  },
  {
   "cell_type": "code",
   "execution_count": 17,
   "metadata": {},
   "outputs": [
    {
     "data": {
      "image/png": "[encoded data removed]",
      "text/plain": [
       "<Figure size 576x360 with 1 Axes>"
      ]
     },
     "metadata": {},
     "output_type": "display_data"
    }
   ],
   "source": [
    "sns.countplot(x='DX_bl', data=train_df);"
   ]
  },
  {
   "cell_type": "code",
   "execution_count": 18,
   "metadata": {},
   "outputs": [
    {
     "data": {
      "image/png": "[encoded data removed]",
      "text/plain": [
       "<Figure size 576x360 with 1 Axes>"
      ]
     },
     "metadata": {},
     "output_type": "display_data"
    }
   ],
   "source": [
    "sns.countplot(x='DX', data=train_df);"
   ]
  },
  {
   "cell_type": "markdown",
   "metadata": {},
   "source": [
    "#### Numerical Values Histogram"
   ]
  },
  {
   "cell_type": "code",
   "execution_count": 19,
   "metadata": {},
   "outputs": [
    {
     "data": {
      "image/png": "[encoded data removed]",
      "text/plain": [
       "<Figure size 1080x432 with 18 Axes>"
      ]
     },
     "metadata": {},
     "output_type": "display_data"
    }
   ],
   "source": [
    "train_df[impcols].hist(bins=15, figsize=(15, 6), layout=(3, 6));"
   ]
  },
  {
   "cell_type": "markdown",
   "metadata": {},
   "source": [
    "#### Feature Correlation Map"
   ]
  },
  {
   "cell_type": "code",
   "execution_count": 20,
   "metadata": {},
   "outputs": [
    {
     "data": {
      "image/png": "[encoded data removed]",
      "text/plain": [
       "<Figure size 720x720 with 2 Axes>"
      ]
     },
     "metadata": {},
     "output_type": "display_data"
    }
   ],
   "source": [
    "plt.figure(figsize=(10,10))\n",
    "sns.heatmap(train_df.corr(), cmap='RdBu_r', linewidths=0.5)\n",
    "plt.title(\"D1 Dataset Correlation Map\")\n",
    "plt.show()"
   ]
  }
 ],
 "metadata": {
  "kernelspec": {
   "display_name": "Python 3",
   "language": "python",
   "name": "python3"
  },
  "language_info": {
   "codemirror_mode": {
    "name": "ipython",
    "version": 3
   },
   "file_extension": ".py",
   "mimetype": "text/x-python",
   "name": "python",
   "nbconvert_exporter": "python",
   "pygments_lexer": "ipython3",
   "version": "3.7.7"
  }
 },
 "nbformat": 4,
 "nbformat_minor": 2
}
