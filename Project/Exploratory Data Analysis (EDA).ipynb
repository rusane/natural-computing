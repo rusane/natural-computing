{
 "cells": [
  {
   "cell_type": "markdown",
   "metadata": {},
   "source": [
    "# Exploratory Data Analysis (EDA)\n",
    "\n",
    "EDA of ADNI `D1_D2` dataset of the [TADPOLE Challenge](https://tadpole.grand-challenge.org/Home/)\n",
    "\n",
    "### Author\n",
    "Ajinkya Indulkar"
   ]
  },
  {
   "cell_type": "code",
   "execution_count": 1,
   "metadata": {},
   "outputs": [],
   "source": [
    "# import libraries\n",
    "import warnings\n",
    "\n",
    "warnings.filterwarnings(action='ignore')\n",
    "\n",
    "import pandas as pd\n",
    "import numpy as np\n",
    "import matplotlib.pyplot as plt\n",
    "import seaborn as sns\n",
    "\n",
    "from sklearn.preprocessing import LabelEncoder\n",
    "from pyts.preprocessing import InterpolationImputer\n",
    "\n",
    "%matplotlib inline"
   ]
  },
  {
   "cell_type": "markdown",
   "metadata": {},
   "source": [
    "### Load Data"
   ]
  },
  {
   "cell_type": "code",
   "execution_count": 2,
   "metadata": {},
   "outputs": [],
   "source": [
    "ROOT = \"./tadpole_challenge/\""
   ]
  },
  {
   "cell_type": "code",
   "execution_count": 3,
   "metadata": {},
   "outputs": [],
   "source": [
    "# load csv\n",
    "d1_d2_df = pd.read_csv(ROOT+\"TADPOLE_D1_D2.csv\")"
   ]
  },
  {
   "cell_type": "markdown",
   "metadata": {},
   "source": [
    "As suggested by the challenge, we select a list of biomarkers as a starting point."
   ]
  },
  {
   "cell_type": "code",
   "execution_count": 4,
   "metadata": {},
   "outputs": [],
   "source": [
    "# list of columns for training (starting point)\n",
    "getting_started = [\"RID\", \"VISCODE\", \"DX_bl\", \"DX\", \"ADAS13\", \"Ventricles\", \"CDRSB\", \"ADAS11\", \"MMSE\", \n",
    "                   \"RAVLT_immediate\", \"Hippocampus\", \"WholeBrain\", \"Entorhinal\", \"MidTemp\", \"FDG\", \"AV45\",\n",
    "                   \"ABETA_UPENNBIOMK9_04_19_17\", \"TAU_UPENNBIOMK9_04_19_17\", \"PTAU_UPENNBIOMK9_04_19_17\", \"APOE4\", \n",
    "                   \"AGE\"]"
   ]
  },
  {
   "cell_type": "code",
   "execution_count": 5,
   "metadata": {},
   "outputs": [],
   "source": [
    "# filter dataframe based on list of columns selected\n",
    "gs_df = d1_d2_df[getting_started]"
   ]
  },
  {
   "cell_type": "markdown",
   "metadata": {},
   "source": [
    "### Data Cleaning"
   ]
  },
  {
   "cell_type": "code",
   "execution_count": 6,
   "metadata": {},
   "outputs": [],
   "source": [
    "# filter out only baseline visits\n",
    "train_df = gs_df[gs_df[\"VISCODE\"] == \"bl\"].reset_index(drop=True).drop(columns='VISCODE')"
   ]
  },
  {
   "cell_type": "code",
   "execution_count": 7,
   "metadata": {},
   "outputs": [
    {
     "name": "stdout",
     "output_type": "stream",
     "text": [
      "DX_bl : ['CN' 'AD' 'LMCI' 'EMCI' 'SMC']\n",
      "DX : ['NL' 'Dementia' 'MCI' 'Dementia to MCI' 'MCI to Dementia' 'MCI to NL' nan\n",
      " 'NL to MCI']\n",
      "ABETA_UPENNBIOMK9_04_19_17 : [' ' '741.5' '1501' ... '558.9' '416.8' '1460']\n",
      "TAU_UPENNBIOMK9_04_19_17 : [' ' '239.7' '153.1' ... '268.4' '88.69' '224.9']\n",
      "PTAU_UPENNBIOMK9_04_19_17 : [' ' '22.83' '13.29' ... '26.11' '8.53' '20.9']\n"
     ]
    }
   ],
   "source": [
    "# observing unique values of columns with dtype=object\n",
    "cols = ['DX_bl', 'DX', 'ABETA_UPENNBIOMK9_04_19_17', \n",
    "        'TAU_UPENNBIOMK9_04_19_17', 'PTAU_UPENNBIOMK9_04_19_17']\n",
    "for c in cols:\n",
    "    print(c, \":\", train_df[c].unique())"
   ]
  },
  {
   "cell_type": "markdown",
   "metadata": {},
   "source": [
    "#### Fix Columns with erroneous data\n",
    "\n",
    "Replace missing data points/features with `None` datatype to be handled later by Imputation by Interpolation."
   ]
  },
  {
   "cell_type": "code",
   "execution_count": 8,
   "metadata": {},
   "outputs": [],
   "source": [
    "# fix \"DX\" column\n",
    "train_df['DX'] = train_df['DX'].fillna('nan')\n",
    "# remove rows with nan DX values\n",
    "train_df = train_df[train_df['DX'] != 'nan'].reset_index(drop=True)"
   ]
  },
  {
   "cell_type": "code",
   "execution_count": 9,
   "metadata": {},
   "outputs": [],
   "source": [
    "# fix \"ABETA_UPENNBIOMK9_04_19_17, TAU_UPENNBIOMK9_04_19_17, PTAU_UPENNBIOMK9_04_19_17\" column\n",
    "err_cols = [\"ABETA_UPENNBIOMK9_04_19_17\", \"TAU_UPENNBIOMK9_04_19_17\", \"PTAU_UPENNBIOMK9_04_19_17\"]\n",
    "\n",
    "for c in err_cols:\n",
    "    train_df[c] = train_df[c].apply(lambda x: None if x == ' ' or '<' in x or '>' in x else x)\n",
    "    train_df[c] = train_df[c].astype(float)"
   ]
  },
  {
   "cell_type": "code",
   "execution_count": 10,
   "metadata": {},
   "outputs": [],
   "source": [
    "# convert \"DX_bl\" and \"DX\" to categorical values\n",
    "train_df[['DX_bl', 'DX']] = train_df[['DX_bl', 'DX']].apply(LabelEncoder().fit_transform)"
   ]
  },
  {
   "cell_type": "markdown",
   "metadata": {},
   "source": [
    "#### imputation by interpolation"
   ]
  },
  {
   "cell_type": "code",
   "execution_count": 11,
   "metadata": {},
   "outputs": [],
   "source": [
    "impcols = [c for c in train_df.columns.tolist() if c not in ['RID', 'DX_bl']]"
   ]
  },
  {
   "cell_type": "code",
   "execution_count": 12,
   "metadata": {},
   "outputs": [],
   "source": [
    "features = train_df.drop(columns=['RID', 'DX_bl']).to_numpy()\n",
    "features = InterpolationImputer().fit_transform(features)"
   ]
  },
  {
   "cell_type": "code",
   "execution_count": 13,
   "metadata": {},
   "outputs": [],
   "source": [
    "train_df[impcols] = pd.DataFrame(features)"
   ]
  },
  {
   "cell_type": "code",
   "execution_count": 14,
   "metadata": {},
   "outputs": [
    {
     "data": {
      "text/html": [
       "<div>\n",
       "<style scoped>\n",
       "    .dataframe tbody tr th:only-of-type {\n",
       "        vertical-align: middle;\n",
       "    }\n",
       "\n",
       "    .dataframe tbody tr th {\n",
       "        vertical-align: top;\n",
       "    }\n",
       "\n",
       "    .dataframe thead th {\n",
       "        text-align: right;\n",
       "    }\n",
       "</style>\n",
       "<table border=\"1\" class=\"dataframe\">\n",
       "  <thead>\n",
       "    <tr style=\"text-align: right;\">\n",
       "      <th></th>\n",
       "      <th>RID</th>\n",
       "      <th>DX_bl</th>\n",
       "      <th>DX</th>\n",
       "      <th>ADAS13</th>\n",
       "      <th>Ventricles</th>\n",
       "      <th>CDRSB</th>\n",
       "      <th>ADAS11</th>\n",
       "      <th>MMSE</th>\n",
       "      <th>RAVLT_immediate</th>\n",
       "      <th>Hippocampus</th>\n",
       "      <th>WholeBrain</th>\n",
       "      <th>Entorhinal</th>\n",
       "      <th>MidTemp</th>\n",
       "      <th>FDG</th>\n",
       "      <th>AV45</th>\n",
       "      <th>ABETA_UPENNBIOMK9_04_19_17</th>\n",
       "      <th>TAU_UPENNBIOMK9_04_19_17</th>\n",
       "      <th>PTAU_UPENNBIOMK9_04_19_17</th>\n",
       "      <th>APOE4</th>\n",
       "      <th>AGE</th>\n",
       "    </tr>\n",
       "  </thead>\n",
       "  <tbody>\n",
       "    <tr>\n",
       "      <th>0</th>\n",
       "      <td>2</td>\n",
       "      <td>1</td>\n",
       "      <td>5.0</td>\n",
       "      <td>18.67</td>\n",
       "      <td>118233.0</td>\n",
       "      <td>0.0</td>\n",
       "      <td>10.67</td>\n",
       "      <td>28.0</td>\n",
       "      <td>44.0</td>\n",
       "      <td>8336.0</td>\n",
       "      <td>1229740.0</td>\n",
       "      <td>4177.0</td>\n",
       "      <td>27936.0</td>\n",
       "      <td>1.36926</td>\n",
       "      <td>1.095408</td>\n",
       "      <td>0.821556</td>\n",
       "      <td>0.547704</td>\n",
       "      <td>0.273852</td>\n",
       "      <td>0.0</td>\n",
       "      <td>74.3</td>\n",
       "    </tr>\n",
       "    <tr>\n",
       "      <th>1</th>\n",
       "      <td>3</td>\n",
       "      <td>0</td>\n",
       "      <td>0.0</td>\n",
       "      <td>31.00</td>\n",
       "      <td>84599.0</td>\n",
       "      <td>4.5</td>\n",
       "      <td>22.00</td>\n",
       "      <td>20.0</td>\n",
       "      <td>22.0</td>\n",
       "      <td>5319.0</td>\n",
       "      <td>1129830.0</td>\n",
       "      <td>1791.0</td>\n",
       "      <td>18422.0</td>\n",
       "      <td>1.09079</td>\n",
       "      <td>371.295395</td>\n",
       "      <td>741.500000</td>\n",
       "      <td>239.700000</td>\n",
       "      <td>22.830000</td>\n",
       "      <td>1.0</td>\n",
       "      <td>81.3</td>\n",
       "    </tr>\n",
       "    <tr>\n",
       "      <th>2</th>\n",
       "      <td>4</td>\n",
       "      <td>3</td>\n",
       "      <td>2.0</td>\n",
       "      <td>21.33</td>\n",
       "      <td>39605.0</td>\n",
       "      <td>1.0</td>\n",
       "      <td>14.33</td>\n",
       "      <td>27.0</td>\n",
       "      <td>37.0</td>\n",
       "      <td>6869.0</td>\n",
       "      <td>1154980.0</td>\n",
       "      <td>3983.0</td>\n",
       "      <td>19615.0</td>\n",
       "      <td>13577.00000</td>\n",
       "      <td>7539.000000</td>\n",
       "      <td>1501.000000</td>\n",
       "      <td>153.100000</td>\n",
       "      <td>13.290000</td>\n",
       "      <td>0.0</td>\n",
       "      <td>67.5</td>\n",
       "    </tr>\n",
       "    <tr>\n",
       "      <th>3</th>\n",
       "      <td>5</td>\n",
       "      <td>1</td>\n",
       "      <td>5.0</td>\n",
       "      <td>14.67</td>\n",
       "      <td>34062.0</td>\n",
       "      <td>0.0</td>\n",
       "      <td>8.67</td>\n",
       "      <td>29.0</td>\n",
       "      <td>37.0</td>\n",
       "      <td>7075.0</td>\n",
       "      <td>1116630.0</td>\n",
       "      <td>4433.0</td>\n",
       "      <td>21614.0</td>\n",
       "      <td>1.29799</td>\n",
       "      <td>274.298995</td>\n",
       "      <td>547.300000</td>\n",
       "      <td>337.000000</td>\n",
       "      <td>33.430000</td>\n",
       "      <td>0.0</td>\n",
       "      <td>73.7</td>\n",
       "    </tr>\n",
       "    <tr>\n",
       "      <th>4</th>\n",
       "      <td>6</td>\n",
       "      <td>3</td>\n",
       "      <td>2.0</td>\n",
       "      <td>25.67</td>\n",
       "      <td>39826.0</td>\n",
       "      <td>0.5</td>\n",
       "      <td>18.67</td>\n",
       "      <td>25.0</td>\n",
       "      <td>30.0</td>\n",
       "      <td>5348.0</td>\n",
       "      <td>927510.0</td>\n",
       "      <td>2277.0</td>\n",
       "      <td>17802.0</td>\n",
       "      <td>14835.00000</td>\n",
       "      <td>11868.000000</td>\n",
       "      <td>8901.000000</td>\n",
       "      <td>5934.000000</td>\n",
       "      <td>2967.000000</td>\n",
       "      <td>0.0</td>\n",
       "      <td>80.4</td>\n",
       "    </tr>\n",
       "  </tbody>\n",
       "</table>\n",
       "</div>"
      ],
      "text/plain": [
       "   RID  DX_bl   DX  ADAS13  Ventricles  CDRSB  ADAS11  MMSE  RAVLT_immediate  \\\n",
       "0    2      1  5.0   18.67    118233.0    0.0   10.67  28.0             44.0   \n",
       "1    3      0  0.0   31.00     84599.0    4.5   22.00  20.0             22.0   \n",
       "2    4      3  2.0   21.33     39605.0    1.0   14.33  27.0             37.0   \n",
       "3    5      1  5.0   14.67     34062.0    0.0    8.67  29.0             37.0   \n",
       "4    6      3  2.0   25.67     39826.0    0.5   18.67  25.0             30.0   \n",
       "\n",
       "   Hippocampus  WholeBrain  Entorhinal  MidTemp          FDG          AV45  \\\n",
       "0       8336.0   1229740.0      4177.0  27936.0      1.36926      1.095408   \n",
       "1       5319.0   1129830.0      1791.0  18422.0      1.09079    371.295395   \n",
       "2       6869.0   1154980.0      3983.0  19615.0  13577.00000   7539.000000   \n",
       "3       7075.0   1116630.0      4433.0  21614.0      1.29799    274.298995   \n",
       "4       5348.0    927510.0      2277.0  17802.0  14835.00000  11868.000000   \n",
       "\n",
       "   ABETA_UPENNBIOMK9_04_19_17  TAU_UPENNBIOMK9_04_19_17  \\\n",
       "0                    0.821556                  0.547704   \n",
       "1                  741.500000                239.700000   \n",
       "2                 1501.000000                153.100000   \n",
       "3                  547.300000                337.000000   \n",
       "4                 8901.000000               5934.000000   \n",
       "\n",
       "   PTAU_UPENNBIOMK9_04_19_17  APOE4   AGE  \n",
       "0                   0.273852    0.0  74.3  \n",
       "1                  22.830000    1.0  81.3  \n",
       "2                  13.290000    0.0  67.5  \n",
       "3                  33.430000    0.0  73.7  \n",
       "4                2967.000000    0.0  80.4  "
      ]
     },
     "execution_count": 14,
     "metadata": {},
     "output_type": "execute_result"
    }
   ],
   "source": [
    "# check data\n",
    "train_df.head()"
   ]
  },
  {
   "cell_type": "code",
   "execution_count": 15,
   "metadata": {},
   "outputs": [
    {
     "name": "stdout",
     "output_type": "stream",
     "text": [
      "<class 'pandas.core.frame.DataFrame'>\n",
      "RangeIndex: 1730 entries, 0 to 1729\n",
      "Data columns (total 20 columns):\n",
      " #   Column                      Non-Null Count  Dtype  \n",
      "---  ------                      --------------  -----  \n",
      " 0   RID                         1730 non-null   int64  \n",
      " 1   DX_bl                       1730 non-null   int64  \n",
      " 2   DX                          1730 non-null   float64\n",
      " 3   ADAS13                      1730 non-null   float64\n",
      " 4   Ventricles                  1730 non-null   float64\n",
      " 5   CDRSB                       1730 non-null   float64\n",
      " 6   ADAS11                      1730 non-null   float64\n",
      " 7   MMSE                        1730 non-null   float64\n",
      " 8   RAVLT_immediate             1730 non-null   float64\n",
      " 9   Hippocampus                 1730 non-null   float64\n",
      " 10  WholeBrain                  1730 non-null   float64\n",
      " 11  Entorhinal                  1730 non-null   float64\n",
      " 12  MidTemp                     1730 non-null   float64\n",
      " 13  FDG                         1730 non-null   float64\n",
      " 14  AV45                        1730 non-null   float64\n",
      " 15  ABETA_UPENNBIOMK9_04_19_17  1730 non-null   float64\n",
      " 16  TAU_UPENNBIOMK9_04_19_17    1730 non-null   float64\n",
      " 17  PTAU_UPENNBIOMK9_04_19_17   1730 non-null   float64\n",
      " 18  APOE4                       1730 non-null   float64\n",
      " 19  AGE                         1730 non-null   float64\n",
      "dtypes: float64(18), int64(2)\n",
      "memory usage: 270.4 KB\n"
     ]
    }
   ],
   "source": [
    "train_df.info()"
   ]
  },
  {
   "cell_type": "markdown",
   "metadata": {},
   "source": [
    "## Load Data (Default setting)"
   ]
  },
  {
   "cell_type": "code",
   "execution_count": 16,
   "metadata": {},
   "outputs": [],
   "source": [
    "from tadpole import Tadpole"
   ]
  },
  {
   "cell_type": "code",
   "execution_count": 17,
   "metadata": {},
   "outputs": [
    {
     "name": "stdout",
     "output_type": "stream",
     "text": [
      "loading tadpole dataset\n",
      "pre-processing dataset\n",
      "Labels: {0: 'AD', 1: 'CN', 2: 'MCI'}\n"
     ]
    }
   ],
   "source": [
    "# load and pre-process tadpole dataset\n",
    "tp = Tadpole(debug=True)\n",
    "print(\"Labels:\", tp.label_dict)"
   ]
  },
  {
   "cell_type": "code",
   "execution_count": 18,
   "metadata": {},
   "outputs": [],
   "source": [
    "# fetch df\n",
    "train_df = tp.df"
   ]
  },
  {
   "cell_type": "markdown",
   "metadata": {},
   "source": [
    "### EDA"
   ]
  },
  {
   "cell_type": "code",
   "execution_count": 19,
   "metadata": {},
   "outputs": [],
   "source": [
    "sns.set(style='whitegrid', palette=\"deep\", font_scale=0.7, rc={\"figure.figsize\": [8, 5]})"
   ]
  },
  {
   "cell_type": "markdown",
   "metadata": {},
   "source": [
    "#### Categorical Values Distribution"
   ]
  },
  {
   "cell_type": "code",
   "execution_count": 20,
   "metadata": {},
   "outputs": [
    {
     "data": {
      "image/png": "[encoded data removed]",
      "text/plain": [
       "<Figure size 576x360 with 1 Axes>"
      ]
     },
     "metadata": {},
     "output_type": "display_data"
    }
   ],
   "source": [
    "sns.countplot(x='DX_bl', data=train_df);"
   ]
  },
  {
   "cell_type": "markdown",
   "metadata": {},
   "source": [
    "#### Numerical Values Histogram"
   ]
  },
  {
   "cell_type": "code",
   "execution_count": 21,
   "metadata": {},
   "outputs": [],
   "source": [
    "impcols = [c for c in train_df.columns.tolist() if c not in ['RID', 'DX_bl']]"
   ]
  },
  {
   "cell_type": "code",
   "execution_count": 22,
   "metadata": {},
   "outputs": [
    {
     "data": {
      "image/png": "[encoded data removed]",
      "text/plain": [
       "<Figure size 1080x432 with 18 Axes>"
      ]
     },
     "metadata": {},
     "output_type": "display_data"
    }
   ],
   "source": [
    "train_df[impcols].hist(bins=15, figsize=(15, 6), layout=(3, 6));"
   ]
  },
  {
   "cell_type": "markdown",
   "metadata": {},
   "source": [
    "#### Feature Correlation Map"
   ]
  },
  {
   "cell_type": "code",
   "execution_count": 23,
   "metadata": {},
   "outputs": [
    {
     "data": {
      "image/png": "[encoded data removed]",
      "text/plain": [
       "<Figure size 720x720 with 2 Axes>"
      ]
     },
     "metadata": {},
     "output_type": "display_data"
    }
   ],
   "source": [
    "plt.figure(figsize=(10,10))\n",
    "sns.heatmap(train_df.corr(), cmap='RdBu_r', linewidths=0.5)\n",
    "plt.title(\"D1 Dataset Correlation Map\")\n",
    "plt.show()"
   ]
  },
  {
   "cell_type": "code",
   "execution_count": 24,
   "metadata": {},
   "outputs": [
    {
     "data": {
      "text/html": [
       "<div>\n",
       "<style scoped>\n",
       "    .dataframe tbody tr th:only-of-type {\n",
       "        vertical-align: middle;\n",
       "    }\n",
       "\n",
       "    .dataframe tbody tr th {\n",
       "        vertical-align: top;\n",
       "    }\n",
       "\n",
       "    .dataframe thead th {\n",
       "        text-align: right;\n",
       "    }\n",
       "</style>\n",
       "<table border=\"1\" class=\"dataframe\">\n",
       "  <thead>\n",
       "    <tr style=\"text-align: right;\">\n",
       "      <th></th>\n",
       "      <th>CDRSB</th>\n",
       "      <th>ADAS11</th>\n",
       "      <th>MMSE</th>\n",
       "      <th>RAVLT_immediate</th>\n",
       "      <th>Hippocampus</th>\n",
       "      <th>WholeBrain</th>\n",
       "      <th>Entorhinal</th>\n",
       "      <th>MidTemp</th>\n",
       "      <th>FDG</th>\n",
       "      <th>AV45</th>\n",
       "      <th>ABETA_UPENNBIOMK9_04_19_17</th>\n",
       "      <th>TAU_UPENNBIOMK9_04_19_17</th>\n",
       "      <th>PTAU_UPENNBIOMK9_04_19_17</th>\n",
       "      <th>APOE4</th>\n",
       "      <th>AGE</th>\n",
       "    </tr>\n",
       "  </thead>\n",
       "  <tbody>\n",
       "    <tr>\n",
       "      <th>CDRSB</th>\n",
       "      <td>1.000000</td>\n",
       "      <td>0.723391</td>\n",
       "      <td>-0.722398</td>\n",
       "      <td>-0.580087</td>\n",
       "      <td>-0.428529</td>\n",
       "      <td>-0.204152</td>\n",
       "      <td>-0.405910</td>\n",
       "      <td>-0.335185</td>\n",
       "      <td>-0.489503</td>\n",
       "      <td>0.277542</td>\n",
       "      <td>-0.297695</td>\n",
       "      <td>0.284650</td>\n",
       "      <td>0.284549</td>\n",
       "      <td>0.251527</td>\n",
       "      <td>0.057748</td>\n",
       "    </tr>\n",
       "    <tr>\n",
       "      <th>ADAS11</th>\n",
       "      <td>0.723391</td>\n",
       "      <td>1.000000</td>\n",
       "      <td>-0.718205</td>\n",
       "      <td>-0.721549</td>\n",
       "      <td>-0.464756</td>\n",
       "      <td>-0.205984</td>\n",
       "      <td>-0.441030</td>\n",
       "      <td>-0.372807</td>\n",
       "      <td>-0.521546</td>\n",
       "      <td>0.319660</td>\n",
       "      <td>-0.327368</td>\n",
       "      <td>0.283991</td>\n",
       "      <td>0.284528</td>\n",
       "      <td>0.253308</td>\n",
       "      <td>0.121272</td>\n",
       "    </tr>\n",
       "    <tr>\n",
       "      <th>MMSE</th>\n",
       "      <td>-0.722398</td>\n",
       "      <td>-0.718205</td>\n",
       "      <td>1.000000</td>\n",
       "      <td>0.606942</td>\n",
       "      <td>0.444321</td>\n",
       "      <td>0.215808</td>\n",
       "      <td>0.408504</td>\n",
       "      <td>0.345035</td>\n",
       "      <td>0.461793</td>\n",
       "      <td>-0.273039</td>\n",
       "      <td>0.278317</td>\n",
       "      <td>-0.283525</td>\n",
       "      <td>-0.284546</td>\n",
       "      <td>-0.242233</td>\n",
       "      <td>-0.134978</td>\n",
       "    </tr>\n",
       "    <tr>\n",
       "      <th>RAVLT_immediate</th>\n",
       "      <td>-0.580087</td>\n",
       "      <td>-0.721549</td>\n",
       "      <td>0.606942</td>\n",
       "      <td>1.000000</td>\n",
       "      <td>0.414644</td>\n",
       "      <td>0.153243</td>\n",
       "      <td>0.353882</td>\n",
       "      <td>0.283793</td>\n",
       "      <td>0.434510</td>\n",
       "      <td>-0.303356</td>\n",
       "      <td>0.326519</td>\n",
       "      <td>-0.270226</td>\n",
       "      <td>-0.277996</td>\n",
       "      <td>-0.236077</td>\n",
       "      <td>-0.208682</td>\n",
       "    </tr>\n",
       "    <tr>\n",
       "      <th>Hippocampus</th>\n",
       "      <td>-0.428529</td>\n",
       "      <td>-0.464756</td>\n",
       "      <td>0.444321</td>\n",
       "      <td>0.414644</td>\n",
       "      <td>1.000000</td>\n",
       "      <td>0.538591</td>\n",
       "      <td>0.628580</td>\n",
       "      <td>0.562170</td>\n",
       "      <td>0.344646</td>\n",
       "      <td>-0.247554</td>\n",
       "      <td>0.239554</td>\n",
       "      <td>-0.247875</td>\n",
       "      <td>-0.238473</td>\n",
       "      <td>-0.215503</td>\n",
       "      <td>-0.334875</td>\n",
       "    </tr>\n",
       "    <tr>\n",
       "      <th>WholeBrain</th>\n",
       "      <td>-0.204152</td>\n",
       "      <td>-0.205984</td>\n",
       "      <td>0.215808</td>\n",
       "      <td>0.153243</td>\n",
       "      <td>0.538591</td>\n",
       "      <td>1.000000</td>\n",
       "      <td>0.466975</td>\n",
       "      <td>0.699710</td>\n",
       "      <td>0.173646</td>\n",
       "      <td>-0.110145</td>\n",
       "      <td>0.067466</td>\n",
       "      <td>-0.159220</td>\n",
       "      <td>-0.145846</td>\n",
       "      <td>-0.037145</td>\n",
       "      <td>-0.285520</td>\n",
       "    </tr>\n",
       "    <tr>\n",
       "      <th>Entorhinal</th>\n",
       "      <td>-0.405910</td>\n",
       "      <td>-0.441030</td>\n",
       "      <td>0.408504</td>\n",
       "      <td>0.353882</td>\n",
       "      <td>0.628580</td>\n",
       "      <td>0.466975</td>\n",
       "      <td>1.000000</td>\n",
       "      <td>0.499776</td>\n",
       "      <td>0.275664</td>\n",
       "      <td>-0.205093</td>\n",
       "      <td>0.202040</td>\n",
       "      <td>-0.198044</td>\n",
       "      <td>-0.189903</td>\n",
       "      <td>-0.201708</td>\n",
       "      <td>-0.171741</td>\n",
       "    </tr>\n",
       "    <tr>\n",
       "      <th>MidTemp</th>\n",
       "      <td>-0.335185</td>\n",
       "      <td>-0.372807</td>\n",
       "      <td>0.345035</td>\n",
       "      <td>0.283793</td>\n",
       "      <td>0.562170</td>\n",
       "      <td>0.699710</td>\n",
       "      <td>0.499776</td>\n",
       "      <td>1.000000</td>\n",
       "      <td>0.324678</td>\n",
       "      <td>-0.194268</td>\n",
       "      <td>0.162456</td>\n",
       "      <td>-0.222882</td>\n",
       "      <td>-0.214597</td>\n",
       "      <td>-0.104930</td>\n",
       "      <td>-0.184214</td>\n",
       "    </tr>\n",
       "    <tr>\n",
       "      <th>FDG</th>\n",
       "      <td>-0.489503</td>\n",
       "      <td>-0.521546</td>\n",
       "      <td>0.461793</td>\n",
       "      <td>0.434510</td>\n",
       "      <td>0.344646</td>\n",
       "      <td>0.173646</td>\n",
       "      <td>0.275664</td>\n",
       "      <td>0.324678</td>\n",
       "      <td>1.000000</td>\n",
       "      <td>-0.314945</td>\n",
       "      <td>0.319775</td>\n",
       "      <td>-0.238858</td>\n",
       "      <td>-0.251548</td>\n",
       "      <td>-0.205525</td>\n",
       "      <td>-0.114224</td>\n",
       "    </tr>\n",
       "    <tr>\n",
       "      <th>AV45</th>\n",
       "      <td>0.277542</td>\n",
       "      <td>0.319660</td>\n",
       "      <td>-0.273039</td>\n",
       "      <td>-0.303356</td>\n",
       "      <td>-0.247554</td>\n",
       "      <td>-0.110145</td>\n",
       "      <td>-0.205093</td>\n",
       "      <td>-0.194268</td>\n",
       "      <td>-0.314945</td>\n",
       "      <td>1.000000</td>\n",
       "      <td>-0.481998</td>\n",
       "      <td>0.375596</td>\n",
       "      <td>0.412130</td>\n",
       "      <td>0.298999</td>\n",
       "      <td>0.103375</td>\n",
       "    </tr>\n",
       "    <tr>\n",
       "      <th>ABETA_UPENNBIOMK9_04_19_17</th>\n",
       "      <td>-0.297695</td>\n",
       "      <td>-0.327368</td>\n",
       "      <td>0.278317</td>\n",
       "      <td>0.326519</td>\n",
       "      <td>0.239554</td>\n",
       "      <td>0.067466</td>\n",
       "      <td>0.202040</td>\n",
       "      <td>0.162456</td>\n",
       "      <td>0.319775</td>\n",
       "      <td>-0.481998</td>\n",
       "      <td>1.000000</td>\n",
       "      <td>-0.145714</td>\n",
       "      <td>-0.230967</td>\n",
       "      <td>-0.364755</td>\n",
       "      <td>-0.073823</td>\n",
       "    </tr>\n",
       "    <tr>\n",
       "      <th>TAU_UPENNBIOMK9_04_19_17</th>\n",
       "      <td>0.284650</td>\n",
       "      <td>0.283991</td>\n",
       "      <td>-0.283525</td>\n",
       "      <td>-0.270226</td>\n",
       "      <td>-0.247875</td>\n",
       "      <td>-0.159220</td>\n",
       "      <td>-0.198044</td>\n",
       "      <td>-0.222882</td>\n",
       "      <td>-0.238858</td>\n",
       "      <td>0.375596</td>\n",
       "      <td>-0.145714</td>\n",
       "      <td>1.000000</td>\n",
       "      <td>0.980453</td>\n",
       "      <td>0.245319</td>\n",
       "      <td>0.083158</td>\n",
       "    </tr>\n",
       "    <tr>\n",
       "      <th>PTAU_UPENNBIOMK9_04_19_17</th>\n",
       "      <td>0.284549</td>\n",
       "      <td>0.284528</td>\n",
       "      <td>-0.284546</td>\n",
       "      <td>-0.277996</td>\n",
       "      <td>-0.238473</td>\n",
       "      <td>-0.145846</td>\n",
       "      <td>-0.189903</td>\n",
       "      <td>-0.214597</td>\n",
       "      <td>-0.251548</td>\n",
       "      <td>0.412130</td>\n",
       "      <td>-0.230967</td>\n",
       "      <td>0.980453</td>\n",
       "      <td>1.000000</td>\n",
       "      <td>0.266638</td>\n",
       "      <td>0.070063</td>\n",
       "    </tr>\n",
       "    <tr>\n",
       "      <th>APOE4</th>\n",
       "      <td>0.251527</td>\n",
       "      <td>0.253308</td>\n",
       "      <td>-0.242233</td>\n",
       "      <td>-0.236077</td>\n",
       "      <td>-0.215503</td>\n",
       "      <td>-0.037145</td>\n",
       "      <td>-0.201708</td>\n",
       "      <td>-0.104930</td>\n",
       "      <td>-0.205525</td>\n",
       "      <td>0.298999</td>\n",
       "      <td>-0.364755</td>\n",
       "      <td>0.245319</td>\n",
       "      <td>0.266638</td>\n",
       "      <td>1.000000</td>\n",
       "      <td>-0.137543</td>\n",
       "    </tr>\n",
       "    <tr>\n",
       "      <th>AGE</th>\n",
       "      <td>0.057748</td>\n",
       "      <td>0.121272</td>\n",
       "      <td>-0.134978</td>\n",
       "      <td>-0.208682</td>\n",
       "      <td>-0.334875</td>\n",
       "      <td>-0.285520</td>\n",
       "      <td>-0.171741</td>\n",
       "      <td>-0.184214</td>\n",
       "      <td>-0.114224</td>\n",
       "      <td>0.103375</td>\n",
       "      <td>-0.073823</td>\n",
       "      <td>0.083158</td>\n",
       "      <td>0.070063</td>\n",
       "      <td>-0.137543</td>\n",
       "      <td>1.000000</td>\n",
       "    </tr>\n",
       "  </tbody>\n",
       "</table>\n",
       "</div>"
      ],
      "text/plain": [
       "                               CDRSB    ADAS11      MMSE  RAVLT_immediate  \\\n",
       "CDRSB                       1.000000  0.723391 -0.722398        -0.580087   \n",
       "ADAS11                      0.723391  1.000000 -0.718205        -0.721549   \n",
       "MMSE                       -0.722398 -0.718205  1.000000         0.606942   \n",
       "RAVLT_immediate            -0.580087 -0.721549  0.606942         1.000000   \n",
       "Hippocampus                -0.428529 -0.464756  0.444321         0.414644   \n",
       "WholeBrain                 -0.204152 -0.205984  0.215808         0.153243   \n",
       "Entorhinal                 -0.405910 -0.441030  0.408504         0.353882   \n",
       "MidTemp                    -0.335185 -0.372807  0.345035         0.283793   \n",
       "FDG                        -0.489503 -0.521546  0.461793         0.434510   \n",
       "AV45                        0.277542  0.319660 -0.273039        -0.303356   \n",
       "ABETA_UPENNBIOMK9_04_19_17 -0.297695 -0.327368  0.278317         0.326519   \n",
       "TAU_UPENNBIOMK9_04_19_17    0.284650  0.283991 -0.283525        -0.270226   \n",
       "PTAU_UPENNBIOMK9_04_19_17   0.284549  0.284528 -0.284546        -0.277996   \n",
       "APOE4                       0.251527  0.253308 -0.242233        -0.236077   \n",
       "AGE                         0.057748  0.121272 -0.134978        -0.208682   \n",
       "\n",
       "                            Hippocampus  WholeBrain  Entorhinal   MidTemp  \\\n",
       "CDRSB                         -0.428529   -0.204152   -0.405910 -0.335185   \n",
       "ADAS11                        -0.464756   -0.205984   -0.441030 -0.372807   \n",
       "MMSE                           0.444321    0.215808    0.408504  0.345035   \n",
       "RAVLT_immediate                0.414644    0.153243    0.353882  0.283793   \n",
       "Hippocampus                    1.000000    0.538591    0.628580  0.562170   \n",
       "WholeBrain                     0.538591    1.000000    0.466975  0.699710   \n",
       "Entorhinal                     0.628580    0.466975    1.000000  0.499776   \n",
       "MidTemp                        0.562170    0.699710    0.499776  1.000000   \n",
       "FDG                            0.344646    0.173646    0.275664  0.324678   \n",
       "AV45                          -0.247554   -0.110145   -0.205093 -0.194268   \n",
       "ABETA_UPENNBIOMK9_04_19_17     0.239554    0.067466    0.202040  0.162456   \n",
       "TAU_UPENNBIOMK9_04_19_17      -0.247875   -0.159220   -0.198044 -0.222882   \n",
       "PTAU_UPENNBIOMK9_04_19_17     -0.238473   -0.145846   -0.189903 -0.214597   \n",
       "APOE4                         -0.215503   -0.037145   -0.201708 -0.104930   \n",
       "AGE                           -0.334875   -0.285520   -0.171741 -0.184214   \n",
       "\n",
       "                                 FDG      AV45  ABETA_UPENNBIOMK9_04_19_17  \\\n",
       "CDRSB                      -0.489503  0.277542                   -0.297695   \n",
       "ADAS11                     -0.521546  0.319660                   -0.327368   \n",
       "MMSE                        0.461793 -0.273039                    0.278317   \n",
       "RAVLT_immediate             0.434510 -0.303356                    0.326519   \n",
       "Hippocampus                 0.344646 -0.247554                    0.239554   \n",
       "WholeBrain                  0.173646 -0.110145                    0.067466   \n",
       "Entorhinal                  0.275664 -0.205093                    0.202040   \n",
       "MidTemp                     0.324678 -0.194268                    0.162456   \n",
       "FDG                         1.000000 -0.314945                    0.319775   \n",
       "AV45                       -0.314945  1.000000                   -0.481998   \n",
       "ABETA_UPENNBIOMK9_04_19_17  0.319775 -0.481998                    1.000000   \n",
       "TAU_UPENNBIOMK9_04_19_17   -0.238858  0.375596                   -0.145714   \n",
       "PTAU_UPENNBIOMK9_04_19_17  -0.251548  0.412130                   -0.230967   \n",
       "APOE4                      -0.205525  0.298999                   -0.364755   \n",
       "AGE                        -0.114224  0.103375                   -0.073823   \n",
       "\n",
       "                            TAU_UPENNBIOMK9_04_19_17  \\\n",
       "CDRSB                                       0.284650   \n",
       "ADAS11                                      0.283991   \n",
       "MMSE                                       -0.283525   \n",
       "RAVLT_immediate                            -0.270226   \n",
       "Hippocampus                                -0.247875   \n",
       "WholeBrain                                 -0.159220   \n",
       "Entorhinal                                 -0.198044   \n",
       "MidTemp                                    -0.222882   \n",
       "FDG                                        -0.238858   \n",
       "AV45                                        0.375596   \n",
       "ABETA_UPENNBIOMK9_04_19_17                 -0.145714   \n",
       "TAU_UPENNBIOMK9_04_19_17                    1.000000   \n",
       "PTAU_UPENNBIOMK9_04_19_17                   0.980453   \n",
       "APOE4                                       0.245319   \n",
       "AGE                                         0.083158   \n",
       "\n",
       "                            PTAU_UPENNBIOMK9_04_19_17     APOE4       AGE  \n",
       "CDRSB                                        0.284549  0.251527  0.057748  \n",
       "ADAS11                                       0.284528  0.253308  0.121272  \n",
       "MMSE                                        -0.284546 -0.242233 -0.134978  \n",
       "RAVLT_immediate                             -0.277996 -0.236077 -0.208682  \n",
       "Hippocampus                                 -0.238473 -0.215503 -0.334875  \n",
       "WholeBrain                                  -0.145846 -0.037145 -0.285520  \n",
       "Entorhinal                                  -0.189903 -0.201708 -0.171741  \n",
       "MidTemp                                     -0.214597 -0.104930 -0.184214  \n",
       "FDG                                         -0.251548 -0.205525 -0.114224  \n",
       "AV45                                         0.412130  0.298999  0.103375  \n",
       "ABETA_UPENNBIOMK9_04_19_17                  -0.230967 -0.364755 -0.073823  \n",
       "TAU_UPENNBIOMK9_04_19_17                     0.980453  0.245319  0.083158  \n",
       "PTAU_UPENNBIOMK9_04_19_17                    1.000000  0.266638  0.070063  \n",
       "APOE4                                        0.266638  1.000000 -0.137543  \n",
       "AGE                                          0.070063 -0.137543  1.000000  "
      ]
     },
     "execution_count": 24,
     "metadata": {},
     "output_type": "execute_result"
    }
   ],
   "source": [
    "train_df.drop(columns=['DX_bl', 'RID', 'ADAS13', 'Ventricles']).corr()"
   ]
  }
 ],
 "metadata": {
  "kernelspec": {
   "display_name": "Python 3",
   "language": "python",
   "name": "python3"
  },
  "language_info": {
   "codemirror_mode": {
    "name": "ipython",
    "version": 3
   },
   "file_extension": ".py",
   "mimetype": "text/x-python",
   "name": "python",
   "nbconvert_exporter": "python",
   "pygments_lexer": "ipython3",
   "version": "3.7.7"
  }
 },
 "nbformat": 4,
 "nbformat_minor": 2
}
