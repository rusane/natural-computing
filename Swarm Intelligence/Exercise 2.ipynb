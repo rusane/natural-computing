{
 "cells": [
  {
   "cell_type": "code",
   "execution_count": 15,
   "metadata": {},
   "outputs": [
    {
     "name": "stdout",
     "output_type": "stream",
     "text": [
      "No constraints given.\n",
      "Best after iteration 1: [-6.06641711] 36.80141658636484\n",
      "Best after iteration 2: [-6.06641711] 36.80141658636484\n",
      "Best after iteration 3: [-6.06641711] 36.80141658636484\n",
      "Best after iteration 4: [-6.06641711] 36.80141658636484\n",
      "New best for swarm at iteration 5: [-5.88519551] [34.63552615]\n",
      "Best after iteration 5: [-5.88519551] [34.63552615]\n",
      "New best for swarm at iteration 6: [-5.77039298] [33.29743519]\n",
      "Best after iteration 6: [-5.77039298] [33.29743519]\n",
      "New best for swarm at iteration 7: [-5.71299172] [32.63827443]\n",
      "Best after iteration 7: [-5.71299172] [32.63827443]\n",
      "New best for swarm at iteration 8: [-5.68429109] [32.31116522]\n",
      "Best after iteration 8: [-5.68429109] [32.31116522]\n",
      "New best for swarm at iteration 9: [-5.66994078] [32.14822842]\n",
      "Best after iteration 9: [-5.66994078] [32.14822842]\n",
      "New best for swarm at iteration 10: [-5.66276562] [32.06691446]\n",
      "Best after iteration 10: [-5.66276562] [32.06691446]\n",
      "New best for swarm at iteration 11: [-5.65917804] [32.0262961]\n",
      "Best after iteration 11: [-5.65917804] [32.0262961]\n",
      "New best for swarm at iteration 12: [-5.65738425] [32.00599657]\n",
      "Best after iteration 12: [-5.65738425] [32.00599657]\n",
      "New best for swarm at iteration 13: [-5.65648736] [31.99584922]\n",
      "Best after iteration 13: [-5.65648736] [31.99584922]\n",
      "New best for swarm at iteration 14: [-5.65603891] [31.99077614]\n",
      "Best after iteration 14: [-5.65603891] [31.99077614]\n",
      "New best for swarm at iteration 15: [-5.65581469] [31.98823976]\n",
      "Best after iteration 15: [-5.65581469] [31.98823976]\n",
      "New best for swarm at iteration 16: [-5.65570257] [31.9869716]\n",
      "Best after iteration 16: [-5.65570257] [31.9869716]\n",
      "New best for swarm at iteration 17: [-5.65564652] [31.98633754]\n",
      "Best after iteration 17: [-5.65564652] [31.98633754]\n",
      "New best for swarm at iteration 18: [-5.65561849] [31.9860205]\n",
      "Best after iteration 18: [-5.65561849] [31.9860205]\n",
      "New best for swarm at iteration 19: [-5.65560448] [31.98586199]\n",
      "Best after iteration 19: [-5.65560448] [31.98586199]\n",
      "New best for swarm at iteration 20: [-5.65559747] [31.98578273]\n",
      "Best after iteration 20: [-5.65559747] [31.98578273]\n",
      "New best for swarm at iteration 21: [-5.65559397] [31.9857431]\n",
      "Best after iteration 21: [-5.65559397] [31.9857431]\n",
      "New best for swarm at iteration 22: [-5.65559221] [31.98572329]\n",
      "Best after iteration 22: [-5.65559221] [31.98572329]\n",
      "New best for swarm at iteration 23: [-5.65559134] [31.98571338]\n",
      "Best after iteration 23: [-5.65559134] [31.98571338]\n",
      "New best for swarm at iteration 24: [-5.6555909] [31.98570843]\n",
      "Best after iteration 24: [-5.6555909] [31.98570843]\n",
      "New best for swarm at iteration 25: [-5.65559068] [31.98570595]\n",
      "Best after iteration 25: [-5.65559068] [31.98570595]\n",
      "New best for swarm at iteration 26: [-5.65559057] [31.98570471]\n",
      "Best after iteration 26: [-5.65559057] [31.98570471]\n",
      "New best for swarm at iteration 27: [-5.65559052] [31.98570409]\n",
      "Best after iteration 27: [-5.65559052] [31.98570409]\n",
      "New best for swarm at iteration 28: [-5.65559049] [31.98570378]\n",
      "Best after iteration 28: [-5.65559049] [31.98570378]\n",
      "New best for swarm at iteration 29: [-5.65559048] [31.98570363]\n",
      "Best after iteration 29: [-5.65559048] [31.98570363]\n",
      "New best for swarm at iteration 30: [-5.65559047] [31.98570355]\n",
      "Stopping search: Swarm best position change less than 1e-08\n"
     ]
    },
    {
     "data": {
      "text/plain": [
       "array([-5.65559047])"
      ]
     },
     "execution_count": 15,
     "metadata": {},
     "output_type": "execute_result"
    }
   ],
   "source": [
    "# Source of PSO package: https://github.com/tisimst/pyswarm\n",
    "from pyswarm import pso\n",
    "\n",
    "def f(x):\n",
    "    return x**2\n",
    "\n",
    "lb = [-10]\n",
    "ub = [10]\n",
    "\n",
    "xopt, fopt = pso(f, lb, ub, swarmsize=1, omega=0.5, debug=True)\n",
    "\n",
    "xopt\n",
    "\n",
    "# Optimum should be x=[0.0] with f(x)=0.0"
   ]
  }
 ],
 "metadata": {
  "kernelspec": {
   "display_name": "Python 3",
   "language": "python",
   "name": "python3"
  },
  "language_info": {
   "codemirror_mode": {
    "name": "ipython",
    "version": 3
   },
   "file_extension": ".py",
   "mimetype": "text/x-python",
   "name": "python",
   "nbconvert_exporter": "python",
   "pygments_lexer": "ipython3",
   "version": "3.7.5"
  }
 },
 "nbformat": 4,
 "nbformat_minor": 4
}
