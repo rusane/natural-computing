{
 "cells": [
  {
   "cell_type": "markdown",
   "metadata": {},
   "source": [
    "## Pre-processing"
   ]
  },
  {
   "cell_type": "code",
   "execution_count": 12,
   "metadata": {},
   "outputs": [],
   "source": [
    "def read_data(path):\n",
    "    with open(path, \"r\") as data:\n",
    "        lines = data.read().splitlines()\n",
    "    return lines\n",
    "\n",
    "def fixed_length_chunks(string, length, overlap=False):\n",
    "    step = 1 if overlap else length\n",
    "    max_step = max(len(string) - length + 1, 1) if overlap else len(string)\n",
    "    chunks = list( (string[i:length+i] for i in range(0, max_step, step)) )\n",
    "    if not overlap:\n",
    "        last_chunk_length_diff = length - len(chunks[-1])\n",
    "        # force last chunk to be fixed length by adding a part from the penultimate chunk\n",
    "        if len(chunks) > 1 and last_chunk_length_diff != 0:\n",
    "            chunks[-1] = (chunks[-2] + chunks[-1])[-length:]\n",
    "    return chunks"
   ]
  },
  {
   "cell_type": "code",
   "execution_count": 2,
   "metadata": {},
   "outputs": [],
   "source": [
    "# Methods for training data\n",
    "\n",
    "def remove_duplicates(chunks):\n",
    "    \"\"\"Removes duplicate chunks (use only for training data).\"\"\"\n",
    "    duplicates = set()\n",
    "    output = []\n",
    "    for chunk in chunks:\n",
    "        if chunk not in duplicates:\n",
    "            duplicates.add(chunk)\n",
    "            output.append(chunk)\n",
    "    return output\n",
    "\n",
    "def process_train_sequences(sequences, chunk_length, overlap):\n",
    "    chunked_sequences = [fixed_length_chunks(seq, chunk_length, overlap) for seq in sequences]\n",
    "    chunks = [chunk for chunks in chunked_sequences for chunk in chunks]\n",
    "    return remove_duplicates(chunks)    \n",
    "\n",
    "def write_train_data(chunks, out_dir):\n",
    "    with open(out_dir, \"w\") as train:\n",
    "        train.write('\\n'.join(chunks))"
   ]
  },
  {
   "cell_type": "code",
   "execution_count": 3,
   "metadata": {},
   "outputs": [],
   "source": [
    "# Methods for test data\n",
    "\n",
    "def read_test_and_labels(path_no_ext):\n",
    "    test = read_data(path_no_ext + \".test\")\n",
    "    labels = read_data(path_no_ext + \".labels\")\n",
    "    return test, labels\n",
    "\n",
    "def process_test_sequences(labeled_sequences, chunk_length, overlap):\n",
    "    chunked_sequences = [list( map(lambda x: (x, label), \n",
    "                                   fixed_length_chunks(seq, chunk_length, overlap)) \n",
    "                             )\n",
    "                         for seq, label in labeled_sequences]\n",
    "    chunks = [chunk for chunks in chunked_sequences for chunk in chunks]\n",
    "    return chunks\n",
    "\n",
    "def write_test_data(labeled_chunks, out_dir_no_ext):\n",
    "    chunks = [chunk for chunk, _ in labeled_chunks]\n",
    "    lbls = [label for _, label in labeled_chunks]\n",
    "    with open(out_dir_no_ext + \".test\", \"w\") as test, open(out_dir_no_ext + \".labels\", \"w\") as labels:\n",
    "        test.write('\\n'.join(chunks))\n",
    "        labels.write('\\n'.join(lbls))"
   ]
  },
  {
   "cell_type": "code",
   "execution_count": 4,
   "metadata": {},
   "outputs": [],
   "source": [
    "# Constants\n",
    "CERT = \"negative-selection/syscalls/snd-cert/\"\n",
    "UNM = \"negative-selection/syscalls/snd-unm/\"\n",
    "OUT = \"syscalls-classification/\"\n",
    "CHUNK_LENGTH = 7 # max 7 because that is the smallest sequence length in the data"
   ]
  },
  {
   "cell_type": "code",
   "execution_count": 5,
   "metadata": {},
   "outputs": [],
   "source": [
    "def preprocess_train_data(chunk_length, overlap):\n",
    "    # snd-cert\n",
    "    train_cert = read_data(CERT + \"snd-cert.train\")\n",
    "    chunks_cert = process_train_sequences(train_cert, chunk_length, overlap)\n",
    "    write_train_data(chunks_cert, OUT + \"snd-cert/snd-cert.train\")\n",
    "    # snd-unm\n",
    "    train_unm = read_data(UNM+ \"snd-unm.train\")\n",
    "    chunks_unm = process_train_sequences(train_unm, chunk_length, overlap)\n",
    "    write_train_data(chunks_unm, OUT + \"snd-unm/snd-unm.train\")\n",
    "    \n",
    "def preprocess_test_data(chunk_length, overlap):\n",
    "    for i in range(1, 4):\n",
    "        # snd-cert\n",
    "        test_cert, labels_cert = read_test_and_labels(CERT + f\"snd-cert.{i}\")\n",
    "        labeled_chunks_cert = process_test_sequences(zip(test_cert, labels_cert), chunk_length, overlap)\n",
    "        write_test_data(labeled_chunks_cert, OUT + f\"snd-cert/snd-cert.{i}\")\n",
    "        # snd-unm\n",
    "        test_unm, labels_unm = read_test_and_labels(UNM + f\"snd-unm.{i}\")\n",
    "        labeled_chunks_unm = process_test_sequences(zip(test_unm, labels_unm), chunk_length, overlap)\n",
    "        write_test_data(labeled_chunks_unm, OUT + f\"snd-unm/snd-unm.{i}\")"
   ]
  },
  {
   "cell_type": "code",
   "execution_count": 6,
   "metadata": {},
   "outputs": [],
   "source": [
    "preprocess_train_data(CHUNK_LENGTH, overlap=False)"
   ]
  },
  {
   "cell_type": "code",
   "execution_count": 7,
   "metadata": {},
   "outputs": [],
   "source": [
    "preprocess_test_data(CHUNK_LENGTH, overlap=False)"
   ]
  },
  {
   "cell_type": "markdown",
   "metadata": {},
   "source": [
    "## Classification"
   ]
  },
  {
   "cell_type": "markdown",
   "metadata": {},
   "source": [
    "### TO-DO: use all test files (cert and unm) + experiment with different $n$ (chunk size) and $r$\n",
    "\n",
    "*Note: max chunk size must be 7 (i.e., only test up $n$ up to 7 and not higher) because the smallest sequence in the data is of length 7 (any higher would mean the chunks cannot be fixed length).*"
   ]
  },
  {
   "cell_type": "code",
   "execution_count": 5,
   "metadata": {},
   "outputs": [],
   "source": [
    "import math\n",
    "import numpy as np\n",
    "from sklearn import metrics\n",
    "import matplotlib.pyplot as plt"
   ]
  },
  {
   "cell_type": "code",
   "execution_count": 6,
   "metadata": {},
   "outputs": [],
   "source": [
    "def get_AUC(anomaly_labels, anomaly_scores):\n",
    "    \"\"\"Compute AUC from labels and predictions (scores).\"\"\"\n",
    "    fpr, tpr, thresholds = metrics.roc_curve(anomaly_labels, anomaly_scores, pos_label=1)\n",
    "    return metrics.auc(fpr, tpr)\n",
    "\n",
    "def plot_ROC(fpr, tpr, title=\"\", filename=None):\n",
    "    \"\"\"Plot ROC with its AUC.\"\"\"\n",
    "    auc = metrics.auc(fpr, tpr)\n",
    "    plt.figure(figsize=(6, 6))\n",
    "    plt.plot([0, 1], '--')\n",
    "    plt.plot(fpr, tpr, label=f\"AUC={auc:.2f}\")\n",
    "    plt.xlabel('False Positive Rate')\n",
    "    plt.ylabel('True Positive Rate')\n",
    "    plt.title('ROC curve ' + title)\n",
    "    plt.legend()\n",
    "    if filename:\n",
    "        plt.savefig(f'figures/{filename}')\n",
    "    plt.show()"
   ]
  },
  {
   "cell_type": "code",
   "execution_count": 30,
   "metadata": {},
   "outputs": [],
   "source": [
    "# basic example with snd-cert1.test\n",
    "# to test every file make a loop that loops through every test file\n",
    "# possibly make a loop to test different r as well\n",
    "cert_data_path = OUT + \"snd-cert/\"\n",
    "jar = f\"-jar negative-selection/negsel2.jar\"\n",
    "alpha = f\"-alphabet file://{CERT}snd-cert.alpha\"\n",
    "self = f\"-self {cert_data_path}snd-cert.train\"\n",
    "params = f\"-n {CHUNK_LENGTH} -r 3 -c -l\"\n",
    "test = f\"{cert_data_path}snd-cert.1.test\"\n",
    "\n",
    "# can also pipe the output to a file with, e.g.,:\n",
    "# output = cert_data_path + \"snd-cert.1-out.txt\"\n",
    "# !java {jar} {alpha} {self} {params} < {test} > {output}\n",
    "output = !java {jar} {alpha} {self} {params} < {test}"
   ]
  },
  {
   "cell_type": "code",
   "execution_count": 31,
   "metadata": {},
   "outputs": [],
   "source": [
    "# string to float\n",
    "counts = [float(count) for count in output]"
   ]
  },
  {
   "cell_type": "code",
   "execution_count": 32,
   "metadata": {},
   "outputs": [],
   "source": [
    "# read labels and convert to float\n",
    "labels = read_data(cert_data_path + \"snd-cert.1.labels\")\n",
    "labels = [float(label) for label in labels]"
   ]
  },
  {
   "cell_type": "code",
   "execution_count": 33,
   "metadata": {},
   "outputs": [
    {
     "name": "stdout",
     "output_type": "stream",
     "text": [
      "AUC: 0.7129760031610067\n"
     ]
    },
    {
     "data": {
      "image/png": "[encoded data removed]",
      "text/plain": [
       "<Figure size 432x432 with 1 Axes>"
      ]
     },
     "metadata": {
      "needs_background": "light"
     },
     "output_type": "display_data"
    }
   ],
   "source": [
    "fpr, tpr, thresholds = metrics.roc_curve(labels, counts, pos_label=1)\n",
    "\n",
    "# Only AUC\n",
    "print(\"AUC:\", get_AUC(labels, counts))\n",
    "# or plot ROC with AUC\n",
    "plot_ROC(fpr, tpr, \"snd-cert.1\")"
   ]
  }
 ],
 "metadata": {
  "kernelspec": {
   "display_name": "Python 3",
   "language": "python",
   "name": "python3"
  },
  "language_info": {
   "codemirror_mode": {
    "name": "ipython",
    "version": 3
   },
   "file_extension": ".py",
   "mimetype": "text/x-python",
   "name": "python",
   "nbconvert_exporter": "python",
   "pygments_lexer": "ipython3",
   "version": "3.7.5"
  }
 },
 "nbformat": 4,
 "nbformat_minor": 4
}
