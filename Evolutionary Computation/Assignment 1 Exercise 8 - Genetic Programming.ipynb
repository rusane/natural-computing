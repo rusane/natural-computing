{
 "cells": [
  {
   "cell_type": "markdown",
   "metadata": {},
   "source": [
    "# Natural Computing\n",
    "\n",
    "## Exercises on Evolutionary Computation (Assignment 1)"
   ]
  },
  {
   "cell_type": "markdown",
   "metadata": {},
   "source": [
    "### Exercise 8"
   ]
  },
  {
   "cell_type": "code",
   "execution_count": 1,
   "metadata": {},
   "outputs": [],
   "source": [
    "import numpy as np\n",
    "import matplotlib.pyplot as plt\n",
    "\n",
    "%matplotlib inline"
   ]
  },
  {
   "cell_type": "code",
   "execution_count": 2,
   "metadata": {},
   "outputs": [],
   "source": [
    "# input dataset\n",
    "X = np.array(['-1.0', '-0.9', '-0.8', '-0.7', '-0.6', '-0.5', '-0.4', '-0.3', '-0.2', '-0.1', \n",
    "     '0', '0.1', '0.2', '0.3', '0.4', '0.5', '0.6', '0.7', '0.8', '0.9', '1.0'], dtype=float)\n",
    "y = np.array(['0.0000', '-0.1629', '-0.2624', '-0.3129', '-0.3264', '-0.3125', '-0.2784', '-0.2289', '-0.1664', \n",
    "              '-0.0909', '0.0', ' 0.1111', '0.2496', '0.4251', '0.6496', '0.9375', '1.3056', '1.7731', '2.3616',\n",
    "              '3.0951', '4.0000'], dtype=float)"
   ]
  },
  {
   "cell_type": "code",
   "execution_count": 3,
   "metadata": {},
   "outputs": [
    {
     "data": {
      "text/plain": [
       "((21,), (21,))"
      ]
     },
     "execution_count": 3,
     "metadata": {},
     "output_type": "execute_result"
    }
   ],
   "source": [
    "X.shape, y.shape"
   ]
  },
  {
   "cell_type": "code",
   "execution_count": 4,
   "metadata": {},
   "outputs": [
    {
     "data": {
      "text/plain": [
       "(dtype('float64'), dtype('float64'))"
      ]
     },
     "execution_count": 4,
     "metadata": {},
     "output_type": "execute_result"
    }
   ],
   "source": [
    "X.dtype, y.dtype"
   ]
  },
  {
   "cell_type": "code",
   "execution_count": 5,
   "metadata": {},
   "outputs": [],
   "source": [
    "# define parameters\n",
    "pop_size = 1000\n",
    "gen_num = 50\n",
    "cross_p = 0.7\n",
    "mut_p = 0"
   ]
  },
  {
   "cell_type": "code",
   "execution_count": 6,
   "metadata": {},
   "outputs": [
    {
     "data": {
      "image/png": "[encoded data removed]",
      "text/plain": [
       "<Figure size 432x288 with 1 Axes>"
      ]
     },
     "metadata": {
      "needs_background": "light"
     },
     "output_type": "display_data"
    }
   ],
   "source": [
    "plt.figure()\n",
    "plt.plot(X, y, '.')\n",
    "plt.xlabel('Input (X)')\n",
    "plt.ylabel('Output (Y)')\n",
    "plt.title('Dataset Plot')\n",
    "plt.show()"
   ]
  },
  {
   "cell_type": "markdown",
   "metadata": {},
   "source": [
    "DEAP Framework"
   ]
  },
  {
   "cell_type": "code",
   "execution_count": 7,
   "metadata": {},
   "outputs": [],
   "source": [
    "import operator\n",
    "import math\n",
    "import random\n",
    "\n",
    "import numpy\n",
    "\n",
    "from deap import algorithms\n",
    "from deap import base\n",
    "from deap import creator\n",
    "from deap import tools\n",
    "from deap import gp"
   ]
  },
  {
   "cell_type": "code",
   "execution_count": 8,
   "metadata": {},
   "outputs": [],
   "source": [
    "# Define new functions\n",
    "def protectedDiv(left, right):\n",
    "    try:\n",
    "        return left / right\n",
    "    except ZeroDivisionError:\n",
    "        return 1\n",
    "\n",
    "pset = gp.PrimitiveSet(\"MAIN\", 1)"
   ]
  },
  {
   "cell_type": "code",
   "execution_count": 9,
   "metadata": {},
   "outputs": [],
   "source": [
    "pset.addPrimitive(operator.add, 2)\n",
    "pset.addPrimitive(operator.sub, 2)\n",
    "pset.addPrimitive(operator.mul, 2)\n",
    "# pset.addPrimitive(math.log1p, 1)\n",
    "# pset.addPrimitive(math.exp, 1)\n",
    "# pset.addPrimitive(math.sin, 1)\n",
    "# pset.addPrimitive(math.cos, 1)\n",
    "pset.addPrimitive(protectedDiv, 2)\n",
    "pset.addEphemeralConstant(\"rand101\", lambda: random.randint(-1,1))\n",
    "pset.renameArguments(ARG0='x')"
   ]
  },
  {
   "cell_type": "code",
   "execution_count": 10,
   "metadata": {},
   "outputs": [],
   "source": [
    "creator.create(\"FitnessMin\", base.Fitness, weights=(-1.0,))\n",
    "creator.create(\"Individual\", gp.PrimitiveTree, fitness=creator.FitnessMin)"
   ]
  },
  {
   "cell_type": "code",
   "execution_count": 11,
   "metadata": {},
   "outputs": [],
   "source": [
    "toolbox = base.Toolbox()\n",
    "toolbox.register(\"expr\", gp.genHalfAndHalf, pset=pset, min_=1, max_=2)\n",
    "toolbox.register(\"individual\", tools.initIterate, creator.Individual, toolbox.expr)\n",
    "toolbox.register(\"population\", tools.initRepeat, list, toolbox.individual)\n",
    "toolbox.register(\"compile\", gp.compile, pset=pset)"
   ]
  },
  {
   "cell_type": "code",
   "execution_count": 12,
   "metadata": {},
   "outputs": [],
   "source": [
    "def evalSymbReg(individual, points):\n",
    "    '''function to evaluate the symbolic regression'''\n",
    "    # Transform the tree expression in a callable function\n",
    "    func = toolbox.compile(expr=individual)\n",
    "    \n",
    "    # Evaluate the mean squared error between the expression\n",
    "    # and the real function : x**4 + x**3 + x**2 + x\n",
    "    \n",
    "#     sqerrors = ((func(x) - x**4 - x**3 - x**2 - x)**2 for x in points)\n",
    "#     return math.fsum(sqerrors) / len(points)\n",
    "\n",
    "#     est_y = np.array([func(x) for x,_ in points])\n",
    "#     y = np.array([y for _,y in points])\n",
    "    errors = (abs(func(x) - y) for x,y in points)\n",
    "    mae = math.fsum(errors)\n",
    "    return mae,"
   ]
  },
  {
   "cell_type": "code",
   "execution_count": 13,
   "metadata": {},
   "outputs": [],
   "source": [
    "data = [(X[i], y[i]) for i in range(X.size)]"
   ]
  },
  {
   "cell_type": "code",
   "execution_count": 14,
   "metadata": {},
   "outputs": [],
   "source": [
    "# toolbox.register(\"evaluate\", evalSymbReg, points=[x/10. for x in range(-10,10)])\n",
    "toolbox.register(\"evaluate\", evalSymbReg, points=data)\n",
    "toolbox.register(\"select\", tools.selTournament, tournsize=3)\n",
    "toolbox.register(\"mate\", gp.cxOnePoint)\n",
    "toolbox.register(\"expr_mut\", gp.genFull, min_=0, max_=2)\n",
    "toolbox.register(\"mutate\", gp.mutUniform, expr=toolbox.expr_mut, pset=pset)"
   ]
  },
  {
   "cell_type": "code",
   "execution_count": 15,
   "metadata": {},
   "outputs": [],
   "source": [
    "toolbox.decorate(\"mate\", gp.staticLimit(key=operator.attrgetter(\"height\"), max_value=17))\n",
    "toolbox.decorate(\"mutate\", gp.staticLimit(key=operator.attrgetter(\"height\"), max_value=17))"
   ]
  },
  {
   "cell_type": "code",
   "execution_count": 16,
   "metadata": {},
   "outputs": [
    {
     "name": "stderr",
     "output_type": "stream",
     "text": [
      "/usr/local/lib/python3.7/site-packages/ipykernel_launcher.py:4: RuntimeWarning: invalid value encountered in double_scalars\n",
      "  after removing the cwd from sys.path.\n",
      "/usr/local/lib/python3.7/site-packages/ipykernel_launcher.py:4: RuntimeWarning: divide by zero encountered in double_scalars\n",
      "  after removing the cwd from sys.path.\n",
      "<string>:1: RuntimeWarning: invalid value encountered in double_scalars\n"
     ]
    },
    {
     "name": "stdout",
     "output_type": "stream",
     "text": [
      "   \t      \t                  fitness                  \t                      size                     \n",
      "   \t      \t-------------------------------------------\t-----------------------------------------------\n",
      "gen\tnevals\tavg\tgen\tmax\tmin\tnevals\tstd\tavg  \tgen\tmax\tmin\tnevals\tstd    \n",
      "0  \t1000  \tnan\t0  \tnan\tnan\t1000  \tnan\t4.642\t0  \t7  \t3  \t1000  \t1.85144\n",
      "1  \t710   \tnan\t1  \tnan\tnan\t710   \tnan\t4.484\t1  \t9  \t3  \t710   \t1.78374\n",
      "2  \t700   \tnan\t2  \tnan\tnan\t700   \tnan\t4.314\t2  \t11 \t3  \t700   \t1.63138\n",
      "3  \t720   \tnan\t3  \tnan\tnan\t720   \tnan\t4.362\t3  \t11 \t3  \t720   \t1.6748 \n",
      "4  \t676   \tnan\t4  \tnan\tnan\t676   \tnan\t4.362\t4  \t11 \t3  \t676   \t1.63124\n",
      "5  \t674   \tnan\t5  \tnan\tnan\t674   \tnan\t4.518\t5  \t13 \t3  \t674   \t1.68869\n",
      "6  \t682   \tnan\t6  \tnan\tnan\t682   \tnan\t4.75 \t6  \t11 \t3  \t682   \t1.70103\n",
      "7  \t690   \tnan\t7  \tnan\tnan\t690   \tnan\t5.08 \t7  \t11 \t3  \t690   \t1.78482\n",
      "8  \t718   \tnan\t8  \tnan\tnan\t718   \tnan\t5.298\t8  \t15 \t3  \t718   \t1.83826\n",
      "9  \t704   \tnan\t9  \tnan\tnan\t704   \tnan\t5.576\t9  \t15 \t3  \t704   \t2.00305\n",
      "10 \t674   \tnan\t10 \tnan\tnan\t674   \tnan\t5.762\t10 \t17 \t3  \t674   \t2.22157\n",
      "11 \t700   \tnan\t11 \tnan\tnan\t700   \tnan\t6.124\t11 \t19 \t3  \t700   \t2.62767\n",
      "12 \t722   \tnan\t12 \tnan\tnan\t722   \tnan\t6.402\t12 \t21 \t3  \t722   \t2.96756\n",
      "13 \t730   \tnan\t13 \tnan\tnan\t730   \tnan\t6.736\t13 \t23 \t3  \t730   \t3.19786\n",
      "14 \t662   \tnan\t14 \tnan\tnan\t662   \tnan\t7.232\t14 \t21 \t3  \t662   \t3.51257\n",
      "15 \t696   \tnan\t15 \tnan\tnan\t696   \tnan\t7.958\t15 \t25 \t3  \t696   \t3.95553\n",
      "16 \t722   \tnan\t16 \tnan\tnan\t722   \tnan\t8.722\t16 \t31 \t3  \t722   \t4.34773\n",
      "17 \t674   \tnan\t17 \tnan\tnan\t674   \tnan\t9.574\t17 \t33 \t3  \t674   \t4.85907\n",
      "18 \t688   \tnan\t18 \tnan\tnan\t688   \tnan\t10.64\t18 \t33 \t3  \t688   \t5.09572\n",
      "19 \t672   \tnan\t19 \tnan\tnan\t672   \tnan\t11.524\t19 \t37 \t3  \t672   \t5.4499 \n",
      "20 \t668   \tnan\t20 \tnan\tnan\t668   \tnan\t12.17 \t20 \t49 \t3  \t668   \t5.59027\n",
      "21 \t724   \tnan\t21 \tnan\tnan\t724   \tnan\t12.764\t21 \t49 \t3  \t724   \t6.09724\n",
      "22 \t694   \tnan\t22 \tnan\tnan\t694   \tnan\t13.122\t22 \t41 \t3  \t694   \t6.24541\n",
      "23 \t690   \tnan\t23 \tnan\tnan\t690   \tnan\t13.476\t23 \t41 \t3  \t690   \t6.34204\n",
      "24 \t694   \tnan\t24 \tnan\tnan\t694   \tnan\t13.758\t24 \t51 \t3  \t694   \t6.88051\n",
      "25 \t736   \tnan\t25 \tnan\tnan\t736   \tnan\t13.934\t25 \t51 \t3  \t736   \t7.34763\n",
      "26 \t694   \tnan\t26 \tnan\tnan\t694   \tnan\t14.508\t26 \t59 \t3  \t694   \t7.81524\n",
      "27 \t694   \tnan\t27 \tnan\tnan\t694   \tnan\t14.892\t27 \t59 \t3  \t694   \t8.49402\n",
      "28 \t724   \tnan\t28 \tnan\tnan\t724   \tnan\t15.26 \t28 \t55 \t3  \t724   \t8.32132\n",
      "29 \t700   \tnan\t29 \tnan\tnan\t700   \tnan\t15.792\t29 \t65 \t3  \t700   \t8.6425 \n",
      "30 \t740   \tnan\t30 \tnan\tnan\t740   \tnan\t16.324\t30 \t65 \t3  \t740   \t9.59036\n",
      "31 \t714   \tnan\t31 \tnan\tnan\t714   \tnan\t16.492\t31 \t75 \t3  \t714   \t9.89939\n",
      "32 \t740   \tnan\t32 \tnan\tnan\t740   \tnan\t17.168\t32 \t79 \t3  \t740   \t10.5828\n",
      "33 \t682   \tnan\t33 \tnan\tnan\t682   \tnan\t17.38 \t33 \t77 \t3  \t682   \t10.5242\n",
      "34 \t698   \tnan\t34 \tnan\tnan\t698   \tnan\t17.812\t34 \t67 \t3  \t698   \t11.249 \n",
      "35 \t700   \tnan\t35 \tnan\tnan\t700   \tnan\t17.874\t35 \t87 \t3  \t700   \t11.4738\n",
      "36 \t684   \tnan\t36 \tnan\tnan\t684   \tnan\t18.674\t36 \t85 \t3  \t684   \t12.5905\n",
      "37 \t706   \tnan\t37 \tnan\tnan\t706   \tnan\t18.642\t37 \t85 \t3  \t706   \t12.8979\n",
      "38 \t712   \tnan\t38 \tnan\tnan\t712   \tnan\t19.022\t38 \t85 \t3  \t712   \t13.8207\n",
      "39 \t676   \tnan\t39 \tnan\tnan\t676   \tnan\t19.11 \t39 \t85 \t3  \t676   \t13.383 \n",
      "40 \t690   \tnan\t40 \tnan\tnan\t690   \tnan\t20.306\t40 \t81 \t3  \t690   \t14.2527\n",
      "41 \t764   \tnan\t41 \tnan\tnan\t764   \tnan\t20.266\t41 \t81 \t3  \t764   \t14.2647\n",
      "42 \t686   \tnan\t42 \tnan\tnan\t686   \tnan\t20.896\t42 \t81 \t3  \t686   \t14.6114\n",
      "43 \t714   \tnan\t43 \tnan\tnan\t714   \tnan\t21.314\t43 \t89 \t3  \t714   \t14.5432\n",
      "44 \t736   \tnan\t44 \tnan\tnan\t736   \tnan\t21.28 \t44 \t85 \t3  \t736   \t14.0428\n",
      "45 \t702   \tnan\t45 \tnan\tnan\t702   \tnan\t22.112\t45 \t85 \t3  \t702   \t14.9916\n",
      "46 \t710   \tnan\t46 \tnan\tnan\t710   \tnan\t21.748\t46 \t85 \t3  \t710   \t14.6145\n",
      "47 \t682   \tnan\t47 \tnan\tnan\t682   \tnan\t21.694\t47 \t83 \t3  \t682   \t14.5674\n",
      "48 \t670   \tnan\t48 \tnan\tnan\t670   \tnan\t22.442\t48 \t85 \t3  \t670   \t15.2309\n",
      "49 \t678   \tnan\t49 \tnan\tnan\t678   \tnan\t21.964\t49 \t117\t3  \t678   \t15.3182\n",
      "50 \t682   \tnan\t50 \tnan\tnan\t682   \tnan\t22.058\t50 \t97 \t3  \t682   \t15.613 \n"
     ]
    }
   ],
   "source": [
    "random.seed(318)\n",
    "\n",
    "pop = toolbox.population(n=pop_size)\n",
    "hof = tools.HallOfFame(1)\n",
    "\n",
    "stats_fit = tools.Statistics(lambda ind: ind.fitness.values)\n",
    "stats_size = tools.Statistics(len)\n",
    "mstats = tools.MultiStatistics(fitness=stats_fit, size=stats_size)\n",
    "mstats.register(\"avg\", numpy.mean)\n",
    "mstats.register(\"std\", numpy.std)\n",
    "mstats.register(\"min\", numpy.min)\n",
    "mstats.register(\"max\", numpy.max)\n",
    "\n",
    "# pop, log = algorithms.eaSimple(pop, toolbox, 0.5, 0.1, 40, stats=mstats,\n",
    "#                                    halloffame=hof, verbose=True)\n",
    "pop, log = algorithms.eaSimple(population=pop, toolbox=toolbox, cxpb=cross_p,\n",
    "                               mutpb=mut_p, ngen=gen_num, stats=mstats,\n",
    "                               halloffame=hof, verbose=True)"
   ]
  },
  {
   "cell_type": "code",
   "execution_count": 27,
   "metadata": {
    "scrolled": true
   },
   "outputs": [
    {
     "data": {
      "text/plain": [
       "[{'avg': nan, 'std': nan, 'min': nan, 'max': nan, 'gen': 0, 'nevals': 1000},\n",
       " {'avg': nan, 'std': nan, 'min': nan, 'max': nan, 'gen': 1, 'nevals': 710},\n",
       " {'avg': nan, 'std': nan, 'min': nan, 'max': nan, 'gen': 2, 'nevals': 700},\n",
       " {'avg': nan, 'std': nan, 'min': nan, 'max': nan, 'gen': 3, 'nevals': 720},\n",
       " {'avg': nan, 'std': nan, 'min': nan, 'max': nan, 'gen': 4, 'nevals': 676},\n",
       " {'avg': nan, 'std': nan, 'min': nan, 'max': nan, 'gen': 5, 'nevals': 674},\n",
       " {'avg': nan, 'std': nan, 'min': nan, 'max': nan, 'gen': 6, 'nevals': 682},\n",
       " {'avg': nan, 'std': nan, 'min': nan, 'max': nan, 'gen': 7, 'nevals': 690},\n",
       " {'avg': nan, 'std': nan, 'min': nan, 'max': nan, 'gen': 8, 'nevals': 718},\n",
       " {'avg': nan, 'std': nan, 'min': nan, 'max': nan, 'gen': 9, 'nevals': 704},\n",
       " {'avg': nan, 'std': nan, 'min': nan, 'max': nan, 'gen': 10, 'nevals': 674},\n",
       " {'avg': nan, 'std': nan, 'min': nan, 'max': nan, 'gen': 11, 'nevals': 700},\n",
       " {'avg': nan, 'std': nan, 'min': nan, 'max': nan, 'gen': 12, 'nevals': 722},\n",
       " {'avg': nan, 'std': nan, 'min': nan, 'max': nan, 'gen': 13, 'nevals': 730},\n",
       " {'avg': nan, 'std': nan, 'min': nan, 'max': nan, 'gen': 14, 'nevals': 662},\n",
       " {'avg': nan, 'std': nan, 'min': nan, 'max': nan, 'gen': 15, 'nevals': 696},\n",
       " {'avg': nan, 'std': nan, 'min': nan, 'max': nan, 'gen': 16, 'nevals': 722},\n",
       " {'avg': nan, 'std': nan, 'min': nan, 'max': nan, 'gen': 17, 'nevals': 674},\n",
       " {'avg': nan, 'std': nan, 'min': nan, 'max': nan, 'gen': 18, 'nevals': 688},\n",
       " {'avg': nan, 'std': nan, 'min': nan, 'max': nan, 'gen': 19, 'nevals': 672},\n",
       " {'avg': nan, 'std': nan, 'min': nan, 'max': nan, 'gen': 20, 'nevals': 668},\n",
       " {'avg': nan, 'std': nan, 'min': nan, 'max': nan, 'gen': 21, 'nevals': 724},\n",
       " {'avg': nan, 'std': nan, 'min': nan, 'max': nan, 'gen': 22, 'nevals': 694},\n",
       " {'avg': nan, 'std': nan, 'min': nan, 'max': nan, 'gen': 23, 'nevals': 690},\n",
       " {'avg': nan, 'std': nan, 'min': nan, 'max': nan, 'gen': 24, 'nevals': 694},\n",
       " {'avg': nan, 'std': nan, 'min': nan, 'max': nan, 'gen': 25, 'nevals': 736},\n",
       " {'avg': nan, 'std': nan, 'min': nan, 'max': nan, 'gen': 26, 'nevals': 694},\n",
       " {'avg': nan, 'std': nan, 'min': nan, 'max': nan, 'gen': 27, 'nevals': 694},\n",
       " {'avg': nan, 'std': nan, 'min': nan, 'max': nan, 'gen': 28, 'nevals': 724},\n",
       " {'avg': nan, 'std': nan, 'min': nan, 'max': nan, 'gen': 29, 'nevals': 700},\n",
       " {'avg': nan, 'std': nan, 'min': nan, 'max': nan, 'gen': 30, 'nevals': 740},\n",
       " {'avg': nan, 'std': nan, 'min': nan, 'max': nan, 'gen': 31, 'nevals': 714},\n",
       " {'avg': nan, 'std': nan, 'min': nan, 'max': nan, 'gen': 32, 'nevals': 740},\n",
       " {'avg': nan, 'std': nan, 'min': nan, 'max': nan, 'gen': 33, 'nevals': 682},\n",
       " {'avg': nan, 'std': nan, 'min': nan, 'max': nan, 'gen': 34, 'nevals': 698},\n",
       " {'avg': nan, 'std': nan, 'min': nan, 'max': nan, 'gen': 35, 'nevals': 700},\n",
       " {'avg': nan, 'std': nan, 'min': nan, 'max': nan, 'gen': 36, 'nevals': 684},\n",
       " {'avg': nan, 'std': nan, 'min': nan, 'max': nan, 'gen': 37, 'nevals': 706},\n",
       " {'avg': nan, 'std': nan, 'min': nan, 'max': nan, 'gen': 38, 'nevals': 712},\n",
       " {'avg': nan, 'std': nan, 'min': nan, 'max': nan, 'gen': 39, 'nevals': 676},\n",
       " {'avg': nan, 'std': nan, 'min': nan, 'max': nan, 'gen': 40, 'nevals': 690},\n",
       " {'avg': nan, 'std': nan, 'min': nan, 'max': nan, 'gen': 41, 'nevals': 764},\n",
       " {'avg': nan, 'std': nan, 'min': nan, 'max': nan, 'gen': 42, 'nevals': 686},\n",
       " {'avg': nan, 'std': nan, 'min': nan, 'max': nan, 'gen': 43, 'nevals': 714},\n",
       " {'avg': nan, 'std': nan, 'min': nan, 'max': nan, 'gen': 44, 'nevals': 736},\n",
       " {'avg': nan, 'std': nan, 'min': nan, 'max': nan, 'gen': 45, 'nevals': 702},\n",
       " {'avg': nan, 'std': nan, 'min': nan, 'max': nan, 'gen': 46, 'nevals': 710},\n",
       " {'avg': nan, 'std': nan, 'min': nan, 'max': nan, 'gen': 47, 'nevals': 682},\n",
       " {'avg': nan, 'std': nan, 'min': nan, 'max': nan, 'gen': 48, 'nevals': 670},\n",
       " {'avg': nan, 'std': nan, 'min': nan, 'max': nan, 'gen': 49, 'nevals': 678},\n",
       " {'avg': nan, 'std': nan, 'min': nan, 'max': nan, 'gen': 50, 'nevals': 682}]"
      ]
     },
     "execution_count": 27,
     "metadata": {},
     "output_type": "execute_result"
    }
   ],
   "source": [
    "fit_mins = log.chapters[\"fitness\"].select(\"min\")\n",
    "size_avgs = log.chapters[\"size\"].select(\"avg\")"
   ]
  }
 ],
 "metadata": {
  "kernelspec": {
   "display_name": "Python 3",
   "language": "python",
   "name": "python3"
  },
  "language_info": {
   "codemirror_mode": {
    "name": "ipython",
    "version": 3
   },
   "file_extension": ".py",
   "mimetype": "text/x-python",
   "name": "python",
   "nbconvert_exporter": "python",
   "pygments_lexer": "ipython3",
   "version": "3.7.6"
  }
 },
 "nbformat": 4,
 "nbformat_minor": 2
}
