{
 "cells": [
  {
   "cell_type": "markdown",
   "metadata": {},
   "source": [
    "# Natural Computing\n",
    "\n",
    "## Exercises on Evolutionary Computation (Assignment 1)"
   ]
  },
  {
   "cell_type": "markdown",
   "metadata": {},
   "source": [
    "### Exercise 8"
   ]
  },
  {
   "cell_type": "code",
   "execution_count": 1,
   "metadata": {},
   "outputs": [],
   "source": [
    "import numpy as np\n",
    "import matplotlib.pyplot as plt\n",
    "\n",
    "%matplotlib inline"
   ]
  },
  {
   "cell_type": "markdown",
   "metadata": {},
   "source": [
    "#### Dataset:\n",
    "X - (Input) Independent Variable\n",
    "\n",
    "Y - Output"
   ]
  },
  {
   "cell_type": "code",
   "execution_count": 2,
   "metadata": {},
   "outputs": [],
   "source": [
    "# define dataset\n",
    "X = [x/10. for x in range(-10,11)] # specifying X in this format avoids the math errors (Reason unknown)\n",
    "y = [0.0000, -0.1629, -0.2624, -0.3129, -0.3264, -0.3125, -0.2784, \n",
    "     -0.2289, -0.1664, -0.0909, 0.0, 0.1111, 0.2496, 0.4251,\n",
    "     0.6496, 0.9375, 1.3056, 1.7731, 2.3616, 3.0951, 4.0000]\n",
    "\n",
    "data = np.array([X, y]).T.tolist()"
   ]
  },
  {
   "cell_type": "code",
   "execution_count": 3,
   "metadata": {},
   "outputs": [
    {
     "data": {
      "image/png": "[encoded data removed]",
      "text/plain": [
       "<Figure size 432x288 with 1 Axes>"
      ]
     },
     "metadata": {
      "needs_background": "light"
     },
     "output_type": "display_data"
    }
   ],
   "source": [
    "# view data\n",
    "plt.figure()\n",
    "plt.plot(X, y, '.')\n",
    "plt.xlabel('Input (X)')\n",
    "plt.ylabel('Output (Y)')\n",
    "plt.title('Dataset Plot')\n",
    "plt.show()"
   ]
  },
  {
   "cell_type": "markdown",
   "metadata": {},
   "source": [
    "### Implementing GP Algorithm with the DEAP Framework\n",
    "Adapted from https://deap.readthedocs.io/en/master/examples/gp_symbreg.html."
   ]
  },
  {
   "cell_type": "code",
   "execution_count": 4,
   "metadata": {},
   "outputs": [],
   "source": [
    "import operator\n",
    "import math\n",
    "import random\n",
    "\n",
    "from deap import algorithms\n",
    "from deap import base\n",
    "from deap import creator\n",
    "from deap import tools\n",
    "from deap import gp"
   ]
  },
  {
   "cell_type": "markdown",
   "metadata": {},
   "source": [
    "Define Helper Functions"
   ]
  },
  {
   "cell_type": "code",
   "execution_count": 5,
   "metadata": {},
   "outputs": [],
   "source": [
    "def protectedDiv(left, right):\n",
    "    try:\n",
    "        return left / right\n",
    "    except ZeroDivisionError:\n",
    "        return 1"
   ]
  },
  {
   "cell_type": "code",
   "execution_count": 6,
   "metadata": {},
   "outputs": [],
   "source": [
    "def protectedLog(value):\n",
    "    try:\n",
    "        return math.log(value)\n",
    "    except ValueError:\n",
    "        return 0"
   ]
  },
  {
   "cell_type": "code",
   "execution_count": 7,
   "metadata": {},
   "outputs": [],
   "source": [
    "def evalSymbReg(individual, points, y=None):\n",
    "    '''function to evaluate the symbolic regression'''\n",
    "    # Transform the tree expression in a callable function\n",
    "    func = toolbox.compile(expr=individual)\n",
    "    \n",
    "    # Evalue the sum of absolute error between the expression\n",
    "    # and the Y values\n",
    "    errors = (abs(func(points[i]) - y[i]) for i in range(len(points)))\n",
    "    mae = math.fsum(errors)  \n",
    "    return mae,"
   ]
  },
  {
   "cell_type": "markdown",
   "metadata": {},
   "source": [
    "#### Parameter Setting:\n",
    "population size: 1000,\n",
    "\n",
    "function set: $\\{+, -, *, log, exp, sin, cos, div\\}$,\n",
    "\n",
    "terminal set: x,\n",
    "\n",
    "number of generations: 50,\n",
    "\n",
    "crossover probability: 0.7,\n",
    "\n",
    "mutation probability: 0,\n",
    "\n",
    "fitness: sum of absolute errors."
   ]
  },
  {
   "cell_type": "code",
   "execution_count": 8,
   "metadata": {},
   "outputs": [],
   "source": [
    "# define parameters\n",
    "pop_size = 1000\n",
    "gen_num = 50\n",
    "cross_p = 0.7\n",
    "mut_p = 0.0"
   ]
  },
  {
   "cell_type": "markdown",
   "metadata": {},
   "source": [
    "#### Define Function Set (Set of Primitives)"
   ]
  },
  {
   "cell_type": "code",
   "execution_count": 9,
   "metadata": {},
   "outputs": [],
   "source": [
    "pset = gp.PrimitiveSet(\"MAIN\", 1)\n",
    "\n",
    "pset.addPrimitive(operator.add, 2)\n",
    "pset.addPrimitive(operator.sub, 2)\n",
    "pset.addPrimitive(operator.mul, 2)\n",
    "pset.addPrimitive(protectedDiv, 2)\n",
    "pset.addPrimitive(operator.neg, 1)\n",
    "pset.addPrimitive(protectedLog, 1)\n",
    "pset.addPrimitive(math.exp, 1)\n",
    "pset.addPrimitive(math.sin, 1)\n",
    "pset.addPrimitive(math.cos, 1)\n",
    "pset.addEphemeralConstant(\"rand101\", lambda: random.randint(-1,1))\n",
    "pset.renameArguments(ARG0='x')"
   ]
  },
  {
   "cell_type": "markdown",
   "metadata": {},
   "source": [
    "#### Set up Creator and Toolbox Variables"
   ]
  },
  {
   "cell_type": "code",
   "execution_count": 10,
   "metadata": {},
   "outputs": [],
   "source": [
    "# define creator variable\n",
    "creator.create(\"FitnessMin\", base.Fitness, weights=(-1.0,))\n",
    "creator.create(\"Individual\", gp.PrimitiveTree, fitness=creator.FitnessMin)"
   ]
  },
  {
   "cell_type": "code",
   "execution_count": 11,
   "metadata": {},
   "outputs": [],
   "source": [
    "# define toolbox variable\n",
    "toolbox = base.Toolbox()\n",
    "# register attributes\n",
    "toolbox.register(\"expr\", gp.genHalfAndHalf, pset=pset, min_=1, max_=2)\n",
    "toolbox.register(\"individual\", tools.initIterate, creator.Individual, toolbox.expr)\n",
    "toolbox.register(\"population\", tools.initRepeat, list, toolbox.individual)\n",
    "toolbox.register(\"compile\", gp.compile, pset=pset)\n",
    "toolbox.register(\"evaluate\", evalSymbReg, points=X, y=y)\n",
    "toolbox.register(\"select\", tools.selTournament, tournsize=3)\n",
    "toolbox.register(\"mate\", gp.cxOnePoint)\n",
    "toolbox.register(\"expr_mut\", gp.genFull, min_=0, max_=2)\n",
    "toolbox.register(\"mutate\", gp.mutUniform, expr=toolbox.expr_mut, pset=pset)\n",
    "\n",
    "# decorate attributes\n",
    "toolbox.decorate(\"mate\", gp.staticLimit(key=operator.attrgetter(\"height\"), max_value=17))\n",
    "toolbox.decorate(\"mutate\", gp.staticLimit(key=operator.attrgetter(\"height\"), max_value=17))"
   ]
  },
  {
   "cell_type": "markdown",
   "metadata": {},
   "source": [
    "### Run Algorithm"
   ]
  },
  {
   "cell_type": "code",
   "execution_count": 12,
   "metadata": {
    "scrolled": true
   },
   "outputs": [
    {
     "name": "stdout",
     "output_type": "stream",
     "text": [
      "   \t      \t                    fitness                    \t                     size                     \n",
      "   \t      \t-----------------------------------------------\t----------------------------------------------\n",
      "gen\tnevals\tavg    \tgen\tmax    \tmin    \tnevals\tstd    \tavg  \tgen\tmax\tmin\tnevals\tstd   \n",
      "0  \t1000  \t46.8212\t0  \t22259.3\t4.24698\t1000  \t703.052\t3.358\t0  \t7  \t2  \t1000  \t1.3863\n",
      "1  \t724   \t19.8064\t1  \t305.473\t4.24698\t724   \t11.7912\t3.169\t1  \t8  \t2  \t724   \t1.32832\n",
      "2  \t682   \t17.1991\t2  \t78.1686\t4.24698\t682   \t6.51992\t3.124\t2  \t9  \t2  \t682   \t1.27461\n",
      "3  \t700   \t15.3181\t3  \t78.1686\t4.24698\t700   \t4.84585\t3.041\t3  \t9  \t2  \t700   \t1.26227\n",
      "4  \t700   \t14.2924\t4  \t40.9435\t4.24698\t700   \t3.72705\t3.006\t4  \t9  \t2  \t700   \t1.2353 \n",
      "5  \t716   \t13.8786\t5  \t40.7796\t4.24698\t716   \t3.817  \t3.033\t5  \t9  \t2  \t716   \t1.29611\n",
      "6  \t664   \t13.1444\t6  \t44.4524\t4.24698\t664   \t4.31889\t3.132\t6  \t9  \t2  \t664   \t1.31931\n",
      "7  \t734   \t12.4815\t7  \t44.4524\t2.365  \t734   \t5.33275\t3.475\t7  \t9  \t2  \t734   \t1.4012 \n",
      "8  \t708   \t10.9908\t8  \t55.4096\t4.24698\t708   \t6.89966\t3.979\t8  \t9  \t2  \t708   \t1.38656\n",
      "9  \t678   \t10.703 \t9  \t50.8074\t4.24698\t678   \t8.51476\t4.328\t9  \t9  \t2  \t678   \t1.17321\n",
      "10 \t714   \t10.7572\t10 \t44.3401\t4.24698\t714   \t9.97613\t4.338\t10 \t10 \t2  \t714   \t1.07785\n",
      "11 \t684   \t10.6316\t11 \t62.8254\t4.24698\t684   \t10.6314\t4.244\t11 \t9  \t2  \t684   \t0.896919\n",
      "12 \t692   \t10.3816\t12 \t44.3401\t4.24698\t692   \t10.3408\t4.208\t12 \t8  \t3  \t692   \t0.851314\n",
      "13 \t702   \t10.9871\t13 \t44.3401\t4.24698\t702   \t11.0471\t4.203\t13 \t9  \t3  \t702   \t0.860111\n",
      "14 \t724   \t11.9041\t14 \t44.3401\t4.21783\t724   \t11.4371\t4.199\t14 \t9  \t3  \t724   \t0.904101\n",
      "15 \t690   \t10.7216\t15 \t44.3401\t4.21783\t690   \t10.6055\t4.163\t15 \t9  \t3  \t690   \t0.884551\n",
      "16 \t702   \t11.573 \t16 \t44.3401\t4.21783\t702   \t11.4045\t4.157\t16 \t9  \t3  \t702   \t0.910138\n",
      "17 \t700   \t11.3003\t17 \t146.457\t4.21783\t700   \t11.9651\t4.093\t17 \t8  \t3  \t700   \t0.811388\n",
      "18 \t694   \t10.3259\t18 \t44.3401\t4.24698\t694   \t10.5172\t4.077\t18 \t8  \t3  \t694   \t0.712089\n",
      "19 \t724   \t11.5415\t19 \t40.7796\t4.24698\t724   \t11.3991\t4.092\t19 \t8  \t3  \t724   \t0.765203\n",
      "20 \t700   \t3944.15\t20 \t3.93291e+06\t4.24698\t700   \t124307 \t4.087\t20 \t9  \t3  \t700   \t0.774229\n",
      "21 \t686   \t11.626 \t21 \t44.3401    \t4.24698\t686   \t11.4795\t4.065\t21 \t8  \t3  \t686   \t0.776386\n",
      "22 \t726   \t11.6913\t22 \t44.3401    \t4.24698\t726   \t11.4836\t4.036\t22 \t9  \t3  \t726   \t0.724365\n",
      "23 \t672   \t11.077 \t23 \t146.457    \t4.24698\t672   \t11.7229\t4.031\t23 \t8  \t3  \t672   \t0.711364\n",
      "24 \t708   \t11.0209\t24 \t40.7796    \t4.24698\t708   \t11.0418\t4.021\t24 \t8  \t3  \t708   \t0.666753\n",
      "25 \t694   \t10.802 \t25 \t40.7796    \t4.24698\t694   \t10.8784\t4.005\t25 \t7  \t3  \t694   \t0.620464\n",
      "26 \t710   \t10.5754\t26 \t40.7796    \t4.24698\t710   \t10.7555\t4.004\t26 \t7  \t3  \t710   \t0.614804\n",
      "27 \t678   \t10.7499\t27 \t146.457    \t4.24698\t678   \t11.7048\t4.01 \t27 \t7  \t3  \t678   \t0.617981\n",
      "28 \t736   \t11.2581\t28 \t40.7796    \t4.24698\t736   \t11.2868\t4.017\t28 \t7  \t3  \t736   \t0.651699\n",
      "29 \t732   \t11.3083\t29 \t40.7796    \t4.24698\t732   \t11.2836\t4.006\t29 \t7  \t3  \t732   \t0.652659\n",
      "30 \t704   \t11.2409\t30 \t146.457    \t4.24698\t704   \t11.8282\t4.014\t30 \t7  \t3  \t704   \t0.632301\n",
      "31 \t732   \t11.6138\t31 \t146.457    \t4.24698\t732   \t12.1124\t4.003\t31 \t7  \t3  \t732   \t0.658021\n",
      "32 \t708   \t11.2934\t32 \t146.457    \t4.24698\t708   \t11.8806\t4.004\t32 \t7  \t3  \t708   \t0.64186 \n",
      "33 \t742   \t11.9739\t33 \t146.457    \t4.24698\t742   \t12.1602\t3.994\t33 \t7  \t3  \t742   \t0.666306\n",
      "34 \t696   \t10.5656\t34 \t40.7796    \t4.24698\t696   \t10.5622\t3.989\t34 \t8  \t3  \t696   \t0.626801\n",
      "35 \t680   \t10.7095\t35 \t44.3401    \t4.24698\t680   \t10.8708\t3.989\t35 \t7  \t3  \t680   \t0.597394\n",
      "36 \t694   \t10.8179\t36 \t40.7796    \t4.24698\t694   \t11.0314\t3.988\t36 \t6  \t3  \t694   \t0.576069\n",
      "37 \t688   \t11.2174\t37 \t40.7796    \t4.24698\t688   \t11.3323\t3.98 \t37 \t5  \t3  \t688   \t0.577581\n",
      "38 \t718   \t11.3182\t38 \t146.457    \t4.24698\t718   \t12.0724\t3.974\t38 \t6  \t3  \t718   \t0.580796\n",
      "39 \t706   \t11.1468\t39 \t40.7796    \t4.24698\t706   \t11.2483\t3.975\t39 \t5  \t3  \t706   \t0.57652 \n",
      "40 \t670   \t10.7007\t40 \t146.457    \t4.24698\t670   \t11.5341\t3.969\t40 \t6  \t3  \t670   \t0.562173\n",
      "41 \t700   \t10.5754\t41 \t40.7796    \t4.24698\t700   \t10.9098\t3.973\t41 \t5  \t3  \t700   \t0.553418\n",
      "42 \t752   \t11.8235\t42 \t40.7796    \t4.24698\t752   \t11.4604\t3.973\t42 \t5  \t3  \t752   \t0.606853\n",
      "43 \t686   \t10.8325\t43 \t146.457    \t4.24698\t686   \t11.4573\t3.951\t43 \t6  \t3  \t686   \t0.573236\n",
      "44 \t716   \t11.7723\t44 \t40.7796    \t4.24698\t716   \t11.4655\t3.977\t44 \t5  \t3  \t716   \t0.603714\n",
      "45 \t714   \t11.2573\t45 \t40.7796    \t4.24698\t714   \t11.0172\t3.958\t45 \t5  \t3  \t714   \t0.590115\n",
      "46 \t690   \t10.6347\t46 \t40.7796    \t4.24698\t690   \t11.0056\t3.955\t46 \t5  \t3  \t690   \t0.555855\n",
      "47 \t738   \t11.3338\t47 \t40.7796    \t4.24698\t738   \t11.1624\t3.972\t47 \t5  \t3  \t738   \t0.58925 \n",
      "48 \t698   \t10.9018\t48 \t146.457    \t4.24698\t698   \t11.512 \t3.967\t48 \t6  \t3  \t698   \t0.574379\n",
      "49 \t686   \t9.88403\t49 \t40.7796    \t4.24698\t686   \t10.413 \t3.979\t49 \t5  \t3  \t686   \t0.523984\n",
      "50 \t692   \t11.9527\t50 \t40.7796    \t4.24698\t692   \t11.62  \t3.972\t50 \t5  \t3  \t692   \t0.609275\n"
     ]
    }
   ],
   "source": [
    "# set seed\n",
    "random.seed(318)\n",
    "\n",
    "# set statistics\n",
    "stats_fit = tools.Statistics(lambda ind: ind.fitness.values)\n",
    "stats_size = tools.Statistics(len)\n",
    "mstats = tools.MultiStatistics(fitness=stats_fit, size=stats_size)\n",
    "\n",
    "# register attributes of statistics\n",
    "mstats.register(\"avg\", np.mean)\n",
    "mstats.register(\"std\", np.std)\n",
    "mstats.register(\"min\", np.min)\n",
    "mstats.register(\"max\", np.max)\n",
    "\n",
    "# define population and HallOfFame\n",
    "pop = toolbox.population(n=pop_size)\n",
    "hof = tools.HallOfFame(1)\n",
    "\n",
    "# define algorithm\n",
    "pop, log = algorithms.eaSimple(population=pop, toolbox=toolbox, \n",
    "                               cxpb=cross_p, mutpb=mut_p, ngen=gen_num, \n",
    "                               stats=mstats, halloffame=hof, verbose=True)"
   ]
  },
  {
   "cell_type": "code",
   "execution_count": 13,
   "metadata": {
    "scrolled": true
   },
   "outputs": [],
   "source": [
    "# extract values from log\n",
    "gen = log.select(\"gen\")\n",
    "fit_mins = log.chapters[\"fitness\"].select(\"min\")\n",
    "size_avgs = log.chapters[\"size\"].select(\"avg\")"
   ]
  },
  {
   "cell_type": "markdown",
   "metadata": {},
   "source": [
    "### Plot Results"
   ]
  },
  {
   "cell_type": "code",
   "execution_count": 14,
   "metadata": {},
   "outputs": [
    {
     "data": {
      "image/png": "[encoded data removed]",
      "text/plain": [
       "<Figure size 432x288 with 2 Axes>"
      ]
     },
     "metadata": {
      "needs_background": "light"
     },
     "output_type": "display_data"
    }
   ],
   "source": [
    "fig, ax1 = plt.subplots()\n",
    "line1 = ax1.plot(gen, fit_mins, \"b-\", label=\"Minimum Fitness\")\n",
    "ax1.set_xlabel(\"Generation\")\n",
    "ax1.set_ylabel(\"Fitness\", color=\"b\")\n",
    "for tl in ax1.get_yticklabels():\n",
    "    tl.set_color(\"b\")\n",
    "\n",
    "ax2 = ax1.twinx()\n",
    "line2 = ax2.plot(gen, size_avgs, \"r-\", label=\"Average Size\")\n",
    "ax2.set_ylabel(\"Size\", color=\"r\")\n",
    "for tl in ax2.get_yticklabels():\n",
    "    tl.set_color(\"r\")\n",
    "\n",
    "lns = line1 + line2\n",
    "labs = [l.get_label() for l in lns]\n",
    "ax1.legend(lns, labs, loc=\"center right\")\n",
    "\n",
    "plt.savefig(\"figures/ex8a.png\")\n",
    "plt.show()"
   ]
  },
  {
   "cell_type": "markdown",
   "metadata": {},
   "source": [
    "### Run Algorithm (with Mutation Rate = 0.1)"
   ]
  },
  {
   "cell_type": "code",
   "execution_count": 15,
   "metadata": {
    "scrolled": true
   },
   "outputs": [
    {
     "name": "stdout",
     "output_type": "stream",
     "text": [
      "   \t      \t                    fitness                    \t                     size                     \n",
      "   \t      \t-----------------------------------------------\t----------------------------------------------\n",
      "gen\tnevals\tavg    \tgen\tmax    \tmin    \tnevals\tstd    \tavg  \tgen\tmax\tmin\tnevals\tstd   \n",
      "0  \t1000  \t46.8212\t0  \t22259.3\t4.24698\t1000  \t703.052\t3.358\t0  \t7  \t2  \t1000  \t1.3863\n",
      "1  \t747   \t20.7094\t1  \t305.473\t4.24698\t747   \t15.5447\t3.254\t1  \t11 \t1  \t747   \t1.45859\n",
      "2  \t688   \t17.898 \t2  \t103.702\t4.24698\t688   \t7.86128\t3.3  \t2  \t12 \t1  \t688   \t1.56333\n",
      "3  \t725   \t15.7999\t3  \t78.1686\t4.24698\t725   \t5.56687\t3.269\t3  \t11 \t1  \t725   \t1.52926\n",
      "4  \t721   \t15.0689\t4  \t56.1387\t4.21783\t721   \t5.28652\t3.198\t4  \t11 \t1  \t721   \t1.62259\n",
      "5  \t734   \t14.5725\t5  \t78.1686\t4.21783\t734   \t5.65664\t3.237\t5  \t12 \t1  \t734   \t1.87479\n",
      "6  \t706   \t14.5167\t6  \t98.4403\t3.51249\t706   \t6.84595\t3.596\t6  \t15 \t1  \t706   \t2.28096\n",
      "7  \t745   \t14.0308\t7  \t305.473\t3.51249\t745   \t11.2744\t4.119\t7  \t14 \t1  \t745   \t2.61244\n",
      "8  \t736   \t13.1493\t8  \t110.198\t3.0461 \t736   \t8.22162\t4.97 \t8  \t18 \t1  \t736   \t2.96194\n",
      "9  \t729   \t12.697 \t9  \t101.611\t3.0461 \t729   \t9.6073 \t5.778\t9  \t22 \t1  \t729   \t3.11877\n",
      "10 \t704   \t18.5415\t10 \t3026.83\t3.0461 \t704   \t119.647\t6.307\t10 \t22 \t1  \t704   \t3.11749\n",
      "11 \t735   \t2.02885e+07\t11 \t2.02885e+10\t3.0461 \t735   \t6.41258e+08\t6.687\t11 \t22 \t1  \t735   \t3.04122\n",
      "12 \t738   \t24.8525    \t12 \t12012.9    \t2.94016\t738   \t379.741    \t7.102\t12 \t22 \t1  \t738   \t3.23382\n",
      "13 \t751   \t2099.74    \t13 \t2.08547e+06\t2.83588\t751   \t65915      \t7.456\t13 \t21 \t1  \t751   \t3.17145\n",
      "14 \t751   \t12.1969    \t14 \t109.44     \t2.83588\t751   \t13.2851    \t7.892\t14 \t20 \t1  \t751   \t3.42408\n",
      "15 \t722   \t11.5693    \t15 \t161.208    \t2.83588\t722   \t14.1434    \t8.364\t15 \t27 \t1  \t722   \t3.5966 \n",
      "16 \t742   \t11.5262    \t16 \t118.326    \t2.62602\t742   \t14.4608    \t8.957\t16 \t27 \t1  \t742   \t3.7295 \n",
      "17 \t755   \t5.12391e+13\t17 \t5.12391e+16\t2.62602\t755   \t1.61951e+15\t9.412\t17 \t29 \t1  \t755   \t4.00877\n",
      "18 \t715   \t11.6258    \t18 \t223.174    \t2.62602\t715   \t15.2823    \t9.779\t18 \t25 \t1  \t715   \t4.11001\n",
      "19 \t729   \t11.7175    \t19 \t869.606    \t2.62602\t729   \t30.8963    \t10.084\t19 \t26 \t1  \t729   \t3.97529\n",
      "20 \t737   \t11.2761    \t20 \t112.654    \t2.62602\t737   \t13.372     \t10.485\t20 \t32 \t1  \t737   \t4.13615\n",
      "21 \t755   \t13.5323    \t21 \t2267.43    \t1.66886\t755   \t76.6305    \t10.998\t21 \t31 \t1  \t755   \t4.57908\n",
      "22 \t733   \t13.3789    \t22 \t2274.25    \t1.66886\t733   \t73.5108    \t11.422\t22 \t30 \t1  \t733   \t4.60781\n",
      "23 \t702   \t10.304     \t23 \t230.813    \t1.48561\t702   \t14.9663    \t12.01 \t23 \t28 \t1  \t702   \t4.6985 \n",
      "24 \t766   \t10.5781    \t24 \t151.019    \t1.75436\t766   \t13.6279    \t12.667\t24 \t38 \t1  \t766   \t5.13752\n",
      "25 \t762   \t10.1069    \t25 \t193.288    \t1.20576\t762   \t12.0429    \t12.962\t25 \t40 \t1  \t762   \t5.37257\n",
      "26 \t750   \t10.6526    \t26 \t230.813    \t0.974556\t750   \t15.5294    \t13.387\t26 \t39 \t1  \t750   \t5.56554\n",
      "27 \t722   \t9.51687    \t27 \t98.4403    \t0.974556\t722   \t11.3395    \t13.903\t27 \t41 \t1  \t722   \t5.84103\n",
      "28 \t717   \t11.4593    \t28 \t2174.71    \t0.974556\t717   \t69.7398    \t14.303\t28 \t41 \t1  \t717   \t5.39177\n",
      "29 \t722   \t12.4255    \t29 \t2249.69    \t0.81471 \t722   \t72.4766    \t14.975\t29 \t50 \t1  \t722   \t6.09659\n",
      "30 \t703   \t9.32589    \t30 \t245.027    \t0.974556\t703   \t13.1523    \t15.241\t30 \t46 \t1  \t703   \t5.91311\n",
      "31 \t737   \t9.16049    \t31 \t268.555    \t0.974556\t737   \t14.1442    \t16.068\t31 \t56 \t2  \t737   \t6.43175\n",
      "32 \t734   \t10.857     \t32 \t382.819    \t0.65554 \t734   \t20.6961    \t16.426\t32 \t56 \t1  \t734   \t6.97456\n",
      "33 \t710   \t9.29809    \t33 \t189.9      \t0.974556\t710   \t13.8682    \t17.159\t33 \t53 \t1  \t710   \t7.4275 \n",
      "34 \t747   \t13.874     \t34 \t4653.36    \t0.974556\t747   \t147.378    \t17.989\t34 \t61 \t1  \t747   \t7.97251\n",
      "35 \t731   \t8.43344    \t35 \t153.255    \t0.633951\t731   \t12.3061    \t19.643\t35 \t55 \t1  \t731   \t8.61159\n",
      "36 \t712   \t8.30555    \t36 \t280.314    \t0.523795\t712   \t14.4699    \t20.999\t36 \t58 \t1  \t712   \t9.82247\n",
      "37 \t711   \t6.96444    \t37 \t232.898    \t0.523795\t711   \t11.0304    \t23.126\t37 \t69 \t1  \t711   \t10.4089\n",
      "38 \t750   \t7.23513    \t38 \t178.28     \t0.523795\t750   \t11.6839    \t25.503\t38 \t71 \t1  \t750   \t11.7047\n",
      "39 \t702   \t6.32269    \t39 \t149.647    \t0.523795\t702   \t10.5909    \t27.676\t39 \t75 \t1  \t702   \t12.5582\n",
      "40 \t758   \t7.18508    \t40 \t757.94     \t0.516902\t758   \t26.5562    \t29.244\t40 \t80 \t1  \t758   \t13.3545\n",
      "41 \t707   \t264422     \t41 \t2.64414e+08\t0.516902\t707   \t8.35732e+06\t30.992\t41 \t93 \t1  \t707   \t13.0146\n",
      "42 \t734   \t6.51194    \t42 \t345.016    \t0.516902\t734   \t16.6803    \t32.27 \t42 \t98 \t1  \t734   \t14.1034\n",
      "43 \t706   \t12.7331    \t43 \t2280.09    \t0.516902\t706   \t125.064    \t33.444\t43 \t105\t2  \t706   \t13.7552\n",
      "44 \t716   \t5.23678    \t44 \t140.126    \t0.516902\t716   \t9.56107    \t33.038\t44 \t94 \t1  \t716   \t13.2908\n",
      "45 \t736   \t6.25293    \t45 \t461.212    \t0.516902\t736   \t18.7629    \t32.407\t45 \t103\t1  \t736   \t13.9863\n",
      "46 \t747   \t5.89553    \t46 \t210.193    \t0.497374\t747   \t12.7813    \t32.408\t46 \t100\t1  \t747   \t13.8289\n",
      "47 \t724   \t5.18701    \t47 \t112.349    \t0.453035\t724   \t9.55003    \t31.844\t47 \t117\t2  \t724   \t13.4145\n",
      "48 \t723   \t6.32863    \t48 \t282.164    \t0.453035\t723   \t15.4787    \t31.809\t48 \t105\t1  \t723   \t13.6993\n",
      "49 \t732   \t6.16082    \t49 \t209.531    \t0.453035\t732   \t13.6247    \t32.035\t49 \t95 \t2  \t732   \t13.5171\n",
      "50 \t699   \t5.36537    \t50 \t152.35     \t0.453035\t699   \t10.0744    \t33.377\t50 \t98 \t1  \t699   \t14.3319\n"
     ]
    }
   ],
   "source": [
    "# set seed\n",
    "random.seed(318)\n",
    "\n",
    "# set new mutation rate\n",
    "mut_p = 0.1\n",
    "\n",
    "# set statistics\n",
    "stats_fit = tools.Statistics(lambda ind: ind.fitness.values)\n",
    "stats_size = tools.Statistics(len)\n",
    "mstats = tools.MultiStatistics(fitness=stats_fit, size=stats_size)\n",
    "\n",
    "# register attributes of statistics\n",
    "mstats.register(\"avg\", np.mean)\n",
    "mstats.register(\"std\", np.std)\n",
    "mstats.register(\"min\", np.min)\n",
    "mstats.register(\"max\", np.max)\n",
    "\n",
    "# define population and HallOfFame\n",
    "pop = toolbox.population(n=pop_size)\n",
    "hof = tools.HallOfFame(1)\n",
    "\n",
    "# define algorithm\n",
    "pop, log = algorithms.eaSimple(population=pop, toolbox=toolbox, \n",
    "                               cxpb=cross_p, mutpb=mut_p, ngen=gen_num, \n",
    "                               stats=mstats, halloffame=hof, verbose=True)"
   ]
  },
  {
   "cell_type": "code",
   "execution_count": 16,
   "metadata": {
    "scrolled": true
   },
   "outputs": [],
   "source": [
    "# extract values from log\n",
    "gen = log.select(\"gen\")\n",
    "fit_mins = log.chapters[\"fitness\"].select(\"min\")\n",
    "size_avgs = log.chapters[\"size\"].select(\"avg\")"
   ]
  },
  {
   "cell_type": "markdown",
   "metadata": {},
   "source": [
    "### Plot Results"
   ]
  },
  {
   "cell_type": "code",
   "execution_count": 17,
   "metadata": {},
   "outputs": [
    {
     "data": {
      "image/png": "[encoded data removed]",
      "text/plain": [
       "<Figure size 432x288 with 2 Axes>"
      ]
     },
     "metadata": {
      "needs_background": "light"
     },
     "output_type": "display_data"
    }
   ],
   "source": [
    "fig, ax1 = plt.subplots()\n",
    "line1 = ax1.plot(gen, fit_mins, \"b-\", label=\"Minimum Fitness\")\n",
    "ax1.set_xlabel(\"Generation\")\n",
    "ax1.set_ylabel(\"Fitness\", color=\"b\")\n",
    "for tl in ax1.get_yticklabels():\n",
    "    tl.set_color(\"b\")\n",
    "\n",
    "ax2 = ax1.twinx()\n",
    "line2 = ax2.plot(gen, size_avgs, \"r-\", label=\"Average Size\")\n",
    "ax2.set_ylabel(\"Size\", color=\"r\")\n",
    "for tl in ax2.get_yticklabels():\n",
    "    tl.set_color(\"r\")\n",
    "\n",
    "lns = line1 + line2\n",
    "labs = [l.get_label() for l in lns]\n",
    "ax1.legend(lns, labs, loc=\"center right\")\n",
    "\n",
    "plt.savefig(\"figures/ex8b.png\")\n",
    "plt.show()"
   ]
  }
 ],
 "metadata": {
  "kernelspec": {
   "display_name": "Python 3",
   "language": "python",
   "name": "python3"
  },
  "language_info": {
   "codemirror_mode": {
    "name": "ipython",
    "version": 3
   },
   "file_extension": ".py",
   "mimetype": "text/x-python",
   "name": "python",
   "nbconvert_exporter": "python",
   "pygments_lexer": "ipython3",
   "version": "3.7.6"
  }
 },
 "nbformat": 4,
 "nbformat_minor": 2
}
