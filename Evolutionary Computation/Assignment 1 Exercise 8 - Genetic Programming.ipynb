{
 "cells": [
  {
   "cell_type": "markdown",
   "metadata": {},
   "source": [
    "# Natural Computing\n",
    "\n",
    "## Exercises on Evolutionary Computation (Assignment 1)"
   ]
  },
  {
   "cell_type": "markdown",
   "metadata": {},
   "source": [
    "### Exercise 8"
   ]
  },
  {
   "cell_type": "code",
   "execution_count": 1,
   "metadata": {},
   "outputs": [],
   "source": [
    "import numpy as np\n",
    "import matplotlib.pyplot as plt\n",
    "\n",
    "%matplotlib inline"
   ]
  },
  {
   "cell_type": "code",
   "execution_count": 2,
   "metadata": {},
   "outputs": [],
   "source": [
    "# input dataset\n",
    "# X = np.array(['-1.0', '-0.9', '-0.8', '-0.7', '-0.6', '-0.5', '-0.4', '-0.3', '-0.2', '-0.1', \n",
    "#               '0', '0.1', '0.2', '0.3', '0.4', '0.5', '0.6', '0.7', '0.8', '0.9', '1.0'], dtype=float)\n",
    "\n",
    "X = [x/10. for x in range(-10,11)] # specifying X like this avoids the math errors for some reason\n",
    "y = np.array(['0.0000', '-0.1629', '-0.2624', '-0.3129', '-0.3264', '-0.3125', '-0.2784', \n",
    "              '-0.2289', '-0.1664', '-0.0909', '0.0', '0.1111', '0.2496', '0.4251', \n",
    "              '0.6496', '0.9375', '1.3056', '1.7731', '2.3616', '3.0951', '4.0000'], dtype=float)\n",
    "\n",
    "data = zip(X, y)"
   ]
  },
  {
   "cell_type": "code",
   "execution_count": 3,
   "metadata": {},
   "outputs": [
    {
     "name": "stdout",
     "output_type": "stream",
     "text": [
      "(21,) float64\n"
     ]
    }
   ],
   "source": [
    "print(y.shape, y.dtype)"
   ]
  },
  {
   "cell_type": "code",
   "execution_count": 4,
   "metadata": {},
   "outputs": [
    {
     "data": {
      "image/png": "[encoded data removed]",
      "text/plain": [
       "<Figure size 432x288 with 1 Axes>"
      ]
     },
     "metadata": {
      "needs_background": "light"
     },
     "output_type": "display_data"
    }
   ],
   "source": [
    "plt.figure()\n",
    "plt.plot(X, y, '.')\n",
    "plt.xlabel('Input (X)')\n",
    "plt.ylabel('Output (Y)')\n",
    "plt.title('Dataset Plot')\n",
    "plt.show()"
   ]
  },
  {
   "cell_type": "code",
   "execution_count": 5,
   "metadata": {},
   "outputs": [],
   "source": [
    "# define parameters\n",
    "pop_size = 1000\n",
    "gen_num = 50\n",
    "cross_p = 0.7\n",
    "mut_p = 0"
   ]
  },
  {
   "cell_type": "markdown",
   "metadata": {},
   "source": [
    "### DEAP Framework\n",
    "Adapted from https://deap.readthedocs.io/en/master/examples/gp_symbreg.html."
   ]
  },
  {
   "cell_type": "code",
   "execution_count": 6,
   "metadata": {},
   "outputs": [],
   "source": [
    "import operator\n",
    "import math\n",
    "import random\n",
    "\n",
    "from deap import algorithms\n",
    "from deap import base\n",
    "from deap import creator\n",
    "from deap import tools\n",
    "from deap import gp"
   ]
  },
  {
   "cell_type": "code",
   "execution_count": 7,
   "metadata": {},
   "outputs": [],
   "source": [
    "def protectedDiv(left, right):\n",
    "    try:\n",
    "        return left / right\n",
    "    except ZeroDivisionError:\n",
    "        return 1"
   ]
  },
  {
   "cell_type": "code",
   "execution_count": 8,
   "metadata": {},
   "outputs": [],
   "source": [
    "pset = gp.PrimitiveSet(\"MAIN\", 1)\n",
    "\n",
    "pset.addPrimitive(operator.add, 2)\n",
    "pset.addPrimitive(operator.sub, 2)\n",
    "pset.addPrimitive(operator.mul, 2)\n",
    "pset.addPrimitive(protectedDiv, 2)\n",
    "pset.addPrimitive(math.log1p, 1)\n",
    "pset.addPrimitive(math.exp, 1)\n",
    "pset.addPrimitive(math.sin, 1)\n",
    "pset.addPrimitive(math.cos, 1)\n",
    "pset.addEphemeralConstant(\"rand101\", lambda: random.randint(-1,1))\n",
    "pset.renameArguments(ARG0='x')"
   ]
  },
  {
   "cell_type": "code",
   "execution_count": 9,
   "metadata": {},
   "outputs": [],
   "source": [
    "creator.create(\"FitnessMin\", base.Fitness, weights=(-1.0,))\n",
    "creator.create(\"Individual\", gp.PrimitiveTree, fitness=creator.FitnessMin)"
   ]
  },
  {
   "cell_type": "code",
   "execution_count": 10,
   "metadata": {},
   "outputs": [],
   "source": [
    "toolbox = base.Toolbox()\n",
    "toolbox.register(\"expr\", gp.genHalfAndHalf, pset=pset, min_=1, max_=2)\n",
    "toolbox.register(\"individual\", tools.initIterate, creator.Individual, toolbox.expr)\n",
    "toolbox.register(\"population\", tools.initRepeat, list, toolbox.individual)\n",
    "toolbox.register(\"compile\", gp.compile, pset=pset)"
   ]
  },
  {
   "cell_type": "code",
   "execution_count": 11,
   "metadata": {},
   "outputs": [],
   "source": [
    "def evalSymbReg(individual, points):\n",
    "    '''function to evaluate the symbolic regression'''\n",
    "    # Transform the tree expression in a callable function\n",
    "    func = toolbox.compile(expr=individual)\n",
    "    \n",
    "    # Evaluate the mean squared error between the expression\n",
    "    # and the real function : x**4 + x**3 + x**2 + x\n",
    "    \n",
    "#     sqerrors = ((func(x) - x**4 - x**3 - x**2 - x)**2 for x in points)\n",
    "#     return math.fsum(sqerrors) / len(points)\n",
    "\n",
    "#     est_y = np.array([func(x) for x,_ in points])\n",
    "#     y = np.array([y for _,y in points])\n",
    "\n",
    "    errors = (abs(func(x) - y) for x,y in points)\n",
    "    mae = math.fsum(errors)\n",
    "    return mae,"
   ]
  },
  {
   "cell_type": "code",
   "execution_count": 12,
   "metadata": {},
   "outputs": [],
   "source": [
    "# toolbox.register(\"evaluate\", evalSymbReg, points=[x/10. for x in range(-10,11)])\n",
    "toolbox.register(\"evaluate\", evalSymbReg, points=data)\n",
    "toolbox.register(\"select\", tools.selTournament, tournsize=3)\n",
    "toolbox.register(\"mate\", gp.cxOnePoint)\n",
    "toolbox.register(\"expr_mut\", gp.genFull, min_=0, max_=2)\n",
    "toolbox.register(\"mutate\", gp.mutUniform, expr=toolbox.expr_mut, pset=pset)"
   ]
  },
  {
   "cell_type": "code",
   "execution_count": 13,
   "metadata": {},
   "outputs": [],
   "source": [
    "toolbox.decorate(\"mate\", gp.staticLimit(key=operator.attrgetter(\"height\"), max_value=17))\n",
    "toolbox.decorate(\"mutate\", gp.staticLimit(key=operator.attrgetter(\"height\"), max_value=17))"
   ]
  },
  {
   "cell_type": "code",
   "execution_count": 14,
   "metadata": {},
   "outputs": [
    {
     "name": "stdout",
     "output_type": "stream",
     "text": [
      "   \t      \t                    fitness                     \t                      size                     \n",
      "   \t      \t------------------------------------------------\t-----------------------------------------------\n",
      "gen\tnevals\tavg    \tgen\tmax  \tmin\tnevals\tstd     \tavg  \tgen\tmax\tmin\tnevals\tstd    \n",
      "0  \t1000  \t0.01705\t0  \t17.05\t0  \t1000  \t0.538899\t3.464\t0  \t7  \t2  \t1000  \t1.45626\n",
      "1  \t718   \t0      \t1  \t0    \t0  \t718   \t0       \t3.4  \t1  \t9  \t2  \t718   \t1.39642\n",
      "2  \t682   \t0      \t2  \t0    \t0  \t682   \t0       \t3.426\t2  \t10 \t2  \t682   \t1.49282\n",
      "3  \t720   \t0      \t3  \t0    \t0  \t720   \t0       \t3.406\t3  \t10 \t2  \t720   \t1.49036\n",
      "4  \t686   \t0      \t4  \t0    \t0  \t686   \t0       \t3.322\t4  \t11 \t2  \t686   \t1.4298 \n",
      "5  \t714   \t0      \t5  \t0    \t0  \t714   \t0       \t3.364\t5  \t11 \t2  \t714   \t1.47292\n",
      "6  \t672   \t0      \t6  \t0    \t0  \t672   \t0       \t3.414\t6  \t10 \t2  \t672   \t1.51809\n",
      "7  \t700   \t0      \t7  \t0    \t0  \t700   \t0       \t3.386\t7  \t10 \t2  \t700   \t1.49164\n",
      "8  \t712   \t0      \t8  \t0    \t0  \t712   \t0       \t3.378\t8  \t10 \t2  \t712   \t1.45297\n",
      "9  \t722   \t0      \t9  \t0    \t0  \t722   \t0       \t3.385\t9  \t11 \t2  \t722   \t1.41166\n",
      "10 \t722   \t0      \t10 \t0    \t0  \t722   \t0       \t3.477\t10 \t11 \t2  \t722   \t1.50382\n",
      "11 \t646   \t0      \t11 \t0    \t0  \t646   \t0       \t3.453\t11 \t11 \t2  \t646   \t1.52374\n",
      "12 \t732   \t0      \t12 \t0    \t0  \t732   \t0       \t3.428\t12 \t11 \t2  \t732   \t1.54299\n",
      "13 \t724   \t0      \t13 \t0    \t0  \t724   \t0       \t3.409\t13 \t11 \t2  \t724   \t1.54458\n",
      "14 \t712   \t0      \t14 \t0    \t0  \t712   \t0       \t3.335\t14 \t12 \t2  \t712   \t1.49023\n",
      "15 \t718   \t0      \t15 \t0    \t0  \t718   \t0       \t3.36 \t15 \t11 \t2  \t718   \t1.51407\n",
      "16 \t704   \t0      \t16 \t0    \t0  \t704   \t0       \t3.365\t16 \t11 \t2  \t704   \t1.55363\n",
      "17 \t688   \t0      \t17 \t0    \t0  \t688   \t0       \t3.363\t17 \t11 \t2  \t688   \t1.54571\n",
      "18 \t696   \t0      \t18 \t0    \t0  \t696   \t0       \t3.38 \t18 \t11 \t2  \t696   \t1.55872\n",
      "19 \t688   \t0      \t19 \t0    \t0  \t688   \t0       \t3.437\t19 \t12 \t2  \t688   \t1.55821\n",
      "20 \t728   \t0      \t20 \t0    \t0  \t728   \t0       \t3.41 \t20 \t10 \t2  \t728   \t1.5013 \n",
      "21 \t708   \t0      \t21 \t0    \t0  \t708   \t0       \t3.394\t21 \t12 \t2  \t708   \t1.50889\n",
      "22 \t690   \t0      \t22 \t0    \t0  \t690   \t0       \t3.433\t22 \t10 \t2  \t690   \t1.53867\n",
      "23 \t688   \t0      \t23 \t0    \t0  \t688   \t0       \t3.457\t23 \t11 \t2  \t688   \t1.57865\n",
      "24 \t708   \t0      \t24 \t0    \t0  \t708   \t0       \t3.493\t24 \t13 \t2  \t708   \t1.56651\n",
      "25 \t700   \t0      \t25 \t0    \t0  \t700   \t0       \t3.48 \t25 \t13 \t2  \t700   \t1.63389\n",
      "26 \t674   \t0      \t26 \t0    \t0  \t674   \t0       \t3.616\t26 \t15 \t2  \t674   \t1.80182\n",
      "27 \t742   \t0      \t27 \t0    \t0  \t742   \t0       \t3.661\t27 \t15 \t2  \t742   \t1.83687\n",
      "28 \t720   \t0      \t28 \t0    \t0  \t720   \t0       \t3.675\t28 \t17 \t2  \t720   \t1.88928\n",
      "29 \t704   \t0      \t29 \t0    \t0  \t704   \t0       \t3.74 \t29 \t17 \t2  \t704   \t1.951  \n",
      "30 \t704   \t0      \t30 \t0    \t0  \t704   \t0       \t3.64 \t30 \t15 \t2  \t704   \t1.82768\n",
      "31 \t690   \t0      \t31 \t0    \t0  \t690   \t0       \t3.665\t31 \t17 \t2  \t690   \t1.95161\n",
      "32 \t710   \t0      \t32 \t0    \t0  \t710   \t0       \t3.607\t32 \t15 \t2  \t710   \t1.90383\n",
      "33 \t704   \t0      \t33 \t0    \t0  \t704   \t0       \t3.578\t33 \t15 \t2  \t704   \t1.75098\n",
      "34 \t684   \t0      \t34 \t0    \t0  \t684   \t0       \t3.615\t34 \t14 \t2  \t684   \t1.78571\n",
      "35 \t690   \t0      \t35 \t0    \t0  \t690   \t0       \t3.605\t35 \t15 \t2  \t690   \t1.74556\n",
      "36 \t702   \t0      \t36 \t0    \t0  \t702   \t0       \t3.569\t36 \t13 \t2  \t702   \t1.77742\n",
      "37 \t706   \t0      \t37 \t0    \t0  \t706   \t0       \t3.58 \t37 \t13 \t2  \t706   \t1.82636\n",
      "38 \t698   \t0      \t38 \t0    \t0  \t698   \t0       \t3.646\t38 \t13 \t2  \t698   \t1.81733\n",
      "39 \t626   \t0      \t39 \t0    \t0  \t626   \t0       \t3.537\t39 \t15 \t2  \t626   \t1.7043 \n",
      "40 \t686   \t0      \t40 \t0    \t0  \t686   \t0       \t3.524\t40 \t14 \t2  \t686   \t1.71564\n",
      "41 \t714   \t0      \t41 \t0    \t0  \t714   \t0       \t3.57 \t41 \t14 \t2  \t714   \t1.74502\n",
      "42 \t710   \t0      \t42 \t0    \t0  \t710   \t0       \t3.658\t42 \t17 \t2  \t710   \t1.91391\n",
      "43 \t734   \t0      \t43 \t0    \t0  \t734   \t0       \t3.609\t43 \t17 \t2  \t734   \t1.89001\n",
      "44 \t682   \t0      \t44 \t0    \t0  \t682   \t0       \t3.473\t44 \t15 \t2  \t682   \t1.74335\n",
      "45 \t690   \t0      \t45 \t0    \t0  \t690   \t0       \t3.459\t45 \t15 \t2  \t690   \t1.7704 \n",
      "46 \t678   \t0      \t46 \t0    \t0  \t678   \t0       \t3.527\t46 \t15 \t2  \t678   \t1.85399\n",
      "47 \t682   \t0      \t47 \t0    \t0  \t682   \t0       \t3.513\t47 \t14 \t2  \t682   \t1.78433\n",
      "48 \t700   \t0      \t48 \t0    \t0  \t700   \t0       \t3.521\t48 \t14 \t2  \t700   \t1.80985\n",
      "49 \t724   \t0      \t49 \t0    \t0  \t724   \t0       \t3.532\t49 \t14 \t2  \t724   \t1.84417\n",
      "50 \t710   \t0      \t50 \t0    \t0  \t710   \t0       \t3.55 \t50 \t13 \t2  \t710   \t1.79708\n"
     ]
    }
   ],
   "source": [
    "random.seed(318)\n",
    "\n",
    "stats_fit = tools.Statistics(lambda ind: ind.fitness.values)\n",
    "stats_size = tools.Statistics(len)\n",
    "mstats = tools.MultiStatistics(fitness=stats_fit, size=stats_size)\n",
    "mstats.register(\"avg\", np.mean)\n",
    "mstats.register(\"std\", np.std)\n",
    "mstats.register(\"min\", np.min)\n",
    "mstats.register(\"max\", np.max)\n",
    "\n",
    "pop = toolbox.population(n=pop_size)\n",
    "hof = tools.HallOfFame(1)\n",
    "# pop, log = algorithms.eaSimple(pop, toolbox, 0.5, 0.1, 40, stats=mstats,\n",
    "#                                    halloffame=hof, verbose=True)\n",
    "pop, log = algorithms.eaSimple(population=pop, toolbox=toolbox, \n",
    "                               cxpb=cross_p, mutpb=mut_p, ngen=gen_num, \n",
    "                               stats=mstats, halloffame=hof, verbose=True)"
   ]
  },
  {
   "cell_type": "code",
   "execution_count": 15,
   "metadata": {
    "scrolled": true
   },
   "outputs": [],
   "source": [
    "fit_mins = log.chapters[\"fitness\"].select(\"min\")\n",
    "fit_maxs = log.chapters[\"fitness\"].select(\"max\")\n",
    "size_avgs = log.chapters[\"size\"].select(\"avg\")"
   ]
  },
  {
   "cell_type": "code",
   "execution_count": 16,
   "metadata": {},
   "outputs": [
    {
     "name": "stdout",
     "output_type": "stream",
     "text": [
      "[0.0, 0.0, 0.0, 0.0, 0.0, 0.0, 0.0, 0.0, 0.0, 0.0, 0.0, 0.0, 0.0, 0.0, 0.0, 0.0, 0.0, 0.0, 0.0, 0.0, 0.0, 0.0, 0.0, 0.0, 0.0, 0.0, 0.0, 0.0, 0.0, 0.0, 0.0, 0.0, 0.0, 0.0, 0.0, 0.0, 0.0, 0.0, 0.0, 0.0, 0.0, 0.0, 0.0, 0.0, 0.0, 0.0, 0.0, 0.0, 0.0, 0.0, 0.0]\n",
      "[17.05, 0.0, 0.0, 0.0, 0.0, 0.0, 0.0, 0.0, 0.0, 0.0, 0.0, 0.0, 0.0, 0.0, 0.0, 0.0, 0.0, 0.0, 0.0, 0.0, 0.0, 0.0, 0.0, 0.0, 0.0, 0.0, 0.0, 0.0, 0.0, 0.0, 0.0, 0.0, 0.0, 0.0, 0.0, 0.0, 0.0, 0.0, 0.0, 0.0, 0.0, 0.0, 0.0, 0.0, 0.0, 0.0, 0.0, 0.0, 0.0, 0.0, 0.0]\n",
      "[3.464, 3.4, 3.426, 3.406, 3.322, 3.364, 3.414, 3.386, 3.378, 3.385, 3.477, 3.453, 3.428, 3.409, 3.335, 3.36, 3.365, 3.363, 3.38, 3.437, 3.41, 3.394, 3.433, 3.457, 3.493, 3.48, 3.616, 3.661, 3.675, 3.74, 3.64, 3.665, 3.607, 3.578, 3.615, 3.605, 3.569, 3.58, 3.646, 3.537, 3.524, 3.57, 3.658, 3.609, 3.473, 3.459, 3.527, 3.513, 3.521, 3.532, 3.55]\n"
     ]
    }
   ],
   "source": [
    "print(fit_mins)\n",
    "print(fit_maxs)\n",
    "print(size_avgs)"
   ]
  }
 ],
 "metadata": {
  "kernelspec": {
   "display_name": "Python 3",
   "language": "python",
   "name": "python3"
  },
  "language_info": {
   "codemirror_mode": {
    "name": "ipython",
    "version": 3
   },
   "file_extension": ".py",
   "mimetype": "text/x-python",
   "name": "python",
   "nbconvert_exporter": "python",
   "pygments_lexer": "ipython3",
   "version": "3.7.4"
  }
 },
 "nbformat": 4,
 "nbformat_minor": 2
}
