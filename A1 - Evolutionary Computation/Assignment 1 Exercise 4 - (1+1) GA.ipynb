{
 "cells": [
  {
   "cell_type": "markdown",
   "metadata": {},
   "source": [
    "# Natural Computing\n",
    "\n",
    "## Exercises on Evolutionary Computation (Assignment 1)"
   ]
  },
  {
   "cell_type": "markdown",
   "metadata": {},
   "source": [
    "### Exercise 4"
   ]
  },
  {
   "cell_type": "code",
   "execution_count": 1,
   "metadata": {},
   "outputs": [],
   "source": [
    "import numpy as np\n",
    "import matplotlib.pyplot as plt\n",
    "%matplotlib inline\n",
    "\n",
    "# set seed\n",
    "np.random.seed(0)"
   ]
  },
  {
   "cell_type": "markdown",
   "metadata": {},
   "source": [
    "Define Parameters"
   ]
  },
  {
   "cell_type": "code",
   "execution_count": 2,
   "metadata": {},
   "outputs": [],
   "source": [
    "l = 100 # bit string length\n",
    "p = 1 / l # mutation rate\n",
    "\n",
    "iters = 1500 # number of iterations\n",
    "runs = 10 # number of runs"
   ]
  },
  {
   "cell_type": "code",
   "execution_count": 3,
   "metadata": {},
   "outputs": [],
   "source": [
    "def bit_flip(x):\n",
    "    \"\"\"\n",
    "    @description:\n",
    "        function to flip bit values of x based on \n",
    "        mutation probability p\n",
    "    \"\"\"\n",
    "    test = np.random.uniform()\n",
    "    if test < p:\n",
    "        x ^= 1 # bitwise XOR operation\n",
    "    return x"
   ]
  },
  {
   "cell_type": "code",
   "execution_count": 4,
   "metadata": {},
   "outputs": [],
   "source": [
    "def counting_ones(l, p, iters):\n",
    "    \"\"\"\n",
    "    @description:\n",
    "        function to implement the (1+1)-GA for solving the \n",
    "        Counting Ones problem\n",
    "    @arguments:\n",
    "        l (int) - length of bit sequence\n",
    "        p (float) - mutation rate/probability\n",
    "        iters (int) - number of iterations per run\n",
    "    @returns:\n",
    "        xs (ndarray) - array of fitness function outputs\n",
    "    \"\"\"\n",
    "    x = np.random.randint(2, size=l) # randomly generate a bit sequence x\n",
    "    xs = [np.sum(x)] # store fitness\n",
    "\n",
    "    for i in np.arange(iters):\n",
    "        # flip bits of sequence with probability p\n",
    "        x_m = np.array(list(map(bit_flip, x)))\n",
    "        old_fitness = xs[i]\n",
    "        new_fitness = np.sum(x_m)\n",
    "        if new_fitness > old_fitness:\n",
    "            x = x_m\n",
    "            xs.append(new_fitness)  \n",
    "        else:\n",
    "            xs.append(old_fitness)\n",
    "            \n",
    "    return xs"
   ]
  },
  {
   "cell_type": "markdown",
   "metadata": {},
   "source": [
    "#### Exercise 4a"
   ]
  },
  {
   "cell_type": "code",
   "execution_count": 5,
   "metadata": {},
   "outputs": [
    {
     "data": {
      "image/png": "[encoded data removed]",
      "text/plain": [
       "<Figure size 864x576 with 1 Axes>"
      ]
     },
     "metadata": {
      "needs_background": "light"
     },
     "output_type": "display_data"
    }
   ],
   "source": [
    "# compute generations\n",
    "generations = counting_ones(l, p, iters)\n",
    "\n",
    "# plot results\n",
    "plt.figure(figsize=(12,8))\n",
    "plt.plot(np.arange(iters+1), generations, label=\"Generation fitness\")\n",
    "plt.plot(np.arange(iters+1), [100] * (iters+1), '--', alpha=0.6, label=\"Optimum\")\n",
    "plt.xlabel(\"Number of iterations\")\n",
    "plt.ylabel(\"Fitness\")\n",
    "plt.title(\"Fitness over Time\", fontsize=16)\n",
    "plt.legend()\n",
    "# plt.savefig(\"figures/ex4a.png\")\n",
    "plt.show()"
   ]
  },
  {
   "cell_type": "markdown",
   "metadata": {},
   "source": [
    "#### Exercise 4b"
   ]
  },
  {
   "cell_type": "code",
   "execution_count": 6,
   "metadata": {},
   "outputs": [
    {
     "name": "stdout",
     "output_type": "stream",
     "text": [
      "Optimum count: 8/10\n"
     ]
    }
   ],
   "source": [
    "opt = l # optimum of Counting Ones problem\n",
    "count_opt = 0\n",
    "for _ in np.arange(runs):\n",
    "    generations = counting_ones(l, p, iters)\n",
    "    if np.amax(generations) == opt:\n",
    "        count_opt += 1\n",
    "\n",
    "print(f\"Optimum count: {count_opt}/{runs}\")"
   ]
  },
  {
   "cell_type": "markdown",
   "metadata": {},
   "source": [
    "#### Exercise 4c"
   ]
  },
  {
   "cell_type": "code",
   "execution_count": 7,
   "metadata": {},
   "outputs": [],
   "source": [
    "def counting_ones_(l, p, iters):\n",
    "    \"\"\"\n",
    "    @description:\n",
    "        function to implement the (1+1)-GA for solving the \n",
    "        Counting Ones problem (modified for ex 4c)\n",
    "    @arguments:\n",
    "        l (int) - length of bit sequence\n",
    "        p (float) - mutation rate/probability\n",
    "        iters (int) - number of iterations per run\n",
    "    @returns:\n",
    "        xs (ndarray) - array of fitness function outputs\n",
    "    \"\"\"\n",
    "    x = np.random.randint(2, size=l) # randomly generate a bit sequence x\n",
    "    xs = [np.sum(x)] # store fitness\n",
    "\n",
    "    for i in np.arange(iters):\n",
    "        # flip bits of sequence with probability p\n",
    "        x_m = np.array(list(map(bit_flip, x)))\n",
    "        old_fitness = xs[i]\n",
    "        new_fitness = np.sum(x_m)\n",
    "        x = x_m\n",
    "        # add best fitness\n",
    "        if new_fitness > old_fitness:\n",
    "            xs.append(new_fitness) \n",
    "        else:\n",
    "            xs.append(xs[i])\n",
    "            \n",
    "    return xs"
   ]
  },
  {
   "cell_type": "code",
   "execution_count": 8,
   "metadata": {},
   "outputs": [
    {
     "data": {
      "image/png": "[encoded data removed]",
      "text/plain": [
       "<Figure size 864x576 with 1 Axes>"
      ]
     },
     "metadata": {
      "needs_background": "light"
     },
     "output_type": "display_data"
    }
   ],
   "source": [
    "# compute generations\n",
    "generations = counting_ones_(l, p, iters)\n",
    "\n",
    "# plot results\n",
    "plt.figure(figsize=(12,8))\n",
    "plt.plot(np.arange(iters+1), generations, label=\"Generation fitness\")\n",
    "plt.plot(np.arange(iters+1), [100] * (iters+1), '--', alpha=0.6, label=\"Optimum\")\n",
    "plt.xlabel(\"Number of iterations\")\n",
    "plt.ylabel(\"Fitness\")\n",
    "plt.title(\"Fitness over Time\", fontsize=16)\n",
    "plt.legend()\n",
    "# plt.savefig(\"figures/ex4c.png\")\n",
    "plt.show()"
   ]
  },
  {
   "cell_type": "code",
   "execution_count": 9,
   "metadata": {},
   "outputs": [
    {
     "name": "stdout",
     "output_type": "stream",
     "text": [
      "Optimum count: 0/10\n",
      "Max fitness over runs: [62, 60, 64, 63, 63, 63, 62, 60, 64, 62]\n"
     ]
    }
   ],
   "source": [
    "opt = l # optimum of Counting Ones problem\n",
    "count_opt = 0\n",
    "max_in_runs = []\n",
    "for _ in np.arange(runs):\n",
    "    generations = counting_ones_(l, p, iters)\n",
    "    if np.amax(generations) == opt:\n",
    "        count_opt += 1\n",
    "    max_in_runs.append(generations[-1])\n",
    "    \n",
    "\n",
    "print(f\"Optimum count: {count_opt}/{runs}\")\n",
    "print(f\"Max fitness over runs: {max_in_runs}\")"
   ]
  }
 ],
 "metadata": {
  "kernelspec": {
   "display_name": "Python 3",
   "language": "python",
   "name": "python3"
  },
  "language_info": {
   "codemirror_mode": {
    "name": "ipython",
    "version": 3
   },
   "file_extension": ".py",
   "mimetype": "text/x-python",
   "name": "python",
   "nbconvert_exporter": "python",
   "pygments_lexer": "ipython3",
   "version": "3.7.6"
  }
 },
 "nbformat": 4,
 "nbformat_minor": 2
}
