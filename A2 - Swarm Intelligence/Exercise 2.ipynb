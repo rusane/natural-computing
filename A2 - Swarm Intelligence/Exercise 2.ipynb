{
 "cells": [
  {
   "cell_type": "code",
   "execution_count": 16,
   "metadata": {},
   "outputs": [],
   "source": [
    "# Source of PSO package: https://github.com/tisimst/pyswarm\n",
    "from pyswarm import pso\n",
    "\n",
    "def f(x):\n",
    "    return x**2\n",
    "\n",
    "lb = [-10]\n",
    "ub = [10]"
   ]
  },
  {
   "cell_type": "code",
   "execution_count": 17,
   "metadata": {},
   "outputs": [
    {
     "name": "stdout",
     "output_type": "stream",
     "text": [
      "Stopping search: Swarm best position change less than 1e-08\n",
      "Stopping search: Swarm best objective change less than 1e-08\n",
      "Stopping search: Swarm best position change less than 1e-08\n",
      "Stopping search: Swarm best position change less than 1e-08\n",
      "Stopping search: Swarm best objective change less than 1e-08\n",
      "Stopping search: Swarm best position change less than 1e-08\n",
      "Stopping search: Swarm best position change less than 1e-08\n",
      "Stopping search: Swarm best position change less than 1e-08\n",
      "Stopping search: Swarm best objective change less than 1e-08\n"
     ]
    },
    {
     "data": {
      "text/plain": [
       "[array([-4.2662524]),\n",
       " array([2.2089964]),\n",
       " array([-4.11991336]),\n",
       " array([8.54677003]),\n",
       " array([-0.25093912]),\n",
       " array([-1.62323301]),\n",
       " array([1.01930755]),\n",
       " array([-5.54219284]),\n",
       " array([0.09115546])]"
      ]
     },
     "execution_count": 17,
     "metadata": {},
     "output_type": "execute_result"
    }
   ],
   "source": [
    "# 0.1\n",
    "optima = []\n",
    "for i in range(9):\n",
    "    xopt, fopt = pso(f, lb, ub, swarmsize=1, omega=0.1)\n",
    "    optima.append(xopt)\n",
    "\n",
    "optima\n",
    "\n",
    "# Optimum should be x=[0.0] with f(x)=0.0"
   ]
  },
  {
   "cell_type": "code",
   "execution_count": 18,
   "metadata": {},
   "outputs": [
    {
     "name": "stdout",
     "output_type": "stream",
     "text": [
      "Stopping search: Swarm best position change less than 1e-08\n",
      "Stopping search: Swarm best position change less than 1e-08\n",
      "Stopping search: Swarm best position change less than 1e-08\n",
      "Stopping search: Swarm best objective change less than 1e-08\n",
      "Stopping search: Swarm best position change less than 1e-08\n",
      "Stopping search: Swarm best objective change less than 1e-08\n",
      "Stopping search: Swarm best position change less than 1e-08\n",
      "Stopping search: Swarm best position change less than 1e-08\n",
      "Stopping search: Swarm best position change less than 1e-08\n"
     ]
    },
    {
     "data": {
      "text/plain": [
       "[array([-5.27920467]),\n",
       " array([8.22253451]),\n",
       " array([2.84816856]),\n",
       " array([-1.54277052]),\n",
       " array([-6.48496554]),\n",
       " array([0.96958095]),\n",
       " array([-7.7347661]),\n",
       " array([-2.78063299]),\n",
       " array([6.14900851])]"
      ]
     },
     "execution_count": 18,
     "metadata": {},
     "output_type": "execute_result"
    }
   ],
   "source": [
    "# 0.2\n",
    "optima = []\n",
    "for i in range(9):\n",
    "    xopt, fopt = pso(f, lb, ub, swarmsize=1, omega=0.2)\n",
    "    optima.append(xopt)\n",
    "\n",
    "optima\n",
    "\n",
    "# Optimum should be x=[0.0] with f(x)=0.0"
   ]
  },
  {
   "cell_type": "code",
   "execution_count": 19,
   "metadata": {},
   "outputs": [
    {
     "name": "stdout",
     "output_type": "stream",
     "text": [
      "Stopping search: Swarm best position change less than 1e-08\n",
      "Stopping search: Swarm best objective change less than 1e-08\n",
      "Stopping search: Swarm best position change less than 1e-08\n",
      "Stopping search: Swarm best position change less than 1e-08\n",
      "Stopping search: Swarm best objective change less than 1e-08\n",
      "Stopping search: Swarm best objective change less than 1e-08\n",
      "Stopping search: Swarm best position change less than 1e-08\n",
      "Stopping search: Swarm best position change less than 1e-08\n",
      "Stopping search: Swarm best objective change less than 1e-08\n"
     ]
    },
    {
     "data": {
      "text/plain": [
       "[array([-2.56833037]),\n",
       " array([0.18953367]),\n",
       " array([-8.23202035]),\n",
       " array([4.9018247]),\n",
       " array([-0.02322991]),\n",
       " array([-0.02161695]),\n",
       " array([4.36270308]),\n",
       " array([-3.32064507]),\n",
       " array([0.24244597])]"
      ]
     },
     "execution_count": 19,
     "metadata": {},
     "output_type": "execute_result"
    }
   ],
   "source": [
    "# 0.3\n",
    "optima = []\n",
    "for i in range(9):\n",
    "    xopt, fopt = pso(f, lb, ub, swarmsize=1, omega=0.3)\n",
    "    optima.append(xopt)\n",
    "\n",
    "optima\n",
    "\n",
    "# Optimum should be x=[0.0] with f(x)=0.0"
   ]
  },
  {
   "cell_type": "code",
   "execution_count": 20,
   "metadata": {},
   "outputs": [
    {
     "name": "stdout",
     "output_type": "stream",
     "text": [
      "Stopping search: Swarm best objective change less than 1e-08\n",
      "Stopping search: Swarm best objective change less than 1e-08\n",
      "Stopping search: Swarm best objective change less than 1e-08\n",
      "Stopping search: Swarm best position change less than 1e-08\n",
      "Stopping search: Swarm best position change less than 1e-08\n",
      "Stopping search: Swarm best position change less than 1e-08\n",
      "Stopping search: Swarm best position change less than 1e-08\n",
      "Stopping search: Swarm best objective change less than 1e-08\n",
      "Stopping search: Swarm best position change less than 1e-08\n"
     ]
    },
    {
     "data": {
      "text/plain": [
       "[array([0.01702583]),\n",
       " array([0.16287073]),\n",
       " array([-0.11339399]),\n",
       " array([5.96130806]),\n",
       " array([2.68756727]),\n",
       " array([-6.6085788]),\n",
       " array([9.69775605]),\n",
       " array([-0.51301774]),\n",
       " array([1.44765819])]"
      ]
     },
     "execution_count": 20,
     "metadata": {},
     "output_type": "execute_result"
    }
   ],
   "source": [
    "# 0.4\n",
    "optima = []\n",
    "for i in range(9):\n",
    "    xopt, fopt = pso(f, lb, ub, swarmsize=1, omega=0.4)\n",
    "    optima.append(xopt)\n",
    "\n",
    "optima\n",
    "\n",
    "# Optimum should be x=[0.0] with f(x)=0.0"
   ]
  },
  {
   "cell_type": "code",
   "execution_count": 21,
   "metadata": {},
   "outputs": [
    {
     "name": "stdout",
     "output_type": "stream",
     "text": [
      "Stopping search: Swarm best position change less than 1e-08\n",
      "Stopping search: Swarm best position change less than 1e-08\n",
      "Stopping search: Swarm best position change less than 1e-08\n",
      "Stopping search: Swarm best objective change less than 1e-08\n",
      "Stopping search: Swarm best position change less than 1e-08\n",
      "Stopping search: Swarm best objective change less than 1e-08\n",
      "Stopping search: Swarm best position change less than 1e-08\n",
      "Stopping search: Swarm best position change less than 1e-08\n",
      "Stopping search: Swarm best position change less than 1e-08\n"
     ]
    },
    {
     "data": {
      "text/plain": [
       "[array([-2.48593867]),\n",
       " array([1.66080347]),\n",
       " array([-7.74795089]),\n",
       " array([-0.0028061]),\n",
       " array([-3.86866627]),\n",
       " array([0.79898894]),\n",
       " array([8.97771965]),\n",
       " array([3.83180835]),\n",
       " array([9.84354302])]"
      ]
     },
     "execution_count": 21,
     "metadata": {},
     "output_type": "execute_result"
    }
   ],
   "source": [
    "# 0.5\n",
    "optima = []\n",
    "for i in range(9):\n",
    "    xopt, fopt = pso(f, lb, ub, swarmsize=1, omega=0.5)\n",
    "    optima.append(xopt)\n",
    "\n",
    "optima\n",
    "\n",
    "# Optimum should be x=[0.0] with f(x)=0.0"
   ]
  },
  {
   "cell_type": "code",
   "execution_count": 22,
   "metadata": {},
   "outputs": [
    {
     "name": "stdout",
     "output_type": "stream",
     "text": [
      "Stopping search: Swarm best position change less than 1e-08\n",
      "Stopping search: Swarm best objective change less than 1e-08\n",
      "Stopping search: Swarm best position change less than 1e-08\n",
      "Stopping search: Swarm best objective change less than 1e-08\n",
      "Stopping search: Swarm best objective change less than 1e-08\n",
      "Stopping search: Swarm best objective change less than 1e-08\n",
      "Stopping search: Swarm best position change less than 1e-08\n",
      "Stopping search: Swarm best objective change less than 1e-08\n",
      "Stopping search: Swarm best position change less than 1e-08\n"
     ]
    },
    {
     "data": {
      "text/plain": [
       "[array([-1.69754839]),\n",
       " array([-8.01417353e-05]),\n",
       " array([-4.54145436]),\n",
       " array([-5.56624306e-06]),\n",
       " array([-9.582769e-05]),\n",
       " array([3.60938713e-06]),\n",
       " array([-8.13674021]),\n",
       " array([-1.18061338e-05]),\n",
       " array([-0.89340333])]"
      ]
     },
     "execution_count": 22,
     "metadata": {},
     "output_type": "execute_result"
    }
   ],
   "source": [
    "# 0.6\n",
    "optima = []\n",
    "for i in range(9):\n",
    "    xopt, fopt = pso(f, lb, ub, swarmsize=1, omega=0.6)\n",
    "    optima.append(xopt)\n",
    "\n",
    "optima\n",
    "\n",
    "# Optimum should be x=[0.0] with f(x)=0.0"
   ]
  },
  {
   "cell_type": "code",
   "execution_count": 23,
   "metadata": {},
   "outputs": [
    {
     "name": "stdout",
     "output_type": "stream",
     "text": [
      "Stopping search: Swarm best objective change less than 1e-08\n",
      "Stopping search: Swarm best objective change less than 1e-08\n",
      "Stopping search: Swarm best objective change less than 1e-08\n",
      "Stopping search: Swarm best objective change less than 1e-08\n",
      "Stopping search: Swarm best objective change less than 1e-08\n",
      "Stopping search: Swarm best objective change less than 1e-08\n",
      "Stopping search: Swarm best objective change less than 1e-08\n",
      "Stopping search: Swarm best objective change less than 1e-08\n",
      "Stopping search: Swarm best objective change less than 1e-08\n"
     ]
    },
    {
     "data": {
      "text/plain": [
       "[array([-3.82592372e-06]),\n",
       " array([-2.40560888e-05]),\n",
       " array([-1.03042708e-06]),\n",
       " array([-5.23925149e-05]),\n",
       " array([0.00049217]),\n",
       " array([1.56775114e-05]),\n",
       " array([-7.50321823e-05]),\n",
       " array([-4.38049998e-05]),\n",
       " array([7.06190136e-06])]"
      ]
     },
     "execution_count": 23,
     "metadata": {},
     "output_type": "execute_result"
    }
   ],
   "source": [
    "# 0.7\n",
    "optima = []\n",
    "for i in range(9):\n",
    "    xopt, fopt = pso(f, lb, ub, swarmsize=1, omega=0.7)\n",
    "    optima.append(xopt)\n",
    "\n",
    "optima\n",
    "\n",
    "# Optimum should be x=[0.0] with f(x)=0.0"
   ]
  },
  {
   "cell_type": "code",
   "execution_count": 24,
   "metadata": {},
   "outputs": [
    {
     "name": "stdout",
     "output_type": "stream",
     "text": [
      "Stopping search: Swarm best objective change less than 1e-08\n",
      "Stopping search: maximum iterations reached --> 100\n",
      "Stopping search: maximum iterations reached --> 100\n",
      "Stopping search: maximum iterations reached --> 100\n",
      "Stopping search: Swarm best objective change less than 1e-08\n",
      "Stopping search: maximum iterations reached --> 100\n",
      "Stopping search: Swarm best position change less than 1e-08\n",
      "Stopping search: maximum iterations reached --> 100\n",
      "Stopping search: maximum iterations reached --> 100\n"
     ]
    },
    {
     "data": {
      "text/plain": [
       "[array([-9.93802389e-06]),\n",
       " array([0.00032015]),\n",
       " array([-2.72850746e-06]),\n",
       " array([-0.00029106]),\n",
       " array([-9.1786967e-06]),\n",
       " array([0.0001054]),\n",
       " array([-7.14095161]),\n",
       " array([-0.00017058]),\n",
       " array([-0.00042876])]"
      ]
     },
     "execution_count": 24,
     "metadata": {},
     "output_type": "execute_result"
    }
   ],
   "source": [
    "# 0.8\n",
    "optima = []\n",
    "for i in range(9):\n",
    "    xopt, fopt = pso(f, lb, ub, swarmsize=1, omega=0.8)\n",
    "    optima.append(xopt)\n",
    "\n",
    "optima\n",
    "\n",
    "# Optimum should be x=[0.0] with f(x)=0.0"
   ]
  },
  {
   "cell_type": "code",
   "execution_count": 25,
   "metadata": {},
   "outputs": [
    {
     "name": "stdout",
     "output_type": "stream",
     "text": [
      "Stopping search: maximum iterations reached --> 100\n",
      "Stopping search: maximum iterations reached --> 100\n",
      "Stopping search: maximum iterations reached --> 100\n",
      "Stopping search: maximum iterations reached --> 100\n",
      "Stopping search: maximum iterations reached --> 100\n",
      "Stopping search: maximum iterations reached --> 100\n",
      "Stopping search: maximum iterations reached --> 100\n",
      "Stopping search: maximum iterations reached --> 100\n",
      "Stopping search: maximum iterations reached --> 100\n"
     ]
    },
    {
     "data": {
      "text/plain": [
       "[array([0.01530417]),\n",
       " array([-0.00052466]),\n",
       " array([0.00991392]),\n",
       " array([0.00492423]),\n",
       " array([-0.00192168]),\n",
       " array([0.0026496]),\n",
       " array([0.00057776]),\n",
       " array([-0.00056598]),\n",
       " array([0.00155014])]"
      ]
     },
     "execution_count": 25,
     "metadata": {},
     "output_type": "execute_result"
    }
   ],
   "source": [
    "# 0.9\n",
    "optima = []\n",
    "for i in range(9):\n",
    "    xopt, fopt = pso(f, lb, ub, swarmsize=1, omega=0.9)\n",
    "    optima.append(xopt)\n",
    "\n",
    "optima\n",
    "\n",
    "# Optimum should be x=[0.0] with f(x)=0.0"
   ]
  }
 ],
 "metadata": {
  "kernelspec": {
   "display_name": "Python 3",
   "language": "python",
   "name": "python3"
  },
  "language_info": {
   "codemirror_mode": {
    "name": "ipython",
    "version": 3
   },
   "file_extension": ".py",
   "mimetype": "text/x-python",
   "name": "python",
   "nbconvert_exporter": "python",
   "pygments_lexer": "ipython3",
   "version": "3.7.5"
  }
 },
 "nbformat": 4,
 "nbformat_minor": 4
}
